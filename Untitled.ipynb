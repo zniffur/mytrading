{
 "cells": [
  {
   "cell_type": "code",
   "execution_count": 1,
   "metadata": {
    "ExecuteTime": {
     "end_time": "2019-04-27T09:08:03.470646Z",
     "start_time": "2019-04-27T09:08:02.401493Z"
    }
   },
   "outputs": [],
   "source": [
    "%load_ext autoreload\n",
    "%autoreload 2\n",
    "%matplotlib inline"
   ]
  },
  {
   "cell_type": "code",
   "execution_count": 2,
   "metadata": {
    "ExecuteTime": {
     "end_time": "2019-04-27T09:08:14.349832Z",
     "start_time": "2019-04-27T09:08:05.659472Z"
    }
   },
   "outputs": [],
   "source": [
    "from tickers import get_one_ticker, get_tickers, get_etf_tickers_2\n",
    "\n",
    "ticker_list = ['SPY', 'IEF', 'VT', 'TLT', 'CSSX5E.MI']\n",
    "\n",
    "df = get_tickers(ticker_list, start=\"1990-01-01\", end=\"2019-11-01\")"
   ]
  },
  {
   "cell_type": "code",
   "execution_count": 4,
   "metadata": {
    "ExecuteTime": {
     "end_time": "2019-04-27T09:08:29.941149Z",
     "start_time": "2019-04-27T09:08:29.852341Z"
    }
   },
   "outputs": [
    {
     "name": "stdout",
     "output_type": "stream",
     "text": [
      "<class 'pandas.core.frame.DataFrame'>\n",
      "DatetimeIndex: 6608 entries, 1993-01-29 to 2019-04-26\n",
      "Data columns (total 5 columns):\n",
      "SPY          6608 non-null float64\n",
      "IEF          4215 non-null float64\n",
      "VT           2727 non-null float64\n",
      "TLT          4215 non-null float64\n",
      "CSSX5E.MI    2120 non-null float64\n",
      "dtypes: float64(5)\n",
      "memory usage: 309.8 KB\n"
     ]
    }
   ],
   "source": [
    "df.info()"
   ]
  },
  {
   "cell_type": "code",
   "execution_count": null,
   "metadata": {
    "ExecuteTime": {
     "end_time": "2019-04-02T20:22:05.210049Z",
     "start_time": "2019-04-02T20:22:05.130902Z"
    }
   },
   "outputs": [],
   "source": [
    "df.drop(columns=['CSSX5E.MI'],axis=1,inplace=True)"
   ]
  },
  {
   "cell_type": "code",
   "execution_count": null,
   "metadata": {
    "ExecuteTime": {
     "end_time": "2019-04-02T20:22:33.088736Z",
     "start_time": "2019-04-02T20:22:33.011745Z"
    }
   },
   "outputs": [],
   "source": [
    "df2 = df.dropna()"
   ]
  },
  {
   "cell_type": "code",
   "execution_count": null,
   "metadata": {
    "ExecuteTime": {
     "end_time": "2019-04-02T20:52:15.445620Z",
     "start_time": "2019-04-02T20:52:15.079461Z"
    }
   },
   "outputs": [],
   "source": [
    "data = df2\n",
    "data.head()"
   ]
  },
  {
   "cell_type": "code",
   "execution_count": null,
   "metadata": {
    "ExecuteTime": {
     "end_time": "2019-04-02T20:52:48.434155Z",
     "start_time": "2019-04-02T20:52:48.276894Z"
    }
   },
   "outputs": [],
   "source": [
    "returns = data.pct_change()"
   ]
  },
  {
   "cell_type": "code",
   "execution_count": null,
   "metadata": {
    "ExecuteTime": {
     "end_time": "2019-04-02T20:52:54.068111Z",
     "start_time": "2019-04-02T20:52:53.964814Z"
    }
   },
   "outputs": [],
   "source": [
    "returns.head()"
   ]
  },
  {
   "cell_type": "code",
   "execution_count": null,
   "metadata": {
    "ExecuteTime": {
     "end_time": "2019-04-02T20:58:45.499242Z",
     "start_time": "2019-04-02T20:58:45.426964Z"
    }
   },
   "outputs": [],
   "source": [
    "import numpy as np"
   ]
  },
  {
   "cell_type": "code",
   "execution_count": null,
   "metadata": {
    "ExecuteTime": {
     "end_time": "2019-04-02T20:59:59.141480Z",
     "start_time": "2019-04-02T20:59:59.022415Z"
    }
   },
   "outputs": [],
   "source": [
    "tmp = np.log(data/data.shift(1))\n",
    "tmp.describe()"
   ]
  },
  {
   "cell_type": "code",
   "execution_count": null,
   "metadata": {
    "ExecuteTime": {
     "end_time": "2019-04-02T20:53:27.755296Z",
     "start_time": "2019-04-02T20:53:27.339960Z"
    }
   },
   "outputs": [],
   "source": [
    "returns.describe()"
   ]
  },
  {
   "cell_type": "code",
   "execution_count": null,
   "metadata": {
    "ExecuteTime": {
     "end_time": "2019-04-02T20:55:30.852497Z",
     "start_time": "2019-04-02T20:55:30.770740Z"
    }
   },
   "outputs": [],
   "source": [
    "norm_prices = (data/data.iloc[0])"
   ]
  },
  {
   "cell_type": "code",
   "execution_count": null,
   "metadata": {
    "ExecuteTime": {
     "end_time": "2019-04-02T20:55:35.347369Z",
     "start_time": "2019-04-02T20:55:34.762709Z"
    }
   },
   "outputs": [],
   "source": [
    "norm_prices.plot()"
   ]
  },
  {
   "cell_type": "code",
   "execution_count": null,
   "metadata": {
    "ExecuteTime": {
     "end_time": "2019-04-02T21:09:34.336462Z",
     "start_time": "2019-04-02T21:09:34.266517Z"
    }
   },
   "outputs": [],
   "source": [
    "mean_return = returns.mean()"
   ]
  },
  {
   "cell_type": "code",
   "execution_count": null,
   "metadata": {
    "ExecuteTime": {
     "end_time": "2019-04-02T21:11:29.386353Z",
     "start_time": "2019-04-02T21:11:29.318556Z"
    }
   },
   "outputs": [],
   "source": [
    "annualised_return = round(mean_return * 252,4)"
   ]
  },
  {
   "cell_type": "code",
   "execution_count": null,
   "metadata": {
    "ExecuteTime": {
     "end_time": "2019-04-02T21:11:29.759972Z",
     "start_time": "2019-04-02T21:11:29.679051Z"
    }
   },
   "outputs": [],
   "source": [
    "annualised_return"
   ]
  },
  {
   "cell_type": "code",
   "execution_count": 71,
   "metadata": {
    "ExecuteTime": {
     "end_time": "2019-04-02T21:20:04.569515Z",
     "start_time": "2019-04-02T21:20:04.485162Z"
    }
   },
   "outputs": [
    {
     "name": "stderr",
     "output_type": "stream",
     "text": [
      "/Users/simo/miniconda3/lib/python3.7/site-packages/ipykernel_launcher.py:3: RuntimeWarning: invalid value encountered in log\n",
      "  This is separate from the ipykernel package so we can avoid doing imports until\n"
     ]
    }
   ],
   "source": [
    "df2 = df.loc['2009-01-01':]\n",
    "data = df2.dropna()\n",
    "logReturns = np.log(data/data.shift(1))\n",
    "mean_logReturn = logReturns.mean()\n",
    "annualised_logReturn = round(mean_logReturn * 252,4)\n",
    "\n",
    "returns = data.pct_change()\n",
    "mean_return = returns.mean()\n",
    "annualised_return = round(mean_return * 252,4)"
   ]
  },
  {
   "cell_type": "code",
   "execution_count": 72,
   "metadata": {
    "ExecuteTime": {
     "end_time": "2019-04-02T21:20:05.521312Z",
     "start_time": "2019-04-02T21:20:05.446612Z"
    }
   },
   "outputs": [
    {
     "data": {
      "text/plain": [
       "SPY    0.1437\n",
       "IEF    0.0336\n",
       "VT     0.1152\n",
       "TLT    0.0471\n",
       "dtype: float64"
      ]
     },
     "execution_count": 72,
     "metadata": {},
     "output_type": "execute_result"
    }
   ],
   "source": [
    "annualised_return"
   ]
  },
  {
   "cell_type": "code",
   "execution_count": 73,
   "metadata": {
    "ExecuteTime": {
     "end_time": "2019-04-02T21:20:06.790354Z",
     "start_time": "2019-04-02T21:20:06.716845Z"
    }
   },
   "outputs": [
    {
     "data": {
      "text/plain": [
       "SPY    0.1302\n",
       "IEF    0.0316\n",
       "VT     0.0986\n",
       "TLT    0.0368\n",
       "dtype: float64"
      ]
     },
     "execution_count": 73,
     "metadata": {},
     "output_type": "execute_result"
    }
   ],
   "source": [
    "annualised_logReturn"
   ]
  },
  {
   "cell_type": "code",
   "execution_count": null,
   "metadata": {},
   "outputs": [],
   "source": []
  }
 ],
 "metadata": {
  "kernelspec": {
   "display_name": "Python 3",
   "language": "python",
   "name": "python3"
  },
  "language_info": {
   "codemirror_mode": {
    "name": "ipython",
    "version": 3
   },
   "file_extension": ".py",
   "mimetype": "text/x-python",
   "name": "python",
   "nbconvert_exporter": "python",
   "pygments_lexer": "ipython3",
   "version": "3.7.1"
  }
 },
 "nbformat": 4,
 "nbformat_minor": 2
}
