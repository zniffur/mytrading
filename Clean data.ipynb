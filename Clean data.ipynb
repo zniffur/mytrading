{
 "cells": [
  {
   "cell_type": "code",
   "execution_count": 1,
   "metadata": {
    "ExecuteTime": {
     "end_time": "2019-04-08T12:12:42.852450Z",
     "start_time": "2019-04-08T12:12:40.434062Z"
    }
   },
   "outputs": [],
   "source": [
    "%load_ext autoreload\n",
    "%autoreload 2\n",
    "%matplotlib inline"
   ]
  },
  {
   "cell_type": "code",
   "execution_count": 2,
   "metadata": {
    "ExecuteTime": {
     "end_time": "2019-04-08T12:12:46.884403Z",
     "start_time": "2019-04-08T12:12:43.867203Z"
    },
    "collapsed": true
   },
   "outputs": [],
   "source": [
    "import pandas as pd\n",
    "import matplotlib.pyplot as plt\n",
    "import numpy as np"
   ]
  },
  {
   "cell_type": "code",
   "execution_count": 3,
   "metadata": {
    "ExecuteTime": {
     "end_time": "2019-04-08T12:12:48.615242Z",
     "start_time": "2019-04-08T12:12:47.532886Z"
    },
    "collapsed": true
   },
   "outputs": [],
   "source": [
    "WORKDIR = \"csv/\"\n",
    "EXT = '.csv'\n",
    "tickers = ['IUSA.MI']"
   ]
  },
  {
   "cell_type": "code",
   "execution_count": 4,
   "metadata": {
    "ExecuteTime": {
     "end_time": "2019-04-08T12:13:15.748517Z",
     "start_time": "2019-04-08T12:13:13.136301Z"
    },
    "collapsed": true
   },
   "outputs": [],
   "source": [
    "ticker_file = WORKDIR + tickers[0] + EXT\n",
    "\n",
    "#df = pd.read_csv(ticker_file, index_col=1, parse_dates=True)\n",
    "df = pd.read_csv(ticker_file, usecols=[1,2,3,4,5,6], index_col=0, parse_dates=True)"
   ]
  },
  {
   "cell_type": "code",
   "execution_count": 5,
   "metadata": {
    "ExecuteTime": {
     "end_time": "2019-04-08T12:13:18.116546Z",
     "start_time": "2019-04-08T12:13:17.053509Z"
    }
   },
   "outputs": [
    {
     "data": {
      "text/html": [
       "<div>\n",
       "<style>\n",
       "    .dataframe thead tr:only-child th {\n",
       "        text-align: right;\n",
       "    }\n",
       "\n",
       "    .dataframe thead th {\n",
       "        text-align: left;\n",
       "    }\n",
       "\n",
       "    .dataframe tbody tr th {\n",
       "        vertical-align: top;\n",
       "    }\n",
       "</style>\n",
       "<table border=\"1\" class=\"dataframe\">\n",
       "  <thead>\n",
       "    <tr style=\"text-align: right;\">\n",
       "      <th></th>\n",
       "      <th>open</th>\n",
       "      <th>high</th>\n",
       "      <th>low</th>\n",
       "      <th>close</th>\n",
       "      <th>volume</th>\n",
       "    </tr>\n",
       "    <tr>\n",
       "      <th>dateTime</th>\n",
       "      <th></th>\n",
       "      <th></th>\n",
       "      <th></th>\n",
       "      <th></th>\n",
       "      <th></th>\n",
       "    </tr>\n",
       "  </thead>\n",
       "  <tbody>\n",
       "    <tr>\n",
       "      <th>2004-11-05</th>\n",
       "      <td>9.258</td>\n",
       "      <td>9.30</td>\n",
       "      <td>9.19</td>\n",
       "      <td>9.290</td>\n",
       "      <td>60589.0</td>\n",
       "    </tr>\n",
       "    <tr>\n",
       "      <th>2004-12-05</th>\n",
       "      <td>9.175</td>\n",
       "      <td>9.38</td>\n",
       "      <td>9.12</td>\n",
       "      <td>9.140</td>\n",
       "      <td>124040.0</td>\n",
       "    </tr>\n",
       "    <tr>\n",
       "      <th>2004-05-13</th>\n",
       "      <td>9.265</td>\n",
       "      <td>9.29</td>\n",
       "      <td>9.23</td>\n",
       "      <td>9.290</td>\n",
       "      <td>123133.0</td>\n",
       "    </tr>\n",
       "    <tr>\n",
       "      <th>2004-05-14</th>\n",
       "      <td>9.263</td>\n",
       "      <td>9.31</td>\n",
       "      <td>9.19</td>\n",
       "      <td>9.234</td>\n",
       "      <td>28694.0</td>\n",
       "    </tr>\n",
       "    <tr>\n",
       "      <th>2004-05-17</th>\n",
       "      <td>9.033</td>\n",
       "      <td>9.15</td>\n",
       "      <td>8.99</td>\n",
       "      <td>9.031</td>\n",
       "      <td>537522.0</td>\n",
       "    </tr>\n",
       "  </tbody>\n",
       "</table>\n",
       "</div>"
      ],
      "text/plain": [
       "             open  high   low  close    volume\n",
       "dateTime                                      \n",
       "2004-11-05  9.258  9.30  9.19  9.290   60589.0\n",
       "2004-12-05  9.175  9.38  9.12  9.140  124040.0\n",
       "2004-05-13  9.265  9.29  9.23  9.290  123133.0\n",
       "2004-05-14  9.263  9.31  9.19  9.234   28694.0\n",
       "2004-05-17  9.033  9.15  8.99  9.031  537522.0"
      ]
     },
     "execution_count": 5,
     "metadata": {},
     "output_type": "execute_result"
    }
   ],
   "source": [
    "df.head()"
   ]
  },
  {
   "cell_type": "code",
   "execution_count": 51,
   "metadata": {
    "ExecuteTime": {
     "end_time": "2019-04-08T15:19:52.327670Z",
     "start_time": "2019-04-08T15:19:51.044807Z"
    },
    "collapsed": true
   },
   "outputs": [],
   "source": [
    "df2 = pd.read_excel('infoproviders.xlsx').iloc[6:,:]\n",
    "df2.columns = df2.iloc[0,:].tolist()\n",
    "df2 = df2.iloc[1:,:]\n",
    "df2.set_index('N.',inplace=True)\n"
   ]
  },
  {
   "cell_type": "code",
   "execution_count": 52,
   "metadata": {
    "ExecuteTime": {
     "end_time": "2019-04-08T15:20:03.545499Z",
     "start_time": "2019-04-08T15:20:02.991133Z"
    },
    "scrolled": true
   },
   "outputs": [
    {
     "name": "stdout",
     "output_type": "stream",
     "text": [
      "<class 'pandas.core.frame.DataFrame'>\n",
      "Int64Index: 968 entries, 283 to 782\n",
      "Data columns (total 11 columns):\n",
      "ISIN                       968 non-null object\n",
      "Nome                       968 non-null object\n",
      "Local Market TIDM          968 non-null object\n",
      "Reuters RIC (Italy)        968 non-null object\n",
      "Bloomerg Ticker (Italy)    968 non-null object\n",
      "Indice Benchmark           937 non-null object\n",
      "TER                        968 non-null object\n",
      "Area Benchmark             968 non-null object\n",
      "Strumento                  968 non-null object\n",
      "Emittente                  968 non-null object\n",
      "Tick                       968 non-null object\n",
      "dtypes: object(11)\n",
      "memory usage: 90.8+ KB\n"
     ]
    }
   ],
   "source": [
    "df2.info()"
   ]
  },
  {
   "cell_type": "code",
   "execution_count": null,
   "metadata": {
    "collapsed": true
   },
   "outputs": [],
   "source": []
  }
 ],
 "metadata": {
  "kernelspec": {
   "display_name": "Python 3",
   "language": "python",
   "name": "python3"
  },
  "language_info": {
   "codemirror_mode": {
    "name": "ipython",
    "version": 3
   },
   "file_extension": ".py",
   "mimetype": "text/x-python",
   "name": "python",
   "nbconvert_exporter": "python",
   "pygments_lexer": "ipython3",
   "version": "3.6.2"
  }
 },
 "nbformat": 4,
 "nbformat_minor": 2
}
