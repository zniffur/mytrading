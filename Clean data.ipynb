{
 "cells": [
  {
   "cell_type": "code",
   "execution_count": 1,
   "metadata": {
    "ExecuteTime": {
     "end_time": "2019-04-26T13:31:20.379810Z",
     "start_time": "2019-04-26T13:31:18.970773Z"
    }
   },
   "outputs": [],
   "source": [
    "%load_ext autoreload\n",
    "%autoreload 2\n",
    "%matplotlib inline"
   ]
  },
  {
   "cell_type": "code",
   "execution_count": 749,
   "metadata": {
    "ExecuteTime": {
     "end_time": "2019-05-05T20:52:40.525321Z",
     "start_time": "2019-05-05T20:52:24.106118Z"
    }
   },
   "outputs": [
    {
     "name": "stdout",
     "output_type": "stream",
     "text": [
      "Requirement already satisfied: xlrd in /Users/simo/miniconda3/lib/python3.7/site-packages (1.2.0)\n",
      "\u001b[31mmkl-random 1.0.1 requires cython, which is not installed.\u001b[0m\n",
      "\u001b[33mYou are using pip version 10.0.1, however version 19.1 is available.\n",
      "You should consider upgrading via the 'pip install --upgrade pip' command.\u001b[0m\n",
      "Requirement already satisfied: openpyxl in /Users/simo/miniconda3/lib/python3.7/site-packages (2.6.2)\n",
      "Requirement already satisfied: jdcal in /Users/simo/miniconda3/lib/python3.7/site-packages (from openpyxl) (1.4)\n",
      "Requirement already satisfied: et-xmlfile in /Users/simo/miniconda3/lib/python3.7/site-packages (from openpyxl) (1.0.1)\n",
      "\u001b[31mmkl-random 1.0.1 requires cython, which is not installed.\u001b[0m\n",
      "\u001b[33mYou are using pip version 10.0.1, however version 19.1 is available.\n",
      "You should consider upgrading via the 'pip install --upgrade pip' command.\u001b[0m\n",
      "Requirement already satisfied: sklearn in /Users/simo/miniconda3/lib/python3.7/site-packages (0.0)\n",
      "Requirement already satisfied: scikit-learn in /Users/simo/miniconda3/lib/python3.7/site-packages (from sklearn) (0.20.3)\n",
      "Requirement already satisfied: scipy>=0.13.3 in /Users/simo/miniconda3/lib/python3.7/site-packages (from scikit-learn->sklearn) (1.2.1)\n",
      "Requirement already satisfied: numpy>=1.8.2 in /Users/simo/miniconda3/lib/python3.7/site-packages (from scikit-learn->sklearn) (1.15.4)\n",
      "\u001b[31mmkl-random 1.0.1 requires cython, which is not installed.\u001b[0m\n",
      "\u001b[33mYou are using pip version 10.0.1, however version 19.1 is available.\n",
      "You should consider upgrading via the 'pip install --upgrade pip' command.\u001b[0m\n",
      "Requirement already satisfied: seaborn in /Users/simo/miniconda3/lib/python3.7/site-packages (0.9.0)\n",
      "Requirement already satisfied: scipy>=0.14.0 in /Users/simo/miniconda3/lib/python3.7/site-packages (from seaborn) (1.2.1)\n",
      "Requirement already satisfied: numpy>=1.9.3 in /Users/simo/miniconda3/lib/python3.7/site-packages (from seaborn) (1.15.4)\n",
      "Requirement already satisfied: pandas>=0.15.2 in /Users/simo/miniconda3/lib/python3.7/site-packages (from seaborn) (0.23.4)\n",
      "Requirement already satisfied: matplotlib>=1.4.3 in /Users/simo/miniconda3/lib/python3.7/site-packages (from seaborn) (3.0.2)\n",
      "Requirement already satisfied: python-dateutil>=2.5.0 in /Users/simo/miniconda3/lib/python3.7/site-packages (from pandas>=0.15.2->seaborn) (2.7.5)\n",
      "Requirement already satisfied: pytz>=2011k in /Users/simo/miniconda3/lib/python3.7/site-packages (from pandas>=0.15.2->seaborn) (2018.7)\n",
      "Requirement already satisfied: cycler>=0.10 in /Users/simo/miniconda3/lib/python3.7/site-packages (from matplotlib>=1.4.3->seaborn) (0.10.0)\n",
      "Requirement already satisfied: kiwisolver>=1.0.1 in /Users/simo/miniconda3/lib/python3.7/site-packages (from matplotlib>=1.4.3->seaborn) (1.0.1)\n",
      "Requirement already satisfied: pyparsing!=2.0.4,!=2.1.2,!=2.1.6,>=2.0.1 in /Users/simo/miniconda3/lib/python3.7/site-packages (from matplotlib>=1.4.3->seaborn) (2.3.1)\n",
      "Requirement already satisfied: six>=1.5 in /Users/simo/miniconda3/lib/python3.7/site-packages (from python-dateutil>=2.5.0->pandas>=0.15.2->seaborn) (1.11.0)\n",
      "Requirement already satisfied: setuptools in /Users/simo/miniconda3/lib/python3.7/site-packages (from kiwisolver>=1.0.1->matplotlib>=1.4.3->seaborn) (40.2.0)\n",
      "\u001b[31mmkl-random 1.0.1 requires cython, which is not installed.\u001b[0m\n",
      "\u001b[33mYou are using pip version 10.0.1, however version 19.1 is available.\n",
      "You should consider upgrading via the 'pip install --upgrade pip' command.\u001b[0m\n"
     ]
    }
   ],
   "source": [
    "# QUESTO INSTALL xlrd, openpyxl all'interno del virtualenv\n",
    "# FONDAMENTALE!!!!\n",
    "#\n",
    "\n",
    "import sys\n",
    "!{sys.executable} -m pip install xlrd\n",
    "!{sys.executable} -m pip install openpyxl\n",
    "!{sys.executable} -m pip install sklearn\n",
    "!{sys.executable} -m pip install seaborn\n",
    "\n"
   ]
  },
  {
   "cell_type": "code",
   "execution_count": 750,
   "metadata": {
    "ExecuteTime": {
     "end_time": "2019-05-05T20:52:51.595977Z",
     "start_time": "2019-05-05T20:52:51.325631Z"
    }
   },
   "outputs": [],
   "source": [
    "import pandas as pd\n",
    "import matplotlib.pyplot as plt\n",
    "import numpy as np\n",
    "import datetime as dt\n",
    "import os\n",
    "import seaborn as sns; sns.set()\n",
    "\n",
    "plt.style.use('ggplot')\n",
    "\n",
    "WORKDIR = \"csv/\"\n",
    "EXT = '.csv'\n",
    "VOL_AVG_PERIOD = 20"
   ]
  },
  {
   "cell_type": "markdown",
   "metadata": {},
   "source": [
    "### Importo la lista degli ETF e ETC borsaitalia"
   ]
  },
  {
   "cell_type": "code",
   "execution_count": 837,
   "metadata": {
    "ExecuteTime": {
     "end_time": "2019-05-06T19:19:29.909501Z",
     "start_time": "2019-05-06T19:19:27.675559Z"
    }
   },
   "outputs": [],
   "source": [
    "dfEtfInfo = pd.read_excel('infoproviders.xlsx').iloc[6:,:]\n",
    "dfEtfInfo.columns = dfEtfInfo.iloc[0,:].tolist()\n",
    "dfEtfInfo = dfEtfInfo.iloc[1:,:]\n",
    "dfEtfInfo.set_index('N.',inplace=True)\n",
    "# df2['Strumento'].unique()\n",
    "# df2.drop(df2[df2['Strumento'] == 0].index, inplace=True) # pulisce\n",
    "dfEtfInfo = dfEtfInfo[dfEtfInfo['Strumento'] == 'ETF']\n",
    "dfEtfInfo = dfEtfInfo[['ISIN','Nome','Local Market TIDM','Indice Benchmark','TER','Area Benchmark','Emittente','Strumento']]\n",
    "dfEtfInfo.columns = ['isin','nome','ticker','benchmark','ter','areaBenchmark','emittente','strumento']\n",
    "# df2.set_index('ticker', inplace=True)"
   ]
  },
  {
   "cell_type": "code",
   "execution_count": 838,
   "metadata": {
    "ExecuteTime": {
     "end_time": "2019-05-06T19:19:31.582389Z",
     "start_time": "2019-05-06T19:19:29.997877Z"
    }
   },
   "outputs": [],
   "source": [
    "dfEtcInfo = pd.read_excel('infoprovider_etc.xlsx').iloc[6:,:]\n",
    "dfEtcInfo.columns = dfEtcInfo.iloc[0,:].tolist()\n",
    "dfEtcInfo = dfEtcInfo.iloc[1:,:]\n",
    "dfEtcInfo.set_index('N.',inplace=True)\n",
    "dfEtcInfo = dfEtcInfo[['ISIN','Nome','Local Market TIDM','Indice Benchmark','TER','Area Benchmark','Emittente','Strumento']]\n",
    "dfEtcInfo.columns = ['isin','nome','ticker','benchmark','ter','areaBenchmark','emittente','strumento']"
   ]
  },
  {
   "cell_type": "code",
   "execution_count": 839,
   "metadata": {
    "ExecuteTime": {
     "end_time": "2019-05-06T19:19:32.899418Z",
     "start_time": "2019-05-06T19:19:32.832145Z"
    }
   },
   "outputs": [],
   "source": [
    "df = pd.concat([dfEtfInfo, dfEtcInfo], ignore_index=True)\n"
   ]
  },
  {
   "cell_type": "code",
   "execution_count": 840,
   "metadata": {
    "ExecuteTime": {
     "end_time": "2019-05-06T19:19:34.288275Z",
     "start_time": "2019-05-06T19:19:34.223446Z"
    }
   },
   "outputs": [],
   "source": [
    "df.ticker = df.ticker + '.MI'"
   ]
  },
  {
   "cell_type": "code",
   "execution_count": 842,
   "metadata": {
    "ExecuteTime": {
     "end_time": "2019-05-06T19:19:48.002011Z",
     "start_time": "2019-05-06T19:19:47.798812Z"
    }
   },
   "outputs": [],
   "source": [
    "# capisce se è da usare il file ticker o l'isin come sorgente dei dati\n",
    "\n",
    "def set_data_source(isin, ticker):\n",
    "    isin_file = WORKDIR + isin + EXT\n",
    "    if os.path.exists(isin_file):\n",
    "        return isin\n",
    "    else:\n",
    "        ticker_file = WORKDIR + ticker + EXT\n",
    "        if os.path.exists(ticker_file):\n",
    "            return ticker\n",
    "        else:\n",
    "            return None\n",
    "    \n",
    "df['dataSource'] = df.apply(lambda x: set_data_source(x['isin'],x['ticker']), axis=1)    "
   ]
  },
  {
   "cell_type": "code",
   "execution_count": 845,
   "metadata": {
    "ExecuteTime": {
     "end_time": "2019-05-06T19:20:10.650397Z",
     "start_time": "2019-05-06T19:20:10.581557Z"
    }
   },
   "outputs": [],
   "source": [
    "df.dropna(inplace=True)  # droppa i ticker per cui non c'è nè il ISIN.csv, nè il TICKER.csv"
   ]
  },
  {
   "cell_type": "code",
   "execution_count": 846,
   "metadata": {
    "ExecuteTime": {
     "end_time": "2019-05-06T19:20:12.596676Z",
     "start_time": "2019-05-06T19:20:11.342355Z"
    }
   },
   "outputs": [],
   "source": [
    "## SALVO i df\n",
    "\n",
    "df.to_excel('etf_info.xlsx')\n",
    "df.to_csv('etf_info.csv')\n"
   ]
  },
  {
   "cell_type": "markdown",
   "metadata": {},
   "source": [
    "### Aggiungo 3 colonne con le date di inizio e fine delle quotazioni  e volAvg, disponibili sui file csv"
   ]
  },
  {
   "cell_type": "code",
   "execution_count": 848,
   "metadata": {
    "ExecuteTime": {
     "end_time": "2019-05-06T19:20:24.785324Z",
     "start_time": "2019-05-06T19:20:24.679743Z"
    },
    "scrolled": true
   },
   "outputs": [
    {
     "name": "stdout",
     "output_type": "stream",
     "text": [
      "<class 'pandas.core.frame.DataFrame'>\n",
      "Int64Index: 1052 entries, 0 to 1216\n",
      "Data columns (total 9 columns):\n",
      "isin             1052 non-null object\n",
      "nome             1052 non-null object\n",
      "ticker           1052 non-null object\n",
      "benchmark        1052 non-null object\n",
      "ter              1052 non-null object\n",
      "areaBenchmark    1052 non-null object\n",
      "emittente        1052 non-null object\n",
      "strumento        1052 non-null object\n",
      "dataSource       1052 non-null object\n",
      "dtypes: object(9)\n",
      "memory usage: 82.2+ KB\n"
     ]
    }
   ],
   "source": [
    "df1 = df.copy()\n",
    "df1.info()"
   ]
  },
  {
   "cell_type": "code",
   "execution_count": 849,
   "metadata": {
    "ExecuteTime": {
     "end_time": "2019-05-06T19:28:34.487619Z",
     "start_time": "2019-05-06T19:22:30.619035Z"
    }
   },
   "outputs": [],
   "source": [
    "def get_dates_volume(row):\n",
    "    \n",
    "    source = row['dataSource']  # isin o ticker\n",
    "    try:\n",
    "        ticker_file = WORKDIR + source + EXT\n",
    "        df = pd.read_csv(ticker_file, usecols=[1,2,3,4,5,6], index_col=0, parse_dates=True, dayfirst=True)\n",
    "        end = df.index[df.shape[0]-1]\n",
    "        start = df.index[0]\n",
    "        volAvg = df.volume.rolling(VOL_AVG_PERIOD).mean()[-1]\n",
    "    except e:\n",
    "        end = None\n",
    "        start = None\n",
    "        volAvg = None\n",
    "\n",
    "    return pd.Series([start,end,volAvg])\n",
    "\n",
    "## LONG!!!\n",
    "df1[['startDate', 'endDate', 'volAvg']] = df1.apply(get_dates_volume, axis=1)\n"
   ]
  },
  {
   "cell_type": "code",
   "execution_count": 850,
   "metadata": {
    "ExecuteTime": {
     "end_time": "2019-05-06T19:43:44.169014Z",
     "start_time": "2019-05-06T19:43:43.960414Z"
    }
   },
   "outputs": [],
   "source": [
    "df1['endDate'] =  pd.to_datetime(df1['endDate'])\n",
    "df1['startDate'] =  pd.to_datetime(df1['startDate'])\n",
    "df1 = df1.round({'volAvg':0})"
   ]
  },
  {
   "cell_type": "code",
   "execution_count": 851,
   "metadata": {
    "ExecuteTime": {
     "end_time": "2019-05-06T19:43:46.936776Z",
     "start_time": "2019-05-06T19:43:45.457313Z"
    }
   },
   "outputs": [],
   "source": [
    "## SALVO i df con volumi e ticker puliti\n",
    "\n",
    "df1.to_excel('etf_info_vol' + str(VOL_AVG_PERIOD)  + '.xlsx')\n",
    "df1.to_csv('etf_info_vol' + str(VOL_AVG_PERIOD)  + '.csv')\n",
    "\n"
   ]
  },
  {
   "cell_type": "markdown",
   "metadata": {},
   "source": [
    "### elimina i ticker con end_date vecchia e quelli con volume NaN (che vuol dire che non esistono file per quel ticker)"
   ]
  },
  {
   "cell_type": "code",
   "execution_count": 852,
   "metadata": {
    "ExecuteTime": {
     "end_time": "2019-05-06T19:43:52.380868Z",
     "start_time": "2019-05-06T19:43:51.960161Z"
    },
    "scrolled": true
   },
   "outputs": [],
   "source": [
    "df2 = df1.copy()\n",
    "\n",
    "mask = (df2.endDate < '2019')\n",
    "df2.drop(df2[mask].index, inplace=True)\n",
    "\n",
    "df2 = df2[df2.volAvg >= 0]\n",
    "\n",
    "df2.volAvg = df2.volAvg.astype(int)\n",
    "df2.ter = df2.ter.astype(float)"
   ]
  },
  {
   "cell_type": "code",
   "execution_count": 853,
   "metadata": {
    "ExecuteTime": {
     "end_time": "2019-05-06T19:43:54.971619Z",
     "start_time": "2019-05-06T19:43:53.681208Z"
    }
   },
   "outputs": [],
   "source": [
    "## SALVO i df con volumi e ticker puliti\n",
    "\n",
    "df2.to_excel('etf_info_vol' + str(VOL_AVG_PERIOD)  + '_clean.xlsx')\n",
    "df2.to_csv('etf_info_vol' + str(VOL_AVG_PERIOD)  + '_clean.csv')"
   ]
  },
  {
   "cell_type": "markdown",
   "metadata": {},
   "source": [
    "## CARICA il DF (reinizializza)"
   ]
  },
  {
   "cell_type": "raw",
   "metadata": {
    "ExecuteTime": {
     "end_time": "2019-04-28T21:51:37.637058Z",
     "start_time": "2019-04-28T21:51:37.549794Z"
    }
   },
   "source": [
    "df11 = pd.read_csv('etf_info_vol' + str(VOL_AVG_PERIOD)  + '.csv')\n",
    "df11['endDate'] =  pd.to_datetime(df11['endDate'])\n",
    "df11['startDate'] =  pd.to_datetime(df11['startDate'])\n",
    "df11.drop(df11.columns[0] ,axis=1, inplace=True)\n",
    "df11.head()"
   ]
  },
  {
   "cell_type": "raw",
   "metadata": {
    "ExecuteTime": {
     "end_time": "2019-04-28T21:52:25.705407Z",
     "start_time": "2019-04-28T21:52:25.587672Z"
    }
   },
   "source": [
    "df10 = pd.read_csv('etf_info' + '.csv')\n",
    "df10.drop(df10.columns[0] ,axis=1, inplace=True)\n",
    "df10.head()"
   ]
  },
  {
   "cell_type": "raw",
   "metadata": {
    "ExecuteTime": {
     "end_time": "2019-04-28T21:53:39.141037Z",
     "start_time": "2019-04-28T21:53:39.001442Z"
    }
   },
   "source": [
    "df12 = pd.read_csv('etf_info_vol' + str(VOL_AVG_PERIOD)  + '_clean.csv')\n",
    "df12['endDate'] =  pd.to_datetime(df12['endDate'])\n",
    "df12['startDate'] =  pd.to_datetime(df12['startDate'])\n",
    "df12.drop(df12.columns[0] ,axis=1, inplace=True)\n",
    "df12.head()"
   ]
  },
  {
   "cell_type": "markdown",
   "metadata": {},
   "source": [
    "# Analisi dati ETF"
   ]
  },
  {
   "cell_type": "code",
   "execution_count": 854,
   "metadata": {
    "ExecuteTime": {
     "end_time": "2019-05-06T19:43:59.471156Z",
     "start_time": "2019-05-06T19:43:59.383423Z"
    }
   },
   "outputs": [
    {
     "data": {
      "text/html": [
       "<div>\n",
       "<style scoped>\n",
       "    .dataframe tbody tr th:only-of-type {\n",
       "        vertical-align: middle;\n",
       "    }\n",
       "\n",
       "    .dataframe tbody tr th {\n",
       "        vertical-align: top;\n",
       "    }\n",
       "\n",
       "    .dataframe thead th {\n",
       "        text-align: right;\n",
       "    }\n",
       "</style>\n",
       "<table border=\"1\" class=\"dataframe\">\n",
       "  <thead>\n",
       "    <tr style=\"text-align: right;\">\n",
       "      <th></th>\n",
       "      <th>isin</th>\n",
       "      <th>nome</th>\n",
       "      <th>ticker</th>\n",
       "      <th>benchmark</th>\n",
       "      <th>ter</th>\n",
       "      <th>areaBenchmark</th>\n",
       "      <th>emittente</th>\n",
       "      <th>strumento</th>\n",
       "      <th>dataSource</th>\n",
       "      <th>startDate</th>\n",
       "      <th>endDate</th>\n",
       "      <th>volAvg</th>\n",
       "    </tr>\n",
       "  </thead>\n",
       "  <tbody>\n",
       "    <tr>\n",
       "      <th>0</th>\n",
       "      <td>LU0136242590</td>\n",
       "      <td>UBS FTSE 100 UCITS ETF A-DIS</td>\n",
       "      <td>100EUA.MI</td>\n",
       "      <td>FTSE 100 TR</td>\n",
       "      <td>0.00200</td>\n",
       "      <td>AZIONARIO EUROPA - SINGOLI PAESI</td>\n",
       "      <td>UBS ETF</td>\n",
       "      <td>ETF</td>\n",
       "      <td>LU0136242590</td>\n",
       "      <td>2013-01-14</td>\n",
       "      <td>2019-04-04</td>\n",
       "      <td>685</td>\n",
       "    </tr>\n",
       "    <tr>\n",
       "      <th>2</th>\n",
       "      <td>LU1681048804</td>\n",
       "      <td>AMUNDI S&amp;P 500 EUR UCITS ETF</td>\n",
       "      <td>A500.MI</td>\n",
       "      <td>S&amp;P 500 TRN USD</td>\n",
       "      <td>0.00150</td>\n",
       "      <td>AZIONARIO NORD AMERICA</td>\n",
       "      <td>AMUNDI</td>\n",
       "      <td>ETF</td>\n",
       "      <td>A500.MI</td>\n",
       "      <td>2010-09-09</td>\n",
       "      <td>2019-04-04</td>\n",
       "      <td>12832</td>\n",
       "    </tr>\n",
       "    <tr>\n",
       "      <th>4</th>\n",
       "      <td>LU1829219556</td>\n",
       "      <td>LYXOR HIGH RAT MW GOVT 1-3Y DR UCITS ETF</td>\n",
       "      <td>AAA13.MI</td>\n",
       "      <td>FTSE MTS HIGHEST RATED MACRO WEIGT GOV 1-3 YRS...</td>\n",
       "      <td>0.00165</td>\n",
       "      <td>TITOLI DI STATO - EURO</td>\n",
       "      <td>LYXOR</td>\n",
       "      <td>ETF</td>\n",
       "      <td>AAA13.MI</td>\n",
       "      <td>2012-03-02</td>\n",
       "      <td>2019-04-04</td>\n",
       "      <td>115</td>\n",
       "    </tr>\n",
       "    <tr>\n",
       "      <th>5</th>\n",
       "      <td>LU1829219713</td>\n",
       "      <td>LYXOR HIGH RAT MW GOVT 3-5Y DR UCITS ETF</td>\n",
       "      <td>AAA35.MI</td>\n",
       "      <td>FTSE MTS HIGHEST RATED MACRO WEIGT GOV 3-5 YRS...</td>\n",
       "      <td>0.00165</td>\n",
       "      <td>TITOLI DI STATO - EURO</td>\n",
       "      <td>LYXOR</td>\n",
       "      <td>ETF</td>\n",
       "      <td>AAA35.MI</td>\n",
       "      <td>2012-03-02</td>\n",
       "      <td>2019-04-04</td>\n",
       "      <td>9152</td>\n",
       "    </tr>\n",
       "    <tr>\n",
       "      <th>6</th>\n",
       "      <td>LU1829219986</td>\n",
       "      <td>LYXOR HIGH RAT MW GOVT 5-7Y DR UCITS ETF</td>\n",
       "      <td>AAA57.MI</td>\n",
       "      <td>FTSE MTS HIGHEST RATED MACRO WEIGT GOV 5-7 YRS...</td>\n",
       "      <td>0.00165</td>\n",
       "      <td>TITOLI DI STATO - EURO</td>\n",
       "      <td>LYXOR</td>\n",
       "      <td>ETF</td>\n",
       "      <td>AAA57.MI</td>\n",
       "      <td>2012-03-02</td>\n",
       "      <td>2019-04-04</td>\n",
       "      <td>0</td>\n",
       "    </tr>\n",
       "  </tbody>\n",
       "</table>\n",
       "</div>"
      ],
      "text/plain": [
       "           isin                                      nome     ticker  \\\n",
       "0  LU0136242590              UBS FTSE 100 UCITS ETF A-DIS  100EUA.MI   \n",
       "2  LU1681048804              AMUNDI S&P 500 EUR UCITS ETF    A500.MI   \n",
       "4  LU1829219556  LYXOR HIGH RAT MW GOVT 1-3Y DR UCITS ETF   AAA13.MI   \n",
       "5  LU1829219713  LYXOR HIGH RAT MW GOVT 3-5Y DR UCITS ETF   AAA35.MI   \n",
       "6  LU1829219986  LYXOR HIGH RAT MW GOVT 5-7Y DR UCITS ETF   AAA57.MI   \n",
       "\n",
       "                                           benchmark      ter  \\\n",
       "0                                        FTSE 100 TR  0.00200   \n",
       "2                                    S&P 500 TRN USD  0.00150   \n",
       "4  FTSE MTS HIGHEST RATED MACRO WEIGT GOV 1-3 YRS...  0.00165   \n",
       "5  FTSE MTS HIGHEST RATED MACRO WEIGT GOV 3-5 YRS...  0.00165   \n",
       "6  FTSE MTS HIGHEST RATED MACRO WEIGT GOV 5-7 YRS...  0.00165   \n",
       "\n",
       "                      areaBenchmark emittente strumento    dataSource  \\\n",
       "0  AZIONARIO EUROPA - SINGOLI PAESI   UBS ETF       ETF  LU0136242590   \n",
       "2            AZIONARIO NORD AMERICA    AMUNDI       ETF       A500.MI   \n",
       "4            TITOLI DI STATO - EURO     LYXOR       ETF      AAA13.MI   \n",
       "5            TITOLI DI STATO - EURO     LYXOR       ETF      AAA35.MI   \n",
       "6            TITOLI DI STATO - EURO     LYXOR       ETF      AAA57.MI   \n",
       "\n",
       "   startDate    endDate  volAvg  \n",
       "0 2013-01-14 2019-04-04     685  \n",
       "2 2010-09-09 2019-04-04   12832  \n",
       "4 2012-03-02 2019-04-04     115  \n",
       "5 2012-03-02 2019-04-04    9152  \n",
       "6 2012-03-02 2019-04-04       0  "
      ]
     },
     "execution_count": 854,
     "metadata": {},
     "output_type": "execute_result"
    }
   ],
   "source": [
    "# df2 contiene i dati dei ETF validi (clean)\n",
    "\n",
    "df2.head()"
   ]
  },
  {
   "cell_type": "code",
   "execution_count": 859,
   "metadata": {
    "ExecuteTime": {
     "end_time": "2019-05-06T19:48:16.310119Z",
     "start_time": "2019-05-06T19:48:16.208254Z"
    }
   },
   "outputs": [
    {
     "data": {
      "text/html": [
       "<div>\n",
       "<style scoped>\n",
       "    .dataframe tbody tr th:only-of-type {\n",
       "        vertical-align: middle;\n",
       "    }\n",
       "\n",
       "    .dataframe tbody tr th {\n",
       "        vertical-align: top;\n",
       "    }\n",
       "\n",
       "    .dataframe thead th {\n",
       "        text-align: right;\n",
       "    }\n",
       "</style>\n",
       "<table border=\"1\" class=\"dataframe\">\n",
       "  <thead>\n",
       "    <tr style=\"text-align: right;\">\n",
       "      <th></th>\n",
       "      <th>ter</th>\n",
       "      <th>volAvg</th>\n",
       "    </tr>\n",
       "  </thead>\n",
       "  <tbody>\n",
       "    <tr>\n",
       "      <th>count</th>\n",
       "      <td>1029.000000</td>\n",
       "      <td>1.029000e+03</td>\n",
       "    </tr>\n",
       "    <tr>\n",
       "      <th>mean</th>\n",
       "      <td>0.004723</td>\n",
       "      <td>7.814199e+04</td>\n",
       "    </tr>\n",
       "    <tr>\n",
       "      <th>std</th>\n",
       "      <td>0.003196</td>\n",
       "      <td>1.098347e+06</td>\n",
       "    </tr>\n",
       "    <tr>\n",
       "      <th>min</th>\n",
       "      <td>0.000400</td>\n",
       "      <td>0.000000e+00</td>\n",
       "    </tr>\n",
       "    <tr>\n",
       "      <th>25%</th>\n",
       "      <td>0.002300</td>\n",
       "      <td>2.520000e+02</td>\n",
       "    </tr>\n",
       "    <tr>\n",
       "      <th>50%</th>\n",
       "      <td>0.003900</td>\n",
       "      <td>1.588000e+03</td>\n",
       "    </tr>\n",
       "    <tr>\n",
       "      <th>75%</th>\n",
       "      <td>0.006500</td>\n",
       "      <td>7.103000e+03</td>\n",
       "    </tr>\n",
       "    <tr>\n",
       "      <th>max</th>\n",
       "      <td>0.018300</td>\n",
       "      <td>2.388080e+07</td>\n",
       "    </tr>\n",
       "  </tbody>\n",
       "</table>\n",
       "</div>"
      ],
      "text/plain": [
       "               ter        volAvg\n",
       "count  1029.000000  1.029000e+03\n",
       "mean      0.004723  7.814199e+04\n",
       "std       0.003196  1.098347e+06\n",
       "min       0.000400  0.000000e+00\n",
       "25%       0.002300  2.520000e+02\n",
       "50%       0.003900  1.588000e+03\n",
       "75%       0.006500  7.103000e+03\n",
       "max       0.018300  2.388080e+07"
      ]
     },
     "execution_count": 859,
     "metadata": {},
     "output_type": "execute_result"
    }
   ],
   "source": [
    "df2.describe()"
   ]
  },
  {
   "cell_type": "code",
   "execution_count": 860,
   "metadata": {
    "ExecuteTime": {
     "end_time": "2019-05-06T19:48:19.910652Z",
     "start_time": "2019-05-06T19:48:19.838155Z"
    }
   },
   "outputs": [
    {
     "data": {
      "text/plain": [
       "16374.799999999987"
      ]
     },
     "execution_count": 860,
     "metadata": {},
     "output_type": "execute_result"
    }
   ],
   "source": [
    "df2.volAvg.quantile(q=0.85)"
   ]
  },
  {
   "cell_type": "code",
   "execution_count": 861,
   "metadata": {
    "ExecuteTime": {
     "end_time": "2019-05-06T19:48:23.716957Z",
     "start_time": "2019-05-06T19:48:23.611191Z"
    }
   },
   "outputs": [],
   "source": [
    "# salva i nomi delle aree benchmark in un file\n",
    "with open('area.csv', \"w\") as outfile:\n",
    "    for entries in df.areaBenchmark.unique():\n",
    "        outfile.write(entries)\n",
    "        outfile.write(\"\\n\")"
   ]
  },
  {
   "cell_type": "code",
   "execution_count": 862,
   "metadata": {
    "ExecuteTime": {
     "end_time": "2019-05-06T19:48:24.838048Z",
     "start_time": "2019-05-06T19:48:24.768272Z"
    }
   },
   "outputs": [],
   "source": [
    "# costruita a mano dal file area.csv\n",
    "\n",
    "listaAree = ['AZIONARIO EUROPA - AREA',\n",
    "'AZIONARIO MONDO',\n",
    "'AZIONARIO NORD AMERICA',\n",
    "'COMMODITIES',\n",
    "'METALLI PREZIOSI',\n",
    "'REAL ESTATE',\n",
    "'TITOLI DI STATO - EURO',\n",
    "'TITOLI DI STATO - MONDO',\n",
    "'TITOLI DI STATO - NON EURO']\n",
    "\n",
    "df3 = df2[df2.areaBenchmark.isin(listaAree)]"
   ]
  },
  {
   "cell_type": "code",
   "execution_count": 863,
   "metadata": {
    "ExecuteTime": {
     "end_time": "2019-05-06T19:48:27.721132Z",
     "start_time": "2019-05-06T19:48:27.300756Z"
    }
   },
   "outputs": [],
   "source": [
    "# salva il df3, con solo i ticker interessanti\n",
    "df3.to_excel('etf_info_vol' + str(VOL_AVG_PERIOD)  + '_clean_mach1.xlsx')\n",
    "df3.to_csv('etf_info_vol' + str(VOL_AVG_PERIOD)  + '_clean_mach1.csv')"
   ]
  },
  {
   "cell_type": "markdown",
   "metadata": {},
   "source": [
    "## Dataframe con le info dei ticker \"buoni\" - Lista 2 - obbl EU"
   ]
  },
  {
   "cell_type": "code",
   "execution_count": 920,
   "metadata": {
    "ExecuteTime": {
     "end_time": "2019-05-06T21:25:20.282215Z",
     "start_time": "2019-05-06T21:25:19.939165Z"
    }
   },
   "outputs": [
    {
     "data": {
      "text/plain": [
       "['emg', 'ibgm', 'em15', 'ibgl', 'ibtm']"
      ]
     },
     "execution_count": 920,
     "metadata": {},
     "output_type": "execute_result"
    }
   ],
   "source": [
    "# lista 2 ticker 'buoni', costruita a mano partendo da mach1\n",
    "\n",
    "lista1 = ['emg','ibgm','em15','ibgl','ibtm']\n",
    "ticker1 = [x.upper()+'.MI' for x in lista1]\n",
    "df4 = df2[df2.ticker.isin(ticker1)]\n",
    "\n",
    "sources1 = df4.dataSource.tolist()\n",
    "\n",
    "ticker2 = df4.ticker.tolist()\n",
    "ticker2 = [x.lower().split('.')[0] for x in ticker1]\n",
    "ticker2"
   ]
  },
  {
   "cell_type": "code",
   "execution_count": 921,
   "metadata": {
    "ExecuteTime": {
     "end_time": "2019-05-06T21:25:25.230619Z",
     "start_time": "2019-05-06T21:25:21.315045Z"
    }
   },
   "outputs": [],
   "source": [
    "df100 = pd.DataFrame()\n",
    "for source in sources1:\n",
    "    filename = WORKDIR + source + EXT\n",
    "    df_t = pd.read_csv(filename, usecols=[1,2,3,4,5,6], index_col=0, parse_dates=True, dayfirst=True)\n",
    "    df100 = df100.join(df_t.close,how='outer',rsuffix='_'+source)\n",
    "    \n",
    "df100.columns = ticker2"
   ]
  },
  {
   "cell_type": "code",
   "execution_count": 922,
   "metadata": {
    "ExecuteTime": {
     "end_time": "2019-05-06T21:25:25.367608Z",
     "start_time": "2019-05-06T21:25:25.235391Z"
    }
   },
   "outputs": [
    {
     "name": "stdout",
     "output_type": "stream",
     "text": [
      "First valid index for column emg is at 2007-10-25 00:00:00\n",
      "First valid index for column ibgm is at 2004-05-11 00:00:00\n",
      "First valid index for column em15 is at 2007-03-20 00:00:00\n",
      "First valid index for column ibgl is at 2007-03-20 00:00:00\n",
      "First valid index for column ibtm is at 2007-03-20 00:00:00\n"
     ]
    }
   ],
   "source": [
    "# Pulizia\n",
    "\n",
    "for col_name, data in df100.items(): \n",
    "    print(\"First valid index for column {} is at {}\".format(col_name, data.first_valid_index()))"
   ]
  },
  {
   "cell_type": "code",
   "execution_count": 925,
   "metadata": {
    "ExecuteTime": {
     "end_time": "2019-05-06T21:40:20.380180Z",
     "start_time": "2019-05-06T21:40:20.097599Z"
    }
   },
   "outputs": [],
   "source": [
    "# prima data valida \n",
    "df101 = df100[df100.index >= '2007-10-25']\n",
    "\n",
    "# back-fill i NaN\n",
    "df102 = df101.fillna(method='bfill')\n",
    "\n",
    "# Normalizzo e plotto\n",
    "\n",
    "# ndf100 = (df100-df100.min())/(df100.max()-df100.min())\n",
    "norm_df102 = df102/df102.iloc[0]"
   ]
  },
  {
   "cell_type": "code",
   "execution_count": 934,
   "metadata": {
    "ExecuteTime": {
     "end_time": "2019-05-06T21:53:58.472747Z",
     "start_time": "2019-05-06T21:53:57.447485Z"
    }
   },
   "outputs": [
    {
     "data": {
      "text/plain": [
       "<matplotlib.legend.Legend at 0x130536080>"
      ]
     },
     "execution_count": 934,
     "metadata": {},
     "output_type": "execute_result"
    },
    {
     "data": {
      "image/png": "[encoded data removed]",
      "text/plain": [
       "<Figure size 864x648 with 1 Axes>"
      ]
     },
     "metadata": {},
     "output_type": "display_data"
    }
   ],
   "source": [
    "norm_df102.plot(figsize=(12,9))\n",
    "plt.legend()"
   ]
  },
  {
   "cell_type": "code",
   "execution_count": 941,
   "metadata": {
    "ExecuteTime": {
     "end_time": "2019-05-06T22:18:20.267258Z",
     "start_time": "2019-05-06T22:18:19.869537Z"
    }
   },
   "outputs": [
    {
     "name": "stdout",
     "output_type": "stream",
     "text": [
      "----------------------------------------------------------------------------------\n",
      "Assets Classes Annualized Statistics — full observation period\n"
     ]
    },
    {
     "name": "stderr",
     "output_type": "stream",
     "text": [
      "/Users/simo/miniconda3/lib/python3.7/site-packages/ipykernel_launcher.py:1: RuntimeWarning: invalid value encountered in log\n",
      "  \"\"\"Entry point for launching an IPython kernel.\n"
     ]
    },
    {
     "data": {
      "text/html": [
       "<style  type=\"text/css\" >\n",
       "    #T_dad19b2e_704c_11e9_abe0_001cb3bd83e3row0_col0 {\n",
       "            width:  10em;\n",
       "             height:  80%;\n",
       "            background:  linear-gradient(90deg, transparent 0%, transparent 50%, green 50%, green 100.0%, transparent 100.0%);\n",
       "        }    #T_dad19b2e_704c_11e9_abe0_001cb3bd83e3row0_col1 {\n",
       "            width:  10em;\n",
       "             height:  80%;\n",
       "            background:  linear-gradient(90deg, transparent 0%, transparent 50%, green 50%, green 89.0%, transparent 89.0%);\n",
       "        }    #T_dad19b2e_704c_11e9_abe0_001cb3bd83e3row0_col2 {\n",
       "            width:  10em;\n",
       "             height:  80%;\n",
       "            background:  linear-gradient(90deg, transparent 0%, transparent 50%, green 50%, green 86.5%, transparent 86.5%);\n",
       "        }    #T_dad19b2e_704c_11e9_abe0_001cb3bd83e3row1_col0 {\n",
       "            width:  10em;\n",
       "             height:  80%;\n",
       "            background:  linear-gradient(90deg, transparent 0%, transparent 50%, green 50%, green 79.6%, transparent 79.6%);\n",
       "        }    #T_dad19b2e_704c_11e9_abe0_001cb3bd83e3row1_col1 {\n",
       "            width:  10em;\n",
       "             height:  80%;\n",
       "            background:  linear-gradient(90deg, transparent 0%, transparent 50%, green 50%, green 66.8%, transparent 66.8%);\n",
       "        }    #T_dad19b2e_704c_11e9_abe0_001cb3bd83e3row1_col2 {\n",
       "            width:  10em;\n",
       "             height:  80%;\n",
       "            background:  linear-gradient(90deg, transparent 0%, transparent 50%, green 50%, green 100.0%, transparent 100.0%);\n",
       "        }    #T_dad19b2e_704c_11e9_abe0_001cb3bd83e3row2_col0 {\n",
       "            width:  10em;\n",
       "             height:  80%;\n",
       "            background:  linear-gradient(90deg, transparent 0%, transparent 50%, green 50%, green 78.2%, transparent 78.2%);\n",
       "        }    #T_dad19b2e_704c_11e9_abe0_001cb3bd83e3row2_col1 {\n",
       "            width:  10em;\n",
       "             height:  80%;\n",
       "            background:  linear-gradient(90deg, transparent 0%, transparent 50%, green 50%, green 88.4%, transparent 88.4%);\n",
       "        }    #T_dad19b2e_704c_11e9_abe0_001cb3bd83e3row2_col2 {\n",
       "            width:  10em;\n",
       "             height:  80%;\n",
       "            background:  linear-gradient(90deg, transparent 0%, transparent 50%, green 50%, green 70.9%, transparent 70.9%);\n",
       "        }    #T_dad19b2e_704c_11e9_abe0_001cb3bd83e3row3_col0 {\n",
       "            width:  10em;\n",
       "             height:  80%;\n",
       "            background:  linear-gradient(90deg, transparent 0%, transparent 50%, green 50%, green 75.7%, transparent 75.7%);\n",
       "        }    #T_dad19b2e_704c_11e9_abe0_001cb3bd83e3row3_col1 {\n",
       "            width:  10em;\n",
       "             height:  80%;\n",
       "            background:  linear-gradient(90deg, transparent 0%, transparent 50%, green 50%, green 71.5%, transparent 71.5%);\n",
       "        }    #T_dad19b2e_704c_11e9_abe0_001cb3bd83e3row3_col2 {\n",
       "            width:  10em;\n",
       "             height:  80%;\n",
       "            background:  linear-gradient(90deg, transparent 0%, transparent 50%, green 50%, green 83.9%, transparent 83.9%);\n",
       "        }    #T_dad19b2e_704c_11e9_abe0_001cb3bd83e3row4_col0 {\n",
       "            width:  10em;\n",
       "             height:  80%;\n",
       "            background:  linear-gradient(90deg, transparent 0%, transparent 50%, green 50%, green 79.6%, transparent 79.6%);\n",
       "        }    #T_dad19b2e_704c_11e9_abe0_001cb3bd83e3row4_col1 {\n",
       "            width:  10em;\n",
       "             height:  80%;\n",
       "            background:  linear-gradient(90deg, transparent 0%, transparent 50%, green 50%, green 100.0%, transparent 100.0%);\n",
       "        }    #T_dad19b2e_704c_11e9_abe0_001cb3bd83e3row4_col2 {\n",
       "            width:  10em;\n",
       "             height:  80%;\n",
       "            background:  linear-gradient(90deg, transparent 0%, transparent 50%, green 50%, green 66.8%, transparent 66.8%);\n",
       "        }</style>  \n",
       "<table id=\"T_dad19b2e_704c_11e9_abe0_001cb3bd83e3\" > \n",
       "<thead>    <tr> \n",
       "        <th class=\"blank level0\" ></th> \n",
       "        <th class=\"col_heading level0 col0\" >Annualized Returns(%)</th> \n",
       "        <th class=\"col_heading level0 col1\" >Annualized Volatility(%)</th> \n",
       "        <th class=\"col_heading level0 col2\" >Sharpe Ratio</th> \n",
       "    </tr></thead> \n",
       "<tbody>    <tr> \n",
       "        <th id=\"T_dad19b2e_704c_11e9_abe0_001cb3bd83e3level0_row0\" class=\"row_heading level0 row0\" >emg</th> \n",
       "        <td id=\"T_dad19b2e_704c_11e9_abe0_001cb3bd83e3row0_col0\" class=\"data row0 col0\" >6.76505</td> \n",
       "        <td id=\"T_dad19b2e_704c_11e9_abe0_001cb3bd83e3row0_col1\" class=\"data row0 col1\" >9.29069</td> \n",
       "        <td id=\"T_dad19b2e_704c_11e9_abe0_001cb3bd83e3row0_col2\" class=\"data row0 col2\" >0.728154</td> \n",
       "    </tr>    <tr> \n",
       "        <th id=\"T_dad19b2e_704c_11e9_abe0_001cb3bd83e3level0_row1\" class=\"row_heading level0 row1\" >ibgm</th> \n",
       "        <td id=\"T_dad19b2e_704c_11e9_abe0_001cb3bd83e3row1_col0\" class=\"data row1 col0\" >3.99916</td> \n",
       "        <td id=\"T_dad19b2e_704c_11e9_abe0_001cb3bd83e3row1_col1\" class=\"data row1 col1\" >4.00532</td> \n",
       "        <td id=\"T_dad19b2e_704c_11e9_abe0_001cb3bd83e3row1_col2\" class=\"data row1 col2\" >0.998462</td> \n",
       "    </tr>    <tr> \n",
       "        <th id=\"T_dad19b2e_704c_11e9_abe0_001cb3bd83e3level0_row2\" class=\"row_heading level0 row2\" >em15</th> \n",
       "        <td id=\"T_dad19b2e_704c_11e9_abe0_001cb3bd83e3row2_col0\" class=\"data row2 col0\" >3.81683</td> \n",
       "        <td id=\"T_dad19b2e_704c_11e9_abe0_001cb3bd83e3row2_col1\" class=\"data row2 col1\" >9.16435</td> \n",
       "        <td id=\"T_dad19b2e_704c_11e9_abe0_001cb3bd83e3row2_col2\" class=\"data row2 col2\" >0.416487</td> \n",
       "    </tr>    <tr> \n",
       "        <th id=\"T_dad19b2e_704c_11e9_abe0_001cb3bd83e3level0_row3\" class=\"row_heading level0 row3\" >ibgl</th> \n",
       "        <td id=\"T_dad19b2e_704c_11e9_abe0_001cb3bd83e3row3_col0\" class=\"data row3 col0\" >3.47877</td> \n",
       "        <td id=\"T_dad19b2e_704c_11e9_abe0_001cb3bd83e3row3_col1\" class=\"data row3 col1\" >5.13267</td> \n",
       "        <td id=\"T_dad19b2e_704c_11e9_abe0_001cb3bd83e3row3_col2\" class=\"data row3 col2\" >0.677769</td> \n",
       "    </tr>    <tr> \n",
       "        <th id=\"T_dad19b2e_704c_11e9_abe0_001cb3bd83e3level0_row4\" class=\"row_heading level0 row4\" >ibtm</th> \n",
       "        <td id=\"T_dad19b2e_704c_11e9_abe0_001cb3bd83e3row4_col0\" class=\"data row4 col0\" >4.00823</td> \n",
       "        <td id=\"T_dad19b2e_704c_11e9_abe0_001cb3bd83e3row4_col1\" class=\"data row4 col1\" >11.9263</td> \n",
       "        <td id=\"T_dad19b2e_704c_11e9_abe0_001cb3bd83e3row4_col2\" class=\"data row4 col2\" >0.336083</td> \n",
       "    </tr></tbody> \n",
       "</table> "
      ],
      "text/plain": [
       "<pandas.io.formats.style.Styler at 0x130e875f8>"
      ]
     },
     "execution_count": 941,
     "metadata": {},
     "output_type": "execute_result"
    }
   ],
   "source": [
    "returns = np.log(df102/df102.shift(1))\n",
    "returns.dropna(inplace=True)\n",
    "\n",
    "PERIODS = 252\n",
    "stats = pd.DataFrame()\n",
    "stats['Annualized Returns(%)'] = returns.mean() * PERIODS *100\n",
    "stats['Annualized Volatility(%)'] = returns.std() * np.sqrt(PERIODS)*100\n",
    "stats['Sharpe Ratio'] = stats['Annualized Returns(%)'] /stats['Annualized Volatility(%)']\n",
    "print(82*'-')\n",
    "print('Assets Classes Annualized Statistics — full observation period')\n",
    "stats.style.bar(color=['red','green'], align='zero')"
   ]
  },
  {
   "cell_type": "markdown",
   "metadata": {},
   "source": [
    "### Dataframe con le info dei ticker \"buoni\" - Lista 1 - az EU, az US, obb EU, obb US, oro"
   ]
  },
  {
   "cell_type": "code",
   "execution_count": 891,
   "metadata": {
    "ExecuteTime": {
     "end_time": "2019-05-06T21:16:31.022637Z",
     "start_time": "2019-05-06T21:16:30.920775Z"
    }
   },
   "outputs": [],
   "source": [
    "# lista 1 ticker 'buoni', costruita a mano partendo da mach1\n",
    "\n",
    "lista1 = ['imeu','ceu','smea','iusa','csspx','phau','ibtm','ibgm']\n",
    "ticker1 = [x.upper()+'.MI' for x in lista1]\n"
   ]
  },
  {
   "cell_type": "code",
   "execution_count": 898,
   "metadata": {
    "ExecuteTime": {
     "end_time": "2019-05-06T21:20:41.804034Z",
     "start_time": "2019-05-06T21:20:41.401774Z"
    }
   },
   "outputs": [
    {
     "data": {
      "text/html": [
       "<div>\n",
       "<style scoped>\n",
       "    .dataframe tbody tr th:only-of-type {\n",
       "        vertical-align: middle;\n",
       "    }\n",
       "\n",
       "    .dataframe tbody tr th {\n",
       "        vertical-align: top;\n",
       "    }\n",
       "\n",
       "    .dataframe thead th {\n",
       "        text-align: right;\n",
       "    }\n",
       "</style>\n",
       "<table border=\"1\" class=\"dataframe\">\n",
       "  <thead>\n",
       "    <tr style=\"text-align: right;\">\n",
       "      <th></th>\n",
       "      <th>isin</th>\n",
       "      <th>nome</th>\n",
       "      <th>ticker</th>\n",
       "      <th>benchmark</th>\n",
       "      <th>ter</th>\n",
       "      <th>areaBenchmark</th>\n",
       "      <th>emittente</th>\n",
       "      <th>strumento</th>\n",
       "      <th>dataSource</th>\n",
       "      <th>startDate</th>\n",
       "      <th>endDate</th>\n",
       "      <th>volAvg</th>\n",
       "    </tr>\n",
       "  </thead>\n",
       "  <tbody>\n",
       "    <tr>\n",
       "      <th>85</th>\n",
       "      <td>LU1681042609</td>\n",
       "      <td>AMUNDI MSCI EUROPE UCITS ETF - EUR</td>\n",
       "      <td>CEU.MI</td>\n",
       "      <td>MSCI TRN EUROPE INDEX</td>\n",
       "      <td>0.0015</td>\n",
       "      <td>AZIONARIO EUROPA - AREA</td>\n",
       "      <td>AMUNDI</td>\n",
       "      <td>ETF</td>\n",
       "      <td>CEU.MI</td>\n",
       "      <td>2010-03-17</td>\n",
       "      <td>2019-04-04</td>\n",
       "      <td>1125</td>\n",
       "    </tr>\n",
       "    <tr>\n",
       "      <th>134</th>\n",
       "      <td>IE00B5BMR087</td>\n",
       "      <td>ISHARES CORE S&amp;P 500 UCITS ETF USD ACC</td>\n",
       "      <td>CSSPX.MI</td>\n",
       "      <td>S&amp;P 500 TRN USD</td>\n",
       "      <td>0.0007</td>\n",
       "      <td>AZIONARIO NORD AMERICA</td>\n",
       "      <td>ISHARES</td>\n",
       "      <td>ETF</td>\n",
       "      <td>IE00B5BMR087</td>\n",
       "      <td>2010-05-26</td>\n",
       "      <td>2019-04-04</td>\n",
       "      <td>35724</td>\n",
       "    </tr>\n",
       "    <tr>\n",
       "      <th>372</th>\n",
       "      <td>IE00B1FZS806</td>\n",
       "      <td>ISHARES EU GOVT 7-10YR UCITS ETF DIST</td>\n",
       "      <td>IBGM.MI</td>\n",
       "      <td>BARCLAYS EURO GOV BOND 10 YEAR TERM</td>\n",
       "      <td>0.0020</td>\n",
       "      <td>TITOLI DI STATO - EURO</td>\n",
       "      <td>ISHARES</td>\n",
       "      <td>ETF</td>\n",
       "      <td>IBGM.MI</td>\n",
       "      <td>2007-03-20</td>\n",
       "      <td>2019-04-04</td>\n",
       "      <td>8904</td>\n",
       "    </tr>\n",
       "    <tr>\n",
       "      <th>377</th>\n",
       "      <td>IE00B1FZS798</td>\n",
       "      <td>ISHARES $ TREASURY 7-10YR UCITS ETF DIST</td>\n",
       "      <td>IBTM.MI</td>\n",
       "      <td>BARCLAYS US TREASURY 10 YEAR TERM</td>\n",
       "      <td>0.0020</td>\n",
       "      <td>TITOLI DI STATO - NON EURO</td>\n",
       "      <td>ISHARES</td>\n",
       "      <td>ETF</td>\n",
       "      <td>IBTM.MI</td>\n",
       "      <td>2007-03-20</td>\n",
       "      <td>2019-04-04</td>\n",
       "      <td>10783</td>\n",
       "    </tr>\n",
       "    <tr>\n",
       "      <th>407</th>\n",
       "      <td>IE00B1YZSC51</td>\n",
       "      <td>ISHARESCOREMSCIEUROPE UCITS ETF</td>\n",
       "      <td>IMEU.MI</td>\n",
       "      <td>MSCI EUROPE</td>\n",
       "      <td>0.0012</td>\n",
       "      <td>AZIONARIO EUROPA - AREA</td>\n",
       "      <td>ISHARES</td>\n",
       "      <td>ETF</td>\n",
       "      <td>IMEU.MI</td>\n",
       "      <td>2008-03-18</td>\n",
       "      <td>2019-04-04</td>\n",
       "      <td>157330</td>\n",
       "    </tr>\n",
       "    <tr>\n",
       "      <th>444</th>\n",
       "      <td>IE0031442068</td>\n",
       "      <td>ISHARESCORES&amp;P500$(DIST) UCITS ETF</td>\n",
       "      <td>IUSA.MI</td>\n",
       "      <td>S&amp;P 500</td>\n",
       "      <td>0.0007</td>\n",
       "      <td>AZIONARIO NORD AMERICA</td>\n",
       "      <td>ISHARES</td>\n",
       "      <td>ETF</td>\n",
       "      <td>IUSA.MI</td>\n",
       "      <td>2004-05-11</td>\n",
       "      <td>2019-04-04</td>\n",
       "      <td>246870</td>\n",
       "    </tr>\n",
       "    <tr>\n",
       "      <th>596</th>\n",
       "      <td>IE00B4K48X80</td>\n",
       "      <td>ISHARESCOREMSCIEUROPE€(ACC) UCITS ETF</td>\n",
       "      <td>SMEA.MI</td>\n",
       "      <td>MSCI TRN EUROPE INDEX</td>\n",
       "      <td>0.0012</td>\n",
       "      <td>AZIONARIO EUROPA - AREA</td>\n",
       "      <td>ISHARES</td>\n",
       "      <td>ETF</td>\n",
       "      <td>SMEA.MI</td>\n",
       "      <td>2010-02-11</td>\n",
       "      <td>2019-04-04</td>\n",
       "      <td>35167</td>\n",
       "    </tr>\n",
       "    <tr>\n",
       "      <th>1144</th>\n",
       "      <td>JE00B1VS3770</td>\n",
       "      <td>ETFS PHYSICAL GOLD</td>\n",
       "      <td>PHAU.MI</td>\n",
       "      <td>1/10 ONCIA TROY DI ORO</td>\n",
       "      <td>0.0039</td>\n",
       "      <td>METALLI PREZIOSI</td>\n",
       "      <td>ETFS SECURITIES</td>\n",
       "      <td>ETC</td>\n",
       "      <td>PHAU.MI</td>\n",
       "      <td>2007-06-20</td>\n",
       "      <td>2019-04-04</td>\n",
       "      <td>25317</td>\n",
       "    </tr>\n",
       "  </tbody>\n",
       "</table>\n",
       "</div>"
      ],
      "text/plain": [
       "              isin                                      nome    ticker  \\\n",
       "85    LU1681042609        AMUNDI MSCI EUROPE UCITS ETF - EUR    CEU.MI   \n",
       "134   IE00B5BMR087    ISHARES CORE S&P 500 UCITS ETF USD ACC  CSSPX.MI   \n",
       "372   IE00B1FZS806     ISHARES EU GOVT 7-10YR UCITS ETF DIST   IBGM.MI   \n",
       "377   IE00B1FZS798  ISHARES $ TREASURY 7-10YR UCITS ETF DIST   IBTM.MI   \n",
       "407   IE00B1YZSC51           ISHARESCOREMSCIEUROPE UCITS ETF   IMEU.MI   \n",
       "444   IE0031442068        ISHARESCORES&P500$(DIST) UCITS ETF   IUSA.MI   \n",
       "596   IE00B4K48X80     ISHARESCOREMSCIEUROPE€(ACC) UCITS ETF   SMEA.MI   \n",
       "1144  JE00B1VS3770                        ETFS PHYSICAL GOLD   PHAU.MI   \n",
       "\n",
       "                                benchmark     ter               areaBenchmark  \\\n",
       "85                  MSCI TRN EUROPE INDEX  0.0015     AZIONARIO EUROPA - AREA   \n",
       "134                       S&P 500 TRN USD  0.0007      AZIONARIO NORD AMERICA   \n",
       "372   BARCLAYS EURO GOV BOND 10 YEAR TERM  0.0020      TITOLI DI STATO - EURO   \n",
       "377     BARCLAYS US TREASURY 10 YEAR TERM  0.0020  TITOLI DI STATO - NON EURO   \n",
       "407                           MSCI EUROPE  0.0012     AZIONARIO EUROPA - AREA   \n",
       "444                               S&P 500  0.0007      AZIONARIO NORD AMERICA   \n",
       "596                 MSCI TRN EUROPE INDEX  0.0012     AZIONARIO EUROPA - AREA   \n",
       "1144               1/10 ONCIA TROY DI ORO  0.0039            METALLI PREZIOSI   \n",
       "\n",
       "            emittente strumento    dataSource  startDate    endDate  volAvg  \n",
       "85             AMUNDI       ETF        CEU.MI 2010-03-17 2019-04-04    1125  \n",
       "134           ISHARES       ETF  IE00B5BMR087 2010-05-26 2019-04-04   35724  \n",
       "372           ISHARES       ETF       IBGM.MI 2007-03-20 2019-04-04    8904  \n",
       "377           ISHARES       ETF       IBTM.MI 2007-03-20 2019-04-04   10783  \n",
       "407           ISHARES       ETF       IMEU.MI 2008-03-18 2019-04-04  157330  \n",
       "444           ISHARES       ETF       IUSA.MI 2004-05-11 2019-04-04  246870  \n",
       "596           ISHARES       ETF       SMEA.MI 2010-02-11 2019-04-04   35167  \n",
       "1144  ETFS SECURITIES       ETC       PHAU.MI 2007-06-20 2019-04-04   25317  "
      ]
     },
     "execution_count": 898,
     "metadata": {},
     "output_type": "execute_result"
    }
   ],
   "source": [
    "df4 = pd.DataFrame()\n",
    "df4 = df2[df2.ticker.isin(ticker1)]\n",
    "\n",
    "df4"
   ]
  },
  {
   "cell_type": "markdown",
   "metadata": {},
   "source": [
    "#### Creo un DF con le quotazioni close dei ticker selezionati"
   ]
  },
  {
   "cell_type": "code",
   "execution_count": 899,
   "metadata": {
    "ExecuteTime": {
     "end_time": "2019-05-06T21:20:46.358171Z",
     "start_time": "2019-05-06T21:20:46.200368Z"
    }
   },
   "outputs": [
    {
     "data": {
      "text/plain": [
       "['imeu', 'ceu', 'smea', 'iusa', 'csspx', 'phau', 'ibtm', 'ibgm']"
      ]
     },
     "execution_count": 899,
     "metadata": {},
     "output_type": "execute_result"
    }
   ],
   "source": [
    "sources1 = df4.dataSource.tolist()\n",
    "\n",
    "ticker2 = df4.ticker.tolist()\n",
    "ticker2 = [x.lower().split('.')[0] for x in ticker1]\n",
    "ticker2"
   ]
  },
  {
   "cell_type": "code",
   "execution_count": 900,
   "metadata": {
    "ExecuteTime": {
     "end_time": "2019-05-06T21:20:52.374606Z",
     "start_time": "2019-05-06T21:20:47.068344Z"
    }
   },
   "outputs": [],
   "source": [
    "dfLista = pd.DataFrame()\n",
    "for source in sources1:\n",
    "    filename = WORKDIR + source + EXT\n",
    "    df_t = pd.read_csv(filename, usecols=[1,2,3,4,5,6], index_col=0, parse_dates=True, dayfirst=True)\n",
    "    dfLista = dfLista.join(df_t.close,how='outer',rsuffix='_'+source)\n",
    "    \n",
    "dfLista.columns = ticker2"
   ]
  },
  {
   "cell_type": "code",
   "execution_count": 902,
   "metadata": {
    "ExecuteTime": {
     "end_time": "2019-05-06T21:21:08.559519Z",
     "start_time": "2019-05-06T21:21:08.412143Z"
    }
   },
   "outputs": [],
   "source": [
    "df100 = pd.DataFrame()\n",
    "df100 = dfLista.copy()"
   ]
  },
  {
   "cell_type": "code",
   "execution_count": 908,
   "metadata": {
    "ExecuteTime": {
     "end_time": "2019-05-06T21:22:05.303315Z",
     "start_time": "2019-05-06T21:22:04.742360Z"
    }
   },
   "outputs": [
    {
     "data": {
      "text/plain": [
       "<matplotlib.axes._subplots.AxesSubplot at 0x130f1e6a0>"
      ]
     },
     "execution_count": 908,
     "metadata": {},
     "output_type": "execute_result"
    },
    {
     "data": {
      "image/png": "[encoded data removed]",
      "text/plain": [
       "<Figure size 432x288 with 1 Axes>"
      ]
     },
     "metadata": {},
     "output_type": "display_data"
    }
   ],
   "source": [
    "df100.ibtm.plot()"
   ]
  },
  {
   "cell_type": "markdown",
   "metadata": {},
   "source": [
    "#### Correzione SMEA"
   ]
  },
  {
   "cell_type": "code",
   "execution_count": 909,
   "metadata": {
    "ExecuteTime": {
     "end_time": "2019-05-06T21:22:13.960238Z",
     "start_time": "2019-05-06T21:22:13.773183Z"
    }
   },
   "outputs": [
    {
     "data": {
      "text/plain": [
       "Timestamp('2018-11-22 00:00:00')"
      ]
     },
     "execution_count": 909,
     "metadata": {},
     "output_type": "execute_result"
    }
   ],
   "source": [
    "df100.ibtm.idxmin()"
   ]
  },
  {
   "cell_type": "code",
   "execution_count": 916,
   "metadata": {
    "ExecuteTime": {
     "end_time": "2019-05-06T21:23:01.724355Z",
     "start_time": "2019-05-06T21:23:01.600784Z"
    }
   },
   "outputs": [],
   "source": [
    "df100.ibtm.loc['2018-11-22']=df100.ibtm.loc['2018-11-21']"
   ]
  },
  {
   "cell_type": "markdown",
   "metadata": {},
   "source": [
    "### Pulizia dati (NaN)"
   ]
  },
  {
   "cell_type": "code",
   "execution_count": 917,
   "metadata": {
    "ExecuteTime": {
     "end_time": "2019-05-06T21:23:03.270108Z",
     "start_time": "2019-05-06T21:23:03.142672Z"
    }
   },
   "outputs": [
    {
     "name": "stdout",
     "output_type": "stream",
     "text": [
      "First valid index for column imeu is at 2010-03-17 00:00:00\n",
      "First valid index for column ceu is at 2010-05-26 00:00:00\n",
      "First valid index for column smea is at 2007-03-20 00:00:00\n",
      "First valid index for column iusa is at 2007-03-20 00:00:00\n",
      "First valid index for column csspx is at 2008-03-18 00:00:00\n",
      "First valid index for column phau is at 2004-05-11 00:00:00\n",
      "First valid index for column ibtm is at 2010-02-11 00:00:00\n",
      "First valid index for column ibgm is at 2007-06-20 00:00:00\n"
     ]
    }
   ],
   "source": [
    "for col_name, data in df100.items(): \n",
    "    print(\"First valid index for column {} is at {}\".format(col_name, data.first_valid_index()))"
   ]
  },
  {
   "cell_type": "code",
   "execution_count": 918,
   "metadata": {
    "ExecuteTime": {
     "end_time": "2019-05-06T21:23:05.686362Z",
     "start_time": "2019-05-06T21:23:05.572839Z"
    }
   },
   "outputs": [],
   "source": [
    "# prima data valida \n",
    "df101 = df100[df100.index >= '2010-05-26']\n",
    "\n",
    "# back-fill i NaN\n",
    "df102 = df101.fillna(method='bfill')\n",
    "\n",
    "# test con interpolate\n",
    "# df102 = df101.interpolate(method='pad')"
   ]
  },
  {
   "cell_type": "code",
   "execution_count": 919,
   "metadata": {
    "ExecuteTime": {
     "end_time": "2019-05-06T21:23:07.359890Z",
     "start_time": "2019-05-06T21:23:06.574915Z"
    }
   },
   "outputs": [
    {
     "data": {
      "text/plain": [
       "<matplotlib.axes._subplots.AxesSubplot at 0x12edc6320>"
      ]
     },
     "execution_count": 919,
     "metadata": {},
     "output_type": "execute_result"
    },
    {
     "data": {
      "image/png": "[encoded data removed]",
      "text/plain": [
       "<Figure size 432x288 with 1 Axes>"
      ]
     },
     "metadata": {},
     "output_type": "display_data"
    }
   ],
   "source": [
    "# Normalizzo e plotto\n",
    "\n",
    "# ndf100 = (df100-df100.min())/(df100.max()-df100.min())\n",
    "norm_df102 = df102/df102.iloc[0]\n",
    "norm_df102.plot()"
   ]
  },
  {
   "cell_type": "markdown",
   "metadata": {},
   "source": [
    "### sampling alla settimana (df200)\n",
    "Per farlo aggiungo il weekday come colonna"
   ]
  },
  {
   "cell_type": "code",
   "execution_count": 816,
   "metadata": {
    "ExecuteTime": {
     "end_time": "2019-05-06T18:23:45.719379Z",
     "start_time": "2019-05-06T18:23:45.634645Z"
    }
   },
   "outputs": [],
   "source": [
    "df103 = df102.copy()\n",
    "df103['weekday'] = df103.index.weekday_name"
   ]
  },
  {
   "cell_type": "code",
   "execution_count": 817,
   "metadata": {
    "ExecuteTime": {
     "end_time": "2019-05-06T18:23:46.987580Z",
     "start_time": "2019-05-06T18:23:46.866806Z"
    }
   },
   "outputs": [],
   "source": [
    "# l'offset serve per allineare la data ai venerdì in cui prende il campione\n",
    "df200 = df103.resample('W',loffset=pd.offsets.timedelta(days=-2)).last()\n",
    "\n",
    "# droppo la colonna weekday per normalizzare\n",
    "df200 = df200.drop(columns='weekday')\n",
    "\n",
    "# normalizzo e plotto\n",
    "\n",
    "norm_df200 = df200/df200.iloc[0]\n",
    "#norm_df200.plot()"
   ]
  },
  {
   "cell_type": "code",
   "execution_count": 818,
   "metadata": {
    "ExecuteTime": {
     "end_time": "2019-05-06T18:23:48.767571Z",
     "start_time": "2019-05-06T18:23:48.051510Z"
    }
   },
   "outputs": [
    {
     "data": {
      "image/png": "[encoded data removed]",
      "text/plain": [
       "<Figure size 1008x720 with 1 Axes>"
      ]
     },
     "metadata": {},
     "output_type": "display_data"
    }
   ],
   "source": [
    "from matplotlib import patheffects\n",
    "fig2 = plt.figure(figsize=(14,10))\n",
    "plt.plot(norm_df200)\n",
    "\n",
    "title_text_obj = plt.title(\"Historical Performance Normalized\", fontsize = 18,\n",
    "                          verticalalignment = 'bottom')\n",
    "title_text_obj.set_path_effects([patheffects.withSimplePatchShadow()])\n",
    "pe = patheffects.withSimplePatchShadow(offset = (1, -1), shadow_rgbFace = (1,0,0),\n",
    "                                      alpha = 0.8)\n",
    "xlabel_obj = plt.xlabel('Dates', fontsize = 16)\n",
    "ylabel_obj = plt.ylabel('Asset Price Evolution', fontsize = 16)\n",
    "# ('ceu', 'csspx', 'ibgm', 'ibtm', 'imeu', 'iusa', 'smea', 'phau')\n",
    "plt.legend((norm_df200.columns),loc='center left', bbox_to_anchor=(1.0, 0.5),fontsize=16)\n",
    "plt.show()\n",
    "#fig2.savefig('norm_prices.png',dpi=fig2.dpi);"
   ]
  },
  {
   "cell_type": "markdown",
   "metadata": {},
   "source": [
    "### Returns"
   ]
  },
  {
   "cell_type": "code",
   "execution_count": 819,
   "metadata": {
    "ExecuteTime": {
     "end_time": "2019-05-06T18:23:51.522487Z",
     "start_time": "2019-05-06T18:23:51.450542Z"
    }
   },
   "outputs": [],
   "source": [
    "returns = np.log(df200/df200.shift(1))\n",
    "returns.dropna(inplace=True)"
   ]
  },
  {
   "cell_type": "code",
   "execution_count": 820,
   "metadata": {
    "ExecuteTime": {
     "end_time": "2019-05-06T18:23:52.371656Z",
     "start_time": "2019-05-06T18:23:52.244383Z"
    }
   },
   "outputs": [
    {
     "name": "stdout",
     "output_type": "stream",
     "text": [
      "----------------------------------------------------------------------------------\n",
      "Assets Classes Annualized Statistics — full observation period\n"
     ]
    },
    {
     "data": {
      "text/html": [
       "<style  type=\"text/css\" >\n",
       "    #T_19b2cfdc_702c_11e9_abe0_001cb3bd83e3row0_col0 {\n",
       "            width:  10em;\n",
       "             height:  80%;\n",
       "            background:  linear-gradient(90deg, transparent 0%, transparent 50%, green 50%, green 79.4%, transparent 79.4%);\n",
       "        }    #T_19b2cfdc_702c_11e9_abe0_001cb3bd83e3row0_col1 {\n",
       "            width:  10em;\n",
       "             height:  80%;\n",
       "            background:  linear-gradient(90deg, transparent 0%, transparent 50%, green 50%, green 99.4%, transparent 99.4%);\n",
       "        }    #T_19b2cfdc_702c_11e9_abe0_001cb3bd83e3row0_col2 {\n",
       "            width:  10em;\n",
       "             height:  80%;\n",
       "            background:  linear-gradient(90deg, transparent 0%, transparent 50%, green 50%, green 78.2%, transparent 78.2%);\n",
       "        }    #T_19b2cfdc_702c_11e9_abe0_001cb3bd83e3row1_col0 {\n",
       "            width:  10em;\n",
       "             height:  80%;\n",
       "            background:  linear-gradient(90deg, transparent 0%, transparent 50%, green 50%, green 100.0%, transparent 100.0%);\n",
       "        }    #T_19b2cfdc_702c_11e9_abe0_001cb3bd83e3row1_col1 {\n",
       "            width:  10em;\n",
       "             height:  80%;\n",
       "            background:  linear-gradient(90deg, transparent 0%, transparent 50%, green 50%, green 97.4%, transparent 97.4%);\n",
       "        }    #T_19b2cfdc_702c_11e9_abe0_001cb3bd83e3row1_col2 {\n",
       "            width:  10em;\n",
       "             height:  80%;\n",
       "            background:  linear-gradient(90deg, transparent 0%, transparent 50%, green 50%, green 100.0%, transparent 100.0%);\n",
       "        }    #T_19b2cfdc_702c_11e9_abe0_001cb3bd83e3row2_col0 {\n",
       "            width:  10em;\n",
       "             height:  80%;\n",
       "            background:  linear-gradient(90deg, transparent 0%, transparent 50%, green 50%, green 62.3%, transparent 62.3%);\n",
       "        }    #T_19b2cfdc_702c_11e9_abe0_001cb3bd83e3row2_col1 {\n",
       "            width:  10em;\n",
       "             height:  80%;\n",
       "            background:  linear-gradient(90deg, transparent 0%, transparent 50%, green 50%, green 65.3%, transparent 65.3%);\n",
       "        }    #T_19b2cfdc_702c_11e9_abe0_001cb3bd83e3row2_col2 {\n",
       "            width:  10em;\n",
       "             height:  80%;\n",
       "            background:  linear-gradient(90deg, transparent 0%, transparent 50%, green 50%, green 88.1%, transparent 88.1%);\n",
       "        }    #T_19b2cfdc_702c_11e9_abe0_001cb3bd83e3row3_col0 {\n",
       "            width:  10em;\n",
       "             height:  80%;\n",
       "            background:  linear-gradient(90deg, transparent 0%, transparent 50%, green 50%, green 59.4%, transparent 59.4%);\n",
       "        }    #T_19b2cfdc_702c_11e9_abe0_001cb3bd83e3row3_col1 {\n",
       "            width:  10em;\n",
       "             height:  80%;\n",
       "            background:  linear-gradient(90deg, transparent 0%, transparent 50%, green 50%, green 84.4%, transparent 84.4%);\n",
       "        }    #T_19b2cfdc_702c_11e9_abe0_001cb3bd83e3row3_col2 {\n",
       "            width:  10em;\n",
       "             height:  80%;\n",
       "            background:  linear-gradient(90deg, transparent 0%, transparent 50%, green 50%, green 62.9%, transparent 62.9%);\n",
       "        }    #T_19b2cfdc_702c_11e9_abe0_001cb3bd83e3row4_col0 {\n",
       "            width:  10em;\n",
       "             height:  80%;\n",
       "            background:  linear-gradient(90deg, transparent 0%, transparent 50%, green 50%, green 68.2%, transparent 68.2%);\n",
       "        }    #T_19b2cfdc_702c_11e9_abe0_001cb3bd83e3row4_col1 {\n",
       "            width:  10em;\n",
       "             height:  80%;\n",
       "            background:  linear-gradient(90deg, transparent 0%, transparent 50%, green 50%, green 99.6%, transparent 99.6%);\n",
       "        }    #T_19b2cfdc_702c_11e9_abe0_001cb3bd83e3row4_col2 {\n",
       "            width:  10em;\n",
       "             height:  80%;\n",
       "            background:  linear-gradient(90deg, transparent 0%, transparent 50%, green 50%, green 67.4%, transparent 67.4%);\n",
       "        }    #T_19b2cfdc_702c_11e9_abe0_001cb3bd83e3row5_col0 {\n",
       "            width:  10em;\n",
       "             height:  80%;\n",
       "            background:  linear-gradient(90deg, transparent 0%, transparent 50%, green 50%, green 94.1%, transparent 94.1%);\n",
       "        }    #T_19b2cfdc_702c_11e9_abe0_001cb3bd83e3row5_col1 {\n",
       "            width:  10em;\n",
       "             height:  80%;\n",
       "            background:  linear-gradient(90deg, transparent 0%, transparent 50%, green 50%, green 98.1%, transparent 98.1%);\n",
       "        }    #T_19b2cfdc_702c_11e9_abe0_001cb3bd83e3row5_col2 {\n",
       "            width:  10em;\n",
       "             height:  80%;\n",
       "            background:  linear-gradient(90deg, transparent 0%, transparent 50%, green 50%, green 93.4%, transparent 93.4%);\n",
       "        }    #T_19b2cfdc_702c_11e9_abe0_001cb3bd83e3row6_col0 {\n",
       "            width:  10em;\n",
       "             height:  80%;\n",
       "            background:  linear-gradient(90deg, transparent 0%, transparent 50%, green 50%, green 78.6%, transparent 78.6%);\n",
       "        }    #T_19b2cfdc_702c_11e9_abe0_001cb3bd83e3row6_col1 {\n",
       "            width:  10em;\n",
       "             height:  80%;\n",
       "            background:  linear-gradient(90deg, transparent 0%, transparent 50%, green 50%, green 100.0%, transparent 100.0%);\n",
       "        }    #T_19b2cfdc_702c_11e9_abe0_001cb3bd83e3row6_col2 {\n",
       "            width:  10em;\n",
       "             height:  80%;\n",
       "            background:  linear-gradient(90deg, transparent 0%, transparent 50%, green 50%, green 77.1%, transparent 77.1%);\n",
       "        }    #T_19b2cfdc_702c_11e9_abe0_001cb3bd83e3row7_col0 {\n",
       "            width:  10em;\n",
       "             height:  80%;\n",
       "            background:  linear-gradient(90deg, transparent 0%, transparent 50%, green 50%, green 55.3%, transparent 55.3%);\n",
       "        }    #T_19b2cfdc_702c_11e9_abe0_001cb3bd83e3row7_col1 {\n",
       "            width:  10em;\n",
       "             height:  80%;\n",
       "            background:  linear-gradient(90deg, transparent 0%, transparent 50%, green 50%, green 97.2%, transparent 97.2%);\n",
       "        }    #T_19b2cfdc_702c_11e9_abe0_001cb3bd83e3row7_col2 {\n",
       "            width:  10em;\n",
       "             height:  80%;\n",
       "            background:  linear-gradient(90deg, transparent 0%, transparent 50%, green 50%, green 55.3%, transparent 55.3%);\n",
       "        }</style>  \n",
       "<table id=\"T_19b2cfdc_702c_11e9_abe0_001cb3bd83e3\" > \n",
       "<thead>    <tr> \n",
       "        <th class=\"blank level0\" ></th> \n",
       "        <th class=\"col_heading level0 col0\" >Annualized Returns(%)</th> \n",
       "        <th class=\"col_heading level0 col1\" >Annualized Volatility(%)</th> \n",
       "        <th class=\"col_heading level0 col2\" >Sharpe Ratio</th> \n",
       "    </tr></thead> \n",
       "<tbody>    <tr> \n",
       "        <th id=\"T_19b2cfdc_702c_11e9_abe0_001cb3bd83e3level0_row0\" class=\"row_heading level0 row0\" >ceu</th> \n",
       "        <td id=\"T_19b2cfdc_702c_11e9_abe0_001cb3bd83e3row0_col0\" class=\"data row0 col0\" >7.97296</td> \n",
       "        <td id=\"T_19b2cfdc_702c_11e9_abe0_001cb3bd83e3row0_col1\" class=\"data row0 col1\" >15.0754</td> \n",
       "        <td id=\"T_19b2cfdc_702c_11e9_abe0_001cb3bd83e3row0_col2\" class=\"data row0 col2\" >0.528871</td> \n",
       "    </tr>    <tr> \n",
       "        <th id=\"T_19b2cfdc_702c_11e9_abe0_001cb3bd83e3level0_row1\" class=\"row_heading level0 row1\" >csspx</th> \n",
       "        <td id=\"T_19b2cfdc_702c_11e9_abe0_001cb3bd83e3row1_col0\" class=\"data row1 col0\" >13.5652</td> \n",
       "        <td id=\"T_19b2cfdc_702c_11e9_abe0_001cb3bd83e3row1_col1\" class=\"data row1 col1\" >14.4718</td> \n",
       "        <td id=\"T_19b2cfdc_702c_11e9_abe0_001cb3bd83e3row1_col2\" class=\"data row1 col2\" >0.937359</td> \n",
       "    </tr>    <tr> \n",
       "        <th id=\"T_19b2cfdc_702c_11e9_abe0_001cb3bd83e3level0_row2\" class=\"row_heading level0 row2\" >ibgm</th> \n",
       "        <td id=\"T_19b2cfdc_702c_11e9_abe0_001cb3bd83e3row2_col0\" class=\"data row2 col0\" >3.34527</td> \n",
       "        <td id=\"T_19b2cfdc_702c_11e9_abe0_001cb3bd83e3row2_col1\" class=\"data row2 col1\" >4.68334</td> \n",
       "        <td id=\"T_19b2cfdc_702c_11e9_abe0_001cb3bd83e3row2_col2\" class=\"data row2 col2\" >0.714291</td> \n",
       "    </tr>    <tr> \n",
       "        <th id=\"T_19b2cfdc_702c_11e9_abe0_001cb3bd83e3level0_row3\" class=\"row_heading level0 row3\" >ibtm</th> \n",
       "        <td id=\"T_19b2cfdc_702c_11e9_abe0_001cb3bd83e3row3_col0\" class=\"data row3 col0\" >2.54402</td> \n",
       "        <td id=\"T_19b2cfdc_702c_11e9_abe0_001cb3bd83e3row3_col1\" class=\"data row3 col1\" >10.5114</td> \n",
       "        <td id=\"T_19b2cfdc_702c_11e9_abe0_001cb3bd83e3row3_col2\" class=\"data row3 col2\" >0.242026</td> \n",
       "    </tr>    <tr> \n",
       "        <th id=\"T_19b2cfdc_702c_11e9_abe0_001cb3bd83e3level0_row4\" class=\"row_heading level0 row4\" >imeu</th> \n",
       "        <td id=\"T_19b2cfdc_702c_11e9_abe0_001cb3bd83e3row4_col0\" class=\"data row4 col0\" >4.92916</td> \n",
       "        <td id=\"T_19b2cfdc_702c_11e9_abe0_001cb3bd83e3row4_col1\" class=\"data row4 col1\" >15.1246</td> \n",
       "        <td id=\"T_19b2cfdc_702c_11e9_abe0_001cb3bd83e3row4_col2\" class=\"data row4 col2\" >0.325904</td> \n",
       "    </tr>    <tr> \n",
       "        <th id=\"T_19b2cfdc_702c_11e9_abe0_001cb3bd83e3level0_row5\" class=\"row_heading level0 row5\" >iusa</th> \n",
       "        <td id=\"T_19b2cfdc_702c_11e9_abe0_001cb3bd83e3row5_col0\" class=\"data row5 col0\" >11.9572</td> \n",
       "        <td id=\"T_19b2cfdc_702c_11e9_abe0_001cb3bd83e3row5_col1\" class=\"data row5 col1\" >14.6949</td> \n",
       "        <td id=\"T_19b2cfdc_702c_11e9_abe0_001cb3bd83e3row5_col2\" class=\"data row5 col2\" >0.813701</td> \n",
       "    </tr>    <tr> \n",
       "        <th id=\"T_19b2cfdc_702c_11e9_abe0_001cb3bd83e3level0_row6\" class=\"row_heading level0 row6\" >smea</th> \n",
       "        <td id=\"T_19b2cfdc_702c_11e9_abe0_001cb3bd83e3row6_col0\" class=\"data row6 col0\" >7.76672</td> \n",
       "        <td id=\"T_19b2cfdc_702c_11e9_abe0_001cb3bd83e3row6_col1\" class=\"data row6 col1\" >15.2608</td> \n",
       "        <td id=\"T_19b2cfdc_702c_11e9_abe0_001cb3bd83e3row6_col2\" class=\"data row6 col2\" >0.508931</td> \n",
       "    </tr>    <tr> \n",
       "        <th id=\"T_19b2cfdc_702c_11e9_abe0_001cb3bd83e3level0_row7\" class=\"row_heading level0 row7\" >phau</th> \n",
       "        <td id=\"T_19b2cfdc_702c_11e9_abe0_001cb3bd83e3row7_col0\" class=\"data row7 col0\" >1.44166</td> \n",
       "        <td id=\"T_19b2cfdc_702c_11e9_abe0_001cb3bd83e3row7_col1\" class=\"data row7 col1\" >14.4071</td> \n",
       "        <td id=\"T_19b2cfdc_702c_11e9_abe0_001cb3bd83e3row7_col2\" class=\"data row7 col2\" >0.100066</td> \n",
       "    </tr></tbody> \n",
       "</table> "
      ],
      "text/plain": [
       "<pandas.io.formats.style.Styler at 0x121973470>"
      ]
     },
     "execution_count": 820,
     "metadata": {},
     "output_type": "execute_result"
    }
   ],
   "source": [
    "PERIODS = 52\n",
    "stats = pd.DataFrame()\n",
    "stats['Annualized Returns(%)'] = returns.mean() * PERIODS *100\n",
    "stats['Annualized Volatility(%)'] = returns.std() * np.sqrt(PERIODS)*100\n",
    "stats['Sharpe Ratio'] = stats['Annualized Returns(%)'] /stats['Annualized Volatility(%)']\n",
    "print(82*'-')\n",
    "print('Assets Classes Annualized Statistics — full observation period')\n",
    "stats.style.bar(color=['red','green'], align='zero')"
   ]
  },
  {
   "cell_type": "code",
   "execution_count": 821,
   "metadata": {
    "ExecuteTime": {
     "end_time": "2019-05-06T18:23:54.583509Z",
     "start_time": "2019-05-06T18:23:53.691138Z"
    }
   },
   "outputs": [
    {
     "data": {
      "image/png": "[encoded data removed]",
      "text/plain": [
       "<Figure size 1008x720 with 1 Axes>"
      ]
     },
     "metadata": {},
     "output_type": "display_data"
    }
   ],
   "source": [
    "fig4 = plt.figure(figsize=(14,10))\n",
    "sns.distplot(returns['ibtm'])\n",
    "sns.distplot(returns['ibgm'])\n",
    "plt.legend(('ibtm','ibgm'),fontsize = 12)\n",
    "plt.show()\n"
   ]
  },
  {
   "cell_type": "markdown",
   "metadata": {},
   "source": [
    "## Portfolio allocation(s)"
   ]
  },
  {
   "cell_type": "code",
   "execution_count": 822,
   "metadata": {
    "ExecuteTime": {
     "end_time": "2019-05-06T18:23:57.061692Z",
     "start_time": "2019-05-06T18:23:56.979160Z"
    },
    "scrolled": true
   },
   "outputs": [
    {
     "data": {
      "text/html": [
       "<div>\n",
       "<style scoped>\n",
       "    .dataframe tbody tr th:only-of-type {\n",
       "        vertical-align: middle;\n",
       "    }\n",
       "\n",
       "    .dataframe tbody tr th {\n",
       "        vertical-align: top;\n",
       "    }\n",
       "\n",
       "    .dataframe thead th {\n",
       "        text-align: right;\n",
       "    }\n",
       "</style>\n",
       "<table border=\"1\" class=\"dataframe\">\n",
       "  <thead>\n",
       "    <tr style=\"text-align: right;\">\n",
       "      <th></th>\n",
       "      <th>one</th>\n",
       "      <th>two</th>\n",
       "    </tr>\n",
       "  </thead>\n",
       "  <tbody>\n",
       "    <tr>\n",
       "      <th>ceu</th>\n",
       "      <td>0.0</td>\n",
       "      <td>0.0</td>\n",
       "    </tr>\n",
       "    <tr>\n",
       "      <th>csspx</th>\n",
       "      <td>0.0</td>\n",
       "      <td>0.0</td>\n",
       "    </tr>\n",
       "    <tr>\n",
       "      <th>ibgm</th>\n",
       "      <td>0.2</td>\n",
       "      <td>0.2</td>\n",
       "    </tr>\n",
       "    <tr>\n",
       "      <th>ibtm</th>\n",
       "      <td>0.2</td>\n",
       "      <td>0.3</td>\n",
       "    </tr>\n",
       "    <tr>\n",
       "      <th>imeu</th>\n",
       "      <td>0.0</td>\n",
       "      <td>0.0</td>\n",
       "    </tr>\n",
       "    <tr>\n",
       "      <th>iusa</th>\n",
       "      <td>0.3</td>\n",
       "      <td>0.2</td>\n",
       "    </tr>\n",
       "    <tr>\n",
       "      <th>smea</th>\n",
       "      <td>0.2</td>\n",
       "      <td>0.2</td>\n",
       "    </tr>\n",
       "    <tr>\n",
       "      <th>phau</th>\n",
       "      <td>0.1</td>\n",
       "      <td>0.1</td>\n",
       "    </tr>\n",
       "  </tbody>\n",
       "</table>\n",
       "</div>"
      ],
      "text/plain": [
       "       one  two\n",
       "ceu    0.0  0.0\n",
       "csspx  0.0  0.0\n",
       "ibgm   0.2  0.2\n",
       "ibtm   0.2  0.3\n",
       "imeu   0.0  0.0\n",
       "iusa   0.3  0.2\n",
       "smea   0.2  0.2\n",
       "phau   0.1  0.1"
      ]
     },
     "execution_count": 822,
     "metadata": {},
     "output_type": "execute_result"
    }
   ],
   "source": [
    "allocation = pd.DataFrame(data =[[0,0],[0,0],[.2,.2],[.2,.3],[0,0],[.3,.2],[.2,.2],[.1,.1]],\n",
    "                          index=['ceu', 'csspx', 'ibgm', 'ibtm', 'imeu', 'iusa', 'smea', 'phau'],\n",
    "                         columns =['one','two'])\n",
    "allocation"
   ]
  },
  {
   "cell_type": "code",
   "execution_count": 823,
   "metadata": {
    "ExecuteTime": {
     "end_time": "2019-05-06T18:23:59.691872Z",
     "start_time": "2019-05-06T18:23:59.627370Z"
    }
   },
   "outputs": [],
   "source": [
    "norm_df201 = norm_df200.copy()"
   ]
  },
  {
   "cell_type": "code",
   "execution_count": 824,
   "metadata": {
    "ExecuteTime": {
     "end_time": "2019-05-06T18:24:00.571926Z",
     "start_time": "2019-05-06T18:24:00.490972Z"
    }
   },
   "outputs": [],
   "source": [
    "norm_df201['one'] = norm_df200.mul(allocation.one.values,axis=1).sum(axis=1)\n",
    "norm_df201['two'] = norm_df200.mul(allocation.two.values,axis=1).sum(axis=1)"
   ]
  },
  {
   "cell_type": "code",
   "execution_count": 825,
   "metadata": {
    "ExecuteTime": {
     "end_time": "2019-05-06T18:24:02.817316Z",
     "start_time": "2019-05-06T18:24:01.923274Z"
    }
   },
   "outputs": [
    {
     "data": {
      "text/plain": [
       "<matplotlib.legend.Legend at 0x132de4198>"
      ]
     },
     "execution_count": 825,
     "metadata": {},
     "output_type": "execute_result"
    },
    {
     "data": {
      "image/png": "[encoded data removed]",
      "text/plain": [
       "<Figure size 1008x720 with 1 Axes>"
      ]
     },
     "metadata": {},
     "output_type": "display_data"
    }
   ],
   "source": [
    "norm_df201.one.plot(figsize=(14,10))\n",
    "norm_df201.two.plot()\n",
    "norm_df201.csspx.plot()\n",
    "plt.legend()\n"
   ]
  },
  {
   "cell_type": "code",
   "execution_count": null,
   "metadata": {},
   "outputs": [],
   "source": []
  },
  {
   "cell_type": "markdown",
   "metadata": {},
   "source": [
    "# TESTs"
   ]
  },
  {
   "cell_type": "code",
   "execution_count": null,
   "metadata": {},
   "outputs": [],
   "source": [
    "datos_returns = np.log(datos/datos.shift(1))\n",
    "datos_returns.dropna(inplace=True)\n",
    "stats = pd.DataFrame()\n",
    "stats[‘Annualized Returns(%)’] =datos_returns.mean() * semana *100\n",
    "stats[‘Annualized Volatility(%)’] = datos_returns.std() * np.sqrt(semana)*100\n",
    "stats[‘Sharpe Ratio’] = stats[‘Annualized Returns(%)’] /stats[‘Annualized Volatility(%)’]\n",
    "print(82*’-’)\n",
    "print(‘Assets Classes Annualized Statistics — full observation period’)\n",
    "stats.style.bar(color=[‘red’,’green’], align=’zero’)"
   ]
  },
  {
   "cell_type": "code",
   "execution_count": 54,
   "metadata": {
    "ExecuteTime": {
     "end_time": "2019-04-27T09:19:54.658179Z",
     "start_time": "2019-04-27T09:19:54.590805Z"
    }
   },
   "outputs": [],
   "source": [
    "\n"
   ]
  },
  {
   "cell_type": "code",
   "execution_count": 491,
   "metadata": {
    "ExecuteTime": {
     "end_time": "2019-05-03T19:18:15.915068Z",
     "start_time": "2019-05-03T19:18:14.970775Z"
    }
   },
   "outputs": [
    {
     "data": {
      "image/png": "[encoded data removed]",
      "text/plain": [
       "<Figure size 432x288 with 1 Axes>"
      ]
     },
     "metadata": {
      "needs_background": "light"
     },
     "output_type": "display_data"
    }
   ],
   "source": [
    "f = plt.figure()\n",
    "plt.title('Title here!', color='black')\n",
    "dfLista.ceu.plot(kind='line', ax=f.gca())\n",
    "dfLista.imeu.plot(kind='line', ax=f.gca())\n",
    "plt.legend(loc='center left', bbox_to_anchor=(1.0, 0.5))\n",
    "plt.show()\n",
    "\n"
   ]
  },
  {
   "cell_type": "code",
   "execution_count": 55,
   "metadata": {
    "ExecuteTime": {
     "end_time": "2019-04-27T09:20:05.830819Z",
     "start_time": "2019-04-27T09:19:59.577171Z"
    }
   },
   "outputs": [],
   "source": [
    "z.loc[mask,'end_date'] = z[mask].apply(lambda x: correct_end_date(x['ticker'],x['isin']), axis=1)"
   ]
  },
  {
   "cell_type": "code",
   "execution_count": 57,
   "metadata": {
    "ExecuteTime": {
     "end_time": "2019-04-27T09:20:26.300972Z",
     "start_time": "2019-04-27T09:20:26.198594Z"
    }
   },
   "outputs": [
    {
     "data": {
      "text/html": [
       "<div>\n",
       "<style scoped>\n",
       "    .dataframe tbody tr th:only-of-type {\n",
       "        vertical-align: middle;\n",
       "    }\n",
       "\n",
       "    .dataframe tbody tr th {\n",
       "        vertical-align: top;\n",
       "    }\n",
       "\n",
       "    .dataframe thead th {\n",
       "        text-align: right;\n",
       "    }\n",
       "</style>\n",
       "<table border=\"1\" class=\"dataframe\">\n",
       "  <thead>\n",
       "    <tr style=\"text-align: right;\">\n",
       "      <th></th>\n",
       "      <th>isin</th>\n",
       "      <th>nome</th>\n",
       "      <th>ticker</th>\n",
       "      <th>benchmark</th>\n",
       "      <th>ter</th>\n",
       "      <th>areaBenchmark</th>\n",
       "      <th>emittente</th>\n",
       "      <th>start_date</th>\n",
       "      <th>end_date</th>\n",
       "      <th>vol_avg</th>\n",
       "    </tr>\n",
       "    <tr>\n",
       "      <th>N.</th>\n",
       "      <th></th>\n",
       "      <th></th>\n",
       "      <th></th>\n",
       "      <th></th>\n",
       "      <th></th>\n",
       "      <th></th>\n",
       "      <th></th>\n",
       "      <th></th>\n",
       "      <th></th>\n",
       "      <th></th>\n",
       "    </tr>\n",
       "  </thead>\n",
       "  <tbody>\n",
       "    <tr>\n",
       "      <th>557</th>\n",
       "      <td>LU1437024992</td>\n",
       "      <td>AMUNDI MSCI BRAZIL UCITS ETF</td>\n",
       "      <td>BRZ.MI</td>\n",
       "      <td>MSCI BRAZIL INDEX</td>\n",
       "      <td>0.0055</td>\n",
       "      <td>AZIONARIO EMERGENTI - CENTRO/SUD AMERICA</td>\n",
       "      <td>AMUNDI</td>\n",
       "      <td>2010-04-19</td>\n",
       "      <td>2019-04-04</td>\n",
       "      <td>12135.0</td>\n",
       "    </tr>\n",
       "    <tr>\n",
       "      <th>173</th>\n",
       "      <td>IE00B52SF786</td>\n",
       "      <td>ISHARES MSCI CANADA UCITS ETF USD ACC</td>\n",
       "      <td>CSCA.MI</td>\n",
       "      <td>MSCI CANADA TRN</td>\n",
       "      <td>0.0048</td>\n",
       "      <td>AZIONARIO NORD AMERICA</td>\n",
       "      <td>ISHARES</td>\n",
       "      <td>2010-03-17</td>\n",
       "      <td>2016-01-14</td>\n",
       "      <td>2702.0</td>\n",
       "    </tr>\n",
       "    <tr>\n",
       "      <th>220</th>\n",
       "      <td>IE00B5L8K969</td>\n",
       "      <td>ISHARES MSCI EM ASIA UCITS ETF USD ACC</td>\n",
       "      <td>CSEMAS.MI</td>\n",
       "      <td>MSCI EM ASIA TRN INDEX</td>\n",
       "      <td>0.0065</td>\n",
       "      <td>AZIONARIO EMERGENTI - ASIA</td>\n",
       "      <td>ISHARES</td>\n",
       "      <td>2010-09-17</td>\n",
       "      <td>2016-01-12</td>\n",
       "      <td>5152.0</td>\n",
       "    </tr>\n",
       "    <tr>\n",
       "      <th>170</th>\n",
       "      <td>IE00B53QG562</td>\n",
       "      <td>ISHARESCOREMSCIEMU(ACC) UCITS ETF</td>\n",
       "      <td>CSEMU.MI</td>\n",
       "      <td>MSCI EMU TRN</td>\n",
       "      <td>0.0012</td>\n",
       "      <td>AZIONARIO EUROPA - AREA</td>\n",
       "      <td>ISHARES</td>\n",
       "      <td>2010-03-11</td>\n",
       "      <td>2016-01-14</td>\n",
       "      <td>1784.0</td>\n",
       "    </tr>\n",
       "    <tr>\n",
       "      <th>169</th>\n",
       "      <td>IE00B53QDK08</td>\n",
       "      <td>ISHARESMSCIJAPAN UCITS ETF</td>\n",
       "      <td>CSJP.MI</td>\n",
       "      <td>MSCI TRN JAPAN INDEX</td>\n",
       "      <td>0.0048</td>\n",
       "      <td>AZIONARIO PACIFICO</td>\n",
       "      <td>ISHARES</td>\n",
       "      <td>2010-03-16</td>\n",
       "      <td>2016-01-14</td>\n",
       "      <td>2532.0</td>\n",
       "    </tr>\n",
       "    <tr>\n",
       "      <th>165</th>\n",
       "      <td>IE00B53L4X51</td>\n",
       "      <td>ISHARES FTSE MIB UCITS ETF EUR ACC</td>\n",
       "      <td>CSMIB.MI</td>\n",
       "      <td>FTSE MIB TR</td>\n",
       "      <td>0.0033</td>\n",
       "      <td>AZIONARIO ITALIA</td>\n",
       "      <td>ISHARES</td>\n",
       "      <td>2010-03-12</td>\n",
       "      <td>2016-01-14</td>\n",
       "      <td>3555.0</td>\n",
       "    </tr>\n",
       "    <tr>\n",
       "      <th>171</th>\n",
       "      <td>IE00B53SZB19</td>\n",
       "      <td>ISHARES NASDAQ 100 UCITS ETF USD ACC</td>\n",
       "      <td>CSNDX.MI</td>\n",
       "      <td>NASDAQ 100</td>\n",
       "      <td>0.0033</td>\n",
       "      <td>AZIONARIO NORD AMERICA</td>\n",
       "      <td>ISHARES</td>\n",
       "      <td>2010-03-16</td>\n",
       "      <td>2016-01-14</td>\n",
       "      <td>1465.0</td>\n",
       "    </tr>\n",
       "    <tr>\n",
       "      <th>167</th>\n",
       "      <td>IE00B52MJY50</td>\n",
       "      <td>ISHARES CORE MSCI PAC EX-J UCITS ETF ACC</td>\n",
       "      <td>CSPXJ.MI</td>\n",
       "      <td>MSCI PACIFIC EX JAPAN TRN INDEX</td>\n",
       "      <td>0.0020</td>\n",
       "      <td>AZIONARIO PACIFICO</td>\n",
       "      <td>ISHARES</td>\n",
       "      <td>2010-03-16</td>\n",
       "      <td>2019-04-04</td>\n",
       "      <td>2911.0</td>\n",
       "    </tr>\n",
       "    <tr>\n",
       "      <th>217</th>\n",
       "      <td>IE00B5V87390</td>\n",
       "      <td>ISHARES MSCI RUSS ADR/GDR UCITS ETF ACC</td>\n",
       "      <td>CSRU.MI</td>\n",
       "      <td>MSCI RUSSIA ADR/GDR NET USD</td>\n",
       "      <td>0.0065</td>\n",
       "      <td>AZIONARIO EMERGENTI - EST EUROPA</td>\n",
       "      <td>ISHARES</td>\n",
       "      <td>2010-09-22</td>\n",
       "      <td>2016-01-14</td>\n",
       "      <td>2377.0</td>\n",
       "    </tr>\n",
       "    <tr>\n",
       "      <th>190</th>\n",
       "      <td>IE00B5BMR087</td>\n",
       "      <td>ISHARES CORE S&amp;P 500 UCITS ETF USD ACC</td>\n",
       "      <td>CSSPX.MI</td>\n",
       "      <td>S&amp;P 500 TRN USD</td>\n",
       "      <td>0.0007</td>\n",
       "      <td>AZIONARIO NORD AMERICA</td>\n",
       "      <td>ISHARES</td>\n",
       "      <td>2010-05-26</td>\n",
       "      <td>2019-04-04</td>\n",
       "      <td>4856.0</td>\n",
       "    </tr>\n",
       "    <tr>\n",
       "      <th>164</th>\n",
       "      <td>IE00B53L3W79</td>\n",
       "      <td>ISHARES CORE EURO STOXX 50 UCITS ETF ACC</td>\n",
       "      <td>CSSX5E.MI</td>\n",
       "      <td>EURO STOXX 50 TRN</td>\n",
       "      <td>0.0010</td>\n",
       "      <td>AZIONARIO EUROPA - AREA</td>\n",
       "      <td>ISHARES</td>\n",
       "      <td>2010-03-11</td>\n",
       "      <td>2016-01-14</td>\n",
       "      <td>24620.0</td>\n",
       "    </tr>\n",
       "    <tr>\n",
       "      <th>172</th>\n",
       "      <td>IE00B52SFT06</td>\n",
       "      <td>ISHARES MSCI USA UCITS ETF USD ACC</td>\n",
       "      <td>CSUS.MI</td>\n",
       "      <td>MSCI TRN USA INDEX</td>\n",
       "      <td>0.0033</td>\n",
       "      <td>AZIONARIO NORD AMERICA</td>\n",
       "      <td>ISHARES</td>\n",
       "      <td>2010-05-17</td>\n",
       "      <td>2017-10-31</td>\n",
       "      <td>292.0</td>\n",
       "    </tr>\n",
       "    <tr>\n",
       "      <th>648</th>\n",
       "      <td>LU1650492173</td>\n",
       "      <td>LYXOR FTSE 100 UCITS ETF - ACC</td>\n",
       "      <td>FTS100.MI</td>\n",
       "      <td>FTSE 100 TR</td>\n",
       "      <td>0.0015</td>\n",
       "      <td>AZIONARIO EUROPA - SINGOLI PAESI</td>\n",
       "      <td>LYXOR</td>\n",
       "      <td>2008-05-08</td>\n",
       "      <td>2019-04-04</td>\n",
       "      <td>39727.0</td>\n",
       "    </tr>\n",
       "    <tr>\n",
       "      <th>491</th>\n",
       "      <td>LU1287022708</td>\n",
       "      <td>LYXOR PAN AFRICA UCITS ETF - ACC</td>\n",
       "      <td>LAFRI.MI</td>\n",
       "      <td>SGI PAN AFRICA PRICE INDEX NTR</td>\n",
       "      <td>0.0085</td>\n",
       "      <td>AZIONARIO EMERGENTI - AFRICA/MEDIO ORIENTE</td>\n",
       "      <td>LYXOR</td>\n",
       "      <td>2008-09-29</td>\n",
       "      <td>2019-04-04</td>\n",
       "      <td>4676.0</td>\n",
       "    </tr>\n",
       "    <tr>\n",
       "      <th>537</th>\n",
       "      <td>LU1407887162</td>\n",
       "      <td>LYXOR CORE IBX $ TREAS 1-3Y DR UCITS ETF</td>\n",
       "      <td>US13.MI</td>\n",
       "      <td>MARKIT IBOXX USD TREASURIES 1-3 MID PRICE TCA TRI</td>\n",
       "      <td>0.0007</td>\n",
       "      <td>TITOLI DI STATO - NON EURO</td>\n",
       "      <td>LYXOR</td>\n",
       "      <td>2011-01-17</td>\n",
       "      <td>2019-04-04</td>\n",
       "      <td>1709.0</td>\n",
       "    </tr>\n",
       "    <tr>\n",
       "      <th>538</th>\n",
       "      <td>LU1407888996</td>\n",
       "      <td>LYXOR CORE IBX $ TREAS 5-7Y DR UCITS ETF</td>\n",
       "      <td>US57.MI</td>\n",
       "      <td>MARKIT IBOXX USD TREASURIES 5-7 MID PRICE TCA TRI</td>\n",
       "      <td>0.0007</td>\n",
       "      <td>TITOLI DI STATO - NON EURO</td>\n",
       "      <td>LYXOR</td>\n",
       "      <td>2011-01-17</td>\n",
       "      <td>2019-04-04</td>\n",
       "      <td>38.0</td>\n",
       "    </tr>\n",
       "    <tr>\n",
       "      <th>771</th>\n",
       "      <td>LU0484968812</td>\n",
       "      <td>XTRACKERS II ESG EUR CORP B UCITS ETF</td>\n",
       "      <td>XB4F.MI</td>\n",
       "      <td>BLOOMBERG BARCLAYS MSCI EURO CORP SUSTAIN AND SRI</td>\n",
       "      <td>0.0025</td>\n",
       "      <td>OBBLIGAZIONARIO CORPORATE - EURO</td>\n",
       "      <td>XTRACKERS</td>\n",
       "      <td>2011-01-25</td>\n",
       "      <td>2016-08-25</td>\n",
       "      <td>83.0</td>\n",
       "    </tr>\n",
       "  </tbody>\n",
       "</table>\n",
       "</div>"
      ],
      "text/plain": [
       "             isin                                      nome     ticker  \\\n",
       "N.                                                                       \n",
       "557  LU1437024992              AMUNDI MSCI BRAZIL UCITS ETF     BRZ.MI   \n",
       "173  IE00B52SF786     ISHARES MSCI CANADA UCITS ETF USD ACC    CSCA.MI   \n",
       "220  IE00B5L8K969    ISHARES MSCI EM ASIA UCITS ETF USD ACC  CSEMAS.MI   \n",
       "170  IE00B53QG562         ISHARESCOREMSCIEMU(ACC) UCITS ETF   CSEMU.MI   \n",
       "169  IE00B53QDK08                ISHARESMSCIJAPAN UCITS ETF    CSJP.MI   \n",
       "165  IE00B53L4X51        ISHARES FTSE MIB UCITS ETF EUR ACC   CSMIB.MI   \n",
       "171  IE00B53SZB19      ISHARES NASDAQ 100 UCITS ETF USD ACC   CSNDX.MI   \n",
       "167  IE00B52MJY50  ISHARES CORE MSCI PAC EX-J UCITS ETF ACC   CSPXJ.MI   \n",
       "217  IE00B5V87390   ISHARES MSCI RUSS ADR/GDR UCITS ETF ACC    CSRU.MI   \n",
       "190  IE00B5BMR087    ISHARES CORE S&P 500 UCITS ETF USD ACC   CSSPX.MI   \n",
       "164  IE00B53L3W79  ISHARES CORE EURO STOXX 50 UCITS ETF ACC  CSSX5E.MI   \n",
       "172  IE00B52SFT06        ISHARES MSCI USA UCITS ETF USD ACC    CSUS.MI   \n",
       "648  LU1650492173            LYXOR FTSE 100 UCITS ETF - ACC  FTS100.MI   \n",
       "491  LU1287022708          LYXOR PAN AFRICA UCITS ETF - ACC   LAFRI.MI   \n",
       "537  LU1407887162  LYXOR CORE IBX $ TREAS 1-3Y DR UCITS ETF    US13.MI   \n",
       "538  LU1407888996  LYXOR CORE IBX $ TREAS 5-7Y DR UCITS ETF    US57.MI   \n",
       "771  LU0484968812     XTRACKERS II ESG EUR CORP B UCITS ETF    XB4F.MI   \n",
       "\n",
       "                                             benchmark     ter  \\\n",
       "N.                                                               \n",
       "557                                  MSCI BRAZIL INDEX  0.0055   \n",
       "173                                    MSCI CANADA TRN  0.0048   \n",
       "220                             MSCI EM ASIA TRN INDEX  0.0065   \n",
       "170                                       MSCI EMU TRN  0.0012   \n",
       "169                               MSCI TRN JAPAN INDEX  0.0048   \n",
       "165                                        FTSE MIB TR  0.0033   \n",
       "171                                         NASDAQ 100  0.0033   \n",
       "167                    MSCI PACIFIC EX JAPAN TRN INDEX  0.0020   \n",
       "217                        MSCI RUSSIA ADR/GDR NET USD  0.0065   \n",
       "190                                    S&P 500 TRN USD  0.0007   \n",
       "164                                  EURO STOXX 50 TRN  0.0010   \n",
       "172                                 MSCI TRN USA INDEX  0.0033   \n",
       "648                                        FTSE 100 TR  0.0015   \n",
       "491                     SGI PAN AFRICA PRICE INDEX NTR  0.0085   \n",
       "537  MARKIT IBOXX USD TREASURIES 1-3 MID PRICE TCA TRI  0.0007   \n",
       "538  MARKIT IBOXX USD TREASURIES 5-7 MID PRICE TCA TRI  0.0007   \n",
       "771  BLOOMBERG BARCLAYS MSCI EURO CORP SUSTAIN AND SRI  0.0025   \n",
       "\n",
       "                                  areaBenchmark  emittente start_date  \\\n",
       "N.                                                                      \n",
       "557    AZIONARIO EMERGENTI - CENTRO/SUD AMERICA     AMUNDI 2010-04-19   \n",
       "173                      AZIONARIO NORD AMERICA    ISHARES 2010-03-17   \n",
       "220                  AZIONARIO EMERGENTI - ASIA    ISHARES 2010-09-17   \n",
       "170                     AZIONARIO EUROPA - AREA    ISHARES 2010-03-11   \n",
       "169                          AZIONARIO PACIFICO    ISHARES 2010-03-16   \n",
       "165                            AZIONARIO ITALIA    ISHARES 2010-03-12   \n",
       "171                      AZIONARIO NORD AMERICA    ISHARES 2010-03-16   \n",
       "167                          AZIONARIO PACIFICO    ISHARES 2010-03-16   \n",
       "217            AZIONARIO EMERGENTI - EST EUROPA    ISHARES 2010-09-22   \n",
       "190                      AZIONARIO NORD AMERICA    ISHARES 2010-05-26   \n",
       "164                     AZIONARIO EUROPA - AREA    ISHARES 2010-03-11   \n",
       "172                      AZIONARIO NORD AMERICA    ISHARES 2010-05-17   \n",
       "648            AZIONARIO EUROPA - SINGOLI PAESI      LYXOR 2008-05-08   \n",
       "491  AZIONARIO EMERGENTI - AFRICA/MEDIO ORIENTE      LYXOR 2008-09-29   \n",
       "537                  TITOLI DI STATO - NON EURO      LYXOR 2011-01-17   \n",
       "538                  TITOLI DI STATO - NON EURO      LYXOR 2011-01-17   \n",
       "771            OBBLIGAZIONARIO CORPORATE - EURO  XTRACKERS 2011-01-25   \n",
       "\n",
       "      end_date  vol_avg  \n",
       "N.                       \n",
       "557 2019-04-04  12135.0  \n",
       "173 2016-01-14   2702.0  \n",
       "220 2016-01-12   5152.0  \n",
       "170 2016-01-14   1784.0  \n",
       "169 2016-01-14   2532.0  \n",
       "165 2016-01-14   3555.0  \n",
       "171 2016-01-14   1465.0  \n",
       "167 2019-04-04   2911.0  \n",
       "217 2016-01-14   2377.0  \n",
       "190 2019-04-04   4856.0  \n",
       "164 2016-01-14  24620.0  \n",
       "172 2017-10-31    292.0  \n",
       "648 2019-04-04  39727.0  \n",
       "491 2019-04-04   4676.0  \n",
       "537 2019-04-04   1709.0  \n",
       "538 2019-04-04     38.0  \n",
       "771 2016-08-25     83.0  "
      ]
     },
     "execution_count": 57,
     "metadata": {},
     "output_type": "execute_result"
    }
   ],
   "source": [
    "z[mask]"
   ]
  },
  {
   "cell_type": "code",
   "execution_count": 25,
   "metadata": {
    "ExecuteTime": {
     "end_time": "2019-04-27T08:07:37.630805Z",
     "start_time": "2019-04-27T08:07:37.499445Z"
    }
   },
   "outputs": [],
   "source": [
    "def myfunc(ticker, isin):\n",
    "    return str(ticker)+str(isin)\n",
    "\n",
    "z.loc[mask,'end_date'] = z.apply(lambda x: myfunc(x['isin'],x['ticker']), axis=1)"
   ]
  },
  {
   "cell_type": "markdown",
   "metadata": {},
   "source": [
    "### Test lettura quotazioni ETF da ./csv/"
   ]
  },
  {
   "cell_type": "code",
   "execution_count": 44,
   "metadata": {
    "ExecuteTime": {
     "end_time": "2019-04-21T09:52:11.658392Z",
     "start_time": "2019-04-21T09:52:11.452558Z"
    }
   },
   "outputs": [],
   "source": [
    "tickers = ['A500.MI']"
   ]
  },
  {
   "cell_type": "code",
   "execution_count": 45,
   "metadata": {
    "ExecuteTime": {
     "end_time": "2019-04-21T09:52:13.520528Z",
     "start_time": "2019-04-21T09:52:12.912593Z"
    }
   },
   "outputs": [],
   "source": [
    "ticker_file = WORKDIR + tickers[0] + EXT\n",
    "\n",
    "#df = pd.read_csv(ticker_file, index_col=1, parse_dates=True)\n",
    "df = pd.read_csv(ticker_file, usecols=[1,2,3,4,5,6], index_col=0, parse_dates=True, dayfirst=True)"
   ]
  },
  {
   "cell_type": "code",
   "execution_count": 46,
   "metadata": {
    "ExecuteTime": {
     "end_time": "2019-04-21T09:52:14.537214Z",
     "start_time": "2019-04-21T09:52:14.448824Z"
    },
    "scrolled": true
   },
   "outputs": [
    {
     "data": {
      "text/html": [
       "<div>\n",
       "<style scoped>\n",
       "    .dataframe tbody tr th:only-of-type {\n",
       "        vertical-align: middle;\n",
       "    }\n",
       "\n",
       "    .dataframe tbody tr th {\n",
       "        vertical-align: top;\n",
       "    }\n",
       "\n",
       "    .dataframe thead th {\n",
       "        text-align: right;\n",
       "    }\n",
       "</style>\n",
       "<table border=\"1\" class=\"dataframe\">\n",
       "  <thead>\n",
       "    <tr style=\"text-align: right;\">\n",
       "      <th></th>\n",
       "      <th>open</th>\n",
       "      <th>high</th>\n",
       "      <th>low</th>\n",
       "      <th>close</th>\n",
       "      <th>volume</th>\n",
       "    </tr>\n",
       "    <tr>\n",
       "      <th>dateTime</th>\n",
       "      <th></th>\n",
       "      <th></th>\n",
       "      <th></th>\n",
       "      <th></th>\n",
       "      <th></th>\n",
       "    </tr>\n",
       "  </thead>\n",
       "  <tbody>\n",
       "    <tr>\n",
       "      <th>2010-09-09</th>\n",
       "      <td>13.645</td>\n",
       "      <td>13.645</td>\n",
       "      <td>13.645</td>\n",
       "      <td>13.645</td>\n",
       "      <td>4750</td>\n",
       "    </tr>\n",
       "    <tr>\n",
       "      <th>2010-09-13</th>\n",
       "      <td>13.710</td>\n",
       "      <td>13.725</td>\n",
       "      <td>13.710</td>\n",
       "      <td>13.725</td>\n",
       "      <td>4790</td>\n",
       "    </tr>\n",
       "    <tr>\n",
       "      <th>2010-09-14</th>\n",
       "      <td>13.670</td>\n",
       "      <td>13.680</td>\n",
       "      <td>13.595</td>\n",
       "      <td>13.595</td>\n",
       "      <td>60850</td>\n",
       "    </tr>\n",
       "    <tr>\n",
       "      <th>2010-09-20</th>\n",
       "      <td>13.630</td>\n",
       "      <td>13.645</td>\n",
       "      <td>13.630</td>\n",
       "      <td>13.645</td>\n",
       "      <td>5850</td>\n",
       "    </tr>\n",
       "    <tr>\n",
       "      <th>2010-09-21</th>\n",
       "      <td>13.645</td>\n",
       "      <td>13.650</td>\n",
       "      <td>13.640</td>\n",
       "      <td>13.650</td>\n",
       "      <td>69846</td>\n",
       "    </tr>\n",
       "  </tbody>\n",
       "</table>\n",
       "</div>"
      ],
      "text/plain": [
       "              open    high     low   close  volume\n",
       "dateTime                                          \n",
       "2010-09-09  13.645  13.645  13.645  13.645    4750\n",
       "2010-09-13  13.710  13.725  13.710  13.725    4790\n",
       "2010-09-14  13.670  13.680  13.595  13.595   60850\n",
       "2010-09-20  13.630  13.645  13.630  13.645    5850\n",
       "2010-09-21  13.645  13.650  13.640  13.650   69846"
      ]
     },
     "execution_count": 46,
     "metadata": {},
     "output_type": "execute_result"
    }
   ],
   "source": [
    "df.head()"
   ]
  },
  {
   "cell_type": "code",
   "execution_count": null,
   "metadata": {
    "ExecuteTime": {
     "end_time": "2019-04-08T21:18:17.830006Z",
     "start_time": "2019-04-08T21:18:17.755714Z"
    }
   },
   "outputs": [],
   "source": [
    "end = df.index[df.shape[0]-1]\n",
    "start = df.index[0]\n",
    "\n",
    "end - start\n",
    "end.date()\n",
    "\n",
    "np.busday_count( start.date(), end.date() )"
   ]
  },
  {
   "cell_type": "markdown",
   "metadata": {},
   "source": [
    "### correzioni"
   ]
  },
  {
   "cell_type": "code",
   "execution_count": 107,
   "metadata": {
    "ExecuteTime": {
     "end_time": "2019-04-21T15:50:13.216784Z",
     "start_time": "2019-04-21T15:50:13.139742Z"
    }
   },
   "outputs": [],
   "source": [
    "tickers = ['EUE.MI']"
   ]
  },
  {
   "cell_type": "code",
   "execution_count": 125,
   "metadata": {
    "ExecuteTime": {
     "end_time": "2019-04-21T16:36:02.314026Z",
     "start_time": "2019-04-21T16:36:01.135318Z"
    }
   },
   "outputs": [],
   "source": [
    "ticker_file = WORKDIR + tickers[0] + EXT\n",
    "\n",
    "#df = pd.read_csv(ticker_file, index_col=1, parse_dates=True)\n",
    "df = pd.read_csv(ticker_file, usecols=[1,2,3,4,5,6], index_col=0, parse_dates=True, dayfirst=True)"
   ]
  },
  {
   "cell_type": "code",
   "execution_count": 127,
   "metadata": {
    "ExecuteTime": {
     "end_time": "2019-04-21T16:36:26.288724Z",
     "start_time": "2019-04-21T16:36:26.219266Z"
    }
   },
   "outputs": [],
   "source": [
    "df.loc['2018-11-21','high'] = 31.98\n",
    "df.loc['2018-11-21','low'] = 31.69\n",
    "df.loc['2018-11-21','close'] = 31.96\n",
    "\n"
   ]
  },
  {
   "cell_type": "code",
   "execution_count": 133,
   "metadata": {
    "ExecuteTime": {
     "end_time": "2019-04-21T16:37:16.539091Z",
     "start_time": "2019-04-21T16:37:15.923507Z"
    }
   },
   "outputs": [
    {
     "data": {
      "text/plain": [
       "<matplotlib.axes._subplots.AxesSubplot at 0x11875e668>"
      ]
     },
     "execution_count": 133,
     "metadata": {},
     "output_type": "execute_result"
    },
    {
     "data": {
      "image/png": "[encoded data removed]",
      "text/plain": [
       "<Figure size 1152x720 with 1 Axes>"
      ]
     },
     "metadata": {
      "needs_background": "light"
     },
     "output_type": "display_data"
    }
   ],
   "source": [
    "df.close.plot(figsize=(16, 10))"
   ]
  },
  {
   "cell_type": "markdown",
   "metadata": {},
   "source": [
    "### apply colonne multiple"
   ]
  },
  {
   "cell_type": "code",
   "execution_count": 6,
   "metadata": {
    "ExecuteTime": {
     "end_time": "2019-04-21T09:04:07.354797Z",
     "start_time": "2019-04-21T09:04:07.088057Z"
    }
   },
   "outputs": [],
   "source": [
    "df100 = dfEtfInfo"
   ]
  },
  {
   "cell_type": "code",
   "execution_count": 7,
   "metadata": {
    "ExecuteTime": {
     "end_time": "2019-04-21T09:09:02.320020Z",
     "start_time": "2019-04-21T09:09:01.812732Z"
    }
   },
   "outputs": [],
   "source": [
    "def myfunc(isin, ticker):\n",
    "    return str(isin)+str(ticker)\n",
    "\n",
    "df100['newcolumn'] = df100.apply(lambda x: myfunc(x['isin'],x['ticker']), axis=1)"
   ]
  },
  {
   "cell_type": "code",
   "execution_count": 8,
   "metadata": {
    "ExecuteTime": {
     "end_time": "2019-04-21T09:09:07.443382Z",
     "start_time": "2019-04-21T09:09:07.347120Z"
    }
   },
   "outputs": [
    {
     "data": {
      "text/html": [
       "<div>\n",
       "<style scoped>\n",
       "    .dataframe tbody tr th:only-of-type {\n",
       "        vertical-align: middle;\n",
       "    }\n",
       "\n",
       "    .dataframe tbody tr th {\n",
       "        vertical-align: top;\n",
       "    }\n",
       "\n",
       "    .dataframe thead th {\n",
       "        text-align: right;\n",
       "    }\n",
       "</style>\n",
       "<table border=\"1\" class=\"dataframe\">\n",
       "  <thead>\n",
       "    <tr style=\"text-align: right;\">\n",
       "      <th></th>\n",
       "      <th>isin</th>\n",
       "      <th>nome</th>\n",
       "      <th>ticker</th>\n",
       "      <th>benchmark</th>\n",
       "      <th>ter</th>\n",
       "      <th>areaBenchmark</th>\n",
       "      <th>emittente</th>\n",
       "      <th>newcolumn</th>\n",
       "    </tr>\n",
       "    <tr>\n",
       "      <th>N.</th>\n",
       "      <th></th>\n",
       "      <th></th>\n",
       "      <th></th>\n",
       "      <th></th>\n",
       "      <th></th>\n",
       "      <th></th>\n",
       "      <th></th>\n",
       "      <th></th>\n",
       "    </tr>\n",
       "  </thead>\n",
       "  <tbody>\n",
       "    <tr>\n",
       "      <th>283</th>\n",
       "      <td>LU0136242590</td>\n",
       "      <td>UBS FTSE 100 UCITS ETF A-DIS</td>\n",
       "      <td>100EUA.MI</td>\n",
       "      <td>FTSE 100 TR</td>\n",
       "      <td>0.002</td>\n",
       "      <td>AZIONARIO EUROPA - SINGOLI PAESI</td>\n",
       "      <td>UBS ETF</td>\n",
       "      <td>LU0136242590100EUA.MI</td>\n",
       "    </tr>\n",
       "    <tr>\n",
       "      <th>711</th>\n",
       "      <td>LU1681049109</td>\n",
       "      <td>AMUNDI S&amp;P 500 DAILY HEDGED UCITS ETF</td>\n",
       "      <td>500H.MI</td>\n",
       "      <td>S&amp;P 500 DAILY EURO HEDGED TRN</td>\n",
       "      <td>0.0028</td>\n",
       "      <td>AZIONARIO NORD AMERICA</td>\n",
       "      <td>AMUNDI</td>\n",
       "      <td>LU1681049109500H.MI</td>\n",
       "    </tr>\n",
       "    <tr>\n",
       "      <th>710</th>\n",
       "      <td>LU1681048804</td>\n",
       "      <td>AMUNDI S&amp;P 500 EUR UCITS ETF</td>\n",
       "      <td>A500.MI</td>\n",
       "      <td>S&amp;P 500 TRN USD</td>\n",
       "      <td>0.0015</td>\n",
       "      <td>AZIONARIO NORD AMERICA</td>\n",
       "      <td>AMUNDI</td>\n",
       "      <td>LU1681048804A500.MI</td>\n",
       "    </tr>\n",
       "    <tr>\n",
       "      <th>707</th>\n",
       "      <td>LU1681046428</td>\n",
       "      <td>AMUNDI GOV HR EMTS IG 1-3 UCITS ETF EUR</td>\n",
       "      <td>AA13.MI</td>\n",
       "      <td>FTSE MTS HIGHEST-RATED EUROZONE GOV BOND 1-3Y</td>\n",
       "      <td>0.0014</td>\n",
       "      <td>TITOLI DI STATO - EURO</td>\n",
       "      <td>AMUNDI</td>\n",
       "      <td>LU1681046428AA13.MI</td>\n",
       "    </tr>\n",
       "    <tr>\n",
       "      <th>836</th>\n",
       "      <td>LU1829219556</td>\n",
       "      <td>LYXOR HIGH RAT MW GOVT 1-3Y DR UCITS ETF</td>\n",
       "      <td>AAA13.MI</td>\n",
       "      <td>FTSE MTS HIGHEST RATED MACRO WEIGT GOV 1-3 YRS...</td>\n",
       "      <td>0.00165</td>\n",
       "      <td>TITOLI DI STATO - EURO</td>\n",
       "      <td>LYXOR</td>\n",
       "      <td>LU1829219556AAA13.MI</td>\n",
       "    </tr>\n",
       "  </tbody>\n",
       "</table>\n",
       "</div>"
      ],
      "text/plain": [
       "             isin                                      nome     ticker  \\\n",
       "N.                                                                       \n",
       "283  LU0136242590              UBS FTSE 100 UCITS ETF A-DIS  100EUA.MI   \n",
       "711  LU1681049109     AMUNDI S&P 500 DAILY HEDGED UCITS ETF    500H.MI   \n",
       "710  LU1681048804              AMUNDI S&P 500 EUR UCITS ETF    A500.MI   \n",
       "707  LU1681046428   AMUNDI GOV HR EMTS IG 1-3 UCITS ETF EUR    AA13.MI   \n",
       "836  LU1829219556  LYXOR HIGH RAT MW GOVT 1-3Y DR UCITS ETF   AAA13.MI   \n",
       "\n",
       "                                             benchmark      ter  \\\n",
       "N.                                                                \n",
       "283                                        FTSE 100 TR    0.002   \n",
       "711                      S&P 500 DAILY EURO HEDGED TRN   0.0028   \n",
       "710                                    S&P 500 TRN USD   0.0015   \n",
       "707      FTSE MTS HIGHEST-RATED EUROZONE GOV BOND 1-3Y   0.0014   \n",
       "836  FTSE MTS HIGHEST RATED MACRO WEIGT GOV 1-3 YRS...  0.00165   \n",
       "\n",
       "                        areaBenchmark emittente              newcolumn  \n",
       "N.                                                                      \n",
       "283  AZIONARIO EUROPA - SINGOLI PAESI   UBS ETF  LU0136242590100EUA.MI  \n",
       "711            AZIONARIO NORD AMERICA    AMUNDI    LU1681049109500H.MI  \n",
       "710            AZIONARIO NORD AMERICA    AMUNDI    LU1681048804A500.MI  \n",
       "707            TITOLI DI STATO - EURO    AMUNDI    LU1681046428AA13.MI  \n",
       "836            TITOLI DI STATO - EURO     LYXOR   LU1829219556AAA13.MI  "
      ]
     },
     "execution_count": 8,
     "metadata": {},
     "output_type": "execute_result"
    }
   ],
   "source": [
    "df100.head()"
   ]
  },
  {
   "cell_type": "markdown",
   "metadata": {},
   "source": [
    "### leggi ticker.mi csv altrimenti isin.csv"
   ]
  },
  {
   "cell_type": "code",
   "execution_count": 27,
   "metadata": {
    "ExecuteTime": {
     "end_time": "2019-04-21T09:23:49.866714Z",
     "start_time": "2019-04-21T09:23:49.710914Z"
    }
   },
   "outputs": [],
   "source": [
    "def get_start_date(isin, ticker):\n",
    "    try:\n",
    "        ticker_file = WORKDIR + ticker + EXT\n",
    "        df = pd.read_csv(ticker_file, usecols=[1,2,3,4,5,6], index_col=0, parse_dates=True)\n",
    "        end = df.index[df.shape[0]-1]\n",
    "        start = df.index[0]\n",
    "        return start\n",
    "    except FileNotFoundError:\n",
    "        try:\n",
    "            ticker_file = WORKDIR + isin + EXT\n",
    "            df = pd.read_csv(ticker_file, usecols=[1,2,3,4,5,6], index_col=0, parse_dates=True)\n",
    "            end = df.index[df.shape[0]-1]\n",
    "            start = df.index[0]\n",
    "            return start\n",
    "        except FileNotFoundError:\n",
    "            return None\n",
    "\n",
    "def get_end_date(isin, ticker):\n",
    "    try:\n",
    "        ticker_file = WORKDIR + ticker + EXT\n",
    "        df = pd.read_csv(ticker_file, usecols=[1,2,3,4,5,6], index_col=0, parse_dates=True)\n",
    "        end = df.index[df.shape[0]-1]\n",
    "        start = df.index[0]\n",
    "        return end\n",
    "    except FileNotFoundError:\n",
    "        try:\n",
    "            ticker_file = WORKDIR + isin + EXT\n",
    "            df = pd.read_csv(ticker_file, usecols=[1,2,3,4,5,6], index_col=0, parse_dates=True)\n",
    "            end = df.index[df.shape[0]-1]\n",
    "            start = df.index[0]\n",
    "            return end\n",
    "        except FileNotFoundError:\n",
    "            return None"
   ]
  },
  {
   "cell_type": "code",
   "execution_count": null,
   "metadata": {
    "ExecuteTime": {
     "end_time": "2019-04-21T09:24:17.107149Z",
     "start_time": "2019-04-21T09:24:12.489087Z"
    }
   },
   "outputs": [],
   "source": [
    "df100 = dfEtfInfo[dfEtfInfo.areaBenchmark == 'AZIONARIO NORD AMERICA']\n",
    "\n",
    "df101 = df3[df3.benchmark == 'S&P 500 TRN USD']\n",
    "\n",
    "df101['start_date'] = df101.apply(lambda x: get_start_date(x['isin'],x['ticker']), axis=1)\n",
    "df101['end_date'] = df101.apply(lambda x: get_end_date(x['isin'],x['ticker']), axis=1)"
   ]
  },
  {
   "cell_type": "code",
   "execution_count": null,
   "metadata": {
    "ExecuteTime": {
     "end_time": "2019-04-21T09:24:23.392469Z",
     "start_time": "2019-04-21T09:24:23.303013Z"
    }
   },
   "outputs": [],
   "source": [
    "df101.head()"
   ]
  },
  {
   "cell_type": "code",
   "execution_count": null,
   "metadata": {},
   "outputs": [],
   "source": []
  },
  {
   "cell_type": "markdown",
   "metadata": {},
   "source": [
    "### Lista le aree degli ETF"
   ]
  },
  {
   "cell_type": "code",
   "execution_count": null,
   "metadata": {
    "ExecuteTime": {
     "end_time": "2019-04-09T08:41:59.560239Z",
     "start_time": "2019-04-09T08:41:58.961151Z"
    }
   },
   "outputs": [],
   "source": [
    "aree = pd.DataFrame(dfEtfInfo.areaBenchmark.unique(),columns=['areaBenchmark'])\n",
    "aree.sort_values(by='areaBenchmark',inplace=True)\n",
    "\n",
    "aree"
   ]
  },
  {
   "cell_type": "code",
   "execution_count": 32,
   "metadata": {
    "ExecuteTime": {
     "end_time": "2019-04-09T08:54:15.413702Z",
     "start_time": "2019-04-09T08:54:14.865650Z"
    },
    "collapsed": true
   },
   "outputs": [],
   "source": [
    "df3 = dfEtfInfo[dfEtfInfo.areaBenchmark == 'AZIONARIO NORD AMERICA']"
   ]
  },
  {
   "cell_type": "code",
   "execution_count": null,
   "metadata": {
    "ExecuteTime": {
     "end_time": "2019-04-09T08:54:16.382835Z",
     "start_time": "2019-04-09T08:54:15.813413Z"
    },
    "scrolled": true
   },
   "outputs": [],
   "source": [
    "df3[df3.benchmark == 'S&P 500 TRN USD']"
   ]
  },
  {
   "cell_type": "code",
   "execution_count": null,
   "metadata": {
    "collapsed": true
   },
   "outputs": [],
   "source": [
    "df4 = df3[df3.benchmark == 'S&P 500 TRN USD']\n",
    "# df5 = df4.assign(startDate=df4.ticker.apply(get_start_date),endDate=df4.ticker.apply(get_end_date))"
   ]
  },
  {
   "cell_type": "code",
   "execution_count": null,
   "metadata": {
    "ExecuteTime": {
     "end_time": "2019-04-09T08:54:21.968818Z",
     "start_time": "2019-04-09T08:54:19.500804Z"
    },
    "scrolled": true
   },
   "outputs": [],
   "source": [
    "df4['startDate'] = df4.ticker.apply(get_start_date)\n",
    "df4['endDate'] = df4.ticker.apply(get_end_date)\n",
    "    \n",
    "    "
   ]
  },
  {
   "cell_type": "code",
   "execution_count": null,
   "metadata": {},
   "outputs": [],
   "source": []
  },
  {
   "cell_type": "code",
   "execution_count": 111,
   "metadata": {
    "ExecuteTime": {
     "end_time": "2019-04-28T15:36:27.068211Z",
     "start_time": "2019-04-28T15:36:26.547392Z"
    }
   },
   "outputs": [],
   "source": [
    "def myfunc100(row):\n",
    "    return pd.Series(['PIP','PO'])\n",
    "\n",
    "\n",
    "dfEtfInfo[['test1', 'test2']] = dfEtfInfo.apply(myfunc100, axis=1)"
   ]
  },
  {
   "cell_type": "code",
   "execution_count": null,
   "metadata": {},
   "outputs": [],
   "source": []
  },
  {
   "cell_type": "code",
   "execution_count": null,
   "metadata": {},
   "outputs": [],
   "source": []
  },
  {
   "cell_type": "code",
   "execution_count": null,
   "metadata": {},
   "outputs": [],
   "source": [
    "dfEtfInfo = pd.read_excel('infoprovider_etc.xlsx').iloc[6:,:]\n",
    "dfEtfInfo.columns = dfEtfInfo.iloc[0,:].tolist()\n",
    "dfEtfInfo = dfEtfInfo.iloc[1:,:]\n",
    "dfEtfInfo.set_index('N.',inplace=True)\n",
    "# df2['Strumento'].unique()\n",
    "# df2.drop(df2[df2['Strumento'] == 0].index, inplace=True) # pulisce\n",
    "dfEtfInfo = dfEtfInfo[dfEtfInfo['Strumento'] == 'ETF']\n",
    "dfEtfInfo = dfEtfInfo[['ISIN','Nome','Reuters RIC (Italy)','Indice Benchmark','TER','Area Benchmark','Emittente']]\n",
    "dfEtfInfo.columns = ['isin','nome','ticker','benchmark','ter','areaBenchmark','emittente']\n",
    "# df2.set_index('ticker', inplace=True)"
   ]
  },
  {
   "cell_type": "code",
   "execution_count": 244,
   "metadata": {
    "ExecuteTime": {
     "end_time": "2019-04-28T20:15:20.333751Z",
     "start_time": "2019-04-28T20:15:20.071729Z"
    }
   },
   "outputs": [
    {
     "data": {
      "text/html": [
       "<div>\n",
       "<style scoped>\n",
       "    .dataframe tbody tr th:only-of-type {\n",
       "        vertical-align: middle;\n",
       "    }\n",
       "\n",
       "    .dataframe tbody tr th {\n",
       "        vertical-align: top;\n",
       "    }\n",
       "\n",
       "    .dataframe thead th {\n",
       "        text-align: right;\n",
       "    }\n",
       "</style>\n",
       "<table border=\"1\" class=\"dataframe\">\n",
       "  <thead>\n",
       "    <tr style=\"text-align: right;\">\n",
       "      <th></th>\n",
       "      <th>isin</th>\n",
       "      <th>nome</th>\n",
       "      <th>ticker</th>\n",
       "      <th>benchmark</th>\n",
       "      <th>ter</th>\n",
       "      <th>areaBenchmark</th>\n",
       "      <th>emittente</th>\n",
       "    </tr>\n",
       "    <tr>\n",
       "      <th>N.</th>\n",
       "      <th></th>\n",
       "      <th></th>\n",
       "      <th></th>\n",
       "      <th></th>\n",
       "      <th></th>\n",
       "      <th></th>\n",
       "      <th></th>\n",
       "    </tr>\n",
       "  </thead>\n",
       "  <tbody>\n",
       "    <tr>\n",
       "      <th>1</th>\n",
       "      <td>GB00B15KXP72</td>\n",
       "      <td>ETFS COFFEE</td>\n",
       "      <td>COFF.MI</td>\n",
       "      <td>DOW JONES-UBS COFFEE SUBINDEX</td>\n",
       "      <td>0.0054</td>\n",
       "      <td>PRODOTTI AGRICOLI</td>\n",
       "      <td>ETFS SECURITIES</td>\n",
       "    </tr>\n",
       "    <tr>\n",
       "      <th>2</th>\n",
       "      <td>GB00B15KXS04</td>\n",
       "      <td>ETFS CORN</td>\n",
       "      <td>CORN.MI</td>\n",
       "      <td>DOW JONES-UBS CORN SUBINDEX</td>\n",
       "      <td>0.0054</td>\n",
       "      <td>PRODOTTI AGRICOLI</td>\n",
       "      <td>ETFS SECURITIES</td>\n",
       "    </tr>\n",
       "    <tr>\n",
       "      <th>3</th>\n",
       "      <td>GB00B15KXT11</td>\n",
       "      <td>ETFS COTTON</td>\n",
       "      <td>COTN.MI</td>\n",
       "      <td>DOW JONES-UBS COTTON SUBINDEX</td>\n",
       "      <td>0.0054</td>\n",
       "      <td>PRODOTTI AGRICOLI</td>\n",
       "      <td>ETFS SECURITIES</td>\n",
       "    </tr>\n",
       "    <tr>\n",
       "      <th>4</th>\n",
       "      <td>GB00B15KY435</td>\n",
       "      <td>ETFS SOYBEAN OIL</td>\n",
       "      <td>SOYO.IM</td>\n",
       "      <td>DOW JONES-UBS SOYBEAN OIL SUBINDEX</td>\n",
       "      <td>0.0054</td>\n",
       "      <td>PRODOTTI AGRICOLI</td>\n",
       "      <td>ETFS SECURITIES</td>\n",
       "    </tr>\n",
       "    <tr>\n",
       "      <th>5</th>\n",
       "      <td>GB00B15KY542</td>\n",
       "      <td>ETFS SOYBEANS</td>\n",
       "      <td>SOYB.MI</td>\n",
       "      <td>DOW JONES-UBS SOYBEAN SUBINDEX</td>\n",
       "      <td>0.0054</td>\n",
       "      <td>PRODOTTI AGRICOLI</td>\n",
       "      <td>ETFS SECURITIES</td>\n",
       "    </tr>\n",
       "    <tr>\n",
       "      <th>6</th>\n",
       "      <td>GB00B15KY658</td>\n",
       "      <td>ETFS SUGAR</td>\n",
       "      <td>SUGA.MI</td>\n",
       "      <td>DOW JONES-UBS SUGAR SUBINDEX</td>\n",
       "      <td>0.0054</td>\n",
       "      <td>PRODOTTI AGRICOLI</td>\n",
       "      <td>ETFS SECURITIES</td>\n",
       "    </tr>\n",
       "    <tr>\n",
       "      <th>7</th>\n",
       "      <td>GB00B15KY765</td>\n",
       "      <td>ETFS WHEAT</td>\n",
       "      <td>WEAT.MI</td>\n",
       "      <td>DOW JONES-UBS WHEAT SUBINDEX</td>\n",
       "      <td>0.0054</td>\n",
       "      <td>PRODOTTI AGRICOLI</td>\n",
       "      <td>ETFS SECURITIES</td>\n",
       "    </tr>\n",
       "    <tr>\n",
       "      <th>8</th>\n",
       "      <td>JE00B2QXZK10</td>\n",
       "      <td>ETFS COCOA</td>\n",
       "      <td>COCO.MI</td>\n",
       "      <td>DOW JONES-UBS COCOA SUBINDEX</td>\n",
       "      <td>0.0054</td>\n",
       "      <td>PRODOTTI AGRICOLI</td>\n",
       "      <td>ETFS SECURITIES</td>\n",
       "    </tr>\n",
       "    <tr>\n",
       "      <th>9</th>\n",
       "      <td>JE00B78NNK09</td>\n",
       "      <td>ETFS EUR DAILY HEDGED WHEAT</td>\n",
       "      <td>EWAT.MI</td>\n",
       "      <td>DOW JONES-UBS WHEAT SUBINDEX EURO HEDGED DAILY ER</td>\n",
       "      <td>0.0054</td>\n",
       "      <td>PRODOTTI AGRICOLI</td>\n",
       "      <td>ETFS SECURITIES</td>\n",
       "    </tr>\n",
       "    <tr>\n",
       "      <th>10</th>\n",
       "      <td>JE00B3ZQRP79</td>\n",
       "      <td>ETFS EUR DAILY HEDGED CORN</td>\n",
       "      <td>ECRN.MI</td>\n",
       "      <td>DOW JONES-UBS CORN SUBINDEX EURO HEDGED DAILY ER</td>\n",
       "      <td>0.0054</td>\n",
       "      <td>PRODOTTI AGRICOLI</td>\n",
       "      <td>ETFS SECURITIES</td>\n",
       "    </tr>\n",
       "    <tr>\n",
       "      <th>11</th>\n",
       "      <td>JE00B70DCH80</td>\n",
       "      <td>ETFS EUR DAILY HEDGED COTTON</td>\n",
       "      <td>ECTN.MI</td>\n",
       "      <td>DOW JONES-UBS COTTON SUBINDEX EURO HEDGED DAIL...</td>\n",
       "      <td>0.0054</td>\n",
       "      <td>PRODOTTI AGRICOLI</td>\n",
       "      <td>ETFS SECURITIES</td>\n",
       "    </tr>\n",
       "    <tr>\n",
       "      <th>12</th>\n",
       "      <td>JE00B6TK3K31</td>\n",
       "      <td>ETFS EUR DAILY HEDGED COFFEE</td>\n",
       "      <td>ECOF.MI</td>\n",
       "      <td>DOW JONES-UBS COFFEE SUBINDEX EURO HEDGED DAIL...</td>\n",
       "      <td>0.0054</td>\n",
       "      <td>PRODOTTI AGRICOLI</td>\n",
       "      <td>ETFS SECURITIES</td>\n",
       "    </tr>\n",
       "    <tr>\n",
       "      <th>13</th>\n",
       "      <td>JE00B6X05031</td>\n",
       "      <td>ETFS EUR DAILY HEDGED SUGAR</td>\n",
       "      <td>ESUG.MI</td>\n",
       "      <td>DOW JONES-UBS SUGAR SUBINDEX EURO HEDGED DAILY ER</td>\n",
       "      <td>0.0054</td>\n",
       "      <td>PRODOTTI AGRICOLI</td>\n",
       "      <td>ETFS SECURITIES</td>\n",
       "    </tr>\n",
       "    <tr>\n",
       "      <th>14</th>\n",
       "      <td>JE00B6SLJ210</td>\n",
       "      <td>ETFS EUR DAILY HEDGED SOYBEANS</td>\n",
       "      <td>ESOY.MI</td>\n",
       "      <td>DOW JONES-UBS SOYBEANS SUBINDEX EURO HEDG DAIL...</td>\n",
       "      <td>0.0054</td>\n",
       "      <td>PRODOTTI AGRICOLI</td>\n",
       "      <td>ETFS SECURITIES</td>\n",
       "    </tr>\n",
       "    <tr>\n",
       "      <th>15</th>\n",
       "      <td>IE00BKT09149</td>\n",
       "      <td>BOOST BTP 10Y 3X LEVERAGE DAILY</td>\n",
       "      <td>3BTL.MI</td>\n",
       "      <td>BNP PARIBAS LONG TERM BTP FUTURE</td>\n",
       "      <td>0.006</td>\n",
       "      <td>BOND LEVERAGE 3X</td>\n",
       "      <td>BOOST</td>\n",
       "    </tr>\n",
       "    <tr>\n",
       "      <th>16</th>\n",
       "      <td>IE00BKT09255</td>\n",
       "      <td>BOOST BUND 10Y 3X LEVERAGE DAILY</td>\n",
       "      <td>3BUL.MI</td>\n",
       "      <td>BNP PARIBAS BUND FUTURE</td>\n",
       "      <td>0.003</td>\n",
       "      <td>BOND LEVERAGE 3X</td>\n",
       "      <td>BOOST</td>\n",
       "    </tr>\n",
       "    <tr>\n",
       "      <th>17</th>\n",
       "      <td>IE00BKT09032</td>\n",
       "      <td>BOOST US TREASURIES 10Y 3X LEVER DAILY</td>\n",
       "      <td>3TYL.MI</td>\n",
       "      <td>BNP PARIBAS US TREASURY NOTE 10Y FUTURE</td>\n",
       "      <td>0.003</td>\n",
       "      <td>BOND LEVERAGE 3X</td>\n",
       "      <td>BOOST</td>\n",
       "    </tr>\n",
       "    <tr>\n",
       "      <th>18</th>\n",
       "      <td>XS1265961208</td>\n",
       "      <td>SG ETC BTP FUTUR +3X DAILY LONG COLLAT</td>\n",
       "      <td>BTP3L.MI</td>\n",
       "      <td>SOLACTIVE LEVERAGED LONG X 3 BTP FUTURES INDEX TR</td>\n",
       "      <td>0.0069</td>\n",
       "      <td>BOND LEVERAGE 3X</td>\n",
       "      <td>SOCIETE GENERALE</td>\n",
       "    </tr>\n",
       "    <tr>\n",
       "      <th>19</th>\n",
       "      <td>XS1265961620</td>\n",
       "      <td>SG ETC OAT FUTUR +3X DAILY LONG COLLAT</td>\n",
       "      <td>OAT3L.MI</td>\n",
       "      <td>SOLACTIVE LEVERAGED LONG X 3 OAT FUTURES INDEX TR</td>\n",
       "      <td>0.0069</td>\n",
       "      <td>BOND LEVERAGE 3X</td>\n",
       "      <td>SOCIETE GENERALE</td>\n",
       "    </tr>\n",
       "    <tr>\n",
       "      <th>20</th>\n",
       "      <td>XS1265962271</td>\n",
       "      <td>SG ETC BUND FUTUR +3X DAILY LONG COLLAT</td>\n",
       "      <td>BUND3L.MI</td>\n",
       "      <td>SOLACTIVE LEVERAGED LONG X 3 BUND FUTURES INDE...</td>\n",
       "      <td>0.0039</td>\n",
       "      <td>BOND LEVERAGE 3X</td>\n",
       "      <td>SOCIETE GENERALE</td>\n",
       "    </tr>\n",
       "    <tr>\n",
       "      <th>21</th>\n",
       "      <td>XS1265962511</td>\n",
       "      <td>SG ETC BTP FUTUR +5X DAILY LONG COLLAT</td>\n",
       "      <td>BTP5L.MI</td>\n",
       "      <td>SOLACTIVE LEVERAGED LONG X 5 BTP FUTURES INDEX TR</td>\n",
       "      <td>0.0108</td>\n",
       "      <td>BOND LEVERAGE 5X</td>\n",
       "      <td>SOCIETE GENERALE</td>\n",
       "    </tr>\n",
       "    <tr>\n",
       "      <th>22</th>\n",
       "      <td>XS1265962784</td>\n",
       "      <td>SG ETC OAT FUTUR +5X DAILY LONG COLLAT</td>\n",
       "      <td>OAT5L.MI</td>\n",
       "      <td>SOLACTIVE LEVERAGED LONG X 5 OAT FUTURES INDEX TR</td>\n",
       "      <td>0.0108</td>\n",
       "      <td>BOND LEVERAGE 5X</td>\n",
       "      <td>SOCIETE GENERALE</td>\n",
       "    </tr>\n",
       "    <tr>\n",
       "      <th>23</th>\n",
       "      <td>XS1265962941</td>\n",
       "      <td>SG ETC BUND FUTUR +5X DAILY LONG COLLAT</td>\n",
       "      <td>BUND5L.MI</td>\n",
       "      <td>SOLACTIVE LEVERAGED LONG X 5 BUND FUTURES INDE...</td>\n",
       "      <td>0.0058</td>\n",
       "      <td>BOND LEVERAGE 5X</td>\n",
       "      <td>SOCIETE GENERALE</td>\n",
       "    </tr>\n",
       "    <tr>\n",
       "      <th>24</th>\n",
       "      <td>IE00BKS8QM96</td>\n",
       "      <td>BOOST BTP 10Y 3X SHORT DAILY</td>\n",
       "      <td>3BTS.MI</td>\n",
       "      <td>BNP PARIBAS LONG TERM BTP FUTURE</td>\n",
       "      <td>0.006</td>\n",
       "      <td>BOND LEVERAGE SHORT 3X</td>\n",
       "      <td>BOOST</td>\n",
       "    </tr>\n",
       "    <tr>\n",
       "      <th>25</th>\n",
       "      <td>IE00BKS8QN04</td>\n",
       "      <td>BOOST BUND 10Y 3X SHORT DAILY</td>\n",
       "      <td>3BUS.MI</td>\n",
       "      <td>BNP PARIBAS BUND FUTURE</td>\n",
       "      <td>0.003</td>\n",
       "      <td>BOND LEVERAGE SHORT 3X</td>\n",
       "      <td>BOOST</td>\n",
       "    </tr>\n",
       "    <tr>\n",
       "      <th>26</th>\n",
       "      <td>IE00BKS8QT65</td>\n",
       "      <td>BOOST US TREASURIES 10Y 3X SHORT DAILY</td>\n",
       "      <td>3TYS.MI</td>\n",
       "      <td>BNP PARIBAS US TREASURY NOTE 10Y FUTURE</td>\n",
       "      <td>0.003</td>\n",
       "      <td>BOND LEVERAGE SHORT 3X</td>\n",
       "      <td>BOOST</td>\n",
       "    </tr>\n",
       "    <tr>\n",
       "      <th>27</th>\n",
       "      <td>XS1265961463</td>\n",
       "      <td>SG ETC BTP FUTUR -3X DAILY SHORT COLLAT</td>\n",
       "      <td>BTP3S.MI</td>\n",
       "      <td>SOLACTIVE LEVERAGED SHORT X 3 BTP FUTURES INDE...</td>\n",
       "      <td>0.0069</td>\n",
       "      <td>BOND LEVERAGE SHORT 3X</td>\n",
       "      <td>SOCIETE GENERALE</td>\n",
       "    </tr>\n",
       "    <tr>\n",
       "      <th>28</th>\n",
       "      <td>XS1265961976</td>\n",
       "      <td>SG ETC OAT FUTUR -3X DAILY SHORT COLLAT</td>\n",
       "      <td>OAT3S.MI</td>\n",
       "      <td>SOLACTIVE LEVERAGED SHORT X 3 OAT FUTURES INDE...</td>\n",
       "      <td>0.0069</td>\n",
       "      <td>BOND LEVERAGE SHORT 3X</td>\n",
       "      <td>SOCIETE GENERALE</td>\n",
       "    </tr>\n",
       "    <tr>\n",
       "      <th>29</th>\n",
       "      <td>XS1265962438</td>\n",
       "      <td>SG ETC BUND FUTUR -3X DAILY SHORT COLLAT</td>\n",
       "      <td>BUND3S.MI</td>\n",
       "      <td>SOLACTIVE LEVERAGED SHORT X 3 BUND FUTURES IND...</td>\n",
       "      <td>0.0039</td>\n",
       "      <td>BOND LEVERAGE SHORT 3X</td>\n",
       "      <td>SOCIETE GENERALE</td>\n",
       "    </tr>\n",
       "    <tr>\n",
       "      <th>30</th>\n",
       "      <td>IE00BF4TW453</td>\n",
       "      <td>BOOST BUND 30Y 3X SHORT DAILY ETP</td>\n",
       "      <td>3UBS.MI</td>\n",
       "      <td>BNP PARIBAS LONG BUND 30Y ROL FUT</td>\n",
       "      <td>0.003</td>\n",
       "      <td>BOND LEVERAGE SHORT 3X</td>\n",
       "      <td>BOOST</td>\n",
       "    </tr>\n",
       "    <tr>\n",
       "      <th>...</th>\n",
       "      <td>...</td>\n",
       "      <td>...</td>\n",
       "      <td>...</td>\n",
       "      <td>...</td>\n",
       "      <td>...</td>\n",
       "      <td>...</td>\n",
       "      <td>...</td>\n",
       "    </tr>\n",
       "    <tr>\n",
       "      <th>288</th>\n",
       "      <td>JE00BMM1X387</td>\n",
       "      <td>ETFS 5X LONG JPY SHORT EUR</td>\n",
       "      <td>EJP5.MI</td>\n",
       "      <td>MSFX 5X LONG JAPANESE YEN/EURO INDEX (TR)</td>\n",
       "      <td>0.0098</td>\n",
       "      <td>STRATEGIE SU VALUTE LEVERAGE 5X</td>\n",
       "      <td>ETFS SECURITIES</td>\n",
       "    </tr>\n",
       "    <tr>\n",
       "      <th>289</th>\n",
       "      <td>JE00BMM1X494</td>\n",
       "      <td>ETFS 5X SHORT JPY LONG EUR</td>\n",
       "      <td>JPE5.MI</td>\n",
       "      <td>MSFX 5X SHORT JAPANESE YEN/EURO INDEX (TR)</td>\n",
       "      <td>0.0098</td>\n",
       "      <td>STRATEGIE SU VALUTE LEVERAGE 5X</td>\n",
       "      <td>ETFS SECURITIES</td>\n",
       "    </tr>\n",
       "    <tr>\n",
       "      <th>290</th>\n",
       "      <td>IE00BLNMQS92</td>\n",
       "      <td>BOOST LONG USD SHORT EUR 5X DAILY</td>\n",
       "      <td>5USE.MI</td>\n",
       "      <td>BNP PARIBAS USD EUR FX SPOT</td>\n",
       "      <td>0.0089</td>\n",
       "      <td>STRATEGIE SU VALUTE LEVERAGE 5X</td>\n",
       "      <td>BOOST</td>\n",
       "    </tr>\n",
       "    <tr>\n",
       "      <th>291</th>\n",
       "      <td>IE00BLNMQT00</td>\n",
       "      <td>BOOST SHORT USD LONG EUR 5X DAILY</td>\n",
       "      <td>5EUS.MI</td>\n",
       "      <td>BNP PARIBAS USD EUR FX SPOT</td>\n",
       "      <td>0.0089</td>\n",
       "      <td>STRATEGIE SU VALUTE LEVERAGE 5X</td>\n",
       "      <td>BOOST</td>\n",
       "    </tr>\n",
       "    <tr>\n",
       "      <th>292</th>\n",
       "      <td>JE00BVZ6TJ17</td>\n",
       "      <td>ETFS 5X SHORT CHF LONG EUR</td>\n",
       "      <td>CH5E.MI</td>\n",
       "      <td>MSFX 5X SHORT SWISS FRANC/EURO INDEX (TR)</td>\n",
       "      <td>0.0098</td>\n",
       "      <td>STRATEGIE SU VALUTE LEVERAGE 5X</td>\n",
       "      <td>ETFS SECURITIES</td>\n",
       "    </tr>\n",
       "    <tr>\n",
       "      <th>293</th>\n",
       "      <td>XS1265957784</td>\n",
       "      <td>SG ETC X5 DAIL LONG USD SHORT EUR COLLAT</td>\n",
       "      <td>LUSE5.MI</td>\n",
       "      <td>SOLACTIVE X5 DAILY LONG USD AND SHORT EUR INDE...</td>\n",
       "      <td>0.0098</td>\n",
       "      <td>STRATEGIE SU VALUTE LEVERAGE 5X</td>\n",
       "      <td>SOCIETE GENERALE</td>\n",
       "    </tr>\n",
       "    <tr>\n",
       "      <th>294</th>\n",
       "      <td>XS1265957867</td>\n",
       "      <td>SG ETC X5 DAIL SHORT USD LONG EUR COLLAT</td>\n",
       "      <td>SULE5.MI</td>\n",
       "      <td>SOLACTIVE X5 DAILY SHORT USD AND LONG EUR INDE...</td>\n",
       "      <td>0.0098</td>\n",
       "      <td>STRATEGIE SU VALUTE LEVERAGE 5X</td>\n",
       "      <td>SOCIETE GENERALE</td>\n",
       "    </tr>\n",
       "    <tr>\n",
       "      <th>295</th>\n",
       "      <td>XS1265957941</td>\n",
       "      <td>SG ETC X5 DAIL LONG GBP SHORT EUR COLLAT</td>\n",
       "      <td>LPSE5.MI</td>\n",
       "      <td>SOLACTIVE X5 DAILY LONG GBP AND SHORT EUR INDE...</td>\n",
       "      <td>0.0098</td>\n",
       "      <td>STRATEGIE SU VALUTE LEVERAGE 5X</td>\n",
       "      <td>SOCIETE GENERALE</td>\n",
       "    </tr>\n",
       "    <tr>\n",
       "      <th>296</th>\n",
       "      <td>XS1265958089</td>\n",
       "      <td>SG ETC X5 DAIL SHORT GBP LONG EUR COLLAT</td>\n",
       "      <td>SPLE5.MI</td>\n",
       "      <td>SOLACTIVE X5 DAILY SHORT GBP AND LONG EUR INDE...</td>\n",
       "      <td>0.0098</td>\n",
       "      <td>STRATEGIE SU VALUTE LEVERAGE 5X</td>\n",
       "      <td>SOCIETE GENERALE</td>\n",
       "    </tr>\n",
       "    <tr>\n",
       "      <th>297</th>\n",
       "      <td>JE00B3LXVB68</td>\n",
       "      <td>ETFS LONG GBP SHORT EUR</td>\n",
       "      <td>EUGB.MI</td>\n",
       "      <td>MSFX LONG BRITISH POUND/EURO INDEX (TR)</td>\n",
       "      <td>0.0039</td>\n",
       "      <td>STRATEGIE SU VALUTE</td>\n",
       "      <td>ETFS SECURITIES</td>\n",
       "    </tr>\n",
       "    <tr>\n",
       "      <th>298</th>\n",
       "      <td>JE00B3MR2Q90</td>\n",
       "      <td>ETFS LONG CHF SHORT EUR</td>\n",
       "      <td>EUCH.MI</td>\n",
       "      <td>MSFX LONG SWISS FRANC/EURO INDEX (TR)</td>\n",
       "      <td>0.0039</td>\n",
       "      <td>STRATEGIE SU VALUTE</td>\n",
       "      <td>ETFS SECURITIES</td>\n",
       "    </tr>\n",
       "    <tr>\n",
       "      <th>299</th>\n",
       "      <td>JE00B3MQG751</td>\n",
       "      <td>ETFS LONG SEK SHORT EUR</td>\n",
       "      <td>EUSE.MI</td>\n",
       "      <td>MSFX LONG SWEDISH KRONA/EURO INDEX (TR)</td>\n",
       "      <td>0.0039</td>\n",
       "      <td>STRATEGIE SU VALUTE</td>\n",
       "      <td>ETFS SECURITIES</td>\n",
       "    </tr>\n",
       "    <tr>\n",
       "      <th>300</th>\n",
       "      <td>JE00B3MRDD32</td>\n",
       "      <td>ETFS LONG NOK SHORT EUR</td>\n",
       "      <td>EUNO.MI</td>\n",
       "      <td>MSFX LONG NORWEGIAN KRONE/EURO INDEX (TR)</td>\n",
       "      <td>0.0039</td>\n",
       "      <td>STRATEGIE SU VALUTE</td>\n",
       "      <td>ETFS SECURITIES</td>\n",
       "    </tr>\n",
       "    <tr>\n",
       "      <th>301</th>\n",
       "      <td>JE00B3MWC642</td>\n",
       "      <td>ETFS LONG JPY SHORT EUR</td>\n",
       "      <td>EUJP.MI</td>\n",
       "      <td>MSFX LONG JAPANESE YEN/EURO INDEX (TR)</td>\n",
       "      <td>0.0039</td>\n",
       "      <td>STRATEGIE SU VALUTE</td>\n",
       "      <td>ETFS SECURITIES</td>\n",
       "    </tr>\n",
       "    <tr>\n",
       "      <th>302</th>\n",
       "      <td>JE00B3XGSP64</td>\n",
       "      <td>ETFS LONG AUD SHORT EUR</td>\n",
       "      <td>EUAU.MI</td>\n",
       "      <td>MSFX LONG AUSTRALIAN DOLLAR/EURO INDEX (TR)</td>\n",
       "      <td>0.0039</td>\n",
       "      <td>STRATEGIE SU VALUTE</td>\n",
       "      <td>ETFS SECURITIES</td>\n",
       "    </tr>\n",
       "    <tr>\n",
       "      <th>303</th>\n",
       "      <td>JE00B3SX2K59</td>\n",
       "      <td>ETFS LONG CAD SHORT EUR</td>\n",
       "      <td>ECAD.MI</td>\n",
       "      <td>MSFX LONG CANADIAN DOLLAR/EURO INDEX (TR)</td>\n",
       "      <td>0.0039</td>\n",
       "      <td>STRATEGIE SU VALUTE</td>\n",
       "      <td>ETFS SECURITIES</td>\n",
       "    </tr>\n",
       "    <tr>\n",
       "      <th>304</th>\n",
       "      <td>JE00B3YQ2Z39</td>\n",
       "      <td>ETFS LONG NZD SHORT EUR</td>\n",
       "      <td>EUNZ.MI</td>\n",
       "      <td>MSFX LONG NEW ZEALAND DOLLAR/EURO INDEX (TR)</td>\n",
       "      <td>0.0039</td>\n",
       "      <td>STRATEGIE SU VALUTE</td>\n",
       "      <td>ETFS SECURITIES</td>\n",
       "    </tr>\n",
       "    <tr>\n",
       "      <th>305</th>\n",
       "      <td>JE00B3RNTN80</td>\n",
       "      <td>ETFS LONG USD SHORT EUR</td>\n",
       "      <td>EUUS.MI</td>\n",
       "      <td>MSFX LONG US DOLLAR/EURO INDEX (TR)</td>\n",
       "      <td>0.0039</td>\n",
       "      <td>STRATEGIE SU VALUTE</td>\n",
       "      <td>ETFS SECURITIES</td>\n",
       "    </tr>\n",
       "    <tr>\n",
       "      <th>306</th>\n",
       "      <td>JE00B3MVPQ29</td>\n",
       "      <td>ETFS SHORT GBP LONG EUR</td>\n",
       "      <td>GBEU.MI</td>\n",
       "      <td>MSFX SHORT BRITISH POUND/EURO INDEX (TR)</td>\n",
       "      <td>0.0039</td>\n",
       "      <td>STRATEGIE SU VALUTE</td>\n",
       "      <td>ETFS SECURITIES</td>\n",
       "    </tr>\n",
       "    <tr>\n",
       "      <th>307</th>\n",
       "      <td>JE00B3L54023</td>\n",
       "      <td>ETFS SHORT CHF LONG EUR</td>\n",
       "      <td>CHEU.MI</td>\n",
       "      <td>MSFX SHORT SWISS FRANC/EURO INDEX (TR)</td>\n",
       "      <td>0.0039</td>\n",
       "      <td>STRATEGIE SU VALUTE</td>\n",
       "      <td>ETFS SECURITIES</td>\n",
       "    </tr>\n",
       "    <tr>\n",
       "      <th>308</th>\n",
       "      <td>JE00B3NXB475</td>\n",
       "      <td>ETFS SHORT SEK LONG EUR</td>\n",
       "      <td>SEEU.MI</td>\n",
       "      <td>MSFX SHORT SWEDISH KRONA/EURO INDEX (TR)</td>\n",
       "      <td>0.0039</td>\n",
       "      <td>STRATEGIE SU VALUTE</td>\n",
       "      <td>ETFS SECURITIES</td>\n",
       "    </tr>\n",
       "    <tr>\n",
       "      <th>309</th>\n",
       "      <td>JE00B3LGQQ51</td>\n",
       "      <td>ETFS SHORT NOK LONG EUR</td>\n",
       "      <td>NOEU.MI</td>\n",
       "      <td>MSFX SHORT NORWEGIAN KRONE/EURO INDEX (TR)</td>\n",
       "      <td>0.0039</td>\n",
       "      <td>STRATEGIE SU VALUTE</td>\n",
       "      <td>ETFS SECURITIES</td>\n",
       "    </tr>\n",
       "    <tr>\n",
       "      <th>310</th>\n",
       "      <td>JE00B3KNMS14</td>\n",
       "      <td>ETFS SHORT JPY LONG EUR</td>\n",
       "      <td>JPEU.MI</td>\n",
       "      <td>MSFX SHORT JAPANESE YEN/EURO INDEX (TR)</td>\n",
       "      <td>0.0039</td>\n",
       "      <td>STRATEGIE SU VALUTE</td>\n",
       "      <td>ETFS SECURITIES</td>\n",
       "    </tr>\n",
       "    <tr>\n",
       "      <th>311</th>\n",
       "      <td>JE00B3QSB726</td>\n",
       "      <td>ETFS SHORT AUD LONG EUR</td>\n",
       "      <td>AUEU.MI</td>\n",
       "      <td>MSFX SHORT AUSTRALIAN DOLLAR/EURO INDEX (TR)</td>\n",
       "      <td>0.0039</td>\n",
       "      <td>STRATEGIE SU VALUTE</td>\n",
       "      <td>ETFS SECURITIES</td>\n",
       "    </tr>\n",
       "    <tr>\n",
       "      <th>312</th>\n",
       "      <td>JE00B3WRF594</td>\n",
       "      <td>ETFS SHORT CAD LONG EUR</td>\n",
       "      <td>CADE.MI</td>\n",
       "      <td>MSFX SHORT CANADIAN DOLLAR/EURO INDEX (TR)</td>\n",
       "      <td>0.0039</td>\n",
       "      <td>STRATEGIE SU VALUTE</td>\n",
       "      <td>ETFS SECURITIES</td>\n",
       "    </tr>\n",
       "    <tr>\n",
       "      <th>313</th>\n",
       "      <td>JE00B3XFPZ25</td>\n",
       "      <td>ETFS SHORT NZD LONG EUR</td>\n",
       "      <td>NZEU.MI</td>\n",
       "      <td>MSFX SHORT NEW ZEALAND DOLLAR/EURO INDEX (TR)</td>\n",
       "      <td>0.0039</td>\n",
       "      <td>STRATEGIE SU VALUTE</td>\n",
       "      <td>ETFS SECURITIES</td>\n",
       "    </tr>\n",
       "    <tr>\n",
       "      <th>314</th>\n",
       "      <td>JE00B3SBYQ91</td>\n",
       "      <td>ETFS SHORT USD LONG EUR</td>\n",
       "      <td>USEU.MI</td>\n",
       "      <td>MSFX SHORT US DOLLAR/EURO INDEX (TR)</td>\n",
       "      <td>0.0039</td>\n",
       "      <td>STRATEGIE SU VALUTE</td>\n",
       "      <td>ETFS SECURITIES</td>\n",
       "    </tr>\n",
       "    <tr>\n",
       "      <th>315</th>\n",
       "      <td>IE00BYMB4Q22</td>\n",
       "      <td>BOOST FTSE MIB BANKS ETP</td>\n",
       "      <td>ITBL.MI</td>\n",
       "      <td>FTSE MIB BANKS 15% CAPPED NET TAX</td>\n",
       "      <td>0.0035</td>\n",
       "      <td>AZIONARIO ITALIA</td>\n",
       "      <td>BOOST</td>\n",
       "    </tr>\n",
       "    <tr>\n",
       "      <th>316</th>\n",
       "      <td>IE00BF4TWF63</td>\n",
       "      <td>BOOST ENHANCED ENERGY ETC</td>\n",
       "      <td>BENE.MI</td>\n",
       "      <td>OPTIMISED ROLL ENERGY TOTAL RETURN INDEX</td>\n",
       "      <td>0.004</td>\n",
       "      <td>INDICE DI COMMODITIES</td>\n",
       "      <td>BOOST</td>\n",
       "    </tr>\n",
       "    <tr>\n",
       "      <th>317</th>\n",
       "      <td>IE00BF4TWC33</td>\n",
       "      <td>BOOST ENHANCED INDUSTRIAL METALS ETC</td>\n",
       "      <td>META.MI</td>\n",
       "      <td>OPTIMISED ROLL INDUSTRIAL METALS TOTAL RETURN</td>\n",
       "      <td>0.004</td>\n",
       "      <td>INDICE DI COMMODITIES</td>\n",
       "      <td>BOOST</td>\n",
       "    </tr>\n",
       "  </tbody>\n",
       "</table>\n",
       "<p>317 rows × 7 columns</p>\n",
       "</div>"
      ],
      "text/plain": [
       "             isin                                      nome     ticker  \\\n",
       "N.                                                                       \n",
       "1    GB00B15KXP72                               ETFS COFFEE    COFF.MI   \n",
       "2    GB00B15KXS04                                 ETFS CORN    CORN.MI   \n",
       "3    GB00B15KXT11                               ETFS COTTON    COTN.MI   \n",
       "4    GB00B15KY435                          ETFS SOYBEAN OIL    SOYO.IM   \n",
       "5    GB00B15KY542                             ETFS SOYBEANS    SOYB.MI   \n",
       "6    GB00B15KY658                                ETFS SUGAR    SUGA.MI   \n",
       "7    GB00B15KY765                                ETFS WHEAT    WEAT.MI   \n",
       "8    JE00B2QXZK10                                ETFS COCOA    COCO.MI   \n",
       "9    JE00B78NNK09               ETFS EUR DAILY HEDGED WHEAT    EWAT.MI   \n",
       "10   JE00B3ZQRP79                ETFS EUR DAILY HEDGED CORN    ECRN.MI   \n",
       "11   JE00B70DCH80              ETFS EUR DAILY HEDGED COTTON    ECTN.MI   \n",
       "12   JE00B6TK3K31              ETFS EUR DAILY HEDGED COFFEE    ECOF.MI   \n",
       "13   JE00B6X05031               ETFS EUR DAILY HEDGED SUGAR    ESUG.MI   \n",
       "14   JE00B6SLJ210            ETFS EUR DAILY HEDGED SOYBEANS    ESOY.MI   \n",
       "15   IE00BKT09149           BOOST BTP 10Y 3X LEVERAGE DAILY    3BTL.MI   \n",
       "16   IE00BKT09255          BOOST BUND 10Y 3X LEVERAGE DAILY    3BUL.MI   \n",
       "17   IE00BKT09032    BOOST US TREASURIES 10Y 3X LEVER DAILY    3TYL.MI   \n",
       "18   XS1265961208    SG ETC BTP FUTUR +3X DAILY LONG COLLAT   BTP3L.MI   \n",
       "19   XS1265961620    SG ETC OAT FUTUR +3X DAILY LONG COLLAT   OAT3L.MI   \n",
       "20   XS1265962271   SG ETC BUND FUTUR +3X DAILY LONG COLLAT  BUND3L.MI   \n",
       "21   XS1265962511    SG ETC BTP FUTUR +5X DAILY LONG COLLAT   BTP5L.MI   \n",
       "22   XS1265962784    SG ETC OAT FUTUR +5X DAILY LONG COLLAT   OAT5L.MI   \n",
       "23   XS1265962941   SG ETC BUND FUTUR +5X DAILY LONG COLLAT  BUND5L.MI   \n",
       "24   IE00BKS8QM96              BOOST BTP 10Y 3X SHORT DAILY    3BTS.MI   \n",
       "25   IE00BKS8QN04             BOOST BUND 10Y 3X SHORT DAILY    3BUS.MI   \n",
       "26   IE00BKS8QT65    BOOST US TREASURIES 10Y 3X SHORT DAILY    3TYS.MI   \n",
       "27   XS1265961463   SG ETC BTP FUTUR -3X DAILY SHORT COLLAT   BTP3S.MI   \n",
       "28   XS1265961976   SG ETC OAT FUTUR -3X DAILY SHORT COLLAT   OAT3S.MI   \n",
       "29   XS1265962438  SG ETC BUND FUTUR -3X DAILY SHORT COLLAT  BUND3S.MI   \n",
       "30   IE00BF4TW453         BOOST BUND 30Y 3X SHORT DAILY ETP    3UBS.MI   \n",
       "..            ...                                       ...        ...   \n",
       "288  JE00BMM1X387                ETFS 5X LONG JPY SHORT EUR    EJP5.MI   \n",
       "289  JE00BMM1X494                ETFS 5X SHORT JPY LONG EUR    JPE5.MI   \n",
       "290  IE00BLNMQS92         BOOST LONG USD SHORT EUR 5X DAILY    5USE.MI   \n",
       "291  IE00BLNMQT00         BOOST SHORT USD LONG EUR 5X DAILY    5EUS.MI   \n",
       "292  JE00BVZ6TJ17                ETFS 5X SHORT CHF LONG EUR    CH5E.MI   \n",
       "293  XS1265957784  SG ETC X5 DAIL LONG USD SHORT EUR COLLAT   LUSE5.MI   \n",
       "294  XS1265957867  SG ETC X5 DAIL SHORT USD LONG EUR COLLAT   SULE5.MI   \n",
       "295  XS1265957941  SG ETC X5 DAIL LONG GBP SHORT EUR COLLAT   LPSE5.MI   \n",
       "296  XS1265958089  SG ETC X5 DAIL SHORT GBP LONG EUR COLLAT   SPLE5.MI   \n",
       "297  JE00B3LXVB68                   ETFS LONG GBP SHORT EUR    EUGB.MI   \n",
       "298  JE00B3MR2Q90                   ETFS LONG CHF SHORT EUR    EUCH.MI   \n",
       "299  JE00B3MQG751                   ETFS LONG SEK SHORT EUR    EUSE.MI   \n",
       "300  JE00B3MRDD32                   ETFS LONG NOK SHORT EUR    EUNO.MI   \n",
       "301  JE00B3MWC642                   ETFS LONG JPY SHORT EUR    EUJP.MI   \n",
       "302  JE00B3XGSP64                   ETFS LONG AUD SHORT EUR    EUAU.MI   \n",
       "303  JE00B3SX2K59                   ETFS LONG CAD SHORT EUR    ECAD.MI   \n",
       "304  JE00B3YQ2Z39                   ETFS LONG NZD SHORT EUR    EUNZ.MI   \n",
       "305  JE00B3RNTN80                   ETFS LONG USD SHORT EUR    EUUS.MI   \n",
       "306  JE00B3MVPQ29                   ETFS SHORT GBP LONG EUR    GBEU.MI   \n",
       "307  JE00B3L54023                   ETFS SHORT CHF LONG EUR    CHEU.MI   \n",
       "308  JE00B3NXB475                   ETFS SHORT SEK LONG EUR    SEEU.MI   \n",
       "309  JE00B3LGQQ51                   ETFS SHORT NOK LONG EUR    NOEU.MI   \n",
       "310  JE00B3KNMS14                   ETFS SHORT JPY LONG EUR    JPEU.MI   \n",
       "311  JE00B3QSB726                   ETFS SHORT AUD LONG EUR    AUEU.MI   \n",
       "312  JE00B3WRF594                   ETFS SHORT CAD LONG EUR    CADE.MI   \n",
       "313  JE00B3XFPZ25                   ETFS SHORT NZD LONG EUR    NZEU.MI   \n",
       "314  JE00B3SBYQ91                   ETFS SHORT USD LONG EUR    USEU.MI   \n",
       "315  IE00BYMB4Q22                  BOOST FTSE MIB BANKS ETP    ITBL.MI   \n",
       "316  IE00BF4TWF63                 BOOST ENHANCED ENERGY ETC    BENE.MI   \n",
       "317  IE00BF4TWC33      BOOST ENHANCED INDUSTRIAL METALS ETC    META.MI   \n",
       "\n",
       "                                             benchmark     ter  \\\n",
       "N.                                                               \n",
       "1                        DOW JONES-UBS COFFEE SUBINDEX  0.0054   \n",
       "2                          DOW JONES-UBS CORN SUBINDEX  0.0054   \n",
       "3                        DOW JONES-UBS COTTON SUBINDEX  0.0054   \n",
       "4                   DOW JONES-UBS SOYBEAN OIL SUBINDEX  0.0054   \n",
       "5                       DOW JONES-UBS SOYBEAN SUBINDEX  0.0054   \n",
       "6                         DOW JONES-UBS SUGAR SUBINDEX  0.0054   \n",
       "7                         DOW JONES-UBS WHEAT SUBINDEX  0.0054   \n",
       "8                         DOW JONES-UBS COCOA SUBINDEX  0.0054   \n",
       "9    DOW JONES-UBS WHEAT SUBINDEX EURO HEDGED DAILY ER  0.0054   \n",
       "10    DOW JONES-UBS CORN SUBINDEX EURO HEDGED DAILY ER  0.0054   \n",
       "11   DOW JONES-UBS COTTON SUBINDEX EURO HEDGED DAIL...  0.0054   \n",
       "12   DOW JONES-UBS COFFEE SUBINDEX EURO HEDGED DAIL...  0.0054   \n",
       "13   DOW JONES-UBS SUGAR SUBINDEX EURO HEDGED DAILY ER  0.0054   \n",
       "14   DOW JONES-UBS SOYBEANS SUBINDEX EURO HEDG DAIL...  0.0054   \n",
       "15                    BNP PARIBAS LONG TERM BTP FUTURE   0.006   \n",
       "16                             BNP PARIBAS BUND FUTURE   0.003   \n",
       "17             BNP PARIBAS US TREASURY NOTE 10Y FUTURE   0.003   \n",
       "18   SOLACTIVE LEVERAGED LONG X 3 BTP FUTURES INDEX TR  0.0069   \n",
       "19   SOLACTIVE LEVERAGED LONG X 3 OAT FUTURES INDEX TR  0.0069   \n",
       "20   SOLACTIVE LEVERAGED LONG X 3 BUND FUTURES INDE...  0.0039   \n",
       "21   SOLACTIVE LEVERAGED LONG X 5 BTP FUTURES INDEX TR  0.0108   \n",
       "22   SOLACTIVE LEVERAGED LONG X 5 OAT FUTURES INDEX TR  0.0108   \n",
       "23   SOLACTIVE LEVERAGED LONG X 5 BUND FUTURES INDE...  0.0058   \n",
       "24                    BNP PARIBAS LONG TERM BTP FUTURE   0.006   \n",
       "25                             BNP PARIBAS BUND FUTURE   0.003   \n",
       "26             BNP PARIBAS US TREASURY NOTE 10Y FUTURE   0.003   \n",
       "27   SOLACTIVE LEVERAGED SHORT X 3 BTP FUTURES INDE...  0.0069   \n",
       "28   SOLACTIVE LEVERAGED SHORT X 3 OAT FUTURES INDE...  0.0069   \n",
       "29   SOLACTIVE LEVERAGED SHORT X 3 BUND FUTURES IND...  0.0039   \n",
       "30                   BNP PARIBAS LONG BUND 30Y ROL FUT   0.003   \n",
       "..                                                 ...     ...   \n",
       "288          MSFX 5X LONG JAPANESE YEN/EURO INDEX (TR)  0.0098   \n",
       "289         MSFX 5X SHORT JAPANESE YEN/EURO INDEX (TR)  0.0098   \n",
       "290                        BNP PARIBAS USD EUR FX SPOT  0.0089   \n",
       "291                        BNP PARIBAS USD EUR FX SPOT  0.0089   \n",
       "292          MSFX 5X SHORT SWISS FRANC/EURO INDEX (TR)  0.0098   \n",
       "293  SOLACTIVE X5 DAILY LONG USD AND SHORT EUR INDE...  0.0098   \n",
       "294  SOLACTIVE X5 DAILY SHORT USD AND LONG EUR INDE...  0.0098   \n",
       "295  SOLACTIVE X5 DAILY LONG GBP AND SHORT EUR INDE...  0.0098   \n",
       "296  SOLACTIVE X5 DAILY SHORT GBP AND LONG EUR INDE...  0.0098   \n",
       "297            MSFX LONG BRITISH POUND/EURO INDEX (TR)  0.0039   \n",
       "298              MSFX LONG SWISS FRANC/EURO INDEX (TR)  0.0039   \n",
       "299            MSFX LONG SWEDISH KRONA/EURO INDEX (TR)  0.0039   \n",
       "300          MSFX LONG NORWEGIAN KRONE/EURO INDEX (TR)  0.0039   \n",
       "301             MSFX LONG JAPANESE YEN/EURO INDEX (TR)  0.0039   \n",
       "302        MSFX LONG AUSTRALIAN DOLLAR/EURO INDEX (TR)  0.0039   \n",
       "303          MSFX LONG CANADIAN DOLLAR/EURO INDEX (TR)  0.0039   \n",
       "304       MSFX LONG NEW ZEALAND DOLLAR/EURO INDEX (TR)  0.0039   \n",
       "305                MSFX LONG US DOLLAR/EURO INDEX (TR)  0.0039   \n",
       "306           MSFX SHORT BRITISH POUND/EURO INDEX (TR)  0.0039   \n",
       "307             MSFX SHORT SWISS FRANC/EURO INDEX (TR)  0.0039   \n",
       "308           MSFX SHORT SWEDISH KRONA/EURO INDEX (TR)  0.0039   \n",
       "309         MSFX SHORT NORWEGIAN KRONE/EURO INDEX (TR)  0.0039   \n",
       "310            MSFX SHORT JAPANESE YEN/EURO INDEX (TR)  0.0039   \n",
       "311       MSFX SHORT AUSTRALIAN DOLLAR/EURO INDEX (TR)  0.0039   \n",
       "312         MSFX SHORT CANADIAN DOLLAR/EURO INDEX (TR)  0.0039   \n",
       "313      MSFX SHORT NEW ZEALAND DOLLAR/EURO INDEX (TR)  0.0039   \n",
       "314               MSFX SHORT US DOLLAR/EURO INDEX (TR)  0.0039   \n",
       "315                  FTSE MIB BANKS 15% CAPPED NET TAX  0.0035   \n",
       "316           OPTIMISED ROLL ENERGY TOTAL RETURN INDEX   0.004   \n",
       "317      OPTIMISED ROLL INDUSTRIAL METALS TOTAL RETURN   0.004   \n",
       "\n",
       "                       areaBenchmark         emittente  \n",
       "N.                                                      \n",
       "1                  PRODOTTI AGRICOLI   ETFS SECURITIES  \n",
       "2                  PRODOTTI AGRICOLI   ETFS SECURITIES  \n",
       "3                  PRODOTTI AGRICOLI   ETFS SECURITIES  \n",
       "4                  PRODOTTI AGRICOLI   ETFS SECURITIES  \n",
       "5                  PRODOTTI AGRICOLI   ETFS SECURITIES  \n",
       "6                  PRODOTTI AGRICOLI   ETFS SECURITIES  \n",
       "7                  PRODOTTI AGRICOLI   ETFS SECURITIES  \n",
       "8                  PRODOTTI AGRICOLI   ETFS SECURITIES  \n",
       "9                  PRODOTTI AGRICOLI   ETFS SECURITIES  \n",
       "10                 PRODOTTI AGRICOLI   ETFS SECURITIES  \n",
       "11                 PRODOTTI AGRICOLI   ETFS SECURITIES  \n",
       "12                 PRODOTTI AGRICOLI   ETFS SECURITIES  \n",
       "13                 PRODOTTI AGRICOLI   ETFS SECURITIES  \n",
       "14                 PRODOTTI AGRICOLI   ETFS SECURITIES  \n",
       "15                  BOND LEVERAGE 3X             BOOST  \n",
       "16                  BOND LEVERAGE 3X             BOOST  \n",
       "17                  BOND LEVERAGE 3X             BOOST  \n",
       "18                  BOND LEVERAGE 3X  SOCIETE GENERALE  \n",
       "19                  BOND LEVERAGE 3X  SOCIETE GENERALE  \n",
       "20                  BOND LEVERAGE 3X  SOCIETE GENERALE  \n",
       "21                  BOND LEVERAGE 5X  SOCIETE GENERALE  \n",
       "22                  BOND LEVERAGE 5X  SOCIETE GENERALE  \n",
       "23                  BOND LEVERAGE 5X  SOCIETE GENERALE  \n",
       "24            BOND LEVERAGE SHORT 3X             BOOST  \n",
       "25            BOND LEVERAGE SHORT 3X             BOOST  \n",
       "26            BOND LEVERAGE SHORT 3X             BOOST  \n",
       "27            BOND LEVERAGE SHORT 3X  SOCIETE GENERALE  \n",
       "28            BOND LEVERAGE SHORT 3X  SOCIETE GENERALE  \n",
       "29            BOND LEVERAGE SHORT 3X  SOCIETE GENERALE  \n",
       "30            BOND LEVERAGE SHORT 3X             BOOST  \n",
       "..                               ...               ...  \n",
       "288  STRATEGIE SU VALUTE LEVERAGE 5X   ETFS SECURITIES  \n",
       "289  STRATEGIE SU VALUTE LEVERAGE 5X   ETFS SECURITIES  \n",
       "290  STRATEGIE SU VALUTE LEVERAGE 5X             BOOST  \n",
       "291  STRATEGIE SU VALUTE LEVERAGE 5X             BOOST  \n",
       "292  STRATEGIE SU VALUTE LEVERAGE 5X   ETFS SECURITIES  \n",
       "293  STRATEGIE SU VALUTE LEVERAGE 5X  SOCIETE GENERALE  \n",
       "294  STRATEGIE SU VALUTE LEVERAGE 5X  SOCIETE GENERALE  \n",
       "295  STRATEGIE SU VALUTE LEVERAGE 5X  SOCIETE GENERALE  \n",
       "296  STRATEGIE SU VALUTE LEVERAGE 5X  SOCIETE GENERALE  \n",
       "297              STRATEGIE SU VALUTE   ETFS SECURITIES  \n",
       "298              STRATEGIE SU VALUTE   ETFS SECURITIES  \n",
       "299              STRATEGIE SU VALUTE   ETFS SECURITIES  \n",
       "300              STRATEGIE SU VALUTE   ETFS SECURITIES  \n",
       "301              STRATEGIE SU VALUTE   ETFS SECURITIES  \n",
       "302              STRATEGIE SU VALUTE   ETFS SECURITIES  \n",
       "303              STRATEGIE SU VALUTE   ETFS SECURITIES  \n",
       "304              STRATEGIE SU VALUTE   ETFS SECURITIES  \n",
       "305              STRATEGIE SU VALUTE   ETFS SECURITIES  \n",
       "306              STRATEGIE SU VALUTE   ETFS SECURITIES  \n",
       "307              STRATEGIE SU VALUTE   ETFS SECURITIES  \n",
       "308              STRATEGIE SU VALUTE   ETFS SECURITIES  \n",
       "309              STRATEGIE SU VALUTE   ETFS SECURITIES  \n",
       "310              STRATEGIE SU VALUTE   ETFS SECURITIES  \n",
       "311              STRATEGIE SU VALUTE   ETFS SECURITIES  \n",
       "312              STRATEGIE SU VALUTE   ETFS SECURITIES  \n",
       "313              STRATEGIE SU VALUTE   ETFS SECURITIES  \n",
       "314              STRATEGIE SU VALUTE   ETFS SECURITIES  \n",
       "315                 AZIONARIO ITALIA             BOOST  \n",
       "316            INDICE DI COMMODITIES             BOOST  \n",
       "317            INDICE DI COMMODITIES             BOOST  \n",
       "\n",
       "[317 rows x 7 columns]"
      ]
     },
     "execution_count": 244,
     "metadata": {},
     "output_type": "execute_result"
    }
   ],
   "source": [
    "dfEtcInfo"
   ]
  },
  {
   "cell_type": "code",
   "execution_count": null,
   "metadata": {},
   "outputs": [],
   "source": []
  },
  {
   "cell_type": "code",
   "execution_count": null,
   "metadata": {
    "ExecuteTime": {
     "end_time": "2019-05-02T22:05:59.238247Z",
     "start_time": "2019-05-02T22:05:59.135790Z"
    }
   },
   "outputs": [],
   "source": [
    "ceu = pd.read_csv('csv/CEU.MI.csv', usecols=[1,2,3,4,5,6], index_col=0, parse_dates=True, dayfirst=True)\n",
    "imeu = pd.read_csv('csv/IMEU.MI.csv', usecols=[1,2,3,4,5,6], index_col=0, parse_dates=True, dayfirst=True)\n",
    "tmp1 = ceu.join(imeu, how='outer', rsuffix='_1')[['close','close_1']]\n",
    "tmp1.columns=['ceu','imeu']\n",
    "tmp1\n"
   ]
  },
  {
   "cell_type": "code",
   "execution_count": 421,
   "metadata": {
    "ExecuteTime": {
     "end_time": "2019-05-02T21:51:02.745733Z",
     "start_time": "2019-05-02T21:50:57.616035Z"
    }
   },
   "outputs": [],
   "source": [
    "df5 = pd.DataFrame()\n",
    "\n",
    "for index,row in df4.iterrows():\n",
    "    ticker = row.ticker\n",
    "    source = row.dataSource\n",
    "    filename = WORKDIR + source + EXT\n",
    "    tmpdf = pd.read_csv(filename, usecols=[1,2,3,4,5,6], index_col=0, parse_dates=True, dayfirst=True)\n",
    "    df5[ticker] = tmpdf.close\n"
   ]
  }
 ],
 "metadata": {
  "kernelspec": {
   "display_name": "env",
   "language": "python",
   "name": "env"
  },
  "language_info": {
   "codemirror_mode": {
    "name": "ipython",
    "version": 3
   },
   "file_extension": ".py",
   "mimetype": "text/x-python",
   "name": "python",
   "nbconvert_exporter": "python",
   "pygments_lexer": "ipython3",
   "version": "3.7.1"
  }
 },
 "nbformat": 4,
 "nbformat_minor": 2
}
