{
 "cells": [
  {
   "cell_type": "code",
   "execution_count": 1,
   "metadata": {
    "ExecuteTime": {
     "end_time": "2019-05-09T17:13:05.559052Z",
     "start_time": "2019-05-09T17:13:04.740306Z"
    },
    "scrolled": true
   },
   "outputs": [],
   "source": [
    "%load_ext autoreload\n",
    "%autoreload 2\n",
    "%matplotlib inline"
   ]
  },
  {
   "cell_type": "code",
   "execution_count": null,
   "metadata": {
    "ExecuteTime": {
     "end_time": "2019-05-09T17:11:38.090107Z",
     "start_time": "2019-05-09T17:11:27.672767Z"
    }
   },
   "outputs": [],
   "source": [
    "import sys\n",
    "!{sys.executable} -m pip install jinja2\n",
    "\n",
    "# QUESTO INSTALL xlrd, openpyxl all'interno del virtualenv\n",
    "# FONDAMENTALE!!!!\n",
    "#\n",
    "\n",
    "!{sys.executable} -m pip install xlrd\n",
    "!{sys.executable} -m pip install openpyxl\n",
    "!{sys.executable} -m pip install sklearn\n",
    "!{sys.executable} -m pip install seaborn\n",
    "\n"
   ]
  },
  {
   "cell_type": "code",
   "execution_count": 2,
   "metadata": {
    "ExecuteTime": {
     "end_time": "2019-05-09T17:13:11.124525Z",
     "start_time": "2019-05-09T17:13:10.038566Z"
    }
   },
   "outputs": [
    {
     "name": "stderr",
     "output_type": "stream",
     "text": [
      "/Users/simo/miniconda3/lib/python3.7/site-packages/matplotlib/__init__.py:855: MatplotlibDeprecationWarning: \n",
      "examples.directory is deprecated; in the future, examples will be found relative to the 'datapath' directory.\n",
      "  \"found relative to the 'datapath' directory.\".format(key))\n",
      "/Users/simo/miniconda3/lib/python3.7/site-packages/matplotlib/__init__.py:846: MatplotlibDeprecationWarning: \n",
      "The text.latex.unicode rcparam was deprecated in Matplotlib 2.2 and will be removed in 3.1.\n",
      "  \"2.2\", name=key, obj_type=\"rcparam\", addendum=addendum)\n"
     ]
    }
   ],
   "source": [
    "import pandas as pd\n",
    "import matplotlib.pyplot as plt\n",
    "import numpy as np\n",
    "import datetime as dt\n",
    "import os\n",
    "import seaborn as sns; sns.reset_orig()\n",
    "\n",
    "plt.style.use('ggplot')\n",
    "\n",
    "WORKDIR = \"csv/\"\n",
    "EXT = '.csv'\n",
    "VOL_AVG_PERIOD = 20"
   ]
  },
  {
   "cell_type": "code",
   "execution_count": 137,
   "metadata": {
    "ExecuteTime": {
     "end_time": "2019-05-07T09:04:20.234033Z",
     "start_time": "2019-05-07T09:04:18.838866Z"
    },
    "scrolled": true
   },
   "outputs": [
    {
     "name": "stdout",
     "output_type": "stream",
     "text": [
      "['bmh', 'classic', 'dark_background', 'fast', 'fivethirtyeight', 'ggplot', 'grayscale', 'seaborn-bright', 'seaborn-colorblind', 'seaborn-dark-palette', 'seaborn-dark', 'seaborn-darkgrid', 'seaborn-deep', 'seaborn-muted', 'seaborn-notebook', 'seaborn-paper', 'seaborn-pastel', 'seaborn-poster', 'seaborn-talk', 'seaborn-ticks', 'seaborn-white', 'seaborn-whitegrid', 'seaborn', 'Solarize_Light2', 'tableau-colorblind10', '_classic_test']\n"
     ]
    }
   ],
   "source": [
    "print(plt.style.available)"
   ]
  },
  {
   "cell_type": "markdown",
   "metadata": {},
   "source": [
    "### Importo la lista degli ETF e ETC borsaitalia"
   ]
  },
  {
   "cell_type": "code",
   "execution_count": 5,
   "metadata": {
    "ExecuteTime": {
     "end_time": "2019-05-09T17:12:09.637794Z",
     "start_time": "2019-05-09T17:12:07.713031Z"
    }
   },
   "outputs": [],
   "source": [
    "dfEtfInfo = pd.read_excel('infoproviders.xlsx').iloc[6:,:]\n",
    "dfEtfInfo.columns = dfEtfInfo.iloc[0,:].tolist()\n",
    "dfEtfInfo = dfEtfInfo.iloc[1:,:]\n",
    "dfEtfInfo.set_index('N.',inplace=True)\n",
    "\n",
    "# df2['Strumento'].unique()\n",
    "# df2.drop(df2[df2['Strumento'] == 0].index, inplace=True) # pulisce\n",
    "dfEtfInfo = dfEtfInfo[dfEtfInfo['Strumento'] == 'ETF']\n",
    "dfEtfInfo = dfEtfInfo[['ISIN','Nome','Local Market TIDM','Indice Benchmark','TER','Area Benchmark','Emittente','Strumento']]\n",
    "dfEtfInfo.columns = ['isin','nome','ticker','benchmark','ter','areaBenchmark','emittente','strumento']\n",
    "# df2.set_index('ticker', inplace=True)"
   ]
  },
  {
   "cell_type": "code",
   "execution_count": 6,
   "metadata": {
    "ExecuteTime": {
     "end_time": "2019-05-09T17:12:14.447454Z",
     "start_time": "2019-05-09T17:12:12.584441Z"
    }
   },
   "outputs": [],
   "source": [
    "dfEtcInfo = pd.read_excel('infoprovider_etc.xlsx').iloc[6:,:]\n",
    "dfEtcInfo.columns = dfEtcInfo.iloc[0,:].tolist()\n",
    "dfEtcInfo = dfEtcInfo.iloc[1:,:]\n",
    "dfEtcInfo.set_index('N.',inplace=True)\n",
    "dfEtcInfo = dfEtcInfo[['ISIN','Nome','Local Market TIDM','Indice Benchmark','TER','Area Benchmark','Emittente','Strumento']]\n",
    "dfEtcInfo.columns = ['isin','nome','ticker','benchmark','ter','areaBenchmark','emittente','strumento']"
   ]
  },
  {
   "cell_type": "code",
   "execution_count": 7,
   "metadata": {
    "ExecuteTime": {
     "end_time": "2019-05-09T17:12:14.524937Z",
     "start_time": "2019-05-09T17:12:14.457161Z"
    }
   },
   "outputs": [],
   "source": [
    "df = pd.DataFrame()\n",
    "df = pd.concat([dfEtfInfo, dfEtcInfo], ignore_index=True)\n",
    "df.ticker = df.ticker + '.MI'"
   ]
  },
  {
   "cell_type": "code",
   "execution_count": 8,
   "metadata": {
    "ExecuteTime": {
     "end_time": "2019-05-09T17:12:16.757446Z",
     "start_time": "2019-05-09T17:12:16.480892Z"
    }
   },
   "outputs": [],
   "source": [
    "# capisce se è da usare il file ticker o l'isin come sorgente dei dati\n",
    "\n",
    "def set_data_source(isin, ticker):\n",
    "    isin_file = WORKDIR + isin + EXT\n",
    "    if os.path.exists(isin_file):\n",
    "        return isin\n",
    "    else:\n",
    "        ticker_file = WORKDIR + ticker + EXT\n",
    "        if os.path.exists(ticker_file):\n",
    "            return ticker\n",
    "        else:\n",
    "            return None\n",
    "    \n",
    "df['dataSource'] = df.apply(lambda x: set_data_source(x['isin'],x['ticker']), axis=1)    "
   ]
  },
  {
   "cell_type": "code",
   "execution_count": 9,
   "metadata": {
    "ExecuteTime": {
     "end_time": "2019-05-09T17:12:18.604623Z",
     "start_time": "2019-05-09T17:12:18.538304Z"
    }
   },
   "outputs": [],
   "source": [
    "df.dropna(inplace=True)  # droppa i ticker per cui non c'è nè il ISIN.csv, nè il TICKER.csv"
   ]
  },
  {
   "cell_type": "code",
   "execution_count": 88,
   "metadata": {
    "ExecuteTime": {
     "end_time": "2019-05-07T06:59:38.120495Z",
     "start_time": "2019-05-07T06:59:36.478878Z"
    },
    "collapsed": true
   },
   "outputs": [],
   "source": [
    "## SALVO i df\n",
    "\n",
    "df.to_excel('etf_info.xlsx')\n",
    "df.to_csv('etf_info.csv')\n"
   ]
  },
  {
   "cell_type": "markdown",
   "metadata": {},
   "source": [
    "### Aggiungo 3 colonne con le date di inizio e fine delle quotazioni  e volAvg, disponibili sui file csv"
   ]
  },
  {
   "cell_type": "code",
   "execution_count": 10,
   "metadata": {
    "ExecuteTime": {
     "end_time": "2019-05-09T17:12:22.007206Z",
     "start_time": "2019-05-09T17:12:21.952000Z"
    }
   },
   "outputs": [],
   "source": [
    "df1 = df.copy()"
   ]
  },
  {
   "cell_type": "code",
   "execution_count": 92,
   "metadata": {
    "ExecuteTime": {
     "end_time": "2019-05-07T07:05:12.302636Z",
     "start_time": "2019-05-07T07:00:35.192713Z"
    },
    "collapsed": true
   },
   "outputs": [],
   "source": [
    "def get_dates_volume(row):\n",
    "    \n",
    "    source = row['dataSource']  # isin o ticker\n",
    "    try:\n",
    "        ticker_file = WORKDIR + source + EXT\n",
    "        df = pd.read_csv(ticker_file, usecols=[1,2,3,4,5,6], index_col=0, parse_dates=True, dayfirst=True)\n",
    "        end = df.index[df.shape[0]-1]\n",
    "        start = df.index[0]\n",
    "        volAvg = df.volume.rolling(VOL_AVG_PERIOD).mean()[-1]\n",
    "    except e:\n",
    "        end = None\n",
    "        start = None\n",
    "        volAvg = None\n",
    "\n",
    "    return pd.Series([start,end,volAvg])\n",
    "\n",
    "## LONG!!!\n",
    "df1[['startDate', 'endDate', 'volAvg']] = df1.apply(get_dates_volume, axis=1)\n"
   ]
  },
  {
   "cell_type": "code",
   "execution_count": 93,
   "metadata": {
    "ExecuteTime": {
     "end_time": "2019-05-07T07:06:10.879275Z",
     "start_time": "2019-05-07T07:06:09.632463Z"
    },
    "collapsed": true
   },
   "outputs": [],
   "source": [
    "df1['endDate'] =  pd.to_datetime(df1['endDate'])\n",
    "df1['startDate'] =  pd.to_datetime(df1['startDate'])\n",
    "df1 = df1.round({'volAvg':0})"
   ]
  },
  {
   "cell_type": "code",
   "execution_count": 94,
   "metadata": {
    "ExecuteTime": {
     "end_time": "2019-05-07T07:06:15.176335Z",
     "start_time": "2019-05-07T07:06:12.851685Z"
    },
    "collapsed": true
   },
   "outputs": [],
   "source": [
    "## SALVO i df con volumi e ticker puliti\n",
    "\n",
    "df1.to_excel('etf_info_vol' + str(VOL_AVG_PERIOD)  + '.xlsx')\n",
    "df1.to_csv('etf_info_vol' + str(VOL_AVG_PERIOD)  + '.csv')\n",
    "\n"
   ]
  },
  {
   "cell_type": "markdown",
   "metadata": {},
   "source": [
    "### elimina i ticker con end_date vecchia e quelli con volume NaN (che vuol dire che non esistono file per quel ticker)"
   ]
  },
  {
   "cell_type": "code",
   "execution_count": 95,
   "metadata": {
    "ExecuteTime": {
     "end_time": "2019-05-07T07:06:20.032775Z",
     "start_time": "2019-05-07T07:06:18.642585Z"
    },
    "collapsed": true,
    "scrolled": true
   },
   "outputs": [],
   "source": [
    "df2 = df1.copy()\n",
    "\n",
    "mask = (df2.endDate < '2019')\n",
    "df2.drop(df2[mask].index, inplace=True)\n",
    "\n",
    "df2 = df2[df2.volAvg >= 0]\n",
    "\n",
    "df2.volAvg = df2.volAvg.astype(int)\n",
    "df2.ter = df2.ter.astype(float)"
   ]
  },
  {
   "cell_type": "code",
   "execution_count": 96,
   "metadata": {
    "ExecuteTime": {
     "end_time": "2019-05-07T07:06:25.253031Z",
     "start_time": "2019-05-07T07:06:23.148800Z"
    },
    "collapsed": true
   },
   "outputs": [],
   "source": [
    "## SALVO i df con volumi e ticker puliti\n",
    "\n",
    "df2.to_excel('etf_info_vol' + str(VOL_AVG_PERIOD)  + '_clean.xlsx')\n",
    "df2.to_csv('etf_info_vol' + str(VOL_AVG_PERIOD)  + '_clean.csv')"
   ]
  },
  {
   "cell_type": "markdown",
   "metadata": {},
   "source": [
    "## CARICA il DF (reinizializza)"
   ]
  },
  {
   "cell_type": "code",
   "execution_count": 4,
   "metadata": {
    "ExecuteTime": {
     "end_time": "2019-05-09T17:14:45.489803Z",
     "start_time": "2019-05-09T17:14:45.374015Z"
    }
   },
   "outputs": [
    {
     "data": {
      "text/html": [
       "<div>\n",
       "<style scoped>\n",
       "    .dataframe tbody tr th:only-of-type {\n",
       "        vertical-align: middle;\n",
       "    }\n",
       "\n",
       "    .dataframe tbody tr th {\n",
       "        vertical-align: top;\n",
       "    }\n",
       "\n",
       "    .dataframe thead th {\n",
       "        text-align: right;\n",
       "    }\n",
       "</style>\n",
       "<table border=\"1\" class=\"dataframe\">\n",
       "  <thead>\n",
       "    <tr style=\"text-align: right;\">\n",
       "      <th></th>\n",
       "      <th>isin</th>\n",
       "      <th>nome</th>\n",
       "      <th>ticker</th>\n",
       "      <th>benchmark</th>\n",
       "      <th>ter</th>\n",
       "      <th>areaBenchmark</th>\n",
       "      <th>emittente</th>\n",
       "      <th>strumento</th>\n",
       "      <th>dataSource</th>\n",
       "    </tr>\n",
       "  </thead>\n",
       "  <tbody>\n",
       "    <tr>\n",
       "      <th>0</th>\n",
       "      <td>LU0136242590</td>\n",
       "      <td>UBS FTSE 100 UCITS ETF A-DIS</td>\n",
       "      <td>100EUA.MI</td>\n",
       "      <td>FTSE 100 TR</td>\n",
       "      <td>0.00200</td>\n",
       "      <td>AZIONARIO EUROPA - SINGOLI PAESI</td>\n",
       "      <td>UBS ETF</td>\n",
       "      <td>ETF</td>\n",
       "      <td>LU0136242590</td>\n",
       "    </tr>\n",
       "    <tr>\n",
       "      <th>1</th>\n",
       "      <td>LU1681048804</td>\n",
       "      <td>AMUNDI S&amp;P 500 EUR UCITS ETF</td>\n",
       "      <td>A500.MI</td>\n",
       "      <td>S&amp;P 500 TRN USD</td>\n",
       "      <td>0.00150</td>\n",
       "      <td>AZIONARIO NORD AMERICA</td>\n",
       "      <td>AMUNDI</td>\n",
       "      <td>ETF</td>\n",
       "      <td>A500.MI</td>\n",
       "    </tr>\n",
       "    <tr>\n",
       "      <th>2</th>\n",
       "      <td>LU1829219556</td>\n",
       "      <td>LYXOR HIGH RAT MW GOVT 1-3Y DR UCITS ETF</td>\n",
       "      <td>AAA13.MI</td>\n",
       "      <td>FTSE MTS HIGHEST RATED MACRO WEIGT GOV 1-3 YRS...</td>\n",
       "      <td>0.00165</td>\n",
       "      <td>TITOLI DI STATO - EURO</td>\n",
       "      <td>LYXOR</td>\n",
       "      <td>ETF</td>\n",
       "      <td>AAA13.MI</td>\n",
       "    </tr>\n",
       "    <tr>\n",
       "      <th>3</th>\n",
       "      <td>LU1829219713</td>\n",
       "      <td>LYXOR HIGH RAT MW GOVT 3-5Y DR UCITS ETF</td>\n",
       "      <td>AAA35.MI</td>\n",
       "      <td>FTSE MTS HIGHEST RATED MACRO WEIGT GOV 3-5 YRS...</td>\n",
       "      <td>0.00165</td>\n",
       "      <td>TITOLI DI STATO - EURO</td>\n",
       "      <td>LYXOR</td>\n",
       "      <td>ETF</td>\n",
       "      <td>AAA35.MI</td>\n",
       "    </tr>\n",
       "    <tr>\n",
       "      <th>4</th>\n",
       "      <td>LU1829219986</td>\n",
       "      <td>LYXOR HIGH RAT MW GOVT 5-7Y DR UCITS ETF</td>\n",
       "      <td>AAA57.MI</td>\n",
       "      <td>FTSE MTS HIGHEST RATED MACRO WEIGT GOV 5-7 YRS...</td>\n",
       "      <td>0.00165</td>\n",
       "      <td>TITOLI DI STATO - EURO</td>\n",
       "      <td>LYXOR</td>\n",
       "      <td>ETF</td>\n",
       "      <td>AAA57.MI</td>\n",
       "    </tr>\n",
       "  </tbody>\n",
       "</table>\n",
       "</div>"
      ],
      "text/plain": [
       "           isin                                      nome     ticker  \\\n",
       "0  LU0136242590              UBS FTSE 100 UCITS ETF A-DIS  100EUA.MI   \n",
       "1  LU1681048804              AMUNDI S&P 500 EUR UCITS ETF    A500.MI   \n",
       "2  LU1829219556  LYXOR HIGH RAT MW GOVT 1-3Y DR UCITS ETF   AAA13.MI   \n",
       "3  LU1829219713  LYXOR HIGH RAT MW GOVT 3-5Y DR UCITS ETF   AAA35.MI   \n",
       "4  LU1829219986  LYXOR HIGH RAT MW GOVT 5-7Y DR UCITS ETF   AAA57.MI   \n",
       "\n",
       "                                           benchmark      ter  \\\n",
       "0                                        FTSE 100 TR  0.00200   \n",
       "1                                    S&P 500 TRN USD  0.00150   \n",
       "2  FTSE MTS HIGHEST RATED MACRO WEIGT GOV 1-3 YRS...  0.00165   \n",
       "3  FTSE MTS HIGHEST RATED MACRO WEIGT GOV 3-5 YRS...  0.00165   \n",
       "4  FTSE MTS HIGHEST RATED MACRO WEIGT GOV 5-7 YRS...  0.00165   \n",
       "\n",
       "                      areaBenchmark emittente strumento    dataSource  \n",
       "0  AZIONARIO EUROPA - SINGOLI PAESI   UBS ETF       ETF  LU0136242590  \n",
       "1            AZIONARIO NORD AMERICA    AMUNDI       ETF       A500.MI  \n",
       "2            TITOLI DI STATO - EURO     LYXOR       ETF      AAA13.MI  \n",
       "3            TITOLI DI STATO - EURO     LYXOR       ETF      AAA35.MI  \n",
       "4            TITOLI DI STATO - EURO     LYXOR       ETF      AAA57.MI  "
      ]
     },
     "execution_count": 4,
     "metadata": {},
     "output_type": "execute_result"
    }
   ],
   "source": [
    "df = pd.read_csv('etf_info' + '.csv')\n",
    "df.drop(df.columns[0] ,axis=1, inplace=True)\n",
    "df.head()"
   ]
  },
  {
   "cell_type": "code",
   "execution_count": 5,
   "metadata": {
    "ExecuteTime": {
     "end_time": "2019-05-09T17:15:11.168956Z",
     "start_time": "2019-05-09T17:15:11.016439Z"
    }
   },
   "outputs": [
    {
     "data": {
      "text/html": [
       "<div>\n",
       "<style scoped>\n",
       "    .dataframe tbody tr th:only-of-type {\n",
       "        vertical-align: middle;\n",
       "    }\n",
       "\n",
       "    .dataframe tbody tr th {\n",
       "        vertical-align: top;\n",
       "    }\n",
       "\n",
       "    .dataframe thead th {\n",
       "        text-align: right;\n",
       "    }\n",
       "</style>\n",
       "<table border=\"1\" class=\"dataframe\">\n",
       "  <thead>\n",
       "    <tr style=\"text-align: right;\">\n",
       "      <th></th>\n",
       "      <th>isin</th>\n",
       "      <th>nome</th>\n",
       "      <th>ticker</th>\n",
       "      <th>benchmark</th>\n",
       "      <th>ter</th>\n",
       "      <th>areaBenchmark</th>\n",
       "      <th>emittente</th>\n",
       "      <th>strumento</th>\n",
       "      <th>dataSource</th>\n",
       "      <th>startDate</th>\n",
       "      <th>endDate</th>\n",
       "      <th>volAvg</th>\n",
       "    </tr>\n",
       "  </thead>\n",
       "  <tbody>\n",
       "    <tr>\n",
       "      <th>0</th>\n",
       "      <td>LU0136242590</td>\n",
       "      <td>UBS FTSE 100 UCITS ETF A-DIS</td>\n",
       "      <td>100EUA.MI</td>\n",
       "      <td>FTSE 100 TR</td>\n",
       "      <td>0.00200</td>\n",
       "      <td>AZIONARIO EUROPA - SINGOLI PAESI</td>\n",
       "      <td>UBS ETF</td>\n",
       "      <td>ETF</td>\n",
       "      <td>LU0136242590</td>\n",
       "      <td>2013-01-14</td>\n",
       "      <td>2019-04-04</td>\n",
       "      <td>685.40</td>\n",
       "    </tr>\n",
       "    <tr>\n",
       "      <th>1</th>\n",
       "      <td>LU1681048804</td>\n",
       "      <td>AMUNDI S&amp;P 500 EUR UCITS ETF</td>\n",
       "      <td>A500.MI</td>\n",
       "      <td>S&amp;P 500 TRN USD</td>\n",
       "      <td>0.00150</td>\n",
       "      <td>AZIONARIO NORD AMERICA</td>\n",
       "      <td>AMUNDI</td>\n",
       "      <td>ETF</td>\n",
       "      <td>A500.MI</td>\n",
       "      <td>2010-09-09</td>\n",
       "      <td>2019-04-04</td>\n",
       "      <td>12832.85</td>\n",
       "    </tr>\n",
       "    <tr>\n",
       "      <th>2</th>\n",
       "      <td>LU1829219556</td>\n",
       "      <td>LYXOR HIGH RAT MW GOVT 1-3Y DR UCITS ETF</td>\n",
       "      <td>AAA13.MI</td>\n",
       "      <td>FTSE MTS HIGHEST RATED MACRO WEIGT GOV 1-3 YRS...</td>\n",
       "      <td>0.00165</td>\n",
       "      <td>TITOLI DI STATO - EURO</td>\n",
       "      <td>LYXOR</td>\n",
       "      <td>ETF</td>\n",
       "      <td>AAA13.MI</td>\n",
       "      <td>2012-03-02</td>\n",
       "      <td>2019-04-04</td>\n",
       "      <td>115.35</td>\n",
       "    </tr>\n",
       "    <tr>\n",
       "      <th>3</th>\n",
       "      <td>LU1829219713</td>\n",
       "      <td>LYXOR HIGH RAT MW GOVT 3-5Y DR UCITS ETF</td>\n",
       "      <td>AAA35.MI</td>\n",
       "      <td>FTSE MTS HIGHEST RATED MACRO WEIGT GOV 3-5 YRS...</td>\n",
       "      <td>0.00165</td>\n",
       "      <td>TITOLI DI STATO - EURO</td>\n",
       "      <td>LYXOR</td>\n",
       "      <td>ETF</td>\n",
       "      <td>AAA35.MI</td>\n",
       "      <td>2012-03-02</td>\n",
       "      <td>2019-04-04</td>\n",
       "      <td>9152.10</td>\n",
       "    </tr>\n",
       "    <tr>\n",
       "      <th>4</th>\n",
       "      <td>LU1829219986</td>\n",
       "      <td>LYXOR HIGH RAT MW GOVT 5-7Y DR UCITS ETF</td>\n",
       "      <td>AAA57.MI</td>\n",
       "      <td>FTSE MTS HIGHEST RATED MACRO WEIGT GOV 5-7 YRS...</td>\n",
       "      <td>0.00165</td>\n",
       "      <td>TITOLI DI STATO - EURO</td>\n",
       "      <td>LYXOR</td>\n",
       "      <td>ETF</td>\n",
       "      <td>AAA57.MI</td>\n",
       "      <td>2012-03-02</td>\n",
       "      <td>2019-04-04</td>\n",
       "      <td>0.05</td>\n",
       "    </tr>\n",
       "  </tbody>\n",
       "</table>\n",
       "</div>"
      ],
      "text/plain": [
       "           isin                                      nome     ticker  \\\n",
       "0  LU0136242590              UBS FTSE 100 UCITS ETF A-DIS  100EUA.MI   \n",
       "1  LU1681048804              AMUNDI S&P 500 EUR UCITS ETF    A500.MI   \n",
       "2  LU1829219556  LYXOR HIGH RAT MW GOVT 1-3Y DR UCITS ETF   AAA13.MI   \n",
       "3  LU1829219713  LYXOR HIGH RAT MW GOVT 3-5Y DR UCITS ETF   AAA35.MI   \n",
       "4  LU1829219986  LYXOR HIGH RAT MW GOVT 5-7Y DR UCITS ETF   AAA57.MI   \n",
       "\n",
       "                                           benchmark      ter  \\\n",
       "0                                        FTSE 100 TR  0.00200   \n",
       "1                                    S&P 500 TRN USD  0.00150   \n",
       "2  FTSE MTS HIGHEST RATED MACRO WEIGT GOV 1-3 YRS...  0.00165   \n",
       "3  FTSE MTS HIGHEST RATED MACRO WEIGT GOV 3-5 YRS...  0.00165   \n",
       "4  FTSE MTS HIGHEST RATED MACRO WEIGT GOV 5-7 YRS...  0.00165   \n",
       "\n",
       "                      areaBenchmark emittente strumento    dataSource  \\\n",
       "0  AZIONARIO EUROPA - SINGOLI PAESI   UBS ETF       ETF  LU0136242590   \n",
       "1            AZIONARIO NORD AMERICA    AMUNDI       ETF       A500.MI   \n",
       "2            TITOLI DI STATO - EURO     LYXOR       ETF      AAA13.MI   \n",
       "3            TITOLI DI STATO - EURO     LYXOR       ETF      AAA35.MI   \n",
       "4            TITOLI DI STATO - EURO     LYXOR       ETF      AAA57.MI   \n",
       "\n",
       "   startDate    endDate    volAvg  \n",
       "0 2013-01-14 2019-04-04    685.40  \n",
       "1 2010-09-09 2019-04-04  12832.85  \n",
       "2 2012-03-02 2019-04-04    115.35  \n",
       "3 2012-03-02 2019-04-04   9152.10  \n",
       "4 2012-03-02 2019-04-04      0.05  "
      ]
     },
     "execution_count": 5,
     "metadata": {},
     "output_type": "execute_result"
    }
   ],
   "source": [
    "df1 = pd.read_csv('etf_info_vol' + str(VOL_AVG_PERIOD)  + '.csv')\n",
    "df1['endDate'] =  pd.to_datetime(df1['endDate'])\n",
    "df1['startDate'] =  pd.to_datetime(df1['startDate'])\n",
    "df1.drop(df1.columns[0] ,axis=1, inplace=True)\n",
    "df1.head()"
   ]
  },
  {
   "cell_type": "code",
   "execution_count": 6,
   "metadata": {
    "ExecuteTime": {
     "end_time": "2019-05-09T17:15:30.862389Z",
     "start_time": "2019-05-09T17:15:30.720979Z"
    }
   },
   "outputs": [
    {
     "data": {
      "text/html": [
       "<div>\n",
       "<style scoped>\n",
       "    .dataframe tbody tr th:only-of-type {\n",
       "        vertical-align: middle;\n",
       "    }\n",
       "\n",
       "    .dataframe tbody tr th {\n",
       "        vertical-align: top;\n",
       "    }\n",
       "\n",
       "    .dataframe thead th {\n",
       "        text-align: right;\n",
       "    }\n",
       "</style>\n",
       "<table border=\"1\" class=\"dataframe\">\n",
       "  <thead>\n",
       "    <tr style=\"text-align: right;\">\n",
       "      <th></th>\n",
       "      <th>isin</th>\n",
       "      <th>nome</th>\n",
       "      <th>ticker</th>\n",
       "      <th>benchmark</th>\n",
       "      <th>ter</th>\n",
       "      <th>areaBenchmark</th>\n",
       "      <th>emittente</th>\n",
       "      <th>strumento</th>\n",
       "      <th>dataSource</th>\n",
       "      <th>startDate</th>\n",
       "      <th>endDate</th>\n",
       "      <th>volAvg</th>\n",
       "    </tr>\n",
       "  </thead>\n",
       "  <tbody>\n",
       "    <tr>\n",
       "      <th>0</th>\n",
       "      <td>LU0136242590</td>\n",
       "      <td>UBS FTSE 100 UCITS ETF A-DIS</td>\n",
       "      <td>100EUA.MI</td>\n",
       "      <td>FTSE 100 TR</td>\n",
       "      <td>0.00200</td>\n",
       "      <td>AZIONARIO EUROPA - SINGOLI PAESI</td>\n",
       "      <td>UBS ETF</td>\n",
       "      <td>ETF</td>\n",
       "      <td>LU0136242590</td>\n",
       "      <td>2013-01-14</td>\n",
       "      <td>2019-04-04</td>\n",
       "      <td>685</td>\n",
       "    </tr>\n",
       "    <tr>\n",
       "      <th>1</th>\n",
       "      <td>LU1681048804</td>\n",
       "      <td>AMUNDI S&amp;P 500 EUR UCITS ETF</td>\n",
       "      <td>A500.MI</td>\n",
       "      <td>S&amp;P 500 TRN USD</td>\n",
       "      <td>0.00150</td>\n",
       "      <td>AZIONARIO NORD AMERICA</td>\n",
       "      <td>AMUNDI</td>\n",
       "      <td>ETF</td>\n",
       "      <td>A500.MI</td>\n",
       "      <td>2010-09-09</td>\n",
       "      <td>2019-04-04</td>\n",
       "      <td>12832</td>\n",
       "    </tr>\n",
       "    <tr>\n",
       "      <th>2</th>\n",
       "      <td>LU1829219556</td>\n",
       "      <td>LYXOR HIGH RAT MW GOVT 1-3Y DR UCITS ETF</td>\n",
       "      <td>AAA13.MI</td>\n",
       "      <td>FTSE MTS HIGHEST RATED MACRO WEIGT GOV 1-3 YRS...</td>\n",
       "      <td>0.00165</td>\n",
       "      <td>TITOLI DI STATO - EURO</td>\n",
       "      <td>LYXOR</td>\n",
       "      <td>ETF</td>\n",
       "      <td>AAA13.MI</td>\n",
       "      <td>2012-03-02</td>\n",
       "      <td>2019-04-04</td>\n",
       "      <td>115</td>\n",
       "    </tr>\n",
       "    <tr>\n",
       "      <th>3</th>\n",
       "      <td>LU1829219713</td>\n",
       "      <td>LYXOR HIGH RAT MW GOVT 3-5Y DR UCITS ETF</td>\n",
       "      <td>AAA35.MI</td>\n",
       "      <td>FTSE MTS HIGHEST RATED MACRO WEIGT GOV 3-5 YRS...</td>\n",
       "      <td>0.00165</td>\n",
       "      <td>TITOLI DI STATO - EURO</td>\n",
       "      <td>LYXOR</td>\n",
       "      <td>ETF</td>\n",
       "      <td>AAA35.MI</td>\n",
       "      <td>2012-03-02</td>\n",
       "      <td>2019-04-04</td>\n",
       "      <td>9152</td>\n",
       "    </tr>\n",
       "    <tr>\n",
       "      <th>4</th>\n",
       "      <td>LU1829219986</td>\n",
       "      <td>LYXOR HIGH RAT MW GOVT 5-7Y DR UCITS ETF</td>\n",
       "      <td>AAA57.MI</td>\n",
       "      <td>FTSE MTS HIGHEST RATED MACRO WEIGT GOV 5-7 YRS...</td>\n",
       "      <td>0.00165</td>\n",
       "      <td>TITOLI DI STATO - EURO</td>\n",
       "      <td>LYXOR</td>\n",
       "      <td>ETF</td>\n",
       "      <td>AAA57.MI</td>\n",
       "      <td>2012-03-02</td>\n",
       "      <td>2019-04-04</td>\n",
       "      <td>0</td>\n",
       "    </tr>\n",
       "  </tbody>\n",
       "</table>\n",
       "</div>"
      ],
      "text/plain": [
       "           isin                                      nome     ticker  \\\n",
       "0  LU0136242590              UBS FTSE 100 UCITS ETF A-DIS  100EUA.MI   \n",
       "1  LU1681048804              AMUNDI S&P 500 EUR UCITS ETF    A500.MI   \n",
       "2  LU1829219556  LYXOR HIGH RAT MW GOVT 1-3Y DR UCITS ETF   AAA13.MI   \n",
       "3  LU1829219713  LYXOR HIGH RAT MW GOVT 3-5Y DR UCITS ETF   AAA35.MI   \n",
       "4  LU1829219986  LYXOR HIGH RAT MW GOVT 5-7Y DR UCITS ETF   AAA57.MI   \n",
       "\n",
       "                                           benchmark      ter  \\\n",
       "0                                        FTSE 100 TR  0.00200   \n",
       "1                                    S&P 500 TRN USD  0.00150   \n",
       "2  FTSE MTS HIGHEST RATED MACRO WEIGT GOV 1-3 YRS...  0.00165   \n",
       "3  FTSE MTS HIGHEST RATED MACRO WEIGT GOV 3-5 YRS...  0.00165   \n",
       "4  FTSE MTS HIGHEST RATED MACRO WEIGT GOV 5-7 YRS...  0.00165   \n",
       "\n",
       "                      areaBenchmark emittente strumento    dataSource  \\\n",
       "0  AZIONARIO EUROPA - SINGOLI PAESI   UBS ETF       ETF  LU0136242590   \n",
       "1            AZIONARIO NORD AMERICA    AMUNDI       ETF       A500.MI   \n",
       "2            TITOLI DI STATO - EURO     LYXOR       ETF      AAA13.MI   \n",
       "3            TITOLI DI STATO - EURO     LYXOR       ETF      AAA35.MI   \n",
       "4            TITOLI DI STATO - EURO     LYXOR       ETF      AAA57.MI   \n",
       "\n",
       "   startDate    endDate  volAvg  \n",
       "0 2013-01-14 2019-04-04     685  \n",
       "1 2010-09-09 2019-04-04   12832  \n",
       "2 2012-03-02 2019-04-04     115  \n",
       "3 2012-03-02 2019-04-04    9152  \n",
       "4 2012-03-02 2019-04-04       0  "
      ]
     },
     "execution_count": 6,
     "metadata": {},
     "output_type": "execute_result"
    }
   ],
   "source": [
    "df2 = pd.read_csv('etf_info_vol' + str(VOL_AVG_PERIOD)  + '_clean.csv')\n",
    "df2['endDate'] =  pd.to_datetime(df2['endDate'])\n",
    "df2['startDate'] =  pd.to_datetime(df2['startDate'])\n",
    "df2.drop(df2.columns[0] ,axis=1, inplace=True)\n",
    "df2.head()"
   ]
  },
  {
   "cell_type": "markdown",
   "metadata": {},
   "source": [
    "# Analisi dati ETF"
   ]
  },
  {
   "cell_type": "code",
   "execution_count": 10,
   "metadata": {
    "ExecuteTime": {
     "end_time": "2019-05-09T17:16:02.651447Z",
     "start_time": "2019-05-09T17:16:02.569221Z"
    }
   },
   "outputs": [
    {
     "data": {
      "text/html": [
       "<div>\n",
       "<style scoped>\n",
       "    .dataframe tbody tr th:only-of-type {\n",
       "        vertical-align: middle;\n",
       "    }\n",
       "\n",
       "    .dataframe tbody tr th {\n",
       "        vertical-align: top;\n",
       "    }\n",
       "\n",
       "    .dataframe thead th {\n",
       "        text-align: right;\n",
       "    }\n",
       "</style>\n",
       "<table border=\"1\" class=\"dataframe\">\n",
       "  <thead>\n",
       "    <tr style=\"text-align: right;\">\n",
       "      <th></th>\n",
       "      <th>ter</th>\n",
       "      <th>volAvg</th>\n",
       "    </tr>\n",
       "  </thead>\n",
       "  <tbody>\n",
       "    <tr>\n",
       "      <th>count</th>\n",
       "      <td>1029.000000</td>\n",
       "      <td>1.029000e+03</td>\n",
       "    </tr>\n",
       "    <tr>\n",
       "      <th>mean</th>\n",
       "      <td>0.004723</td>\n",
       "      <td>7.814199e+04</td>\n",
       "    </tr>\n",
       "    <tr>\n",
       "      <th>std</th>\n",
       "      <td>0.003196</td>\n",
       "      <td>1.098347e+06</td>\n",
       "    </tr>\n",
       "    <tr>\n",
       "      <th>min</th>\n",
       "      <td>0.000400</td>\n",
       "      <td>0.000000e+00</td>\n",
       "    </tr>\n",
       "    <tr>\n",
       "      <th>25%</th>\n",
       "      <td>0.002300</td>\n",
       "      <td>2.520000e+02</td>\n",
       "    </tr>\n",
       "    <tr>\n",
       "      <th>50%</th>\n",
       "      <td>0.003900</td>\n",
       "      <td>1.588000e+03</td>\n",
       "    </tr>\n",
       "    <tr>\n",
       "      <th>75%</th>\n",
       "      <td>0.006500</td>\n",
       "      <td>7.103000e+03</td>\n",
       "    </tr>\n",
       "    <tr>\n",
       "      <th>max</th>\n",
       "      <td>0.018300</td>\n",
       "      <td>2.388080e+07</td>\n",
       "    </tr>\n",
       "  </tbody>\n",
       "</table>\n",
       "</div>"
      ],
      "text/plain": [
       "               ter        volAvg\n",
       "count  1029.000000  1.029000e+03\n",
       "mean      0.004723  7.814199e+04\n",
       "std       0.003196  1.098347e+06\n",
       "min       0.000400  0.000000e+00\n",
       "25%       0.002300  2.520000e+02\n",
       "50%       0.003900  1.588000e+03\n",
       "75%       0.006500  7.103000e+03\n",
       "max       0.018300  2.388080e+07"
      ]
     },
     "execution_count": 10,
     "metadata": {},
     "output_type": "execute_result"
    }
   ],
   "source": [
    "df2.describe()"
   ]
  },
  {
   "cell_type": "code",
   "execution_count": 11,
   "metadata": {
    "ExecuteTime": {
     "end_time": "2019-05-09T17:16:05.588420Z",
     "start_time": "2019-05-09T17:16:05.525865Z"
    }
   },
   "outputs": [
    {
     "data": {
      "text/plain": [
       "16374.799999999987"
      ]
     },
     "execution_count": 11,
     "metadata": {},
     "output_type": "execute_result"
    }
   ],
   "source": [
    "df2.volAvg.quantile(q=0.85)"
   ]
  },
  {
   "cell_type": "code",
   "execution_count": 12,
   "metadata": {
    "ExecuteTime": {
     "end_time": "2019-05-09T17:16:07.347009Z",
     "start_time": "2019-05-09T17:16:07.277868Z"
    }
   },
   "outputs": [],
   "source": [
    "# salva i nomi delle aree benchmark in un file\n",
    "with open('area.csv', \"w\") as outfile:\n",
    "    for entries in df.areaBenchmark.unique():\n",
    "        outfile.write(entries)\n",
    "        outfile.write(\"\\n\")"
   ]
  },
  {
   "cell_type": "code",
   "execution_count": 13,
   "metadata": {
    "ExecuteTime": {
     "end_time": "2019-05-09T17:16:08.159258Z",
     "start_time": "2019-05-09T17:16:08.103484Z"
    }
   },
   "outputs": [],
   "source": [
    "# costruita a mano dal file area.csv\n",
    "\n",
    "listaAree = ['AZIONARIO EUROPA - AREA',\n",
    "'AZIONARIO MONDO',\n",
    "'AZIONARIO NORD AMERICA',\n",
    "'COMMODITIES',\n",
    "'METALLI PREZIOSI',\n",
    "'REAL ESTATE',\n",
    "'TITOLI DI STATO - EURO',\n",
    "'TITOLI DI STATO - MONDO',\n",
    "'TITOLI DI STATO - NON EURO']"
   ]
  },
  {
   "cell_type": "code",
   "execution_count": 14,
   "metadata": {
    "ExecuteTime": {
     "end_time": "2019-05-09T17:16:27.224432Z",
     "start_time": "2019-05-09T17:16:27.161248Z"
    }
   },
   "outputs": [],
   "source": [
    "df3 = df2[df2.areaBenchmark.isin(listaAree)]"
   ]
  },
  {
   "cell_type": "code",
   "execution_count": 101,
   "metadata": {
    "ExecuteTime": {
     "end_time": "2019-05-07T07:08:05.129761Z",
     "start_time": "2019-05-07T07:08:03.621290Z"
    },
    "collapsed": true
   },
   "outputs": [],
   "source": [
    "# salva il df3, con solo i ticker interessanti\n",
    "\n",
    "df3.to_excel('etf_info_vol' + str(VOL_AVG_PERIOD)  + '_clean_mach1.xlsx')\n",
    "df3.to_csv('etf_info_vol' + str(VOL_AVG_PERIOD)  + '_clean_mach1.csv')"
   ]
  },
  {
   "cell_type": "markdown",
   "metadata": {},
   "source": [
    "### LISTA 1 - az US, az EU, obb EU, obb US, gold"
   ]
  },
  {
   "cell_type": "code",
   "execution_count": 15,
   "metadata": {
    "ExecuteTime": {
     "end_time": "2019-05-09T17:16:32.337288Z",
     "start_time": "2019-05-09T17:16:32.280815Z"
    }
   },
   "outputs": [],
   "source": [
    "# lista 1 ticker 'buoni', costruita a mano partendo da mach1\n",
    "\n",
    "lista1 = ['imeu','ceu','smea','iusa','csspx','phau','ibtm','ibgm', 'emg', 'em15', 'ibgl']\n",
    "ticker10 = [x.upper()+'.MI' for x in lista1]"
   ]
  },
  {
   "cell_type": "code",
   "execution_count": 16,
   "metadata": {
    "ExecuteTime": {
     "end_time": "2019-05-09T17:16:33.717776Z",
     "start_time": "2019-05-09T17:16:33.654153Z"
    }
   },
   "outputs": [],
   "source": [
    "df4 = df2[df2.ticker.isin(ticker10)]"
   ]
  },
  {
   "cell_type": "markdown",
   "metadata": {},
   "source": [
    "#### Dataframe con le info dei ticker \"buoni\""
   ]
  },
  {
   "cell_type": "code",
   "execution_count": 17,
   "metadata": {
    "ExecuteTime": {
     "end_time": "2019-05-09T17:16:35.225726Z",
     "start_time": "2019-05-09T17:16:35.124431Z"
    }
   },
   "outputs": [
    {
     "data": {
      "text/html": [
       "<div>\n",
       "<style scoped>\n",
       "    .dataframe tbody tr th:only-of-type {\n",
       "        vertical-align: middle;\n",
       "    }\n",
       "\n",
       "    .dataframe tbody tr th {\n",
       "        vertical-align: top;\n",
       "    }\n",
       "\n",
       "    .dataframe thead th {\n",
       "        text-align: right;\n",
       "    }\n",
       "</style>\n",
       "<table border=\"1\" class=\"dataframe\">\n",
       "  <thead>\n",
       "    <tr style=\"text-align: right;\">\n",
       "      <th></th>\n",
       "      <th>isin</th>\n",
       "      <th>nome</th>\n",
       "      <th>ticker</th>\n",
       "      <th>benchmark</th>\n",
       "      <th>ter</th>\n",
       "      <th>areaBenchmark</th>\n",
       "      <th>emittente</th>\n",
       "      <th>strumento</th>\n",
       "      <th>dataSource</th>\n",
       "      <th>startDate</th>\n",
       "      <th>endDate</th>\n",
       "      <th>volAvg</th>\n",
       "    </tr>\n",
       "  </thead>\n",
       "  <tbody>\n",
       "    <tr>\n",
       "      <th>66</th>\n",
       "      <td>LU1681042609</td>\n",
       "      <td>AMUNDI MSCI EUROPE UCITS ETF - EUR</td>\n",
       "      <td>CEU.MI</td>\n",
       "      <td>MSCI TRN EUROPE INDEX</td>\n",
       "      <td>0.00150</td>\n",
       "      <td>AZIONARIO EUROPA - AREA</td>\n",
       "      <td>AMUNDI</td>\n",
       "      <td>ETF</td>\n",
       "      <td>CEU.MI</td>\n",
       "      <td>2010-03-17</td>\n",
       "      <td>2019-04-04</td>\n",
       "      <td>1125</td>\n",
       "    </tr>\n",
       "    <tr>\n",
       "      <th>105</th>\n",
       "      <td>IE00B5BMR087</td>\n",
       "      <td>ISHARES CORE S&amp;P 500 UCITS ETF USD ACC</td>\n",
       "      <td>CSSPX.MI</td>\n",
       "      <td>S&amp;P 500 TRN USD</td>\n",
       "      <td>0.00070</td>\n",
       "      <td>AZIONARIO NORD AMERICA</td>\n",
       "      <td>ISHARES</td>\n",
       "      <td>ETF</td>\n",
       "      <td>IE00B5BMR087</td>\n",
       "      <td>2010-05-26</td>\n",
       "      <td>2019-04-04</td>\n",
       "      <td>35724</td>\n",
       "    </tr>\n",
       "    <tr>\n",
       "      <th>166</th>\n",
       "      <td>LU1287023268</td>\n",
       "      <td>LYXOR EMTS 15+Y INV GR DR UCITS ETF ACC</td>\n",
       "      <td>EM15.MI</td>\n",
       "      <td>FTSE MTS MID PRICE INVG EX-CNO ETRIX 15+ TR</td>\n",
       "      <td>0.00165</td>\n",
       "      <td>TITOLI DI STATO - EURO</td>\n",
       "      <td>LYXOR</td>\n",
       "      <td>ETF</td>\n",
       "      <td>EM15.MI</td>\n",
       "      <td>2007-10-25</td>\n",
       "      <td>2019-04-04</td>\n",
       "      <td>7155</td>\n",
       "    </tr>\n",
       "    <tr>\n",
       "      <th>175</th>\n",
       "      <td>LU1650490474</td>\n",
       "      <td>LYXOR EMTS ALL-MAT IN G DR UCITS ETF ACC</td>\n",
       "      <td>EMG.MI</td>\n",
       "      <td>FTSE MTS EUROZONE GOV BOND IG MIDP</td>\n",
       "      <td>0.00165</td>\n",
       "      <td>TITOLI DI STATO - EURO</td>\n",
       "      <td>LYXOR</td>\n",
       "      <td>ETF</td>\n",
       "      <td>EMG.MI</td>\n",
       "      <td>2004-05-11</td>\n",
       "      <td>2019-04-04</td>\n",
       "      <td>36791</td>\n",
       "    </tr>\n",
       "    <tr>\n",
       "      <th>289</th>\n",
       "      <td>IE00B1FZS913</td>\n",
       "      <td>ISHARES EU GOVT 15-30YR UCITS ETF DIST</td>\n",
       "      <td>IBGL.MI</td>\n",
       "      <td>BARCLAYS EURO GOV BOND 30 YEAR TERM</td>\n",
       "      <td>0.00200</td>\n",
       "      <td>TITOLI DI STATO - EURO</td>\n",
       "      <td>ISHARES</td>\n",
       "      <td>ETF</td>\n",
       "      <td>IBGL.MI</td>\n",
       "      <td>2007-03-20</td>\n",
       "      <td>2019-04-04</td>\n",
       "      <td>1538</td>\n",
       "    </tr>\n",
       "    <tr>\n",
       "      <th>290</th>\n",
       "      <td>IE00B1FZS806</td>\n",
       "      <td>ISHARES EU GOVT 7-10YR UCITS ETF DIST</td>\n",
       "      <td>IBGM.MI</td>\n",
       "      <td>BARCLAYS EURO GOV BOND 10 YEAR TERM</td>\n",
       "      <td>0.00200</td>\n",
       "      <td>TITOLI DI STATO - EURO</td>\n",
       "      <td>ISHARES</td>\n",
       "      <td>ETF</td>\n",
       "      <td>IBGM.MI</td>\n",
       "      <td>2007-03-20</td>\n",
       "      <td>2019-04-04</td>\n",
       "      <td>8904</td>\n",
       "    </tr>\n",
       "    <tr>\n",
       "      <th>295</th>\n",
       "      <td>IE00B1FZS798</td>\n",
       "      <td>ISHARES $ TREASURY 7-10YR UCITS ETF DIST</td>\n",
       "      <td>IBTM.MI</td>\n",
       "      <td>BARCLAYS US TREASURY 10 YEAR TERM</td>\n",
       "      <td>0.00200</td>\n",
       "      <td>TITOLI DI STATO - NON EURO</td>\n",
       "      <td>ISHARES</td>\n",
       "      <td>ETF</td>\n",
       "      <td>IBTM.MI</td>\n",
       "      <td>2007-03-20</td>\n",
       "      <td>2019-04-04</td>\n",
       "      <td>10783</td>\n",
       "    </tr>\n",
       "    <tr>\n",
       "      <th>325</th>\n",
       "      <td>IE00B1YZSC51</td>\n",
       "      <td>ISHARESCOREMSCIEUROPE UCITS ETF</td>\n",
       "      <td>IMEU.MI</td>\n",
       "      <td>MSCI EUROPE</td>\n",
       "      <td>0.00120</td>\n",
       "      <td>AZIONARIO EUROPA - AREA</td>\n",
       "      <td>ISHARES</td>\n",
       "      <td>ETF</td>\n",
       "      <td>IMEU.MI</td>\n",
       "      <td>2008-03-18</td>\n",
       "      <td>2019-04-04</td>\n",
       "      <td>157330</td>\n",
       "    </tr>\n",
       "    <tr>\n",
       "      <th>356</th>\n",
       "      <td>IE0031442068</td>\n",
       "      <td>ISHARESCORES&amp;P500$(DIST) UCITS ETF</td>\n",
       "      <td>IUSA.MI</td>\n",
       "      <td>S&amp;P 500</td>\n",
       "      <td>0.00070</td>\n",
       "      <td>AZIONARIO NORD AMERICA</td>\n",
       "      <td>ISHARES</td>\n",
       "      <td>ETF</td>\n",
       "      <td>IUSA.MI</td>\n",
       "      <td>2004-05-11</td>\n",
       "      <td>2019-04-04</td>\n",
       "      <td>246870</td>\n",
       "    </tr>\n",
       "    <tr>\n",
       "      <th>479</th>\n",
       "      <td>IE00B4K48X80</td>\n",
       "      <td>ISHARESCOREMSCIEUROPE€(ACC) UCITS ETF</td>\n",
       "      <td>SMEA.MI</td>\n",
       "      <td>MSCI TRN EUROPE INDEX</td>\n",
       "      <td>0.00120</td>\n",
       "      <td>AZIONARIO EUROPA - AREA</td>\n",
       "      <td>ISHARES</td>\n",
       "      <td>ETF</td>\n",
       "      <td>SMEA.MI</td>\n",
       "      <td>2010-02-11</td>\n",
       "      <td>2019-04-04</td>\n",
       "      <td>35167</td>\n",
       "    </tr>\n",
       "    <tr>\n",
       "      <th>960</th>\n",
       "      <td>JE00B1VS3770</td>\n",
       "      <td>ETFS PHYSICAL GOLD</td>\n",
       "      <td>PHAU.MI</td>\n",
       "      <td>1/10 ONCIA TROY DI ORO</td>\n",
       "      <td>0.00390</td>\n",
       "      <td>METALLI PREZIOSI</td>\n",
       "      <td>ETFS SECURITIES</td>\n",
       "      <td>ETC</td>\n",
       "      <td>PHAU.MI</td>\n",
       "      <td>2007-06-20</td>\n",
       "      <td>2019-04-04</td>\n",
       "      <td>25317</td>\n",
       "    </tr>\n",
       "  </tbody>\n",
       "</table>\n",
       "</div>"
      ],
      "text/plain": [
       "             isin                                      nome    ticker  \\\n",
       "66   LU1681042609        AMUNDI MSCI EUROPE UCITS ETF - EUR    CEU.MI   \n",
       "105  IE00B5BMR087    ISHARES CORE S&P 500 UCITS ETF USD ACC  CSSPX.MI   \n",
       "166  LU1287023268   LYXOR EMTS 15+Y INV GR DR UCITS ETF ACC   EM15.MI   \n",
       "175  LU1650490474  LYXOR EMTS ALL-MAT IN G DR UCITS ETF ACC    EMG.MI   \n",
       "289  IE00B1FZS913    ISHARES EU GOVT 15-30YR UCITS ETF DIST   IBGL.MI   \n",
       "290  IE00B1FZS806     ISHARES EU GOVT 7-10YR UCITS ETF DIST   IBGM.MI   \n",
       "295  IE00B1FZS798  ISHARES $ TREASURY 7-10YR UCITS ETF DIST   IBTM.MI   \n",
       "325  IE00B1YZSC51           ISHARESCOREMSCIEUROPE UCITS ETF   IMEU.MI   \n",
       "356  IE0031442068        ISHARESCORES&P500$(DIST) UCITS ETF   IUSA.MI   \n",
       "479  IE00B4K48X80     ISHARESCOREMSCIEUROPE€(ACC) UCITS ETF   SMEA.MI   \n",
       "960  JE00B1VS3770                        ETFS PHYSICAL GOLD   PHAU.MI   \n",
       "\n",
       "                                       benchmark      ter  \\\n",
       "66                         MSCI TRN EUROPE INDEX  0.00150   \n",
       "105                              S&P 500 TRN USD  0.00070   \n",
       "166  FTSE MTS MID PRICE INVG EX-CNO ETRIX 15+ TR  0.00165   \n",
       "175           FTSE MTS EUROZONE GOV BOND IG MIDP  0.00165   \n",
       "289          BARCLAYS EURO GOV BOND 30 YEAR TERM  0.00200   \n",
       "290          BARCLAYS EURO GOV BOND 10 YEAR TERM  0.00200   \n",
       "295            BARCLAYS US TREASURY 10 YEAR TERM  0.00200   \n",
       "325                                  MSCI EUROPE  0.00120   \n",
       "356                                      S&P 500  0.00070   \n",
       "479                        MSCI TRN EUROPE INDEX  0.00120   \n",
       "960                       1/10 ONCIA TROY DI ORO  0.00390   \n",
       "\n",
       "                  areaBenchmark        emittente strumento    dataSource  \\\n",
       "66      AZIONARIO EUROPA - AREA           AMUNDI       ETF        CEU.MI   \n",
       "105      AZIONARIO NORD AMERICA          ISHARES       ETF  IE00B5BMR087   \n",
       "166      TITOLI DI STATO - EURO            LYXOR       ETF       EM15.MI   \n",
       "175      TITOLI DI STATO - EURO            LYXOR       ETF        EMG.MI   \n",
       "289      TITOLI DI STATO - EURO          ISHARES       ETF       IBGL.MI   \n",
       "290      TITOLI DI STATO - EURO          ISHARES       ETF       IBGM.MI   \n",
       "295  TITOLI DI STATO - NON EURO          ISHARES       ETF       IBTM.MI   \n",
       "325     AZIONARIO EUROPA - AREA          ISHARES       ETF       IMEU.MI   \n",
       "356      AZIONARIO NORD AMERICA          ISHARES       ETF       IUSA.MI   \n",
       "479     AZIONARIO EUROPA - AREA          ISHARES       ETF       SMEA.MI   \n",
       "960            METALLI PREZIOSI  ETFS SECURITIES       ETC       PHAU.MI   \n",
       "\n",
       "     startDate    endDate  volAvg  \n",
       "66  2010-03-17 2019-04-04    1125  \n",
       "105 2010-05-26 2019-04-04   35724  \n",
       "166 2007-10-25 2019-04-04    7155  \n",
       "175 2004-05-11 2019-04-04   36791  \n",
       "289 2007-03-20 2019-04-04    1538  \n",
       "290 2007-03-20 2019-04-04    8904  \n",
       "295 2007-03-20 2019-04-04   10783  \n",
       "325 2008-03-18 2019-04-04  157330  \n",
       "356 2004-05-11 2019-04-04  246870  \n",
       "479 2010-02-11 2019-04-04   35167  \n",
       "960 2007-06-20 2019-04-04   25317  "
      ]
     },
     "execution_count": 17,
     "metadata": {},
     "output_type": "execute_result"
    }
   ],
   "source": [
    "df4"
   ]
  },
  {
   "cell_type": "markdown",
   "metadata": {},
   "source": [
    "#### Creo un DF con le quotazioni close dei ticker selezionati"
   ]
  },
  {
   "cell_type": "code",
   "execution_count": 18,
   "metadata": {
    "ExecuteTime": {
     "end_time": "2019-05-09T17:16:45.705158Z",
     "start_time": "2019-05-09T17:16:45.639106Z"
    }
   },
   "outputs": [
    {
     "data": {
      "text/plain": [
       "['ceu',\n",
       " 'csspx',\n",
       " 'em15',\n",
       " 'emg',\n",
       " 'ibgl',\n",
       " 'ibgm',\n",
       " 'ibtm',\n",
       " 'imeu',\n",
       " 'iusa',\n",
       " 'smea',\n",
       " 'phau']"
      ]
     },
     "execution_count": 18,
     "metadata": {},
     "output_type": "execute_result"
    }
   ],
   "source": [
    "sources1 = df4.dataSource.tolist()\n",
    "\n",
    "ticker1 = df4.ticker.tolist()\n",
    "ticker1 = [x.lower().split('.')[0] for x in ticker1]\n",
    "ticker1"
   ]
  },
  {
   "cell_type": "code",
   "execution_count": 19,
   "metadata": {
    "ExecuteTime": {
     "end_time": "2019-05-09T17:16:53.675756Z",
     "start_time": "2019-05-09T17:16:46.414405Z"
    }
   },
   "outputs": [],
   "source": [
    "dfLista = pd.DataFrame()\n",
    "for source in sources1:\n",
    "    filename = WORKDIR + source + EXT\n",
    "    df_t = pd.read_csv(filename, usecols=[1,2,3,4,5,6], index_col=0, parse_dates=True, dayfirst=True)\n",
    "    dfLista = dfLista.join(df_t.close,how='outer',rsuffix='_'+source)\n",
    "    \n",
    "dfLista.columns = ticker1"
   ]
  },
  {
   "cell_type": "code",
   "execution_count": 20,
   "metadata": {
    "ExecuteTime": {
     "end_time": "2019-05-09T17:16:53.738556Z",
     "start_time": "2019-05-09T17:16:53.680353Z"
    }
   },
   "outputs": [],
   "source": [
    "df100 = dfLista.copy()"
   ]
  },
  {
   "cell_type": "markdown",
   "metadata": {},
   "source": [
    "#### Correzione SMEA"
   ]
  },
  {
   "cell_type": "code",
   "execution_count": 21,
   "metadata": {
    "ExecuteTime": {
     "end_time": "2019-05-09T17:16:55.872549Z",
     "start_time": "2019-05-09T17:16:55.805140Z"
    }
   },
   "outputs": [
    {
     "data": {
      "text/plain": [
       "Timestamp('2018-11-22 00:00:00')"
      ]
     },
     "execution_count": 21,
     "metadata": {},
     "output_type": "execute_result"
    }
   ],
   "source": [
    "df100.smea.idxmin()"
   ]
  },
  {
   "cell_type": "code",
   "execution_count": 22,
   "metadata": {
    "ExecuteTime": {
     "end_time": "2019-05-09T17:16:56.627972Z",
     "start_time": "2019-05-09T17:16:56.542948Z"
    }
   },
   "outputs": [],
   "source": [
    "df100.smea.loc['2018-11-22']=df100.smea.loc['2018-11-21']"
   ]
  },
  {
   "cell_type": "markdown",
   "metadata": {},
   "source": [
    "### Pulizia dati (NaN)"
   ]
  },
  {
   "cell_type": "code",
   "execution_count": 23,
   "metadata": {
    "ExecuteTime": {
     "end_time": "2019-05-09T17:16:59.057721Z",
     "start_time": "2019-05-09T17:16:58.984310Z"
    },
    "scrolled": true
   },
   "outputs": [
    {
     "name": "stdout",
     "output_type": "stream",
     "text": [
      "First valid index for column ceu is at 2010-03-17 00:00:00\n",
      "First valid index for column csspx is at 2010-05-26 00:00:00\n",
      "First valid index for column em15 is at 2007-10-25 00:00:00\n",
      "First valid index for column emg is at 2004-05-11 00:00:00\n",
      "First valid index for column ibgl is at 2007-03-20 00:00:00\n",
      "First valid index for column ibgm is at 2007-03-20 00:00:00\n",
      "First valid index for column ibtm is at 2007-03-20 00:00:00\n",
      "First valid index for column imeu is at 2008-03-18 00:00:00\n",
      "First valid index for column iusa is at 2004-05-11 00:00:00\n",
      "First valid index for column smea is at 2010-02-11 00:00:00\n",
      "First valid index for column phau is at 2007-06-20 00:00:00\n"
     ]
    }
   ],
   "source": [
    "for col_name, data in df100.items(): \n",
    "    print(\"First valid index for column {} is at {}\".format(col_name, data.first_valid_index()))"
   ]
  },
  {
   "cell_type": "code",
   "execution_count": 24,
   "metadata": {
    "ExecuteTime": {
     "end_time": "2019-05-09T17:17:01.702319Z",
     "start_time": "2019-05-09T17:17:01.637581Z"
    }
   },
   "outputs": [],
   "source": [
    "# prima data valida \n",
    "df101 = df100[df100.index >= '2010-05-26']\n",
    "\n",
    "# back-fill i NaN\n",
    "df102 = df101.fillna(method='bfill')\n"
   ]
  },
  {
   "cell_type": "code",
   "execution_count": 25,
   "metadata": {
    "ExecuteTime": {
     "end_time": "2019-05-09T17:38:41.410331Z",
     "start_time": "2019-05-09T17:38:38.711507Z"
    }
   },
   "outputs": [],
   "source": [
    "# SALVO df con quotazioni titoli selezionati puliti\n",
    "\n",
    "df102.to_csv('quotes_clean_mach1.csv')\n",
    "df102.to_excel('quotes_clean_mach1.xlsx')"
   ]
  },
  {
   "cell_type": "code",
   "execution_count": 26,
   "metadata": {
    "ExecuteTime": {
     "end_time": "2019-05-09T17:38:49.537682Z",
     "start_time": "2019-05-09T17:38:49.358611Z"
    }
   },
   "outputs": [],
   "source": [
    "# Normalizzo\n",
    "# ndf100 = (df100-df100.min())/(df100.max()-df100.min())\n",
    "norm_df102 = df102/df102.iloc[0]"
   ]
  },
  {
   "cell_type": "markdown",
   "metadata": {},
   "source": [
    "### sampling alla settimana (df200)\n",
    "Per farlo aggiungo il weekday come colonna"
   ]
  },
  {
   "cell_type": "code",
   "execution_count": 27,
   "metadata": {
    "ExecuteTime": {
     "end_time": "2019-05-09T17:38:53.365222Z",
     "start_time": "2019-05-09T17:38:53.292295Z"
    }
   },
   "outputs": [],
   "source": [
    "df103 = df102.copy()\n",
    "df103['weekday'] = df103.index.weekday_name"
   ]
  },
  {
   "cell_type": "code",
   "execution_count": 28,
   "metadata": {
    "ExecuteTime": {
     "end_time": "2019-05-09T17:39:16.314583Z",
     "start_time": "2019-05-09T17:39:16.174372Z"
    }
   },
   "outputs": [],
   "source": [
    "# l'offset serve per allineare la data ai venerdì in cui prende il campione\n",
    "df200 = df103.resample('W',loffset=pd.offsets.timedelta(days=-2)).last()\n",
    "\n",
    "# droppo la colonna weekday per normalizzare\n",
    "df200 = df200.drop(columns='weekday')\n",
    "\n",
    "# normalizzo e plotto\n",
    "\n",
    "norm_df200 = df200/df200.iloc[0]\n",
    "#norm_df200.plot()"
   ]
  },
  {
   "cell_type": "code",
   "execution_count": 29,
   "metadata": {
    "ExecuteTime": {
     "end_time": "2019-05-09T17:39:19.769111Z",
     "start_time": "2019-05-09T17:39:18.551420Z"
    }
   },
   "outputs": [
    {
     "data": {
      "text/plain": [
       "<matplotlib.axes._subplots.AxesSubplot at 0x1232a3278>"
      ]
     },
     "execution_count": 29,
     "metadata": {},
     "output_type": "execute_result"
    },
    {
     "data": {
      "image/png": "[encoded data removed]",
      "text/plain": [
       "<Figure size 900x700 with 1 Axes>"
      ]
     },
     "metadata": {},
     "output_type": "display_data"
    }
   ],
   "source": [
    "plt.style.use('default')\n",
    "#norm_df200.plot(kind='line', colormap='PiYG')\n",
    "#norm_df200.plot(kind='line', colormap='inferno')\n",
    "norm_df200.plot(kind='line', colormap='Paired', figsize=(9,7))"
   ]
  },
  {
   "cell_type": "markdown",
   "metadata": {},
   "source": [
    "### Returns"
   ]
  },
  {
   "cell_type": "code",
   "execution_count": 30,
   "metadata": {
    "ExecuteTime": {
     "end_time": "2019-05-09T17:39:27.502748Z",
     "start_time": "2019-05-09T17:39:27.357914Z"
    }
   },
   "outputs": [],
   "source": [
    "returns = np.log(df200/df200.shift(1))\n",
    "returns.dropna(inplace=True)"
   ]
  },
  {
   "cell_type": "code",
   "execution_count": 31,
   "metadata": {
    "ExecuteTime": {
     "end_time": "2019-05-09T17:39:28.807503Z",
     "start_time": "2019-05-09T17:39:28.460041Z"
    }
   },
   "outputs": [
    {
     "name": "stdout",
     "output_type": "stream",
     "text": [
      "----------------------------------------------------------------------------------\n",
      "Assets Classes Annualized Statistics — full observation period\n"
     ]
    },
    {
     "data": {
      "text/html": [
       "<style  type=\"text/css\" >\n",
       "    #T_654da4f6_7281_11e9_aadc_001cb3bd83e3row0_col0 {\n",
       "            width:  10em;\n",
       "             height:  80%;\n",
       "            background:  linear-gradient(90deg, transparent 0%, transparent 50%, green 50%, green 79.4%, transparent 79.4%);\n",
       "        }    #T_654da4f6_7281_11e9_aadc_001cb3bd83e3row0_col1 {\n",
       "            width:  10em;\n",
       "             height:  80%;\n",
       "            background:  linear-gradient(90deg, transparent 0%, transparent 50%, green 50%, green 99.4%, transparent 99.4%);\n",
       "        }    #T_654da4f6_7281_11e9_aadc_001cb3bd83e3row0_col2 {\n",
       "            width:  10em;\n",
       "             height:  80%;\n",
       "            background:  linear-gradient(90deg, transparent 0%, transparent 50%, green 50%, green 78.2%, transparent 78.2%);\n",
       "        }    #T_654da4f6_7281_11e9_aadc_001cb3bd83e3row1_col0 {\n",
       "            width:  10em;\n",
       "             height:  80%;\n",
       "            background:  linear-gradient(90deg, transparent 0%, transparent 50%, green 50%, green 100.0%, transparent 100.0%);\n",
       "        }    #T_654da4f6_7281_11e9_aadc_001cb3bd83e3row1_col1 {\n",
       "            width:  10em;\n",
       "             height:  80%;\n",
       "            background:  linear-gradient(90deg, transparent 0%, transparent 50%, green 50%, green 97.4%, transparent 97.4%);\n",
       "        }    #T_654da4f6_7281_11e9_aadc_001cb3bd83e3row1_col2 {\n",
       "            width:  10em;\n",
       "             height:  80%;\n",
       "            background:  linear-gradient(90deg, transparent 0%, transparent 50%, green 50%, green 100.0%, transparent 100.0%);\n",
       "        }    #T_654da4f6_7281_11e9_aadc_001cb3bd83e3row2_col0 {\n",
       "            width:  10em;\n",
       "             height:  80%;\n",
       "            background:  linear-gradient(90deg, transparent 0%, transparent 50%, green 50%, green 75.5%, transparent 75.5%);\n",
       "        }    #T_654da4f6_7281_11e9_aadc_001cb3bd83e3row2_col1 {\n",
       "            width:  10em;\n",
       "             height:  80%;\n",
       "            background:  linear-gradient(90deg, transparent 0%, transparent 50%, green 50%, green 80.5%, transparent 80.5%);\n",
       "        }    #T_654da4f6_7281_11e9_aadc_001cb3bd83e3row2_col2 {\n",
       "            width:  10em;\n",
       "             height:  80%;\n",
       "            background:  linear-gradient(90deg, transparent 0%, transparent 50%, green 50%, green 89.6%, transparent 89.6%);\n",
       "        }    #T_654da4f6_7281_11e9_aadc_001cb3bd83e3row3_col0 {\n",
       "            width:  10em;\n",
       "             height:  80%;\n",
       "            background:  linear-gradient(90deg, transparent 0%, transparent 50%, green 50%, green 62.7%, transparent 62.7%);\n",
       "        }    #T_654da4f6_7281_11e9_aadc_001cb3bd83e3row3_col1 {\n",
       "            width:  10em;\n",
       "             height:  80%;\n",
       "            background:  linear-gradient(90deg, transparent 0%, transparent 50%, green 50%, green 63.1%, transparent 63.1%);\n",
       "        }    #T_654da4f6_7281_11e9_aadc_001cb3bd83e3row3_col2 {\n",
       "            width:  10em;\n",
       "             height:  80%;\n",
       "            background:  linear-gradient(90deg, transparent 0%, transparent 50%, green 50%, green 96.2%, transparent 96.2%);\n",
       "        }    #T_654da4f6_7281_11e9_aadc_001cb3bd83e3row4_col0 {\n",
       "            width:  10em;\n",
       "             height:  80%;\n",
       "            background:  linear-gradient(90deg, transparent 0%, transparent 50%, green 50%, green 66.3%, transparent 66.3%);\n",
       "        }    #T_654da4f6_7281_11e9_aadc_001cb3bd83e3row4_col1 {\n",
       "            width:  10em;\n",
       "             height:  80%;\n",
       "            background:  linear-gradient(90deg, transparent 0%, transparent 50%, green 50%, green 79.8%, transparent 79.8%);\n",
       "        }    #T_654da4f6_7281_11e9_aadc_001cb3bd83e3row4_col2 {\n",
       "            width:  10em;\n",
       "             height:  80%;\n",
       "            background:  linear-gradient(90deg, transparent 0%, transparent 50%, green 50%, green 75.9%, transparent 75.9%);\n",
       "        }    #T_654da4f6_7281_11e9_aadc_001cb3bd83e3row5_col0 {\n",
       "            width:  10em;\n",
       "             height:  80%;\n",
       "            background:  linear-gradient(90deg, transparent 0%, transparent 50%, green 50%, green 62.3%, transparent 62.3%);\n",
       "        }    #T_654da4f6_7281_11e9_aadc_001cb3bd83e3row5_col1 {\n",
       "            width:  10em;\n",
       "             height:  80%;\n",
       "            background:  linear-gradient(90deg, transparent 0%, transparent 50%, green 50%, green 65.3%, transparent 65.3%);\n",
       "        }    #T_654da4f6_7281_11e9_aadc_001cb3bd83e3row5_col2 {\n",
       "            width:  10em;\n",
       "             height:  80%;\n",
       "            background:  linear-gradient(90deg, transparent 0%, transparent 50%, green 50%, green 88.1%, transparent 88.1%);\n",
       "        }    #T_654da4f6_7281_11e9_aadc_001cb3bd83e3row6_col0 {\n",
       "            width:  10em;\n",
       "             height:  80%;\n",
       "            background:  linear-gradient(90deg, transparent 0%, transparent 50%, green 50%, green 59.4%, transparent 59.4%);\n",
       "        }    #T_654da4f6_7281_11e9_aadc_001cb3bd83e3row6_col1 {\n",
       "            width:  10em;\n",
       "             height:  80%;\n",
       "            background:  linear-gradient(90deg, transparent 0%, transparent 50%, green 50%, green 84.4%, transparent 84.4%);\n",
       "        }    #T_654da4f6_7281_11e9_aadc_001cb3bd83e3row6_col2 {\n",
       "            width:  10em;\n",
       "             height:  80%;\n",
       "            background:  linear-gradient(90deg, transparent 0%, transparent 50%, green 50%, green 62.9%, transparent 62.9%);\n",
       "        }    #T_654da4f6_7281_11e9_aadc_001cb3bd83e3row7_col0 {\n",
       "            width:  10em;\n",
       "             height:  80%;\n",
       "            background:  linear-gradient(90deg, transparent 0%, transparent 50%, green 50%, green 68.2%, transparent 68.2%);\n",
       "        }    #T_654da4f6_7281_11e9_aadc_001cb3bd83e3row7_col1 {\n",
       "            width:  10em;\n",
       "             height:  80%;\n",
       "            background:  linear-gradient(90deg, transparent 0%, transparent 50%, green 50%, green 99.6%, transparent 99.6%);\n",
       "        }    #T_654da4f6_7281_11e9_aadc_001cb3bd83e3row7_col2 {\n",
       "            width:  10em;\n",
       "             height:  80%;\n",
       "            background:  linear-gradient(90deg, transparent 0%, transparent 50%, green 50%, green 67.4%, transparent 67.4%);\n",
       "        }    #T_654da4f6_7281_11e9_aadc_001cb3bd83e3row8_col0 {\n",
       "            width:  10em;\n",
       "             height:  80%;\n",
       "            background:  linear-gradient(90deg, transparent 0%, transparent 50%, green 50%, green 94.1%, transparent 94.1%);\n",
       "        }    #T_654da4f6_7281_11e9_aadc_001cb3bd83e3row8_col1 {\n",
       "            width:  10em;\n",
       "             height:  80%;\n",
       "            background:  linear-gradient(90deg, transparent 0%, transparent 50%, green 50%, green 98.1%, transparent 98.1%);\n",
       "        }    #T_654da4f6_7281_11e9_aadc_001cb3bd83e3row8_col2 {\n",
       "            width:  10em;\n",
       "             height:  80%;\n",
       "            background:  linear-gradient(90deg, transparent 0%, transparent 50%, green 50%, green 93.4%, transparent 93.4%);\n",
       "        }    #T_654da4f6_7281_11e9_aadc_001cb3bd83e3row9_col0 {\n",
       "            width:  10em;\n",
       "             height:  80%;\n",
       "            background:  linear-gradient(90deg, transparent 0%, transparent 50%, green 50%, green 78.6%, transparent 78.6%);\n",
       "        }    #T_654da4f6_7281_11e9_aadc_001cb3bd83e3row9_col1 {\n",
       "            width:  10em;\n",
       "             height:  80%;\n",
       "            background:  linear-gradient(90deg, transparent 0%, transparent 50%, green 50%, green 100.0%, transparent 100.0%);\n",
       "        }    #T_654da4f6_7281_11e9_aadc_001cb3bd83e3row9_col2 {\n",
       "            width:  10em;\n",
       "             height:  80%;\n",
       "            background:  linear-gradient(90deg, transparent 0%, transparent 50%, green 50%, green 77.1%, transparent 77.1%);\n",
       "        }    #T_654da4f6_7281_11e9_aadc_001cb3bd83e3row10_col0 {\n",
       "            width:  10em;\n",
       "             height:  80%;\n",
       "            background:  linear-gradient(90deg, transparent 0%, transparent 50%, green 50%, green 55.3%, transparent 55.3%);\n",
       "        }    #T_654da4f6_7281_11e9_aadc_001cb3bd83e3row10_col1 {\n",
       "            width:  10em;\n",
       "             height:  80%;\n",
       "            background:  linear-gradient(90deg, transparent 0%, transparent 50%, green 50%, green 97.2%, transparent 97.2%);\n",
       "        }    #T_654da4f6_7281_11e9_aadc_001cb3bd83e3row10_col2 {\n",
       "            width:  10em;\n",
       "             height:  80%;\n",
       "            background:  linear-gradient(90deg, transparent 0%, transparent 50%, green 50%, green 55.3%, transparent 55.3%);\n",
       "        }</style>  \n",
       "<table id=\"T_654da4f6_7281_11e9_aadc_001cb3bd83e3\" > \n",
       "<thead>    <tr> \n",
       "        <th class=\"blank level0\" ></th> \n",
       "        <th class=\"col_heading level0 col0\" >Annualized Returns(%)</th> \n",
       "        <th class=\"col_heading level0 col1\" >Annualized Volatility(%)</th> \n",
       "        <th class=\"col_heading level0 col2\" >Sharpe Ratio</th> \n",
       "    </tr></thead> \n",
       "<tbody>    <tr> \n",
       "        <th id=\"T_654da4f6_7281_11e9_aadc_001cb3bd83e3level0_row0\" class=\"row_heading level0 row0\" >ceu</th> \n",
       "        <td id=\"T_654da4f6_7281_11e9_aadc_001cb3bd83e3row0_col0\" class=\"data row0 col0\" >7.97296</td> \n",
       "        <td id=\"T_654da4f6_7281_11e9_aadc_001cb3bd83e3row0_col1\" class=\"data row0 col1\" >15.0754</td> \n",
       "        <td id=\"T_654da4f6_7281_11e9_aadc_001cb3bd83e3row0_col2\" class=\"data row0 col2\" >0.528871</td> \n",
       "    </tr>    <tr> \n",
       "        <th id=\"T_654da4f6_7281_11e9_aadc_001cb3bd83e3level0_row1\" class=\"row_heading level0 row1\" >csspx</th> \n",
       "        <td id=\"T_654da4f6_7281_11e9_aadc_001cb3bd83e3row1_col0\" class=\"data row1 col0\" >13.5652</td> \n",
       "        <td id=\"T_654da4f6_7281_11e9_aadc_001cb3bd83e3row1_col1\" class=\"data row1 col1\" >14.4718</td> \n",
       "        <td id=\"T_654da4f6_7281_11e9_aadc_001cb3bd83e3row1_col2\" class=\"data row1 col2\" >0.937359</td> \n",
       "    </tr>    <tr> \n",
       "        <th id=\"T_654da4f6_7281_11e9_aadc_001cb3bd83e3level0_row2\" class=\"row_heading level0 row2\" >em15</th> \n",
       "        <td id=\"T_654da4f6_7281_11e9_aadc_001cb3bd83e3row2_col0\" class=\"data row2 col0\" >6.91398</td> \n",
       "        <td id=\"T_654da4f6_7281_11e9_aadc_001cb3bd83e3row2_col1\" class=\"data row2 col1\" >9.3092</td> \n",
       "        <td id=\"T_654da4f6_7281_11e9_aadc_001cb3bd83e3row2_col2\" class=\"data row2 col2\" >0.742704</td> \n",
       "    </tr>    <tr> \n",
       "        <th id=\"T_654da4f6_7281_11e9_aadc_001cb3bd83e3level0_row3\" class=\"row_heading level0 row3\" >emg</th> \n",
       "        <td id=\"T_654da4f6_7281_11e9_aadc_001cb3bd83e3row3_col0\" class=\"data row3 col0\" >3.45551</td> \n",
       "        <td id=\"T_654da4f6_7281_11e9_aadc_001cb3bd83e3row3_col1\" class=\"data row3 col1\" >3.9893</td> \n",
       "        <td id=\"T_654da4f6_7281_11e9_aadc_001cb3bd83e3row3_col2\" class=\"data row3 col2\" >0.866195</td> \n",
       "    </tr>    <tr> \n",
       "        <th id=\"T_654da4f6_7281_11e9_aadc_001cb3bd83e3level0_row4\" class=\"row_heading level0 row4\" >ibgl</th> \n",
       "        <td id=\"T_654da4f6_7281_11e9_aadc_001cb3bd83e3row4_col0\" class=\"data row4 col0\" >4.42309</td> \n",
       "        <td id=\"T_654da4f6_7281_11e9_aadc_001cb3bd83e3row4_col1\" class=\"data row4 col1\" >9.10413</td> \n",
       "        <td id=\"T_654da4f6_7281_11e9_aadc_001cb3bd83e3row4_col2\" class=\"data row4 col2\" >0.485833</td> \n",
       "    </tr>    <tr> \n",
       "        <th id=\"T_654da4f6_7281_11e9_aadc_001cb3bd83e3level0_row5\" class=\"row_heading level0 row5\" >ibgm</th> \n",
       "        <td id=\"T_654da4f6_7281_11e9_aadc_001cb3bd83e3row5_col0\" class=\"data row5 col0\" >3.34527</td> \n",
       "        <td id=\"T_654da4f6_7281_11e9_aadc_001cb3bd83e3row5_col1\" class=\"data row5 col1\" >4.68334</td> \n",
       "        <td id=\"T_654da4f6_7281_11e9_aadc_001cb3bd83e3row5_col2\" class=\"data row5 col2\" >0.714291</td> \n",
       "    </tr>    <tr> \n",
       "        <th id=\"T_654da4f6_7281_11e9_aadc_001cb3bd83e3level0_row6\" class=\"row_heading level0 row6\" >ibtm</th> \n",
       "        <td id=\"T_654da4f6_7281_11e9_aadc_001cb3bd83e3row6_col0\" class=\"data row6 col0\" >2.54402</td> \n",
       "        <td id=\"T_654da4f6_7281_11e9_aadc_001cb3bd83e3row6_col1\" class=\"data row6 col1\" >10.5114</td> \n",
       "        <td id=\"T_654da4f6_7281_11e9_aadc_001cb3bd83e3row6_col2\" class=\"data row6 col2\" >0.242026</td> \n",
       "    </tr>    <tr> \n",
       "        <th id=\"T_654da4f6_7281_11e9_aadc_001cb3bd83e3level0_row7\" class=\"row_heading level0 row7\" >imeu</th> \n",
       "        <td id=\"T_654da4f6_7281_11e9_aadc_001cb3bd83e3row7_col0\" class=\"data row7 col0\" >4.92916</td> \n",
       "        <td id=\"T_654da4f6_7281_11e9_aadc_001cb3bd83e3row7_col1\" class=\"data row7 col1\" >15.1246</td> \n",
       "        <td id=\"T_654da4f6_7281_11e9_aadc_001cb3bd83e3row7_col2\" class=\"data row7 col2\" >0.325904</td> \n",
       "    </tr>    <tr> \n",
       "        <th id=\"T_654da4f6_7281_11e9_aadc_001cb3bd83e3level0_row8\" class=\"row_heading level0 row8\" >iusa</th> \n",
       "        <td id=\"T_654da4f6_7281_11e9_aadc_001cb3bd83e3row8_col0\" class=\"data row8 col0\" >11.9572</td> \n",
       "        <td id=\"T_654da4f6_7281_11e9_aadc_001cb3bd83e3row8_col1\" class=\"data row8 col1\" >14.6949</td> \n",
       "        <td id=\"T_654da4f6_7281_11e9_aadc_001cb3bd83e3row8_col2\" class=\"data row8 col2\" >0.813701</td> \n",
       "    </tr>    <tr> \n",
       "        <th id=\"T_654da4f6_7281_11e9_aadc_001cb3bd83e3level0_row9\" class=\"row_heading level0 row9\" >smea</th> \n",
       "        <td id=\"T_654da4f6_7281_11e9_aadc_001cb3bd83e3row9_col0\" class=\"data row9 col0\" >7.76672</td> \n",
       "        <td id=\"T_654da4f6_7281_11e9_aadc_001cb3bd83e3row9_col1\" class=\"data row9 col1\" >15.2608</td> \n",
       "        <td id=\"T_654da4f6_7281_11e9_aadc_001cb3bd83e3row9_col2\" class=\"data row9 col2\" >0.508931</td> \n",
       "    </tr>    <tr> \n",
       "        <th id=\"T_654da4f6_7281_11e9_aadc_001cb3bd83e3level0_row10\" class=\"row_heading level0 row10\" >phau</th> \n",
       "        <td id=\"T_654da4f6_7281_11e9_aadc_001cb3bd83e3row10_col0\" class=\"data row10 col0\" >1.44166</td> \n",
       "        <td id=\"T_654da4f6_7281_11e9_aadc_001cb3bd83e3row10_col1\" class=\"data row10 col1\" >14.4071</td> \n",
       "        <td id=\"T_654da4f6_7281_11e9_aadc_001cb3bd83e3row10_col2\" class=\"data row10 col2\" >0.100066</td> \n",
       "    </tr></tbody> \n",
       "</table> "
      ],
      "text/plain": [
       "<pandas.io.formats.style.Styler at 0x1246170b8>"
      ]
     },
     "execution_count": 31,
     "metadata": {},
     "output_type": "execute_result"
    }
   ],
   "source": [
    "PERIODS = 52\n",
    "stats = pd.DataFrame()\n",
    "stats['Annualized Returns(%)'] = returns.mean() * PERIODS *100\n",
    "stats['Annualized Volatility(%)'] = returns.std() * np.sqrt(PERIODS)*100\n",
    "stats['Sharpe Ratio'] = stats['Annualized Returns(%)'] /stats['Annualized Volatility(%)']\n",
    "print(82*'-')\n",
    "print('Assets Classes Annualized Statistics — full observation period')\n",
    "stats.style.bar(color=['red','green'], align='zero')"
   ]
  },
  {
   "cell_type": "code",
   "execution_count": 32,
   "metadata": {
    "ExecuteTime": {
     "end_time": "2019-05-09T17:39:29.831122Z",
     "start_time": "2019-05-09T17:39:29.736830Z"
    }
   },
   "outputs": [
    {
     "data": {
      "text/html": [
       "<div>\n",
       "<style scoped>\n",
       "    .dataframe tbody tr th:only-of-type {\n",
       "        vertical-align: middle;\n",
       "    }\n",
       "\n",
       "    .dataframe tbody tr th {\n",
       "        vertical-align: top;\n",
       "    }\n",
       "\n",
       "    .dataframe thead th {\n",
       "        text-align: right;\n",
       "    }\n",
       "</style>\n",
       "<table border=\"1\" class=\"dataframe\">\n",
       "  <thead>\n",
       "    <tr style=\"text-align: right;\">\n",
       "      <th></th>\n",
       "      <th>ceu</th>\n",
       "      <th>csspx</th>\n",
       "      <th>em15</th>\n",
       "      <th>emg</th>\n",
       "      <th>ibgl</th>\n",
       "      <th>ibgm</th>\n",
       "      <th>ibtm</th>\n",
       "      <th>imeu</th>\n",
       "      <th>iusa</th>\n",
       "      <th>smea</th>\n",
       "      <th>phau</th>\n",
       "    </tr>\n",
       "  </thead>\n",
       "  <tbody>\n",
       "    <tr>\n",
       "      <th>ceu</th>\n",
       "      <td>1.000000</td>\n",
       "      <td>0.749351</td>\n",
       "      <td>-0.042565</td>\n",
       "      <td>0.081094</td>\n",
       "      <td>-0.048725</td>\n",
       "      <td>-0.107565</td>\n",
       "      <td>-0.187910</td>\n",
       "      <td>0.950445</td>\n",
       "      <td>0.754046</td>\n",
       "      <td>0.928445</td>\n",
       "      <td>-0.042402</td>\n",
       "    </tr>\n",
       "    <tr>\n",
       "      <th>csspx</th>\n",
       "      <td>0.749351</td>\n",
       "      <td>1.000000</td>\n",
       "      <td>-0.038044</td>\n",
       "      <td>0.017374</td>\n",
       "      <td>-0.036761</td>\n",
       "      <td>-0.034124</td>\n",
       "      <td>0.164968</td>\n",
       "      <td>0.795790</td>\n",
       "      <td>0.994142</td>\n",
       "      <td>0.775686</td>\n",
       "      <td>0.055696</td>\n",
       "    </tr>\n",
       "    <tr>\n",
       "      <th>em15</th>\n",
       "      <td>-0.042565</td>\n",
       "      <td>-0.038044</td>\n",
       "      <td>1.000000</td>\n",
       "      <td>0.887915</td>\n",
       "      <td>0.944753</td>\n",
       "      <td>0.784444</td>\n",
       "      <td>0.371427</td>\n",
       "      <td>-0.045236</td>\n",
       "      <td>-0.039452</td>\n",
       "      <td>-0.051044</td>\n",
       "      <td>0.158376</td>\n",
       "    </tr>\n",
       "    <tr>\n",
       "      <th>emg</th>\n",
       "      <td>0.081094</td>\n",
       "      <td>0.017374</td>\n",
       "      <td>0.887915</td>\n",
       "      <td>1.000000</td>\n",
       "      <td>0.877595</td>\n",
       "      <td>0.786720</td>\n",
       "      <td>0.289836</td>\n",
       "      <td>0.070634</td>\n",
       "      <td>0.017809</td>\n",
       "      <td>0.074586</td>\n",
       "      <td>0.156645</td>\n",
       "    </tr>\n",
       "    <tr>\n",
       "      <th>ibgl</th>\n",
       "      <td>-0.048725</td>\n",
       "      <td>-0.036761</td>\n",
       "      <td>0.944753</td>\n",
       "      <td>0.877595</td>\n",
       "      <td>1.000000</td>\n",
       "      <td>0.839189</td>\n",
       "      <td>0.411213</td>\n",
       "      <td>-0.044561</td>\n",
       "      <td>-0.039823</td>\n",
       "      <td>-0.064618</td>\n",
       "      <td>0.157914</td>\n",
       "    </tr>\n",
       "    <tr>\n",
       "      <th>ibgm</th>\n",
       "      <td>-0.107565</td>\n",
       "      <td>-0.034124</td>\n",
       "      <td>0.784444</td>\n",
       "      <td>0.786720</td>\n",
       "      <td>0.839189</td>\n",
       "      <td>1.000000</td>\n",
       "      <td>0.558391</td>\n",
       "      <td>-0.097987</td>\n",
       "      <td>-0.040794</td>\n",
       "      <td>-0.108649</td>\n",
       "      <td>0.242127</td>\n",
       "    </tr>\n",
       "    <tr>\n",
       "      <th>ibtm</th>\n",
       "      <td>-0.187910</td>\n",
       "      <td>0.164968</td>\n",
       "      <td>0.371427</td>\n",
       "      <td>0.289836</td>\n",
       "      <td>0.411213</td>\n",
       "      <td>0.558391</td>\n",
       "      <td>1.000000</td>\n",
       "      <td>-0.166197</td>\n",
       "      <td>0.157062</td>\n",
       "      <td>-0.171793</td>\n",
       "      <td>0.350912</td>\n",
       "    </tr>\n",
       "    <tr>\n",
       "      <th>imeu</th>\n",
       "      <td>0.950445</td>\n",
       "      <td>0.795790</td>\n",
       "      <td>-0.045236</td>\n",
       "      <td>0.070634</td>\n",
       "      <td>-0.044561</td>\n",
       "      <td>-0.097987</td>\n",
       "      <td>-0.166197</td>\n",
       "      <td>1.000000</td>\n",
       "      <td>0.799958</td>\n",
       "      <td>0.960064</td>\n",
       "      <td>-0.021770</td>\n",
       "    </tr>\n",
       "    <tr>\n",
       "      <th>iusa</th>\n",
       "      <td>0.754046</td>\n",
       "      <td>0.994142</td>\n",
       "      <td>-0.039452</td>\n",
       "      <td>0.017809</td>\n",
       "      <td>-0.039823</td>\n",
       "      <td>-0.040794</td>\n",
       "      <td>0.157062</td>\n",
       "      <td>0.799958</td>\n",
       "      <td>1.000000</td>\n",
       "      <td>0.783636</td>\n",
       "      <td>0.062149</td>\n",
       "    </tr>\n",
       "    <tr>\n",
       "      <th>smea</th>\n",
       "      <td>0.928445</td>\n",
       "      <td>0.775686</td>\n",
       "      <td>-0.051044</td>\n",
       "      <td>0.074586</td>\n",
       "      <td>-0.064618</td>\n",
       "      <td>-0.108649</td>\n",
       "      <td>-0.171793</td>\n",
       "      <td>0.960064</td>\n",
       "      <td>0.783636</td>\n",
       "      <td>1.000000</td>\n",
       "      <td>-0.000993</td>\n",
       "    </tr>\n",
       "    <tr>\n",
       "      <th>phau</th>\n",
       "      <td>-0.042402</td>\n",
       "      <td>0.055696</td>\n",
       "      <td>0.158376</td>\n",
       "      <td>0.156645</td>\n",
       "      <td>0.157914</td>\n",
       "      <td>0.242127</td>\n",
       "      <td>0.350912</td>\n",
       "      <td>-0.021770</td>\n",
       "      <td>0.062149</td>\n",
       "      <td>-0.000993</td>\n",
       "      <td>1.000000</td>\n",
       "    </tr>\n",
       "  </tbody>\n",
       "</table>\n",
       "</div>"
      ],
      "text/plain": [
       "            ceu     csspx      em15       emg      ibgl      ibgm      ibtm  \\\n",
       "ceu    1.000000  0.749351 -0.042565  0.081094 -0.048725 -0.107565 -0.187910   \n",
       "csspx  0.749351  1.000000 -0.038044  0.017374 -0.036761 -0.034124  0.164968   \n",
       "em15  -0.042565 -0.038044  1.000000  0.887915  0.944753  0.784444  0.371427   \n",
       "emg    0.081094  0.017374  0.887915  1.000000  0.877595  0.786720  0.289836   \n",
       "ibgl  -0.048725 -0.036761  0.944753  0.877595  1.000000  0.839189  0.411213   \n",
       "ibgm  -0.107565 -0.034124  0.784444  0.786720  0.839189  1.000000  0.558391   \n",
       "ibtm  -0.187910  0.164968  0.371427  0.289836  0.411213  0.558391  1.000000   \n",
       "imeu   0.950445  0.795790 -0.045236  0.070634 -0.044561 -0.097987 -0.166197   \n",
       "iusa   0.754046  0.994142 -0.039452  0.017809 -0.039823 -0.040794  0.157062   \n",
       "smea   0.928445  0.775686 -0.051044  0.074586 -0.064618 -0.108649 -0.171793   \n",
       "phau  -0.042402  0.055696  0.158376  0.156645  0.157914  0.242127  0.350912   \n",
       "\n",
       "           imeu      iusa      smea      phau  \n",
       "ceu    0.950445  0.754046  0.928445 -0.042402  \n",
       "csspx  0.795790  0.994142  0.775686  0.055696  \n",
       "em15  -0.045236 -0.039452 -0.051044  0.158376  \n",
       "emg    0.070634  0.017809  0.074586  0.156645  \n",
       "ibgl  -0.044561 -0.039823 -0.064618  0.157914  \n",
       "ibgm  -0.097987 -0.040794 -0.108649  0.242127  \n",
       "ibtm  -0.166197  0.157062 -0.171793  0.350912  \n",
       "imeu   1.000000  0.799958  0.960064 -0.021770  \n",
       "iusa   0.799958  1.000000  0.783636  0.062149  \n",
       "smea   0.960064  0.783636  1.000000 -0.000993  \n",
       "phau  -0.021770  0.062149 -0.000993  1.000000  "
      ]
     },
     "execution_count": 32,
     "metadata": {},
     "output_type": "execute_result"
    }
   ],
   "source": [
    "returns.corr('pearson')"
   ]
  },
  {
   "cell_type": "code",
   "execution_count": 33,
   "metadata": {
    "ExecuteTime": {
     "end_time": "2019-05-09T17:39:34.958342Z",
     "start_time": "2019-05-09T17:39:34.048831Z"
    }
   },
   "outputs": [
    {
     "data": {
      "image/png": "[encoded data removed]",
      "text/plain": [
       "<Figure size 640x480 with 1 Axes>"
      ]
     },
     "metadata": {},
     "output_type": "display_data"
    }
   ],
   "source": [
    "sns.set()\n",
    "\n",
    "fig4 = plt.figure()\n",
    "#sns.distplot(returns['ibtm'])\n",
    "sns.distplot(returns['em15'])\n",
    "sns.distplot(returns['ibgl'])\n",
    "#plt.legend(('ibtm','em15','ibgm'),fontsize = 12)\n",
    "plt.legend(('em15','ibgl'),fontsize = 12)\n",
    "plt.show()\n"
   ]
  },
  {
   "cell_type": "markdown",
   "metadata": {},
   "source": [
    "## Portfolio allocation(s)"
   ]
  },
  {
   "cell_type": "markdown",
   "metadata": {},
   "source": [
    "#### Preparo la matrice delle allocations"
   ]
  },
  {
   "cell_type": "code",
   "execution_count": 34,
   "metadata": {
    "ExecuteTime": {
     "end_time": "2019-05-09T17:39:38.665829Z",
     "start_time": "2019-05-09T17:39:38.559493Z"
    }
   },
   "outputs": [
    {
     "data": {
      "text/html": [
       "<div>\n",
       "<style scoped>\n",
       "    .dataframe tbody tr th:only-of-type {\n",
       "        vertical-align: middle;\n",
       "    }\n",
       "\n",
       "    .dataframe tbody tr th {\n",
       "        vertical-align: top;\n",
       "    }\n",
       "\n",
       "    .dataframe thead th {\n",
       "        text-align: right;\n",
       "    }\n",
       "</style>\n",
       "<table border=\"1\" class=\"dataframe\">\n",
       "  <thead>\n",
       "    <tr style=\"text-align: right;\">\n",
       "      <th></th>\n",
       "      <th>ticker</th>\n",
       "      <th>area</th>\n",
       "      <th>one</th>\n",
       "      <th>two</th>\n",
       "    </tr>\n",
       "  </thead>\n",
       "  <tbody>\n",
       "    <tr>\n",
       "      <th>ceu</th>\n",
       "      <td>CEU.MI</td>\n",
       "      <td>AZIONARIO EUROPA - AREA</td>\n",
       "      <td>0</td>\n",
       "      <td>0</td>\n",
       "    </tr>\n",
       "    <tr>\n",
       "      <th>csspx</th>\n",
       "      <td>CSSPX.MI</td>\n",
       "      <td>AZIONARIO NORD AMERICA</td>\n",
       "      <td>0</td>\n",
       "      <td>0</td>\n",
       "    </tr>\n",
       "    <tr>\n",
       "      <th>em15</th>\n",
       "      <td>EM15.MI</td>\n",
       "      <td>TITOLI DI STATO - EURO</td>\n",
       "      <td>0</td>\n",
       "      <td>0</td>\n",
       "    </tr>\n",
       "    <tr>\n",
       "      <th>emg</th>\n",
       "      <td>EMG.MI</td>\n",
       "      <td>TITOLI DI STATO - EURO</td>\n",
       "      <td>0</td>\n",
       "      <td>0</td>\n",
       "    </tr>\n",
       "    <tr>\n",
       "      <th>ibgl</th>\n",
       "      <td>IBGL.MI</td>\n",
       "      <td>TITOLI DI STATO - EURO</td>\n",
       "      <td>0</td>\n",
       "      <td>0</td>\n",
       "    </tr>\n",
       "    <tr>\n",
       "      <th>ibgm</th>\n",
       "      <td>IBGM.MI</td>\n",
       "      <td>TITOLI DI STATO - EURO</td>\n",
       "      <td>0</td>\n",
       "      <td>0</td>\n",
       "    </tr>\n",
       "    <tr>\n",
       "      <th>ibtm</th>\n",
       "      <td>IBTM.MI</td>\n",
       "      <td>TITOLI DI STATO - NON EURO</td>\n",
       "      <td>0</td>\n",
       "      <td>0</td>\n",
       "    </tr>\n",
       "    <tr>\n",
       "      <th>imeu</th>\n",
       "      <td>IMEU.MI</td>\n",
       "      <td>AZIONARIO EUROPA - AREA</td>\n",
       "      <td>0</td>\n",
       "      <td>0</td>\n",
       "    </tr>\n",
       "    <tr>\n",
       "      <th>iusa</th>\n",
       "      <td>IUSA.MI</td>\n",
       "      <td>AZIONARIO NORD AMERICA</td>\n",
       "      <td>0</td>\n",
       "      <td>0</td>\n",
       "    </tr>\n",
       "    <tr>\n",
       "      <th>smea</th>\n",
       "      <td>SMEA.MI</td>\n",
       "      <td>AZIONARIO EUROPA - AREA</td>\n",
       "      <td>0</td>\n",
       "      <td>0</td>\n",
       "    </tr>\n",
       "    <tr>\n",
       "      <th>phau</th>\n",
       "      <td>PHAU.MI</td>\n",
       "      <td>METALLI PREZIOSI</td>\n",
       "      <td>0</td>\n",
       "      <td>0</td>\n",
       "    </tr>\n",
       "  </tbody>\n",
       "</table>\n",
       "</div>"
      ],
      "text/plain": [
       "         ticker                        area  one  two\n",
       "ceu      CEU.MI     AZIONARIO EUROPA - AREA    0    0\n",
       "csspx  CSSPX.MI      AZIONARIO NORD AMERICA    0    0\n",
       "em15    EM15.MI      TITOLI DI STATO - EURO    0    0\n",
       "emg      EMG.MI      TITOLI DI STATO - EURO    0    0\n",
       "ibgl    IBGL.MI      TITOLI DI STATO - EURO    0    0\n",
       "ibgm    IBGM.MI      TITOLI DI STATO - EURO    0    0\n",
       "ibtm    IBTM.MI  TITOLI DI STATO - NON EURO    0    0\n",
       "imeu    IMEU.MI     AZIONARIO EUROPA - AREA    0    0\n",
       "iusa    IUSA.MI      AZIONARIO NORD AMERICA    0    0\n",
       "smea    SMEA.MI     AZIONARIO EUROPA - AREA    0    0\n",
       "phau    PHAU.MI            METALLI PREZIOSI    0    0"
      ]
     },
     "execution_count": 34,
     "metadata": {},
     "output_type": "execute_result"
    }
   ],
   "source": [
    "allocation = pd.DataFrame(index=norm_df200.columns)\n",
    "allocation['ticker'] = allocation.index + '.MI'\n",
    "allocation.ticker = allocation.ticker.str.upper()\n",
    "\n",
    "df4ri = df4.set_index('ticker')\n",
    "def myfunc(row):\n",
    "    return df4ri.loc[row.ticker,'areaBenchmark']\n",
    "\n",
    "allocation['area'] = allocation.apply(myfunc, axis=1)\n",
    "\n",
    "allocation['one'] = 0\n",
    "allocation['two'] = 0\n",
    "\n",
    "allocation\n"
   ]
  },
  {
   "cell_type": "markdown",
   "metadata": {},
   "source": [
    "#### setup allocazioni"
   ]
  },
  {
   "cell_type": "code",
   "execution_count": 35,
   "metadata": {
    "ExecuteTime": {
     "end_time": "2019-05-09T17:39:43.356033Z",
     "start_time": "2019-05-09T17:39:43.278314Z"
    }
   },
   "outputs": [],
   "source": [
    "# one\n",
    "allocation.loc['iusa','one'] = 0.2\n",
    "allocation.loc['smea','one'] = 0.2\n",
    "allocation.loc['phau','one'] = 0.1\n",
    "allocation.loc['em15','one'] = 0.2\n",
    "allocation.loc['ibtm','one'] = 0.3\n",
    "\n",
    "allocation.loc['iusa','two'] = 0.3\n",
    "allocation.loc['smea','two'] = 0.2\n",
    "allocation.loc['phau','two'] = 0.1\n",
    "allocation.loc['em15','two'] = 0.3\n",
    "allocation.loc['ibtm','two'] = 0.1"
   ]
  },
  {
   "cell_type": "code",
   "execution_count": 36,
   "metadata": {
    "ExecuteTime": {
     "end_time": "2019-05-09T17:39:44.229077Z",
     "start_time": "2019-05-09T17:39:44.160344Z"
    }
   },
   "outputs": [],
   "source": [
    "#norm_df200.ceu.plot()\n",
    "#norm_df200.smea.plot()\n",
    "#norm_df200.imeu.plot()\n",
    "#plt.legend()\n",
    "\n",
    "#norm_df200.em15.plot()\n",
    "#norm_df200.ibgl.plot()\n",
    "#norm_df200.emg.plot()\n",
    "#plt.legend()"
   ]
  },
  {
   "cell_type": "code",
   "execution_count": 88,
   "metadata": {
    "ExecuteTime": {
     "end_time": "2019-05-09T21:00:03.950941Z",
     "start_time": "2019-05-09T21:00:03.867866Z"
    }
   },
   "outputs": [],
   "source": [
    "lEtfs = allocation[allocation.one != 0].index.tolist()"
   ]
  },
  {
   "cell_type": "code",
   "execution_count": 59,
   "metadata": {
    "ExecuteTime": {
     "end_time": "2019-05-09T20:15:55.145865Z",
     "start_time": "2019-05-09T20:15:55.033454Z"
    }
   },
   "outputs": [
    {
     "data": {
      "text/html": [
       "<div>\n",
       "<style scoped>\n",
       "    .dataframe tbody tr th:only-of-type {\n",
       "        vertical-align: middle;\n",
       "    }\n",
       "\n",
       "    .dataframe tbody tr th {\n",
       "        vertical-align: top;\n",
       "    }\n",
       "\n",
       "    .dataframe thead th {\n",
       "        text-align: right;\n",
       "    }\n",
       "</style>\n",
       "<table border=\"1\" class=\"dataframe\">\n",
       "  <thead>\n",
       "    <tr style=\"text-align: right;\">\n",
       "      <th></th>\n",
       "      <th>ticker</th>\n",
       "      <th>area</th>\n",
       "      <th>one</th>\n",
       "      <th>two</th>\n",
       "    </tr>\n",
       "  </thead>\n",
       "  <tbody>\n",
       "    <tr>\n",
       "      <th>em15</th>\n",
       "      <td>EM15.MI</td>\n",
       "      <td>TITOLI DI STATO - EURO</td>\n",
       "      <td>0.2</td>\n",
       "      <td>0.3</td>\n",
       "    </tr>\n",
       "    <tr>\n",
       "      <th>ibtm</th>\n",
       "      <td>IBTM.MI</td>\n",
       "      <td>TITOLI DI STATO - NON EURO</td>\n",
       "      <td>0.3</td>\n",
       "      <td>0.1</td>\n",
       "    </tr>\n",
       "    <tr>\n",
       "      <th>iusa</th>\n",
       "      <td>IUSA.MI</td>\n",
       "      <td>AZIONARIO NORD AMERICA</td>\n",
       "      <td>0.2</td>\n",
       "      <td>0.3</td>\n",
       "    </tr>\n",
       "    <tr>\n",
       "      <th>smea</th>\n",
       "      <td>SMEA.MI</td>\n",
       "      <td>AZIONARIO EUROPA - AREA</td>\n",
       "      <td>0.2</td>\n",
       "      <td>0.2</td>\n",
       "    </tr>\n",
       "    <tr>\n",
       "      <th>phau</th>\n",
       "      <td>PHAU.MI</td>\n",
       "      <td>METALLI PREZIOSI</td>\n",
       "      <td>0.1</td>\n",
       "      <td>0.1</td>\n",
       "    </tr>\n",
       "  </tbody>\n",
       "</table>\n",
       "</div>"
      ],
      "text/plain": [
       "       ticker                        area  one  two\n",
       "em15  EM15.MI      TITOLI DI STATO - EURO  0.2  0.3\n",
       "ibtm  IBTM.MI  TITOLI DI STATO - NON EURO  0.3  0.1\n",
       "iusa  IUSA.MI      AZIONARIO NORD AMERICA  0.2  0.3\n",
       "smea  SMEA.MI     AZIONARIO EUROPA - AREA  0.2  0.2\n",
       "phau  PHAU.MI            METALLI PREZIOSI  0.1  0.1"
      ]
     },
     "execution_count": 59,
     "metadata": {},
     "output_type": "execute_result"
    }
   ],
   "source": [
    "allocation_restr = allocation[allocation.one != 0]\n",
    "allocation_restr"
   ]
  },
  {
   "cell_type": "markdown",
   "metadata": {},
   "source": [
    "### Calcolo rendimento dei portafogli - no rebalancing"
   ]
  },
  {
   "cell_type": "code",
   "execution_count": 38,
   "metadata": {
    "ExecuteTime": {
     "end_time": "2019-05-09T17:39:55.587782Z",
     "start_time": "2019-05-09T17:39:55.527148Z"
    }
   },
   "outputs": [],
   "source": [
    "norm_df201 = norm_df200.copy()"
   ]
  },
  {
   "cell_type": "code",
   "execution_count": 39,
   "metadata": {
    "ExecuteTime": {
     "end_time": "2019-05-09T17:39:56.512888Z",
     "start_time": "2019-05-09T17:39:56.442256Z"
    }
   },
   "outputs": [],
   "source": [
    "norm_df201['one'] = norm_df200.mul(allocation.one.values,axis=1).sum(axis=1)\n",
    "norm_df201['two'] = norm_df200.mul(allocation.two.values,axis=1).sum(axis=1)"
   ]
  },
  {
   "cell_type": "code",
   "execution_count": 42,
   "metadata": {
    "ExecuteTime": {
     "end_time": "2019-05-09T17:40:18.905852Z",
     "start_time": "2019-05-09T17:40:18.122422Z"
    },
    "scrolled": true
   },
   "outputs": [
    {
     "data": {
      "text/plain": [
       "<matplotlib.legend.Legend at 0x1246006a0>"
      ]
     },
     "execution_count": 42,
     "metadata": {},
     "output_type": "execute_result"
    },
    {
     "data": {
      "image/png": "[encoded data removed]",
      "text/plain": [
       "<Figure size 640x480 with 1 Axes>"
      ]
     },
     "metadata": {},
     "output_type": "display_data"
    }
   ],
   "source": [
    "norm_df201.one.plot()\n",
    "norm_df201.two.plot()\n",
    "norm_df201.csspx.plot()  # per confronto, plotto il sp500\n",
    "plt.legend()\n"
   ]
  },
  {
   "cell_type": "code",
   "execution_count": 43,
   "metadata": {
    "ExecuteTime": {
     "end_time": "2019-05-09T17:40:43.523477Z",
     "start_time": "2019-05-09T17:40:43.416580Z"
    }
   },
   "outputs": [
    {
     "name": "stdout",
     "output_type": "stream",
     "text": [
      "Key Stats: Portfolio one\n",
      "==================================================================================\n",
      "Annualized Returns: 6.235%\n",
      "Annualized Volatility: 7.417%\n",
      "Sharpe Ratio: 0.8407\n",
      "----------------------------------------------------------------------------------\n",
      "Key Stats: Portfolio two \n",
      "==================================================================================\n",
      "Annualized Returns: 7.613%\n",
      "Annualized Volatility: 8.039%\n",
      "Sharpe Ratio: 0.947\n",
      "----------------------------------------------------------------------------------\n"
     ]
    }
   ],
   "source": [
    "exp_ret_one = np.sum(returns.mean()* allocation.one)* PERIODS\n",
    "exp_std_one = np.sqrt(np.dot(allocation.one.T,np.dot(returns.cov()*PERIODS, allocation.one)))\n",
    "sharpe_one = exp_ret_one/exp_std_one\n",
    "\n",
    "exp_ret_two = np.sum(returns.mean()* allocation.two)* PERIODS\n",
    "exp_std_two = np.sqrt(np.dot(allocation.two.T,np.dot(returns.cov()*PERIODS, allocation.two)))\n",
    "sharpe_two = exp_ret_two/exp_std_two\n",
    "\n",
    "print('Key Stats: Portfolio one')\n",
    "print(82*'=')\n",
    "print('Annualized Returns: {:.3%}'.format(exp_ret_one))\n",
    "print('Annualized Volatility: {:.3%}'.format(exp_std_one))\n",
    "print('Sharpe Ratio: {:.4}'.format(sharpe_one))\n",
    "print(82*'-')\n",
    "print('Key Stats: Portfolio two ')\n",
    "print(82*'=')\n",
    "print('Annualized Returns: {:.3%}'.format(exp_ret_two))\n",
    "print('Annualized Volatility: {:.3%}'.format(exp_std_two))\n",
    "print('Sharpe Ratio: {:.4}'.format(sharpe_two))\n",
    "print(82*'-')"
   ]
  },
  {
   "cell_type": "code",
   "execution_count": 44,
   "metadata": {
    "ExecuteTime": {
     "end_time": "2019-05-09T17:40:45.790054Z",
     "start_time": "2019-05-09T17:40:44.424730Z"
    }
   },
   "outputs": [
    {
     "data": {
      "image/png": "[encoded data removed]",
      "text/plain": [
       "<Figure size 1400x1000 with 2 Axes>"
      ]
     },
     "metadata": {},
     "output_type": "display_data"
    }
   ],
   "source": [
    "binsnumber = 35\n",
    "fig7, ax = plt.subplots(figsize=(14,10))\n",
    "plt.subplots_adjust(hspace=.4,wspace=.4) # it adds space in between plots\n",
    "plt.subplot(121)\n",
    "ax = plt.gca()\n",
    "\n",
    "ax.hist(norm_df201['one'], bins=binsnumber, color='steelblue', density = True,\n",
    "       alpha = 0.5, histtype ='stepfilled',edgecolor ='red' )\n",
    "\n",
    "sigma, mu = norm_df201['one'].std(),norm_df201['one'].mean() # mean and standard deviation\n",
    "s = np.random.normal(mu, sigma, 1000)\n",
    "count, bins, ignored = plt.hist(s, binsnumber, density=True, alpha = 0.1)\n",
    "ax.plot(bins, 1/(sigma * np.sqrt(2 * np.pi)) * np.exp( - (bins - mu)**2 / (2 * sigma**2) ), linewidth=1.5, color='r')\n",
    "\n",
    "ax.annotate('Skewness: {}\\n\\nKurtosis: {}'.format(round(norm_df201['one'].skew(),2),round(norm_df201['one'].kurtosis(),2)),\n",
    "             xy=(10,20),xycoords = 'axes points',xytext =(20,360),fontsize=14)\n",
    "\n",
    "\n",
    "ax.set_xlabel('Values')\n",
    "ax.set_ylabel('Frequency')\n",
    "ax.set_title('Portfolio one')\n",
    "\n",
    "plt.subplot(122)\n",
    "ax1 = plt.gca()\n",
    "\n",
    "ax1.hist(norm_df201['two'], bins=binsnumber, color='steelblue', density = True,\n",
    "       alpha = 0.5, histtype ='stepfilled',edgecolor ='red' )\n",
    "\n",
    "sigma, mu = norm_df201['two'].std(),norm_df201['two'].mean() # mean and standard deviation\n",
    "s = np.random.normal(mu, sigma, 1000)\n",
    "count, bins, ignored = plt.hist(s, binsnumber, density=True, alpha = 0.1)\n",
    "ax1.plot(bins, 1/(sigma * np.sqrt(2 * np.pi)) * np.exp( - (bins - mu)**2 / (2 * sigma**2) ), linewidth=1.5, color='r')\n",
    "\n",
    "ax1.annotate('Skewness: {}\\n\\nKurtosis: {}'.format(round(norm_df201['two'].skew(),2),round(norm_df201['two'].kurtosis(),2)),\n",
    "             xy=(10,20),xycoords = 'axes points',xytext =(20,360),fontsize=14)\n",
    "\n",
    "\n",
    "ax1.set_xlabel('Values')\n",
    "ax1.set_ylabel('Frequency')\n",
    "ax1.set_title('Portfolio two')\n",
    "\n",
    "plt.show();"
   ]
  },
  {
   "cell_type": "markdown",
   "metadata": {},
   "source": [
    "## Montecarlo"
   ]
  },
  {
   "cell_type": "code",
   "execution_count": 68,
   "metadata": {
    "ExecuteTime": {
     "end_time": "2019-05-09T20:40:29.425137Z",
     "start_time": "2019-05-09T20:40:29.275483Z"
    }
   },
   "outputs": [
    {
     "data": {
      "text/html": [
       "<div>\n",
       "<style scoped>\n",
       "    .dataframe tbody tr th:only-of-type {\n",
       "        vertical-align: middle;\n",
       "    }\n",
       "\n",
       "    .dataframe tbody tr th {\n",
       "        vertical-align: top;\n",
       "    }\n",
       "\n",
       "    .dataframe thead th {\n",
       "        text-align: right;\n",
       "    }\n",
       "</style>\n",
       "<table border=\"1\" class=\"dataframe\">\n",
       "  <thead>\n",
       "    <tr style=\"text-align: right;\">\n",
       "      <th></th>\n",
       "      <th>ticker</th>\n",
       "      <th>area</th>\n",
       "      <th>one</th>\n",
       "      <th>two</th>\n",
       "    </tr>\n",
       "  </thead>\n",
       "  <tbody>\n",
       "    <tr>\n",
       "      <th>em15</th>\n",
       "      <td>EM15.MI</td>\n",
       "      <td>TITOLI DI STATO - EURO</td>\n",
       "      <td>0.2</td>\n",
       "      <td>0.3</td>\n",
       "    </tr>\n",
       "    <tr>\n",
       "      <th>ibtm</th>\n",
       "      <td>IBTM.MI</td>\n",
       "      <td>TITOLI DI STATO - NON EURO</td>\n",
       "      <td>0.3</td>\n",
       "      <td>0.1</td>\n",
       "    </tr>\n",
       "    <tr>\n",
       "      <th>iusa</th>\n",
       "      <td>IUSA.MI</td>\n",
       "      <td>AZIONARIO NORD AMERICA</td>\n",
       "      <td>0.2</td>\n",
       "      <td>0.3</td>\n",
       "    </tr>\n",
       "    <tr>\n",
       "      <th>smea</th>\n",
       "      <td>SMEA.MI</td>\n",
       "      <td>AZIONARIO EUROPA - AREA</td>\n",
       "      <td>0.2</td>\n",
       "      <td>0.2</td>\n",
       "    </tr>\n",
       "    <tr>\n",
       "      <th>phau</th>\n",
       "      <td>PHAU.MI</td>\n",
       "      <td>METALLI PREZIOSI</td>\n",
       "      <td>0.1</td>\n",
       "      <td>0.1</td>\n",
       "    </tr>\n",
       "  </tbody>\n",
       "</table>\n",
       "</div>"
      ],
      "text/plain": [
       "       ticker                        area  one  two\n",
       "em15  EM15.MI      TITOLI DI STATO - EURO  0.2  0.3\n",
       "ibtm  IBTM.MI  TITOLI DI STATO - NON EURO  0.3  0.1\n",
       "iusa  IUSA.MI      AZIONARIO NORD AMERICA  0.2  0.3\n",
       "smea  SMEA.MI     AZIONARIO EUROPA - AREA  0.2  0.2\n",
       "phau  PHAU.MI            METALLI PREZIOSI  0.1  0.1"
      ]
     },
     "execution_count": 68,
     "metadata": {},
     "output_type": "execute_result"
    }
   ],
   "source": [
    "allocation_restr"
   ]
  },
  {
   "cell_type": "code",
   "execution_count": 129,
   "metadata": {
    "ExecuteTime": {
     "end_time": "2019-05-09T21:44:09.727274Z",
     "start_time": "2019-05-09T21:44:09.607752Z"
    }
   },
   "outputs": [],
   "source": [
    "myrets = np.array([exp_ret_one, exp_ret_two])\n",
    "myvols = np.array([exp_std_one, exp_std_two])"
   ]
  },
  {
   "cell_type": "code",
   "execution_count": 130,
   "metadata": {
    "ExecuteTime": {
     "end_time": "2019-05-09T21:44:26.835775Z",
     "start_time": "2019-05-09T21:44:11.542354Z"
    }
   },
   "outputs": [],
   "source": [
    "lista = lEtfs.copy()\n",
    "lista.append('returns')\n",
    "lista.append('volatility')\n",
    "\n",
    "monte_df = pd.DataFrame(columns=lista)\n",
    "for p in range(2500):\n",
    "    weights = np.random.random(len(allocation_restr))\n",
    "    weights /= np.sum(weights)\n",
    "\n",
    "    ret = np.sum(returns[lEtfs].mean()*PERIODS*weights)\n",
    "    vol = np.sqrt(np.dot(weights.T, np.dot(returns[lEtfs].cov()*PERIODS, weights)))\n",
    "    #monte_df.loc[p] = pandas.Series({'a':1, 'b':5, 'c':2, 'd':3})\n",
    "\n",
    "    ww = weights.tolist()\n",
    "    ww.append(ret)\n",
    "    ww.append(vol)\n",
    "\n",
    "    monte_df.loc[p] = ww\n"
   ]
  },
  {
   "cell_type": "code",
   "execution_count": 141,
   "metadata": {
    "ExecuteTime": {
     "end_time": "2019-05-09T23:14:44.911981Z",
     "start_time": "2019-05-09T23:14:43.897211Z"
    }
   },
   "outputs": [
    {
     "data": {
      "image/png": "[encoded data removed]",
      "text/plain": [
       "<Figure size 800x500 with 2 Axes>"
      ]
     },
     "metadata": {},
     "output_type": "display_data"
    }
   ],
   "source": [
    "fig9 = plt.figure(figsize = (8,5))\n",
    "\n",
    "plt.scatter(monte_df.volatility, monte_df.returns, \n",
    "            c = monte_df.returns / monte_df.volatility, \n",
    "            marker = 'o', cmap='coolwarm')\n",
    "plt.grid(True)\n",
    "plt.xlabel('expected volatility')\n",
    "plt.ylabel('expected return')\n",
    "plt.colorbar(label = 'Sharpe Ratio')\n",
    "plt.title('Monte Carlo Simulation Efficient Frontier')\n",
    "\n",
    "plt.scatter(myvols, myrets, c = myrets / myvols, marker = '+', cmap='coolwarm')\n",
    "\n",
    "plt.show();"
   ]
  },
  {
   "cell_type": "code",
   "execution_count": 134,
   "metadata": {
    "ExecuteTime": {
     "end_time": "2019-05-09T21:48:09.677074Z",
     "start_time": "2019-05-09T21:48:09.497229Z"
    }
   },
   "outputs": [
    {
     "data": {
      "text/html": [
       "<div>\n",
       "<style scoped>\n",
       "    .dataframe tbody tr th:only-of-type {\n",
       "        vertical-align: middle;\n",
       "    }\n",
       "\n",
       "    .dataframe tbody tr th {\n",
       "        vertical-align: top;\n",
       "    }\n",
       "\n",
       "    .dataframe thead th {\n",
       "        text-align: right;\n",
       "    }\n",
       "</style>\n",
       "<table border=\"1\" class=\"dataframe\">\n",
       "  <thead>\n",
       "    <tr style=\"text-align: right;\">\n",
       "      <th></th>\n",
       "      <th>em15</th>\n",
       "      <th>ibtm</th>\n",
       "      <th>iusa</th>\n",
       "      <th>smea</th>\n",
       "      <th>phau</th>\n",
       "      <th>returns</th>\n",
       "      <th>volatility</th>\n",
       "    </tr>\n",
       "  </thead>\n",
       "  <tbody>\n",
       "    <tr>\n",
       "      <th>0</th>\n",
       "      <td>0.063033</td>\n",
       "      <td>0.066752</td>\n",
       "      <td>0.234537</td>\n",
       "      <td>0.385601</td>\n",
       "      <td>0.250077</td>\n",
       "      <td>0.067654</td>\n",
       "      <td>0.097565</td>\n",
       "    </tr>\n",
       "    <tr>\n",
       "      <th>1</th>\n",
       "      <td>0.338304</td>\n",
       "      <td>0.259704</td>\n",
       "      <td>0.174783</td>\n",
       "      <td>0.050839</td>\n",
       "      <td>0.176370</td>\n",
       "      <td>0.057388</td>\n",
       "      <td>0.070237</td>\n",
       "    </tr>\n",
       "    <tr>\n",
       "      <th>2</th>\n",
       "      <td>0.096892</td>\n",
       "      <td>0.120186</td>\n",
       "      <td>0.243086</td>\n",
       "      <td>0.067942</td>\n",
       "      <td>0.471893</td>\n",
       "      <td>0.050903</td>\n",
       "      <td>0.089839</td>\n",
       "    </tr>\n",
       "    <tr>\n",
       "      <th>3</th>\n",
       "      <td>0.043579</td>\n",
       "      <td>0.297987</td>\n",
       "      <td>0.055536</td>\n",
       "      <td>0.336852</td>\n",
       "      <td>0.266046</td>\n",
       "      <td>0.047232</td>\n",
       "      <td>0.079736</td>\n",
       "    </tr>\n",
       "    <tr>\n",
       "      <th>4</th>\n",
       "      <td>0.064062</td>\n",
       "      <td>0.302637</td>\n",
       "      <td>0.174572</td>\n",
       "      <td>0.139460</td>\n",
       "      <td>0.319269</td>\n",
       "      <td>0.048437</td>\n",
       "      <td>0.080797</td>\n",
       "    </tr>\n",
       "  </tbody>\n",
       "</table>\n",
       "</div>"
      ],
      "text/plain": [
       "       em15      ibtm      iusa      smea      phau   returns  volatility\n",
       "0  0.063033  0.066752  0.234537  0.385601  0.250077  0.067654    0.097565\n",
       "1  0.338304  0.259704  0.174783  0.050839  0.176370  0.057388    0.070237\n",
       "2  0.096892  0.120186  0.243086  0.067942  0.471893  0.050903    0.089839\n",
       "3  0.043579  0.297987  0.055536  0.336852  0.266046  0.047232    0.079736\n",
       "4  0.064062  0.302637  0.174572  0.139460  0.319269  0.048437    0.080797"
      ]
     },
     "execution_count": 134,
     "metadata": {},
     "output_type": "execute_result"
    }
   ],
   "source": [
    "monte_df.head()"
   ]
  },
  {
   "cell_type": "code",
   "execution_count": 139,
   "metadata": {
    "ExecuteTime": {
     "end_time": "2019-05-09T21:53:59.301360Z",
     "start_time": "2019-05-09T21:53:59.162261Z"
    }
   },
   "outputs": [
    {
     "data": {
      "text/plain": [
       "em15          0.228743\n",
       "ibtm          0.005637\n",
       "iusa          0.587682\n",
       "smea          0.142049\n",
       "phau          0.035888\n",
       "returns       0.097779\n",
       "volatility    0.106130\n",
       "Name: 1835, dtype: float64"
      ]
     },
     "execution_count": 139,
     "metadata": {},
     "output_type": "execute_result"
    }
   ],
   "source": [
    "monte_df.iloc[monte_df.returns.idxmax()]"
   ]
  },
  {
   "cell_type": "code",
   "execution_count": null,
   "metadata": {},
   "outputs": [],
   "source": []
  },
  {
   "cell_type": "code",
   "execution_count": null,
   "metadata": {},
   "outputs": [],
   "source": []
  },
  {
   "cell_type": "code",
   "execution_count": null,
   "metadata": {},
   "outputs": [],
   "source": []
  },
  {
   "cell_type": "code",
   "execution_count": null,
   "metadata": {},
   "outputs": [],
   "source": []
  },
  {
   "cell_type": "code",
   "execution_count": null,
   "metadata": {},
   "outputs": [],
   "source": []
  },
  {
   "cell_type": "code",
   "execution_count": null,
   "metadata": {},
   "outputs": [],
   "source": []
  },
  {
   "cell_type": "markdown",
   "metadata": {},
   "source": [
    "# TESTs"
   ]
  },
  {
   "cell_type": "code",
   "execution_count": null,
   "metadata": {
    "collapsed": true
   },
   "outputs": [],
   "source": [
    "datos_returns = np.log(datos/datos.shift(1))\n",
    "datos_returns.dropna(inplace=True)\n",
    "stats = pd.DataFrame()\n",
    "stats[‘Annualized Returns(%)’] =datos_returns.mean() * semana *100\n",
    "stats[‘Annualized Volatility(%)’] = datos_returns.std() * np.sqrt(semana)*100\n",
    "stats[‘Sharpe Ratio’] = stats[‘Annualized Returns(%)’] /stats[‘Annualized Volatility(%)’]\n",
    "print(82*’-’)\n",
    "print(‘Assets Classes Annualized Statistics — full observation period’)\n",
    "stats.style.bar(color=[‘red’,’green’], align=’zero’)"
   ]
  },
  {
   "cell_type": "code",
   "execution_count": null,
   "metadata": {
    "ExecuteTime": {
     "end_time": "2019-04-27T09:19:54.658179Z",
     "start_time": "2019-04-27T09:19:54.590805Z"
    },
    "collapsed": true
   },
   "outputs": [],
   "source": [
    "\n"
   ]
  },
  {
   "cell_type": "code",
   "execution_count": null,
   "metadata": {
    "ExecuteTime": {
     "end_time": "2019-05-03T19:18:15.915068Z",
     "start_time": "2019-05-03T19:18:14.970775Z"
    },
    "collapsed": true
   },
   "outputs": [],
   "source": [
    "f = plt.figure()\n",
    "plt.title('Title here!', color='black')\n",
    "dfLista.ceu.plot(kind='line', ax=f.gca())\n",
    "dfLista.imeu.plot(kind='line', ax=f.gca())\n",
    "plt.legend(loc='center left', bbox_to_anchor=(1.0, 0.5))\n",
    "plt.show()\n",
    "\n"
   ]
  },
  {
   "cell_type": "code",
   "execution_count": null,
   "metadata": {
    "ExecuteTime": {
     "end_time": "2019-04-27T09:20:05.830819Z",
     "start_time": "2019-04-27T09:19:59.577171Z"
    },
    "collapsed": true
   },
   "outputs": [],
   "source": [
    "z.loc[mask,'end_date'] = z[mask].apply(lambda x: correct_end_date(x['ticker'],x['isin']), axis=1)"
   ]
  },
  {
   "cell_type": "code",
   "execution_count": null,
   "metadata": {
    "ExecuteTime": {
     "end_time": "2019-04-27T09:20:26.300972Z",
     "start_time": "2019-04-27T09:20:26.198594Z"
    },
    "collapsed": true
   },
   "outputs": [],
   "source": [
    "z[mask]"
   ]
  },
  {
   "cell_type": "code",
   "execution_count": null,
   "metadata": {
    "ExecuteTime": {
     "end_time": "2019-04-27T08:07:37.630805Z",
     "start_time": "2019-04-27T08:07:37.499445Z"
    },
    "collapsed": true
   },
   "outputs": [],
   "source": [
    "def myfunc(ticker, isin):\n",
    "    return str(ticker)+str(isin)\n",
    "\n",
    "z.loc[mask,'end_date'] = z.apply(lambda x: myfunc(x['isin'],x['ticker']), axis=1)"
   ]
  },
  {
   "cell_type": "markdown",
   "metadata": {},
   "source": [
    "### Test lettura quotazioni ETF da ./csv/"
   ]
  },
  {
   "cell_type": "code",
   "execution_count": null,
   "metadata": {
    "ExecuteTime": {
     "end_time": "2019-04-21T09:52:11.658392Z",
     "start_time": "2019-04-21T09:52:11.452558Z"
    },
    "collapsed": true
   },
   "outputs": [],
   "source": [
    "tickers = ['A500.MI']"
   ]
  },
  {
   "cell_type": "code",
   "execution_count": null,
   "metadata": {
    "ExecuteTime": {
     "end_time": "2019-04-21T09:52:13.520528Z",
     "start_time": "2019-04-21T09:52:12.912593Z"
    },
    "collapsed": true
   },
   "outputs": [],
   "source": [
    "ticker_file = WORKDIR + tickers[0] + EXT\n",
    "\n",
    "#df = pd.read_csv(ticker_file, index_col=1, parse_dates=True)\n",
    "df = pd.read_csv(ticker_file, usecols=[1,2,3,4,5,6], index_col=0, parse_dates=True, dayfirst=True)"
   ]
  },
  {
   "cell_type": "code",
   "execution_count": null,
   "metadata": {
    "ExecuteTime": {
     "end_time": "2019-04-21T09:52:14.537214Z",
     "start_time": "2019-04-21T09:52:14.448824Z"
    },
    "collapsed": true,
    "scrolled": true
   },
   "outputs": [],
   "source": [
    "df.head()"
   ]
  },
  {
   "cell_type": "code",
   "execution_count": null,
   "metadata": {
    "ExecuteTime": {
     "end_time": "2019-04-08T21:18:17.830006Z",
     "start_time": "2019-04-08T21:18:17.755714Z"
    },
    "collapsed": true
   },
   "outputs": [],
   "source": [
    "end = df.index[df.shape[0]-1]\n",
    "start = df.index[0]\n",
    "\n",
    "end - start\n",
    "end.date()\n",
    "\n",
    "np.busday_count( start.date(), end.date() )"
   ]
  },
  {
   "cell_type": "markdown",
   "metadata": {},
   "source": [
    "### correzioni"
   ]
  },
  {
   "cell_type": "code",
   "execution_count": null,
   "metadata": {
    "ExecuteTime": {
     "end_time": "2019-04-21T15:50:13.216784Z",
     "start_time": "2019-04-21T15:50:13.139742Z"
    },
    "collapsed": true
   },
   "outputs": [],
   "source": [
    "tickers = ['EUE.MI']"
   ]
  },
  {
   "cell_type": "code",
   "execution_count": null,
   "metadata": {
    "ExecuteTime": {
     "end_time": "2019-04-21T16:36:02.314026Z",
     "start_time": "2019-04-21T16:36:01.135318Z"
    },
    "collapsed": true
   },
   "outputs": [],
   "source": [
    "ticker_file = WORKDIR + tickers[0] + EXT\n",
    "\n",
    "#df = pd.read_csv(ticker_file, index_col=1, parse_dates=True)\n",
    "df = pd.read_csv(ticker_file, usecols=[1,2,3,4,5,6], index_col=0, parse_dates=True, dayfirst=True)"
   ]
  },
  {
   "cell_type": "code",
   "execution_count": null,
   "metadata": {
    "ExecuteTime": {
     "end_time": "2019-04-21T16:36:26.288724Z",
     "start_time": "2019-04-21T16:36:26.219266Z"
    },
    "collapsed": true
   },
   "outputs": [],
   "source": [
    "df.loc['2018-11-21','high'] = 31.98\n",
    "df.loc['2018-11-21','low'] = 31.69\n",
    "df.loc['2018-11-21','close'] = 31.96\n",
    "\n"
   ]
  },
  {
   "cell_type": "code",
   "execution_count": null,
   "metadata": {
    "ExecuteTime": {
     "end_time": "2019-04-21T16:37:16.539091Z",
     "start_time": "2019-04-21T16:37:15.923507Z"
    },
    "collapsed": true
   },
   "outputs": [],
   "source": [
    "df.close.plot(figsize=(16, 10))"
   ]
  },
  {
   "cell_type": "markdown",
   "metadata": {},
   "source": [
    "### apply colonne multiple"
   ]
  },
  {
   "cell_type": "code",
   "execution_count": null,
   "metadata": {
    "ExecuteTime": {
     "end_time": "2019-04-21T09:04:07.354797Z",
     "start_time": "2019-04-21T09:04:07.088057Z"
    },
    "collapsed": true
   },
   "outputs": [],
   "source": [
    "df100 = dfEtfInfo"
   ]
  },
  {
   "cell_type": "code",
   "execution_count": null,
   "metadata": {
    "ExecuteTime": {
     "end_time": "2019-04-21T09:09:02.320020Z",
     "start_time": "2019-04-21T09:09:01.812732Z"
    },
    "collapsed": true
   },
   "outputs": [],
   "source": [
    "def myfunc(isin, ticker):\n",
    "    return str(isin)+str(ticker)\n",
    "\n",
    "df100['newcolumn'] = df100.apply(lambda x: myfunc(x['isin'],x['ticker']), axis=1)"
   ]
  },
  {
   "cell_type": "code",
   "execution_count": null,
   "metadata": {
    "ExecuteTime": {
     "end_time": "2019-04-21T09:09:07.443382Z",
     "start_time": "2019-04-21T09:09:07.347120Z"
    },
    "collapsed": true
   },
   "outputs": [],
   "source": [
    "df100.head()"
   ]
  },
  {
   "cell_type": "markdown",
   "metadata": {},
   "source": [
    "### leggi ticker.mi csv altrimenti isin.csv"
   ]
  },
  {
   "cell_type": "code",
   "execution_count": null,
   "metadata": {
    "ExecuteTime": {
     "end_time": "2019-04-21T09:23:49.866714Z",
     "start_time": "2019-04-21T09:23:49.710914Z"
    },
    "collapsed": true
   },
   "outputs": [],
   "source": [
    "def get_start_date(isin, ticker):\n",
    "    try:\n",
    "        ticker_file = WORKDIR + ticker + EXT\n",
    "        df = pd.read_csv(ticker_file, usecols=[1,2,3,4,5,6], index_col=0, parse_dates=True)\n",
    "        end = df.index[df.shape[0]-1]\n",
    "        start = df.index[0]\n",
    "        return start\n",
    "    except FileNotFoundError:\n",
    "        try:\n",
    "            ticker_file = WORKDIR + isin + EXT\n",
    "            df = pd.read_csv(ticker_file, usecols=[1,2,3,4,5,6], index_col=0, parse_dates=True)\n",
    "            end = df.index[df.shape[0]-1]\n",
    "            start = df.index[0]\n",
    "            return start\n",
    "        except FileNotFoundError:\n",
    "            return None\n",
    "\n",
    "def get_end_date(isin, ticker):\n",
    "    try:\n",
    "        ticker_file = WORKDIR + ticker + EXT\n",
    "        df = pd.read_csv(ticker_file, usecols=[1,2,3,4,5,6], index_col=0, parse_dates=True)\n",
    "        end = df.index[df.shape[0]-1]\n",
    "        start = df.index[0]\n",
    "        return end\n",
    "    except FileNotFoundError:\n",
    "        try:\n",
    "            ticker_file = WORKDIR + isin + EXT\n",
    "            df = pd.read_csv(ticker_file, usecols=[1,2,3,4,5,6], index_col=0, parse_dates=True)\n",
    "            end = df.index[df.shape[0]-1]\n",
    "            start = df.index[0]\n",
    "            return end\n",
    "        except FileNotFoundError:\n",
    "            return None"
   ]
  },
  {
   "cell_type": "code",
   "execution_count": null,
   "metadata": {
    "ExecuteTime": {
     "end_time": "2019-04-21T09:24:17.107149Z",
     "start_time": "2019-04-21T09:24:12.489087Z"
    },
    "collapsed": true
   },
   "outputs": [],
   "source": [
    "df100 = dfEtfInfo[dfEtfInfo.areaBenchmark == 'AZIONARIO NORD AMERICA']\n",
    "\n",
    "df101 = df3[df3.benchmark == 'S&P 500 TRN USD']\n",
    "\n",
    "df101['start_date'] = df101.apply(lambda x: get_start_date(x['isin'],x['ticker']), axis=1)\n",
    "df101['end_date'] = df101.apply(lambda x: get_end_date(x['isin'],x['ticker']), axis=1)"
   ]
  },
  {
   "cell_type": "code",
   "execution_count": null,
   "metadata": {
    "ExecuteTime": {
     "end_time": "2019-04-21T09:24:23.392469Z",
     "start_time": "2019-04-21T09:24:23.303013Z"
    },
    "collapsed": true
   },
   "outputs": [],
   "source": [
    "df101.head()"
   ]
  },
  {
   "cell_type": "code",
   "execution_count": null,
   "metadata": {
    "collapsed": true
   },
   "outputs": [],
   "source": []
  },
  {
   "cell_type": "markdown",
   "metadata": {},
   "source": [
    "### Lista le aree degli ETF"
   ]
  },
  {
   "cell_type": "code",
   "execution_count": null,
   "metadata": {
    "ExecuteTime": {
     "end_time": "2019-04-09T08:41:59.560239Z",
     "start_time": "2019-04-09T08:41:58.961151Z"
    },
    "collapsed": true
   },
   "outputs": [],
   "source": [
    "aree = pd.DataFrame(dfEtfInfo.areaBenchmark.unique(),columns=['areaBenchmark'])\n",
    "aree.sort_values(by='areaBenchmark',inplace=True)\n",
    "\n",
    "aree"
   ]
  },
  {
   "cell_type": "code",
   "execution_count": null,
   "metadata": {
    "ExecuteTime": {
     "end_time": "2019-04-09T08:54:15.413702Z",
     "start_time": "2019-04-09T08:54:14.865650Z"
    },
    "collapsed": true
   },
   "outputs": [],
   "source": [
    "df3 = dfEtfInfo[dfEtfInfo.areaBenchmark == 'AZIONARIO NORD AMERICA']"
   ]
  },
  {
   "cell_type": "code",
   "execution_count": null,
   "metadata": {
    "ExecuteTime": {
     "end_time": "2019-04-09T08:54:16.382835Z",
     "start_time": "2019-04-09T08:54:15.813413Z"
    },
    "collapsed": true,
    "scrolled": true
   },
   "outputs": [],
   "source": [
    "df3[df3.benchmark == 'S&P 500 TRN USD']"
   ]
  },
  {
   "cell_type": "code",
   "execution_count": null,
   "metadata": {
    "collapsed": true
   },
   "outputs": [],
   "source": [
    "df4 = df3[df3.benchmark == 'S&P 500 TRN USD']\n",
    "# df5 = df4.assign(startDate=df4.ticker.apply(get_start_date),endDate=df4.ticker.apply(get_end_date))"
   ]
  },
  {
   "cell_type": "code",
   "execution_count": null,
   "metadata": {
    "ExecuteTime": {
     "end_time": "2019-04-09T08:54:21.968818Z",
     "start_time": "2019-04-09T08:54:19.500804Z"
    },
    "collapsed": true,
    "scrolled": true
   },
   "outputs": [],
   "source": [
    "df4['startDate'] = df4.ticker.apply(get_start_date)\n",
    "df4['endDate'] = df4.ticker.apply(get_end_date)\n",
    "    \n",
    "    "
   ]
  },
  {
   "cell_type": "code",
   "execution_count": null,
   "metadata": {
    "collapsed": true
   },
   "outputs": [],
   "source": []
  },
  {
   "cell_type": "code",
   "execution_count": null,
   "metadata": {
    "ExecuteTime": {
     "end_time": "2019-04-28T15:36:27.068211Z",
     "start_time": "2019-04-28T15:36:26.547392Z"
    },
    "collapsed": true
   },
   "outputs": [],
   "source": [
    "def myfunc100(row):\n",
    "    return pd.Series(['PIP','PO'])\n",
    "\n",
    "\n",
    "dfEtfInfo[['test1', 'test2']] = dfEtfInfo.apply(myfunc100, axis=1)"
   ]
  },
  {
   "cell_type": "code",
   "execution_count": null,
   "metadata": {
    "collapsed": true
   },
   "outputs": [],
   "source": []
  },
  {
   "cell_type": "code",
   "execution_count": null,
   "metadata": {
    "collapsed": true
   },
   "outputs": [],
   "source": []
  },
  {
   "cell_type": "code",
   "execution_count": null,
   "metadata": {
    "collapsed": true
   },
   "outputs": [],
   "source": [
    "dfEtfInfo = pd.read_excel('infoprovider_etc.xlsx').iloc[6:,:]\n",
    "dfEtfInfo.columns = dfEtfInfo.iloc[0,:].tolist()\n",
    "dfEtfInfo = dfEtfInfo.iloc[1:,:]\n",
    "dfEtfInfo.set_index('N.',inplace=True)\n",
    "# df2['Strumento'].unique()\n",
    "# df2.drop(df2[df2['Strumento'] == 0].index, inplace=True) # pulisce\n",
    "dfEtfInfo = dfEtfInfo[dfEtfInfo['Strumento'] == 'ETF']\n",
    "dfEtfInfo = dfEtfInfo[['ISIN','Nome','Reuters RIC (Italy)','Indice Benchmark','TER','Area Benchmark','Emittente']]\n",
    "dfEtfInfo.columns = ['isin','nome','ticker','benchmark','ter','areaBenchmark','emittente']\n",
    "# df2.set_index('ticker', inplace=True)"
   ]
  },
  {
   "cell_type": "code",
   "execution_count": null,
   "metadata": {
    "ExecuteTime": {
     "end_time": "2019-04-28T20:15:20.333751Z",
     "start_time": "2019-04-28T20:15:20.071729Z"
    },
    "collapsed": true
   },
   "outputs": [],
   "source": [
    "dfEtcInfo"
   ]
  },
  {
   "cell_type": "code",
   "execution_count": null,
   "metadata": {
    "collapsed": true
   },
   "outputs": [],
   "source": []
  },
  {
   "cell_type": "code",
   "execution_count": null,
   "metadata": {
    "ExecuteTime": {
     "end_time": "2019-05-02T22:05:59.238247Z",
     "start_time": "2019-05-02T22:05:59.135790Z"
    },
    "collapsed": true
   },
   "outputs": [],
   "source": [
    "ceu = pd.read_csv('csv/CEU.MI.csv', usecols=[1,2,3,4,5,6], index_col=0, parse_dates=True, dayfirst=True)\n",
    "imeu = pd.read_csv('csv/IMEU.MI.csv', usecols=[1,2,3,4,5,6], index_col=0, parse_dates=True, dayfirst=True)\n",
    "tmp1 = ceu.join(imeu, how='outer', rsuffix='_1')[['close','close_1']]\n",
    "tmp1.columns=['ceu','imeu']\n",
    "tmp1\n"
   ]
  },
  {
   "cell_type": "code",
   "execution_count": null,
   "metadata": {
    "ExecuteTime": {
     "end_time": "2019-05-02T21:51:02.745733Z",
     "start_time": "2019-05-02T21:50:57.616035Z"
    },
    "collapsed": true
   },
   "outputs": [],
   "source": [
    "df5 = pd.DataFrame()\n",
    "\n",
    "for index,row in df4.iterrows():\n",
    "    ticker = row.ticker\n",
    "    source = row.dataSource\n",
    "    filename = WORKDIR + source + EXT\n",
    "    tmpdf = pd.read_csv(filename, usecols=[1,2,3,4,5,6], index_col=0, parse_dates=True, dayfirst=True)\n",
    "    df5[ticker] = tmpdf.close\n"
   ]
  }
 ],
 "metadata": {
  "kernelspec": {
   "display_name": "env",
   "language": "python",
   "name": "env"
  },
  "language_info": {
   "codemirror_mode": {
    "name": "ipython",
    "version": 3
   },
   "file_extension": ".py",
   "mimetype": "text/x-python",
   "name": "python",
   "nbconvert_exporter": "python",
   "pygments_lexer": "ipython3",
   "version": "3.7.1"
  }
 },
 "nbformat": 4,
 "nbformat_minor": 2
}
