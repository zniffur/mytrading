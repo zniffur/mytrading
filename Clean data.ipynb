{
 "cells": [
  {
   "cell_type": "code",
   "execution_count": 1,
   "metadata": {
    "ExecuteTime": {
     "end_time": "2019-05-25T10:17:55.653157Z",
     "start_time": "2019-05-25T10:17:53.445864Z"
    },
    "scrolled": true
   },
   "outputs": [],
   "source": [
    "%load_ext autoreload\n",
    "%autoreload 2\n",
    "%matplotlib inline"
   ]
  },
  {
   "cell_type": "code",
   "execution_count": null,
   "metadata": {
    "ExecuteTime": {
     "end_time": "2019-05-21T06:37:59.745329Z",
     "start_time": "2019-05-21T06:37:44.132909Z"
    }
   },
   "outputs": [],
   "source": [
    "import sys\n",
    "!{sys.executable} -m pip install jinja2\n",
    "\n",
    "# QUESTO INSTALL xlrd, openpyxl all'interno del virtualenv\n",
    "# FONDAMENTALE!!!!\n",
    "#\n",
    "\n",
    "!{sys.executable} -m pip install xlrd\n",
    "!{sys.executable} -m pip install openpyxl\n",
    "!{sys.executable} -m pip install sklearn\n",
    "!{sys.executable} -m pip install seaborn\n",
    "\n"
   ]
  },
  {
   "cell_type": "code",
   "execution_count": null,
   "metadata": {
    "ExecuteTime": {
     "end_time": "2019-06-02T09:14:35.717117Z",
     "start_time": "2019-06-02T09:14:35.033100Z"
    }
   },
   "outputs": [],
   "source": [
    "import pandas as pd\n",
    "import matplotlib.pyplot as plt\n",
    "import numpy as np\n",
    "import datetime as dt\n",
    "import os\n",
    "import seaborn as sns; sns.reset_orig()\n",
    "\n",
    "plt.style.use('ggplot')\n",
    "\n",
    "WORKDIR = \"csv/\"\n",
    "EXT = '.csv'\n",
    "VOL_AVG_PERIOD = 20"
   ]
  },
  {
   "cell_type": "code",
   "execution_count": 3,
   "metadata": {
    "ExecuteTime": {
     "end_time": "2019-05-18T16:36:35.399688Z",
     "start_time": "2019-05-18T16:36:35.301789Z"
    },
    "scrolled": true
   },
   "outputs": [
    {
     "name": "stdout",
     "output_type": "stream",
     "text": [
      "['bmh', 'classic', 'dark_background', 'fast', 'fivethirtyeight', 'ggplot', 'grayscale', 'seaborn-bright', 'seaborn-colorblind', 'seaborn-dark-palette', 'seaborn-dark', 'seaborn-darkgrid', 'seaborn-deep', 'seaborn-muted', 'seaborn-notebook', 'seaborn-paper', 'seaborn-pastel', 'seaborn-poster', 'seaborn-talk', 'seaborn-ticks', 'seaborn-white', 'seaborn-whitegrid', 'seaborn', 'Solarize_Light2', 'tableau-colorblind10', '_classic_test']\n"
     ]
    }
   ],
   "source": [
    "print(plt.style.available)"
   ]
  },
  {
   "cell_type": "markdown",
   "metadata": {},
   "source": [
    "### Importo la lista degli ETF e ETC borsaitalia"
   ]
  },
  {
   "cell_type": "code",
   "execution_count": 4,
   "metadata": {
    "ExecuteTime": {
     "end_time": "2019-06-02T09:15:16.240686Z",
     "start_time": "2019-06-02T09:15:13.344728Z"
    }
   },
   "outputs": [],
   "source": [
    "dfEtfInfo = pd.read_excel('infoproviders.xlsx').iloc[7:,:]\n",
    "dfEtfInfo.columns = dfEtfInfo.iloc[0,:].tolist()\n",
    "dfEtfInfo = dfEtfInfo.iloc[1:,:]\n",
    "dfEtfInfo.set_index('N.',inplace=True)\n",
    "\n",
    "# df2['Strumento'].unique()\n",
    "# df2.drop(df2[df2['Strumento'] == 0].index, inplace=True) # pulisce\n",
    "dfEtfInfo = dfEtfInfo[dfEtfInfo['Strumento'] == 'ETF']\n",
    "dfEtfInfo = dfEtfInfo[['ISIN','Nome','Local Market TIDM','Indice Benchmark','TER','Area Benchmark','Emittente','Strumento']]\n",
    "dfEtfInfo.columns = ['isin','nome','ticker','benchmark','ter','areaBenchmark','emittente','strumento']\n",
    "# df2.set_index('ticker', inplace=True)"
   ]
  },
  {
   "cell_type": "code",
   "execution_count": 5,
   "metadata": {
    "ExecuteTime": {
     "end_time": "2019-06-02T09:17:13.768482Z",
     "start_time": "2019-06-02T09:17:11.671248Z"
    }
   },
   "outputs": [],
   "source": [
    "dfEtcInfo = pd.read_excel('infoprovider_etc.xlsx').iloc[7:,:]\n",
    "dfEtcInfo.columns = dfEtcInfo.iloc[0,:].tolist()\n",
    "dfEtcInfo = dfEtcInfo.iloc[1:,:]\n",
    "dfEtcInfo.set_index('N.',inplace=True)\n",
    "dfEtcInfo = dfEtcInfo[['ISIN','Nome','Local Market TIDM','Indice Benchmark','TER','Area Benchmark','Emittente','Strumento']]\n",
    "dfEtcInfo.columns = ['isin','nome','ticker','benchmark','ter','areaBenchmark','emittente','strumento']"
   ]
  },
  {
   "cell_type": "code",
   "execution_count": 6,
   "metadata": {
    "ExecuteTime": {
     "end_time": "2019-06-02T09:17:14.387346Z",
     "start_time": "2019-06-02T09:17:14.289141Z"
    }
   },
   "outputs": [],
   "source": [
    "df = pd.DataFrame()\n",
    "df = pd.concat([dfEtfInfo, dfEtcInfo], ignore_index=True)\n",
    "df.ticker = df.ticker + '.MI'"
   ]
  },
  {
   "cell_type": "code",
   "execution_count": 7,
   "metadata": {
    "ExecuteTime": {
     "end_time": "2019-06-02T09:17:16.881584Z",
     "start_time": "2019-06-02T09:17:16.631363Z"
    }
   },
   "outputs": [],
   "source": [
    "# capisce se è da usare il file ticker o l'isin come sorgente dei dati\n",
    "\n",
    "def set_data_source(isin, ticker):\n",
    "    isin_file = WORKDIR + isin + EXT\n",
    "    if os.path.exists(isin_file):\n",
    "        return isin\n",
    "    else:\n",
    "        ticker_file = WORKDIR + ticker + EXT\n",
    "        if os.path.exists(ticker_file):\n",
    "            return ticker\n",
    "        else:\n",
    "            return None\n",
    "    \n",
    "df['dataSource'] = df.apply(lambda x: set_data_source(x['isin'],x['ticker']), axis=1)    "
   ]
  },
  {
   "cell_type": "code",
   "execution_count": 8,
   "metadata": {
    "ExecuteTime": {
     "end_time": "2019-06-02T09:17:18.359389Z",
     "start_time": "2019-06-02T09:17:18.282620Z"
    }
   },
   "outputs": [],
   "source": [
    "df.dropna(inplace=True)  # droppa i ticker per cui non c'è nè il ISIN.csv, nè il TICKER.csv"
   ]
  },
  {
   "cell_type": "code",
   "execution_count": 9,
   "metadata": {
    "ExecuteTime": {
     "end_time": "2019-06-02T09:17:23.049935Z",
     "start_time": "2019-06-02T09:17:21.207694Z"
    }
   },
   "outputs": [],
   "source": [
    "## SALVO i df\n",
    "\n",
    "df.to_excel('etf_info.xlsx')\n",
    "df.to_csv('etf_info.csv')\n"
   ]
  },
  {
   "cell_type": "markdown",
   "metadata": {},
   "source": [
    "### Aggiungo 3 colonne con le date di inizio e fine delle quotazioni  e volAvg, disponibili sui file csv"
   ]
  },
  {
   "cell_type": "code",
   "execution_count": 10,
   "metadata": {
    "ExecuteTime": {
     "end_time": "2019-06-02T09:17:23.885854Z",
     "start_time": "2019-06-02T09:17:23.784091Z"
    }
   },
   "outputs": [],
   "source": [
    "df1 = df.copy()"
   ]
  },
  {
   "cell_type": "code",
   "execution_count": 11,
   "metadata": {
    "ExecuteTime": {
     "end_time": "2019-06-02T09:24:20.467213Z",
     "start_time": "2019-06-02T09:17:26.643429Z"
    },
    "code_folding": [
     0
    ]
   },
   "outputs": [],
   "source": [
    "def get_dates_volume(row):\n",
    "    \n",
    "    source = row['dataSource']  # isin o ticker\n",
    "    try:\n",
    "        ticker_file = WORKDIR + source + EXT\n",
    "        df = pd.read_csv(ticker_file, usecols=[1,2,3,4,5,6], index_col=0, parse_dates=True, dayfirst=True)\n",
    "        end = df.index[df.shape[0]-1]\n",
    "        start = df.index[0]\n",
    "        volAvg = df.volume.rolling(VOL_AVG_PERIOD).mean()[-1]\n",
    "    except e:\n",
    "        end = None\n",
    "        start = None\n",
    "        volAvg = None\n",
    "\n",
    "    return pd.Series([start,end,volAvg])\n",
    "\n",
    "## LONG!!!\n",
    "df1[['startDate', 'endDate', 'volAvg']] = df1.apply(get_dates_volume, axis=1)\n"
   ]
  },
  {
   "cell_type": "code",
   "execution_count": 12,
   "metadata": {
    "ExecuteTime": {
     "end_time": "2019-06-02T09:25:15.667248Z",
     "start_time": "2019-06-02T09:25:15.142408Z"
    }
   },
   "outputs": [],
   "source": [
    "df1['endDate'] =  pd.to_datetime(df1['endDate'])\n",
    "df1['startDate'] =  pd.to_datetime(df1['startDate'])\n",
    "df1 = df1.round({'volAvg':0})"
   ]
  },
  {
   "cell_type": "code",
   "execution_count": 13,
   "metadata": {
    "ExecuteTime": {
     "end_time": "2019-06-02T09:25:20.305698Z",
     "start_time": "2019-06-02T09:25:16.651588Z"
    }
   },
   "outputs": [],
   "source": [
    "## SALVO i df con volumi e ticker\n",
    "\n",
    "df1.to_excel('etf_info_vol' + str(VOL_AVG_PERIOD)  + '.xlsx')\n",
    "df1.to_csv('etf_info_vol' + str(VOL_AVG_PERIOD)  + '.csv')\n",
    "\n"
   ]
  },
  {
   "cell_type": "markdown",
   "metadata": {},
   "source": [
    "### elimina i ticker con end_date vecchia e quelli con volume NaN (che vuol dire che non esistono file per quel ticker)"
   ]
  },
  {
   "cell_type": "code",
   "execution_count": 14,
   "metadata": {
    "ExecuteTime": {
     "end_time": "2019-06-02T09:25:22.928106Z",
     "start_time": "2019-06-02T09:25:22.720382Z"
    },
    "scrolled": true
   },
   "outputs": [],
   "source": [
    "df2 = df1.copy()\n",
    "\n",
    "mask = (df2.endDate < '2019')\n",
    "df2.drop(df2[mask].index, inplace=True)\n",
    "\n",
    "df2 = df2[df2.volAvg >= 0]\n",
    "\n",
    "df2.volAvg = df2.volAvg.astype(int)\n",
    "df2.ter = df2.ter.astype(float)"
   ]
  },
  {
   "cell_type": "code",
   "execution_count": 15,
   "metadata": {
    "ExecuteTime": {
     "end_time": "2019-06-02T09:25:27.197959Z",
     "start_time": "2019-06-02T09:25:24.363998Z"
    }
   },
   "outputs": [],
   "source": [
    "## SALVO i df con volumi e ticker puliti\n",
    "\n",
    "df2.to_excel('etf_info_vol' + str(VOL_AVG_PERIOD)  + '_clean.xlsx')\n",
    "df2.to_csv('etf_info_vol' + str(VOL_AVG_PERIOD)  + '_clean.csv')"
   ]
  },
  {
   "cell_type": "markdown",
   "metadata": {},
   "source": [
    "## CARICA il DF (reinizializza)"
   ]
  },
  {
   "cell_type": "code",
   "execution_count": 4,
   "metadata": {
    "ExecuteTime": {
     "end_time": "2019-05-18T16:36:49.483395Z",
     "start_time": "2019-05-18T16:36:48.049876Z"
    }
   },
   "outputs": [
    {
     "data": {
      "text/html": [
       "<div>\n",
       "<style scoped>\n",
       "    .dataframe tbody tr th:only-of-type {\n",
       "        vertical-align: middle;\n",
       "    }\n",
       "\n",
       "    .dataframe tbody tr th {\n",
       "        vertical-align: top;\n",
       "    }\n",
       "\n",
       "    .dataframe thead th {\n",
       "        text-align: right;\n",
       "    }\n",
       "</style>\n",
       "<table border=\"1\" class=\"dataframe\">\n",
       "  <thead>\n",
       "    <tr style=\"text-align: right;\">\n",
       "      <th></th>\n",
       "      <th>isin</th>\n",
       "      <th>nome</th>\n",
       "      <th>ticker</th>\n",
       "      <th>benchmark</th>\n",
       "      <th>ter</th>\n",
       "      <th>areaBenchmark</th>\n",
       "      <th>emittente</th>\n",
       "      <th>strumento</th>\n",
       "      <th>dataSource</th>\n",
       "    </tr>\n",
       "  </thead>\n",
       "  <tbody>\n",
       "    <tr>\n",
       "      <th>0</th>\n",
       "      <td>LU0136242590</td>\n",
       "      <td>UBS FTSE 100 UCITS ETF A-DIS</td>\n",
       "      <td>100EUA.MI</td>\n",
       "      <td>FTSE 100 TR</td>\n",
       "      <td>0.00200</td>\n",
       "      <td>AZIONARIO EUROPA - SINGOLI PAESI</td>\n",
       "      <td>UBS ETF</td>\n",
       "      <td>ETF</td>\n",
       "      <td>LU0136242590</td>\n",
       "    </tr>\n",
       "    <tr>\n",
       "      <th>1</th>\n",
       "      <td>LU1681048804</td>\n",
       "      <td>AMUNDI S&amp;P 500 EUR UCITS ETF</td>\n",
       "      <td>A500.MI</td>\n",
       "      <td>S&amp;P 500 TRN USD</td>\n",
       "      <td>0.00150</td>\n",
       "      <td>AZIONARIO NORD AMERICA</td>\n",
       "      <td>AMUNDI</td>\n",
       "      <td>ETF</td>\n",
       "      <td>A500.MI</td>\n",
       "    </tr>\n",
       "    <tr>\n",
       "      <th>2</th>\n",
       "      <td>LU1829219556</td>\n",
       "      <td>LYXOR HIGH RAT MW GOVT 1-3Y DR UCITS ETF</td>\n",
       "      <td>AAA13.MI</td>\n",
       "      <td>FTSE MTS HIGHEST RATED MACRO WEIGT GOV 1-3 YRS...</td>\n",
       "      <td>0.00165</td>\n",
       "      <td>TITOLI DI STATO - EURO</td>\n",
       "      <td>LYXOR</td>\n",
       "      <td>ETF</td>\n",
       "      <td>AAA13.MI</td>\n",
       "    </tr>\n",
       "    <tr>\n",
       "      <th>3</th>\n",
       "      <td>LU1829219713</td>\n",
       "      <td>LYXOR HIGH RAT MW GOVT 3-5Y DR UCITS ETF</td>\n",
       "      <td>AAA35.MI</td>\n",
       "      <td>FTSE MTS HIGHEST RATED MACRO WEIGT GOV 3-5 YRS...</td>\n",
       "      <td>0.00165</td>\n",
       "      <td>TITOLI DI STATO - EURO</td>\n",
       "      <td>LYXOR</td>\n",
       "      <td>ETF</td>\n",
       "      <td>AAA35.MI</td>\n",
       "    </tr>\n",
       "    <tr>\n",
       "      <th>4</th>\n",
       "      <td>LU1829219986</td>\n",
       "      <td>LYXOR HIGH RAT MW GOVT 5-7Y DR UCITS ETF</td>\n",
       "      <td>AAA57.MI</td>\n",
       "      <td>FTSE MTS HIGHEST RATED MACRO WEIGT GOV 5-7 YRS...</td>\n",
       "      <td>0.00165</td>\n",
       "      <td>TITOLI DI STATO - EURO</td>\n",
       "      <td>LYXOR</td>\n",
       "      <td>ETF</td>\n",
       "      <td>AAA57.MI</td>\n",
       "    </tr>\n",
       "  </tbody>\n",
       "</table>\n",
       "</div>"
      ],
      "text/plain": [
       "           isin                                      nome     ticker  \\\n",
       "0  LU0136242590              UBS FTSE 100 UCITS ETF A-DIS  100EUA.MI   \n",
       "1  LU1681048804              AMUNDI S&P 500 EUR UCITS ETF    A500.MI   \n",
       "2  LU1829219556  LYXOR HIGH RAT MW GOVT 1-3Y DR UCITS ETF   AAA13.MI   \n",
       "3  LU1829219713  LYXOR HIGH RAT MW GOVT 3-5Y DR UCITS ETF   AAA35.MI   \n",
       "4  LU1829219986  LYXOR HIGH RAT MW GOVT 5-7Y DR UCITS ETF   AAA57.MI   \n",
       "\n",
       "                                           benchmark      ter  \\\n",
       "0                                        FTSE 100 TR  0.00200   \n",
       "1                                    S&P 500 TRN USD  0.00150   \n",
       "2  FTSE MTS HIGHEST RATED MACRO WEIGT GOV 1-3 YRS...  0.00165   \n",
       "3  FTSE MTS HIGHEST RATED MACRO WEIGT GOV 3-5 YRS...  0.00165   \n",
       "4  FTSE MTS HIGHEST RATED MACRO WEIGT GOV 5-7 YRS...  0.00165   \n",
       "\n",
       "                      areaBenchmark emittente strumento    dataSource  \n",
       "0  AZIONARIO EUROPA - SINGOLI PAESI   UBS ETF       ETF  LU0136242590  \n",
       "1            AZIONARIO NORD AMERICA    AMUNDI       ETF       A500.MI  \n",
       "2            TITOLI DI STATO - EURO     LYXOR       ETF      AAA13.MI  \n",
       "3            TITOLI DI STATO - EURO     LYXOR       ETF      AAA35.MI  \n",
       "4            TITOLI DI STATO - EURO     LYXOR       ETF      AAA57.MI  "
      ]
     },
     "execution_count": 4,
     "metadata": {},
     "output_type": "execute_result"
    }
   ],
   "source": [
    "df = pd.read_csv('etf_info' + '.csv')\n",
    "df.drop(df.columns[0] ,axis=1, inplace=True)\n",
    "df.head()"
   ]
  },
  {
   "cell_type": "code",
   "execution_count": 5,
   "metadata": {
    "ExecuteTime": {
     "end_time": "2019-05-18T16:36:49.895179Z",
     "start_time": "2019-05-18T16:36:49.497181Z"
    },
    "scrolled": true
   },
   "outputs": [
    {
     "data": {
      "text/html": [
       "<div>\n",
       "<style scoped>\n",
       "    .dataframe tbody tr th:only-of-type {\n",
       "        vertical-align: middle;\n",
       "    }\n",
       "\n",
       "    .dataframe tbody tr th {\n",
       "        vertical-align: top;\n",
       "    }\n",
       "\n",
       "    .dataframe thead th {\n",
       "        text-align: right;\n",
       "    }\n",
       "</style>\n",
       "<table border=\"1\" class=\"dataframe\">\n",
       "  <thead>\n",
       "    <tr style=\"text-align: right;\">\n",
       "      <th></th>\n",
       "      <th>isin</th>\n",
       "      <th>nome</th>\n",
       "      <th>ticker</th>\n",
       "      <th>benchmark</th>\n",
       "      <th>ter</th>\n",
       "      <th>areaBenchmark</th>\n",
       "      <th>emittente</th>\n",
       "      <th>strumento</th>\n",
       "      <th>dataSource</th>\n",
       "      <th>startDate</th>\n",
       "      <th>endDate</th>\n",
       "      <th>volAvg</th>\n",
       "    </tr>\n",
       "  </thead>\n",
       "  <tbody>\n",
       "    <tr>\n",
       "      <th>0</th>\n",
       "      <td>LU0136242590</td>\n",
       "      <td>UBS FTSE 100 UCITS ETF A-DIS</td>\n",
       "      <td>100EUA.MI</td>\n",
       "      <td>FTSE 100 TR</td>\n",
       "      <td>0.00200</td>\n",
       "      <td>AZIONARIO EUROPA - SINGOLI PAESI</td>\n",
       "      <td>UBS ETF</td>\n",
       "      <td>ETF</td>\n",
       "      <td>LU0136242590</td>\n",
       "      <td>2013-01-14</td>\n",
       "      <td>2019-04-04</td>\n",
       "      <td>685.40</td>\n",
       "    </tr>\n",
       "    <tr>\n",
       "      <th>1</th>\n",
       "      <td>LU1681048804</td>\n",
       "      <td>AMUNDI S&amp;P 500 EUR UCITS ETF</td>\n",
       "      <td>A500.MI</td>\n",
       "      <td>S&amp;P 500 TRN USD</td>\n",
       "      <td>0.00150</td>\n",
       "      <td>AZIONARIO NORD AMERICA</td>\n",
       "      <td>AMUNDI</td>\n",
       "      <td>ETF</td>\n",
       "      <td>A500.MI</td>\n",
       "      <td>2010-09-09</td>\n",
       "      <td>2019-04-04</td>\n",
       "      <td>12832.85</td>\n",
       "    </tr>\n",
       "    <tr>\n",
       "      <th>2</th>\n",
       "      <td>LU1829219556</td>\n",
       "      <td>LYXOR HIGH RAT MW GOVT 1-3Y DR UCITS ETF</td>\n",
       "      <td>AAA13.MI</td>\n",
       "      <td>FTSE MTS HIGHEST RATED MACRO WEIGT GOV 1-3 YRS...</td>\n",
       "      <td>0.00165</td>\n",
       "      <td>TITOLI DI STATO - EURO</td>\n",
       "      <td>LYXOR</td>\n",
       "      <td>ETF</td>\n",
       "      <td>AAA13.MI</td>\n",
       "      <td>2012-03-02</td>\n",
       "      <td>2019-04-04</td>\n",
       "      <td>115.35</td>\n",
       "    </tr>\n",
       "    <tr>\n",
       "      <th>3</th>\n",
       "      <td>LU1829219713</td>\n",
       "      <td>LYXOR HIGH RAT MW GOVT 3-5Y DR UCITS ETF</td>\n",
       "      <td>AAA35.MI</td>\n",
       "      <td>FTSE MTS HIGHEST RATED MACRO WEIGT GOV 3-5 YRS...</td>\n",
       "      <td>0.00165</td>\n",
       "      <td>TITOLI DI STATO - EURO</td>\n",
       "      <td>LYXOR</td>\n",
       "      <td>ETF</td>\n",
       "      <td>AAA35.MI</td>\n",
       "      <td>2012-03-02</td>\n",
       "      <td>2019-04-04</td>\n",
       "      <td>9152.10</td>\n",
       "    </tr>\n",
       "    <tr>\n",
       "      <th>4</th>\n",
       "      <td>LU1829219986</td>\n",
       "      <td>LYXOR HIGH RAT MW GOVT 5-7Y DR UCITS ETF</td>\n",
       "      <td>AAA57.MI</td>\n",
       "      <td>FTSE MTS HIGHEST RATED MACRO WEIGT GOV 5-7 YRS...</td>\n",
       "      <td>0.00165</td>\n",
       "      <td>TITOLI DI STATO - EURO</td>\n",
       "      <td>LYXOR</td>\n",
       "      <td>ETF</td>\n",
       "      <td>AAA57.MI</td>\n",
       "      <td>2012-03-02</td>\n",
       "      <td>2019-04-04</td>\n",
       "      <td>0.05</td>\n",
       "    </tr>\n",
       "  </tbody>\n",
       "</table>\n",
       "</div>"
      ],
      "text/plain": [
       "           isin                                      nome     ticker  \\\n",
       "0  LU0136242590              UBS FTSE 100 UCITS ETF A-DIS  100EUA.MI   \n",
       "1  LU1681048804              AMUNDI S&P 500 EUR UCITS ETF    A500.MI   \n",
       "2  LU1829219556  LYXOR HIGH RAT MW GOVT 1-3Y DR UCITS ETF   AAA13.MI   \n",
       "3  LU1829219713  LYXOR HIGH RAT MW GOVT 3-5Y DR UCITS ETF   AAA35.MI   \n",
       "4  LU1829219986  LYXOR HIGH RAT MW GOVT 5-7Y DR UCITS ETF   AAA57.MI   \n",
       "\n",
       "                                           benchmark      ter  \\\n",
       "0                                        FTSE 100 TR  0.00200   \n",
       "1                                    S&P 500 TRN USD  0.00150   \n",
       "2  FTSE MTS HIGHEST RATED MACRO WEIGT GOV 1-3 YRS...  0.00165   \n",
       "3  FTSE MTS HIGHEST RATED MACRO WEIGT GOV 3-5 YRS...  0.00165   \n",
       "4  FTSE MTS HIGHEST RATED MACRO WEIGT GOV 5-7 YRS...  0.00165   \n",
       "\n",
       "                      areaBenchmark emittente strumento    dataSource  \\\n",
       "0  AZIONARIO EUROPA - SINGOLI PAESI   UBS ETF       ETF  LU0136242590   \n",
       "1            AZIONARIO NORD AMERICA    AMUNDI       ETF       A500.MI   \n",
       "2            TITOLI DI STATO - EURO     LYXOR       ETF      AAA13.MI   \n",
       "3            TITOLI DI STATO - EURO     LYXOR       ETF      AAA35.MI   \n",
       "4            TITOLI DI STATO - EURO     LYXOR       ETF      AAA57.MI   \n",
       "\n",
       "   startDate    endDate    volAvg  \n",
       "0 2013-01-14 2019-04-04    685.40  \n",
       "1 2010-09-09 2019-04-04  12832.85  \n",
       "2 2012-03-02 2019-04-04    115.35  \n",
       "3 2012-03-02 2019-04-04   9152.10  \n",
       "4 2012-03-02 2019-04-04      0.05  "
      ]
     },
     "execution_count": 5,
     "metadata": {},
     "output_type": "execute_result"
    }
   ],
   "source": [
    "df1 = pd.read_csv('etf_info_vol' + str(VOL_AVG_PERIOD)  + '.csv')\n",
    "df1['endDate'] =  pd.to_datetime(df1['endDate'])\n",
    "df1['startDate'] =  pd.to_datetime(df1['startDate'])\n",
    "df1.drop(df1.columns[0] ,axis=1, inplace=True)\n",
    "df1.head()"
   ]
  },
  {
   "cell_type": "code",
   "execution_count": 6,
   "metadata": {
    "ExecuteTime": {
     "end_time": "2019-05-18T16:36:50.593377Z",
     "start_time": "2019-05-18T16:36:50.401990Z"
    }
   },
   "outputs": [
    {
     "data": {
      "text/html": [
       "<div>\n",
       "<style scoped>\n",
       "    .dataframe tbody tr th:only-of-type {\n",
       "        vertical-align: middle;\n",
       "    }\n",
       "\n",
       "    .dataframe tbody tr th {\n",
       "        vertical-align: top;\n",
       "    }\n",
       "\n",
       "    .dataframe thead th {\n",
       "        text-align: right;\n",
       "    }\n",
       "</style>\n",
       "<table border=\"1\" class=\"dataframe\">\n",
       "  <thead>\n",
       "    <tr style=\"text-align: right;\">\n",
       "      <th></th>\n",
       "      <th>isin</th>\n",
       "      <th>nome</th>\n",
       "      <th>ticker</th>\n",
       "      <th>benchmark</th>\n",
       "      <th>ter</th>\n",
       "      <th>areaBenchmark</th>\n",
       "      <th>emittente</th>\n",
       "      <th>strumento</th>\n",
       "      <th>dataSource</th>\n",
       "      <th>startDate</th>\n",
       "      <th>endDate</th>\n",
       "      <th>volAvg</th>\n",
       "    </tr>\n",
       "  </thead>\n",
       "  <tbody>\n",
       "    <tr>\n",
       "      <th>0</th>\n",
       "      <td>LU0136242590</td>\n",
       "      <td>UBS FTSE 100 UCITS ETF A-DIS</td>\n",
       "      <td>100EUA.MI</td>\n",
       "      <td>FTSE 100 TR</td>\n",
       "      <td>0.00200</td>\n",
       "      <td>AZIONARIO EUROPA - SINGOLI PAESI</td>\n",
       "      <td>UBS ETF</td>\n",
       "      <td>ETF</td>\n",
       "      <td>LU0136242590</td>\n",
       "      <td>2013-01-14</td>\n",
       "      <td>2019-04-04</td>\n",
       "      <td>685</td>\n",
       "    </tr>\n",
       "    <tr>\n",
       "      <th>1</th>\n",
       "      <td>LU1681048804</td>\n",
       "      <td>AMUNDI S&amp;P 500 EUR UCITS ETF</td>\n",
       "      <td>A500.MI</td>\n",
       "      <td>S&amp;P 500 TRN USD</td>\n",
       "      <td>0.00150</td>\n",
       "      <td>AZIONARIO NORD AMERICA</td>\n",
       "      <td>AMUNDI</td>\n",
       "      <td>ETF</td>\n",
       "      <td>A500.MI</td>\n",
       "      <td>2010-09-09</td>\n",
       "      <td>2019-04-04</td>\n",
       "      <td>12832</td>\n",
       "    </tr>\n",
       "    <tr>\n",
       "      <th>2</th>\n",
       "      <td>LU1829219556</td>\n",
       "      <td>LYXOR HIGH RAT MW GOVT 1-3Y DR UCITS ETF</td>\n",
       "      <td>AAA13.MI</td>\n",
       "      <td>FTSE MTS HIGHEST RATED MACRO WEIGT GOV 1-3 YRS...</td>\n",
       "      <td>0.00165</td>\n",
       "      <td>TITOLI DI STATO - EURO</td>\n",
       "      <td>LYXOR</td>\n",
       "      <td>ETF</td>\n",
       "      <td>AAA13.MI</td>\n",
       "      <td>2012-03-02</td>\n",
       "      <td>2019-04-04</td>\n",
       "      <td>115</td>\n",
       "    </tr>\n",
       "    <tr>\n",
       "      <th>3</th>\n",
       "      <td>LU1829219713</td>\n",
       "      <td>LYXOR HIGH RAT MW GOVT 3-5Y DR UCITS ETF</td>\n",
       "      <td>AAA35.MI</td>\n",
       "      <td>FTSE MTS HIGHEST RATED MACRO WEIGT GOV 3-5 YRS...</td>\n",
       "      <td>0.00165</td>\n",
       "      <td>TITOLI DI STATO - EURO</td>\n",
       "      <td>LYXOR</td>\n",
       "      <td>ETF</td>\n",
       "      <td>AAA35.MI</td>\n",
       "      <td>2012-03-02</td>\n",
       "      <td>2019-04-04</td>\n",
       "      <td>9152</td>\n",
       "    </tr>\n",
       "    <tr>\n",
       "      <th>4</th>\n",
       "      <td>LU1829219986</td>\n",
       "      <td>LYXOR HIGH RAT MW GOVT 5-7Y DR UCITS ETF</td>\n",
       "      <td>AAA57.MI</td>\n",
       "      <td>FTSE MTS HIGHEST RATED MACRO WEIGT GOV 5-7 YRS...</td>\n",
       "      <td>0.00165</td>\n",
       "      <td>TITOLI DI STATO - EURO</td>\n",
       "      <td>LYXOR</td>\n",
       "      <td>ETF</td>\n",
       "      <td>AAA57.MI</td>\n",
       "      <td>2012-03-02</td>\n",
       "      <td>2019-04-04</td>\n",
       "      <td>0</td>\n",
       "    </tr>\n",
       "  </tbody>\n",
       "</table>\n",
       "</div>"
      ],
      "text/plain": [
       "           isin                                      nome     ticker  \\\n",
       "0  LU0136242590              UBS FTSE 100 UCITS ETF A-DIS  100EUA.MI   \n",
       "1  LU1681048804              AMUNDI S&P 500 EUR UCITS ETF    A500.MI   \n",
       "2  LU1829219556  LYXOR HIGH RAT MW GOVT 1-3Y DR UCITS ETF   AAA13.MI   \n",
       "3  LU1829219713  LYXOR HIGH RAT MW GOVT 3-5Y DR UCITS ETF   AAA35.MI   \n",
       "4  LU1829219986  LYXOR HIGH RAT MW GOVT 5-7Y DR UCITS ETF   AAA57.MI   \n",
       "\n",
       "                                           benchmark      ter  \\\n",
       "0                                        FTSE 100 TR  0.00200   \n",
       "1                                    S&P 500 TRN USD  0.00150   \n",
       "2  FTSE MTS HIGHEST RATED MACRO WEIGT GOV 1-3 YRS...  0.00165   \n",
       "3  FTSE MTS HIGHEST RATED MACRO WEIGT GOV 3-5 YRS...  0.00165   \n",
       "4  FTSE MTS HIGHEST RATED MACRO WEIGT GOV 5-7 YRS...  0.00165   \n",
       "\n",
       "                      areaBenchmark emittente strumento    dataSource  \\\n",
       "0  AZIONARIO EUROPA - SINGOLI PAESI   UBS ETF       ETF  LU0136242590   \n",
       "1            AZIONARIO NORD AMERICA    AMUNDI       ETF       A500.MI   \n",
       "2            TITOLI DI STATO - EURO     LYXOR       ETF      AAA13.MI   \n",
       "3            TITOLI DI STATO - EURO     LYXOR       ETF      AAA35.MI   \n",
       "4            TITOLI DI STATO - EURO     LYXOR       ETF      AAA57.MI   \n",
       "\n",
       "   startDate    endDate  volAvg  \n",
       "0 2013-01-14 2019-04-04     685  \n",
       "1 2010-09-09 2019-04-04   12832  \n",
       "2 2012-03-02 2019-04-04     115  \n",
       "3 2012-03-02 2019-04-04    9152  \n",
       "4 2012-03-02 2019-04-04       0  "
      ]
     },
     "execution_count": 6,
     "metadata": {},
     "output_type": "execute_result"
    }
   ],
   "source": [
    "df2 = pd.read_csv('etf_info_vol' + str(VOL_AVG_PERIOD)  + '_clean.csv')\n",
    "df2['endDate'] =  pd.to_datetime(df2['endDate'])\n",
    "df2['startDate'] =  pd.to_datetime(df2['startDate'])\n",
    "df2.drop(df2.columns[0] ,axis=1, inplace=True)\n",
    "df2.head()"
   ]
  },
  {
   "cell_type": "code",
   "execution_count": 7,
   "metadata": {
    "ExecuteTime": {
     "end_time": "2019-05-18T16:36:51.821137Z",
     "start_time": "2019-05-18T16:36:51.669044Z"
    }
   },
   "outputs": [
    {
     "data": {
      "text/html": [
       "<div>\n",
       "<style scoped>\n",
       "    .dataframe tbody tr th:only-of-type {\n",
       "        vertical-align: middle;\n",
       "    }\n",
       "\n",
       "    .dataframe tbody tr th {\n",
       "        vertical-align: top;\n",
       "    }\n",
       "\n",
       "    .dataframe thead th {\n",
       "        text-align: right;\n",
       "    }\n",
       "</style>\n",
       "<table border=\"1\" class=\"dataframe\">\n",
       "  <thead>\n",
       "    <tr style=\"text-align: right;\">\n",
       "      <th></th>\n",
       "      <th>isin</th>\n",
       "      <th>nome</th>\n",
       "      <th>ticker</th>\n",
       "      <th>benchmark</th>\n",
       "      <th>ter</th>\n",
       "      <th>areaBenchmark</th>\n",
       "      <th>emittente</th>\n",
       "      <th>strumento</th>\n",
       "      <th>dataSource</th>\n",
       "      <th>startDate</th>\n",
       "      <th>endDate</th>\n",
       "      <th>volAvg</th>\n",
       "    </tr>\n",
       "  </thead>\n",
       "  <tbody>\n",
       "    <tr>\n",
       "      <th>0</th>\n",
       "      <td>LU1681048804</td>\n",
       "      <td>AMUNDI S&amp;P 500 EUR UCITS ETF</td>\n",
       "      <td>A500.MI</td>\n",
       "      <td>S&amp;P 500 TRN USD</td>\n",
       "      <td>0.00150</td>\n",
       "      <td>AZIONARIO NORD AMERICA</td>\n",
       "      <td>AMUNDI</td>\n",
       "      <td>ETF</td>\n",
       "      <td>A500.MI</td>\n",
       "      <td>2010-09-09</td>\n",
       "      <td>2019-04-04</td>\n",
       "      <td>12832</td>\n",
       "    </tr>\n",
       "    <tr>\n",
       "      <th>1</th>\n",
       "      <td>LU1829219556</td>\n",
       "      <td>LYXOR HIGH RAT MW GOVT 1-3Y DR UCITS ETF</td>\n",
       "      <td>AAA13.MI</td>\n",
       "      <td>FTSE MTS HIGHEST RATED MACRO WEIGT GOV 1-3 YRS...</td>\n",
       "      <td>0.00165</td>\n",
       "      <td>TITOLI DI STATO - EURO</td>\n",
       "      <td>LYXOR</td>\n",
       "      <td>ETF</td>\n",
       "      <td>AAA13.MI</td>\n",
       "      <td>2012-03-02</td>\n",
       "      <td>2019-04-04</td>\n",
       "      <td>115</td>\n",
       "    </tr>\n",
       "    <tr>\n",
       "      <th>2</th>\n",
       "      <td>LU1829219713</td>\n",
       "      <td>LYXOR HIGH RAT MW GOVT 3-5Y DR UCITS ETF</td>\n",
       "      <td>AAA35.MI</td>\n",
       "      <td>FTSE MTS HIGHEST RATED MACRO WEIGT GOV 3-5 YRS...</td>\n",
       "      <td>0.00165</td>\n",
       "      <td>TITOLI DI STATO - EURO</td>\n",
       "      <td>LYXOR</td>\n",
       "      <td>ETF</td>\n",
       "      <td>AAA35.MI</td>\n",
       "      <td>2012-03-02</td>\n",
       "      <td>2019-04-04</td>\n",
       "      <td>9152</td>\n",
       "    </tr>\n",
       "    <tr>\n",
       "      <th>3</th>\n",
       "      <td>LU1829219986</td>\n",
       "      <td>LYXOR HIGH RAT MW GOVT 5-7Y DR UCITS ETF</td>\n",
       "      <td>AAA57.MI</td>\n",
       "      <td>FTSE MTS HIGHEST RATED MACRO WEIGT GOV 5-7 YRS...</td>\n",
       "      <td>0.00165</td>\n",
       "      <td>TITOLI DI STATO - EURO</td>\n",
       "      <td>LYXOR</td>\n",
       "      <td>ETF</td>\n",
       "      <td>AAA57.MI</td>\n",
       "      <td>2012-03-02</td>\n",
       "      <td>2019-04-04</td>\n",
       "      <td>0</td>\n",
       "    </tr>\n",
       "    <tr>\n",
       "      <th>4</th>\n",
       "      <td>IE00B44Z5B48</td>\n",
       "      <td>SPDR MSCI ACWI UCITS ETF</td>\n",
       "      <td>ACWE.MI</td>\n",
       "      <td>MSCI ACWI USD TRN</td>\n",
       "      <td>0.00400</td>\n",
       "      <td>AZIONARIO MONDO</td>\n",
       "      <td>SPDR</td>\n",
       "      <td>ETF</td>\n",
       "      <td>ACWE.MI</td>\n",
       "      <td>2019-01-30</td>\n",
       "      <td>2019-04-04</td>\n",
       "      <td>6801</td>\n",
       "    </tr>\n",
       "  </tbody>\n",
       "</table>\n",
       "</div>"
      ],
      "text/plain": [
       "           isin                                      nome    ticker  \\\n",
       "0  LU1681048804              AMUNDI S&P 500 EUR UCITS ETF   A500.MI   \n",
       "1  LU1829219556  LYXOR HIGH RAT MW GOVT 1-3Y DR UCITS ETF  AAA13.MI   \n",
       "2  LU1829219713  LYXOR HIGH RAT MW GOVT 3-5Y DR UCITS ETF  AAA35.MI   \n",
       "3  LU1829219986  LYXOR HIGH RAT MW GOVT 5-7Y DR UCITS ETF  AAA57.MI   \n",
       "4  IE00B44Z5B48                  SPDR MSCI ACWI UCITS ETF   ACWE.MI   \n",
       "\n",
       "                                           benchmark      ter  \\\n",
       "0                                    S&P 500 TRN USD  0.00150   \n",
       "1  FTSE MTS HIGHEST RATED MACRO WEIGT GOV 1-3 YRS...  0.00165   \n",
       "2  FTSE MTS HIGHEST RATED MACRO WEIGT GOV 3-5 YRS...  0.00165   \n",
       "3  FTSE MTS HIGHEST RATED MACRO WEIGT GOV 5-7 YRS...  0.00165   \n",
       "4                                  MSCI ACWI USD TRN  0.00400   \n",
       "\n",
       "            areaBenchmark emittente strumento dataSource  startDate  \\\n",
       "0  AZIONARIO NORD AMERICA    AMUNDI       ETF    A500.MI 2010-09-09   \n",
       "1  TITOLI DI STATO - EURO     LYXOR       ETF   AAA13.MI 2012-03-02   \n",
       "2  TITOLI DI STATO - EURO     LYXOR       ETF   AAA35.MI 2012-03-02   \n",
       "3  TITOLI DI STATO - EURO     LYXOR       ETF   AAA57.MI 2012-03-02   \n",
       "4         AZIONARIO MONDO      SPDR       ETF    ACWE.MI 2019-01-30   \n",
       "\n",
       "     endDate  volAvg  \n",
       "0 2019-04-04   12832  \n",
       "1 2019-04-04     115  \n",
       "2 2019-04-04    9152  \n",
       "3 2019-04-04       0  \n",
       "4 2019-04-04    6801  "
      ]
     },
     "execution_count": 7,
     "metadata": {},
     "output_type": "execute_result"
    }
   ],
   "source": [
    "df3 = pd.read_csv('etf_info_vol' + str(VOL_AVG_PERIOD)  + '_clean_mach1.csv')\n",
    "df3['endDate'] =  pd.to_datetime(df3['endDate'])\n",
    "df3['startDate'] =  pd.to_datetime(df3['startDate'])\n",
    "df3.drop(df3.columns[0] ,axis=1, inplace=True)\n",
    "df3.head()"
   ]
  },
  {
   "cell_type": "code",
   "execution_count": 6,
   "metadata": {
    "ExecuteTime": {
     "end_time": "2019-05-25T16:05:53.539291Z",
     "start_time": "2019-05-25T16:05:52.635793Z"
    }
   },
   "outputs": [
    {
     "data": {
      "text/html": [
       "<div>\n",
       "<style scoped>\n",
       "    .dataframe tbody tr th:only-of-type {\n",
       "        vertical-align: middle;\n",
       "    }\n",
       "\n",
       "    .dataframe tbody tr th {\n",
       "        vertical-align: top;\n",
       "    }\n",
       "\n",
       "    .dataframe thead th {\n",
       "        text-align: right;\n",
       "    }\n",
       "</style>\n",
       "<table border=\"1\" class=\"dataframe\">\n",
       "  <thead>\n",
       "    <tr style=\"text-align: right;\">\n",
       "      <th></th>\n",
       "      <th>ceu</th>\n",
       "      <th>csspx</th>\n",
       "      <th>em15</th>\n",
       "      <th>emg</th>\n",
       "      <th>ibgl</th>\n",
       "      <th>ibgm</th>\n",
       "      <th>ibtm</th>\n",
       "      <th>imeu</th>\n",
       "      <th>iusa</th>\n",
       "      <th>smea</th>\n",
       "      <th>phau</th>\n",
       "    </tr>\n",
       "    <tr>\n",
       "      <th>dateTime</th>\n",
       "      <th></th>\n",
       "      <th></th>\n",
       "      <th></th>\n",
       "      <th></th>\n",
       "      <th></th>\n",
       "      <th></th>\n",
       "      <th></th>\n",
       "      <th></th>\n",
       "      <th></th>\n",
       "      <th></th>\n",
       "      <th></th>\n",
       "    </tr>\n",
       "  </thead>\n",
       "  <tbody>\n",
       "    <tr>\n",
       "      <th>2010-05-26</th>\n",
       "      <td>110.85</td>\n",
       "      <td>75.49</td>\n",
       "      <td>124.35</td>\n",
       "      <td>134.45</td>\n",
       "      <td>162.99</td>\n",
       "      <td>161.72</td>\n",
       "      <td>141.00</td>\n",
       "      <td>15.255</td>\n",
       "      <td>8.8475</td>\n",
       "      <td>25.81</td>\n",
       "      <td>98.28</td>\n",
       "    </tr>\n",
       "    <tr>\n",
       "      <th>2010-05-27</th>\n",
       "      <td>110.85</td>\n",
       "      <td>75.52</td>\n",
       "      <td>124.58</td>\n",
       "      <td>133.98</td>\n",
       "      <td>161.57</td>\n",
       "      <td>161.30</td>\n",
       "      <td>139.60</td>\n",
       "      <td>15.575</td>\n",
       "      <td>8.8450</td>\n",
       "      <td>25.81</td>\n",
       "      <td>97.70</td>\n",
       "    </tr>\n",
       "    <tr>\n",
       "      <th>2010-05-28</th>\n",
       "      <td>110.85</td>\n",
       "      <td>75.35</td>\n",
       "      <td>124.28</td>\n",
       "      <td>134.13</td>\n",
       "      <td>162.20</td>\n",
       "      <td>161.05</td>\n",
       "      <td>139.23</td>\n",
       "      <td>15.705</td>\n",
       "      <td>8.8225</td>\n",
       "      <td>25.81</td>\n",
       "      <td>96.45</td>\n",
       "    </tr>\n",
       "    <tr>\n",
       "      <th>2010-05-31</th>\n",
       "      <td>110.85</td>\n",
       "      <td>75.84</td>\n",
       "      <td>124.02</td>\n",
       "      <td>134.63</td>\n",
       "      <td>162.49</td>\n",
       "      <td>161.53</td>\n",
       "      <td>139.77</td>\n",
       "      <td>15.745</td>\n",
       "      <td>8.8400</td>\n",
       "      <td>25.81</td>\n",
       "      <td>97.94</td>\n",
       "    </tr>\n",
       "    <tr>\n",
       "      <th>2010-06-01</th>\n",
       "      <td>110.85</td>\n",
       "      <td>75.49</td>\n",
       "      <td>123.95</td>\n",
       "      <td>134.53</td>\n",
       "      <td>162.13</td>\n",
       "      <td>161.87</td>\n",
       "      <td>140.00</td>\n",
       "      <td>15.560</td>\n",
       "      <td>8.8225</td>\n",
       "      <td>25.81</td>\n",
       "      <td>98.74</td>\n",
       "    </tr>\n",
       "  </tbody>\n",
       "</table>\n",
       "</div>"
      ],
      "text/plain": [
       "               ceu  csspx    em15     emg    ibgl    ibgm    ibtm    imeu  \\\n",
       "dateTime                                                                    \n",
       "2010-05-26  110.85  75.49  124.35  134.45  162.99  161.72  141.00  15.255   \n",
       "2010-05-27  110.85  75.52  124.58  133.98  161.57  161.30  139.60  15.575   \n",
       "2010-05-28  110.85  75.35  124.28  134.13  162.20  161.05  139.23  15.705   \n",
       "2010-05-31  110.85  75.84  124.02  134.63  162.49  161.53  139.77  15.745   \n",
       "2010-06-01  110.85  75.49  123.95  134.53  162.13  161.87  140.00  15.560   \n",
       "\n",
       "              iusa   smea   phau  \n",
       "dateTime                          \n",
       "2010-05-26  8.8475  25.81  98.28  \n",
       "2010-05-27  8.8450  25.81  97.70  \n",
       "2010-05-28  8.8225  25.81  96.45  \n",
       "2010-05-31  8.8400  25.81  97.94  \n",
       "2010-06-01  8.8225  25.81  98.74  "
      ]
     },
     "execution_count": 6,
     "metadata": {},
     "output_type": "execute_result"
    }
   ],
   "source": [
    "df102 = pd.read_csv('quotes_clean_mach1.csv')\n",
    "df102['dateTime'] = pd.to_datetime(df102['dateTime'])\n",
    "df102.set_index('dateTime', inplace=True)\n",
    "df102.head()"
   ]
  },
  {
   "cell_type": "markdown",
   "metadata": {},
   "source": [
    "# Analisi dati ETF"
   ]
  },
  {
   "cell_type": "code",
   "execution_count": 17,
   "metadata": {
    "ExecuteTime": {
     "end_time": "2019-05-10T09:11:52.676420Z",
     "start_time": "2019-05-10T09:11:51.723404Z"
    }
   },
   "outputs": [
    {
     "data": {
      "text/html": [
       "<div>\n",
       "<style scoped>\n",
       "    .dataframe tbody tr th:only-of-type {\n",
       "        vertical-align: middle;\n",
       "    }\n",
       "\n",
       "    .dataframe tbody tr th {\n",
       "        vertical-align: top;\n",
       "    }\n",
       "\n",
       "    .dataframe thead th {\n",
       "        text-align: right;\n",
       "    }\n",
       "</style>\n",
       "<table border=\"1\" class=\"dataframe\">\n",
       "  <thead>\n",
       "    <tr style=\"text-align: right;\">\n",
       "      <th></th>\n",
       "      <th>ter</th>\n",
       "      <th>volAvg</th>\n",
       "    </tr>\n",
       "  </thead>\n",
       "  <tbody>\n",
       "    <tr>\n",
       "      <th>count</th>\n",
       "      <td>1021.000000</td>\n",
       "      <td>1.021000e+03</td>\n",
       "    </tr>\n",
       "    <tr>\n",
       "      <th>mean</th>\n",
       "      <td>0.004743</td>\n",
       "      <td>1.119125e+05</td>\n",
       "    </tr>\n",
       "    <tr>\n",
       "      <th>std</th>\n",
       "      <td>0.003204</td>\n",
       "      <td>1.746139e+06</td>\n",
       "    </tr>\n",
       "    <tr>\n",
       "      <th>min</th>\n",
       "      <td>0.000400</td>\n",
       "      <td>0.000000e+00</td>\n",
       "    </tr>\n",
       "    <tr>\n",
       "      <th>25%</th>\n",
       "      <td>0.002300</td>\n",
       "      <td>2.680000e+02</td>\n",
       "    </tr>\n",
       "    <tr>\n",
       "      <th>50%</th>\n",
       "      <td>0.004000</td>\n",
       "      <td>1.594000e+03</td>\n",
       "    </tr>\n",
       "    <tr>\n",
       "      <th>75%</th>\n",
       "      <td>0.006500</td>\n",
       "      <td>8.531000e+03</td>\n",
       "    </tr>\n",
       "    <tr>\n",
       "      <th>max</th>\n",
       "      <td>0.018300</td>\n",
       "      <td>4.576881e+07</td>\n",
       "    </tr>\n",
       "  </tbody>\n",
       "</table>\n",
       "</div>"
      ],
      "text/plain": [
       "               ter        volAvg\n",
       "count  1021.000000  1.021000e+03\n",
       "mean      0.004743  1.119125e+05\n",
       "std       0.003204  1.746139e+06\n",
       "min       0.000400  0.000000e+00\n",
       "25%       0.002300  2.680000e+02\n",
       "50%       0.004000  1.594000e+03\n",
       "75%       0.006500  8.531000e+03\n",
       "max       0.018300  4.576881e+07"
      ]
     },
     "execution_count": 17,
     "metadata": {},
     "output_type": "execute_result"
    }
   ],
   "source": [
    "df2.describe()"
   ]
  },
  {
   "cell_type": "code",
   "execution_count": 18,
   "metadata": {
    "ExecuteTime": {
     "end_time": "2019-05-09T17:16:05.588420Z",
     "start_time": "2019-05-09T17:16:05.525865Z"
    }
   },
   "outputs": [
    {
     "data": {
      "text/plain": [
       "19399.0"
      ]
     },
     "execution_count": 18,
     "metadata": {},
     "output_type": "execute_result"
    }
   ],
   "source": [
    "df2.volAvg.quantile(q=0.85)"
   ]
  },
  {
   "cell_type": "code",
   "execution_count": 19,
   "metadata": {
    "ExecuteTime": {
     "end_time": "2019-05-09T17:16:07.347009Z",
     "start_time": "2019-05-09T17:16:07.277868Z"
    }
   },
   "outputs": [],
   "source": [
    "# salva i nomi delle aree benchmark in un file\n",
    "with open('area.csv', \"w\") as outfile:\n",
    "    for entries in df.areaBenchmark.unique():\n",
    "        outfile.write(entries)\n",
    "        outfile.write(\"\\n\")"
   ]
  },
  {
   "cell_type": "code",
   "execution_count": 20,
   "metadata": {
    "ExecuteTime": {
     "end_time": "2019-05-10T09:12:00.376392Z",
     "start_time": "2019-05-10T09:11:59.417863Z"
    }
   },
   "outputs": [],
   "source": [
    "# costruita a mano dal file area.csv\n",
    "\n",
    "listaAree = ['AZIONARIO EUROPA - AREA',\n",
    "'AZIONARIO MONDO',\n",
    "'AZIONARIO NORD AMERICA',\n",
    "'COMMODITIES',\n",
    "'METALLI PREZIOSI',\n",
    "'REAL ESTATE',\n",
    "'TITOLI DI STATO - EURO',\n",
    "'TITOLI DI STATO - MONDO',\n",
    "'TITOLI DI STATO - NON EURO']"
   ]
  },
  {
   "cell_type": "code",
   "execution_count": 21,
   "metadata": {
    "ExecuteTime": {
     "end_time": "2019-05-10T09:14:52.234968Z",
     "start_time": "2019-05-10T09:14:51.253377Z"
    }
   },
   "outputs": [],
   "source": [
    "df3 = df2[df2.areaBenchmark.isin(listaAree)]"
   ]
  },
  {
   "cell_type": "code",
   "execution_count": 22,
   "metadata": {
    "ExecuteTime": {
     "end_time": "2019-05-10T09:14:57.219791Z",
     "start_time": "2019-05-10T09:14:54.925213Z"
    }
   },
   "outputs": [],
   "source": [
    "# salva il df3, con solo i ticker interessanti\n",
    "\n",
    "df3.to_excel('etf_info_vol' + str(VOL_AVG_PERIOD)  + '_clean_mach1.xlsx')\n",
    "df3.to_csv('etf_info_vol' + str(VOL_AVG_PERIOD)  + '_clean_mach1.csv')"
   ]
  },
  {
   "cell_type": "markdown",
   "metadata": {},
   "source": [
    "### LISTA 1 - az US, az EU, obb EU, obb US, gold"
   ]
  },
  {
   "cell_type": "code",
   "execution_count": 14,
   "metadata": {
    "ExecuteTime": {
     "end_time": "2019-05-10T09:15:11.613465Z",
     "start_time": "2019-05-10T09:15:10.587253Z"
    },
    "collapsed": true
   },
   "outputs": [],
   "source": [
    "# lista 1 ticker 'buoni', costruita a mano partendo da mach1\n",
    "\n",
    "lista1 = ['imeu','ceu','smea','iusa','csspx','phau','ibtm','ibgm', 'emg', 'em15', 'ibgl']\n",
    "ticker10 = [x.upper()+'.MI' for x in lista1]"
   ]
  },
  {
   "cell_type": "code",
   "execution_count": 15,
   "metadata": {
    "ExecuteTime": {
     "end_time": "2019-05-10T09:15:12.996116Z",
     "start_time": "2019-05-10T09:15:11.967904Z"
    },
    "collapsed": true
   },
   "outputs": [],
   "source": [
    "df4 = df2[df2.ticker.isin(ticker10)]"
   ]
  },
  {
   "cell_type": "markdown",
   "metadata": {},
   "source": [
    "#### Dataframe con le info dei ticker \"buoni\""
   ]
  },
  {
   "cell_type": "code",
   "execution_count": 16,
   "metadata": {
    "ExecuteTime": {
     "end_time": "2019-05-10T09:15:15.191955Z",
     "start_time": "2019-05-10T09:15:14.115578Z"
    }
   },
   "outputs": [
    {
     "data": {
      "text/html": [
       "<div>\n",
       "<style scoped>\n",
       "    .dataframe tbody tr th:only-of-type {\n",
       "        vertical-align: middle;\n",
       "    }\n",
       "\n",
       "    .dataframe tbody tr th {\n",
       "        vertical-align: top;\n",
       "    }\n",
       "\n",
       "    .dataframe thead th {\n",
       "        text-align: right;\n",
       "    }\n",
       "</style>\n",
       "<table border=\"1\" class=\"dataframe\">\n",
       "  <thead>\n",
       "    <tr style=\"text-align: right;\">\n",
       "      <th></th>\n",
       "      <th>isin</th>\n",
       "      <th>nome</th>\n",
       "      <th>ticker</th>\n",
       "      <th>benchmark</th>\n",
       "      <th>ter</th>\n",
       "      <th>areaBenchmark</th>\n",
       "      <th>emittente</th>\n",
       "      <th>strumento</th>\n",
       "      <th>dataSource</th>\n",
       "      <th>startDate</th>\n",
       "      <th>endDate</th>\n",
       "      <th>volAvg</th>\n",
       "    </tr>\n",
       "  </thead>\n",
       "  <tbody>\n",
       "    <tr>\n",
       "      <th>66</th>\n",
       "      <td>LU1681042609</td>\n",
       "      <td>AMUNDI MSCI EUROPE UCITS ETF - EUR</td>\n",
       "      <td>CEU.MI</td>\n",
       "      <td>MSCI TRN EUROPE INDEX</td>\n",
       "      <td>0.00150</td>\n",
       "      <td>AZIONARIO EUROPA - AREA</td>\n",
       "      <td>AMUNDI</td>\n",
       "      <td>ETF</td>\n",
       "      <td>CEU.MI</td>\n",
       "      <td>2010-03-17</td>\n",
       "      <td>2019-04-04</td>\n",
       "      <td>1125</td>\n",
       "    </tr>\n",
       "    <tr>\n",
       "      <th>105</th>\n",
       "      <td>IE00B5BMR087</td>\n",
       "      <td>ISHARES CORE S&amp;P 500 UCITS ETF USD ACC</td>\n",
       "      <td>CSSPX.MI</td>\n",
       "      <td>S&amp;P 500 TRN USD</td>\n",
       "      <td>0.00070</td>\n",
       "      <td>AZIONARIO NORD AMERICA</td>\n",
       "      <td>ISHARES</td>\n",
       "      <td>ETF</td>\n",
       "      <td>IE00B5BMR087</td>\n",
       "      <td>2010-05-26</td>\n",
       "      <td>2019-04-04</td>\n",
       "      <td>35724</td>\n",
       "    </tr>\n",
       "    <tr>\n",
       "      <th>166</th>\n",
       "      <td>LU1287023268</td>\n",
       "      <td>LYXOR EMTS 15+Y INV GR DR UCITS ETF ACC</td>\n",
       "      <td>EM15.MI</td>\n",
       "      <td>FTSE MTS MID PRICE INVG EX-CNO ETRIX 15+ TR</td>\n",
       "      <td>0.00165</td>\n",
       "      <td>TITOLI DI STATO - EURO</td>\n",
       "      <td>LYXOR</td>\n",
       "      <td>ETF</td>\n",
       "      <td>EM15.MI</td>\n",
       "      <td>2007-10-25</td>\n",
       "      <td>2019-04-04</td>\n",
       "      <td>7155</td>\n",
       "    </tr>\n",
       "    <tr>\n",
       "      <th>175</th>\n",
       "      <td>LU1650490474</td>\n",
       "      <td>LYXOR EMTS ALL-MAT IN G DR UCITS ETF ACC</td>\n",
       "      <td>EMG.MI</td>\n",
       "      <td>FTSE MTS EUROZONE GOV BOND IG MIDP</td>\n",
       "      <td>0.00165</td>\n",
       "      <td>TITOLI DI STATO - EURO</td>\n",
       "      <td>LYXOR</td>\n",
       "      <td>ETF</td>\n",
       "      <td>EMG.MI</td>\n",
       "      <td>2004-05-11</td>\n",
       "      <td>2019-04-04</td>\n",
       "      <td>36791</td>\n",
       "    </tr>\n",
       "    <tr>\n",
       "      <th>289</th>\n",
       "      <td>IE00B1FZS913</td>\n",
       "      <td>ISHARES EU GOVT 15-30YR UCITS ETF DIST</td>\n",
       "      <td>IBGL.MI</td>\n",
       "      <td>BARCLAYS EURO GOV BOND 30 YEAR TERM</td>\n",
       "      <td>0.00200</td>\n",
       "      <td>TITOLI DI STATO - EURO</td>\n",
       "      <td>ISHARES</td>\n",
       "      <td>ETF</td>\n",
       "      <td>IBGL.MI</td>\n",
       "      <td>2007-03-20</td>\n",
       "      <td>2019-04-04</td>\n",
       "      <td>1538</td>\n",
       "    </tr>\n",
       "    <tr>\n",
       "      <th>290</th>\n",
       "      <td>IE00B1FZS806</td>\n",
       "      <td>ISHARES EU GOVT 7-10YR UCITS ETF DIST</td>\n",
       "      <td>IBGM.MI</td>\n",
       "      <td>BARCLAYS EURO GOV BOND 10 YEAR TERM</td>\n",
       "      <td>0.00200</td>\n",
       "      <td>TITOLI DI STATO - EURO</td>\n",
       "      <td>ISHARES</td>\n",
       "      <td>ETF</td>\n",
       "      <td>IBGM.MI</td>\n",
       "      <td>2007-03-20</td>\n",
       "      <td>2019-04-04</td>\n",
       "      <td>8904</td>\n",
       "    </tr>\n",
       "    <tr>\n",
       "      <th>295</th>\n",
       "      <td>IE00B1FZS798</td>\n",
       "      <td>ISHARES $ TREASURY 7-10YR UCITS ETF DIST</td>\n",
       "      <td>IBTM.MI</td>\n",
       "      <td>BARCLAYS US TREASURY 10 YEAR TERM</td>\n",
       "      <td>0.00200</td>\n",
       "      <td>TITOLI DI STATO - NON EURO</td>\n",
       "      <td>ISHARES</td>\n",
       "      <td>ETF</td>\n",
       "      <td>IBTM.MI</td>\n",
       "      <td>2007-03-20</td>\n",
       "      <td>2019-04-04</td>\n",
       "      <td>10783</td>\n",
       "    </tr>\n",
       "    <tr>\n",
       "      <th>325</th>\n",
       "      <td>IE00B1YZSC51</td>\n",
       "      <td>ISHARESCOREMSCIEUROPE UCITS ETF</td>\n",
       "      <td>IMEU.MI</td>\n",
       "      <td>MSCI EUROPE</td>\n",
       "      <td>0.00120</td>\n",
       "      <td>AZIONARIO EUROPA - AREA</td>\n",
       "      <td>ISHARES</td>\n",
       "      <td>ETF</td>\n",
       "      <td>IMEU.MI</td>\n",
       "      <td>2008-03-18</td>\n",
       "      <td>2019-04-04</td>\n",
       "      <td>157330</td>\n",
       "    </tr>\n",
       "    <tr>\n",
       "      <th>356</th>\n",
       "      <td>IE0031442068</td>\n",
       "      <td>ISHARESCORES&amp;P500$(DIST) UCITS ETF</td>\n",
       "      <td>IUSA.MI</td>\n",
       "      <td>S&amp;P 500</td>\n",
       "      <td>0.00070</td>\n",
       "      <td>AZIONARIO NORD AMERICA</td>\n",
       "      <td>ISHARES</td>\n",
       "      <td>ETF</td>\n",
       "      <td>IUSA.MI</td>\n",
       "      <td>2004-05-11</td>\n",
       "      <td>2019-04-04</td>\n",
       "      <td>246870</td>\n",
       "    </tr>\n",
       "    <tr>\n",
       "      <th>479</th>\n",
       "      <td>IE00B4K48X80</td>\n",
       "      <td>ISHARESCOREMSCIEUROPE€(ACC) UCITS ETF</td>\n",
       "      <td>SMEA.MI</td>\n",
       "      <td>MSCI TRN EUROPE INDEX</td>\n",
       "      <td>0.00120</td>\n",
       "      <td>AZIONARIO EUROPA - AREA</td>\n",
       "      <td>ISHARES</td>\n",
       "      <td>ETF</td>\n",
       "      <td>SMEA.MI</td>\n",
       "      <td>2010-02-11</td>\n",
       "      <td>2019-04-04</td>\n",
       "      <td>35167</td>\n",
       "    </tr>\n",
       "    <tr>\n",
       "      <th>960</th>\n",
       "      <td>JE00B1VS3770</td>\n",
       "      <td>ETFS PHYSICAL GOLD</td>\n",
       "      <td>PHAU.MI</td>\n",
       "      <td>1/10 ONCIA TROY DI ORO</td>\n",
       "      <td>0.00390</td>\n",
       "      <td>METALLI PREZIOSI</td>\n",
       "      <td>ETFS SECURITIES</td>\n",
       "      <td>ETC</td>\n",
       "      <td>PHAU.MI</td>\n",
       "      <td>2007-06-20</td>\n",
       "      <td>2019-04-04</td>\n",
       "      <td>25317</td>\n",
       "    </tr>\n",
       "  </tbody>\n",
       "</table>\n",
       "</div>"
      ],
      "text/plain": [
       "             isin                                      nome    ticker  \\\n",
       "66   LU1681042609        AMUNDI MSCI EUROPE UCITS ETF - EUR    CEU.MI   \n",
       "105  IE00B5BMR087    ISHARES CORE S&P 500 UCITS ETF USD ACC  CSSPX.MI   \n",
       "166  LU1287023268   LYXOR EMTS 15+Y INV GR DR UCITS ETF ACC   EM15.MI   \n",
       "175  LU1650490474  LYXOR EMTS ALL-MAT IN G DR UCITS ETF ACC    EMG.MI   \n",
       "289  IE00B1FZS913    ISHARES EU GOVT 15-30YR UCITS ETF DIST   IBGL.MI   \n",
       "290  IE00B1FZS806     ISHARES EU GOVT 7-10YR UCITS ETF DIST   IBGM.MI   \n",
       "295  IE00B1FZS798  ISHARES $ TREASURY 7-10YR UCITS ETF DIST   IBTM.MI   \n",
       "325  IE00B1YZSC51           ISHARESCOREMSCIEUROPE UCITS ETF   IMEU.MI   \n",
       "356  IE0031442068        ISHARESCORES&P500$(DIST) UCITS ETF   IUSA.MI   \n",
       "479  IE00B4K48X80     ISHARESCOREMSCIEUROPE€(ACC) UCITS ETF   SMEA.MI   \n",
       "960  JE00B1VS3770                        ETFS PHYSICAL GOLD   PHAU.MI   \n",
       "\n",
       "                                       benchmark      ter  \\\n",
       "66                         MSCI TRN EUROPE INDEX  0.00150   \n",
       "105                              S&P 500 TRN USD  0.00070   \n",
       "166  FTSE MTS MID PRICE INVG EX-CNO ETRIX 15+ TR  0.00165   \n",
       "175           FTSE MTS EUROZONE GOV BOND IG MIDP  0.00165   \n",
       "289          BARCLAYS EURO GOV BOND 30 YEAR TERM  0.00200   \n",
       "290          BARCLAYS EURO GOV BOND 10 YEAR TERM  0.00200   \n",
       "295            BARCLAYS US TREASURY 10 YEAR TERM  0.00200   \n",
       "325                                  MSCI EUROPE  0.00120   \n",
       "356                                      S&P 500  0.00070   \n",
       "479                        MSCI TRN EUROPE INDEX  0.00120   \n",
       "960                       1/10 ONCIA TROY DI ORO  0.00390   \n",
       "\n",
       "                  areaBenchmark        emittente strumento    dataSource  \\\n",
       "66      AZIONARIO EUROPA - AREA           AMUNDI       ETF        CEU.MI   \n",
       "105      AZIONARIO NORD AMERICA          ISHARES       ETF  IE00B5BMR087   \n",
       "166      TITOLI DI STATO - EURO            LYXOR       ETF       EM15.MI   \n",
       "175      TITOLI DI STATO - EURO            LYXOR       ETF        EMG.MI   \n",
       "289      TITOLI DI STATO - EURO          ISHARES       ETF       IBGL.MI   \n",
       "290      TITOLI DI STATO - EURO          ISHARES       ETF       IBGM.MI   \n",
       "295  TITOLI DI STATO - NON EURO          ISHARES       ETF       IBTM.MI   \n",
       "325     AZIONARIO EUROPA - AREA          ISHARES       ETF       IMEU.MI   \n",
       "356      AZIONARIO NORD AMERICA          ISHARES       ETF       IUSA.MI   \n",
       "479     AZIONARIO EUROPA - AREA          ISHARES       ETF       SMEA.MI   \n",
       "960            METALLI PREZIOSI  ETFS SECURITIES       ETC       PHAU.MI   \n",
       "\n",
       "     startDate    endDate  volAvg  \n",
       "66  2010-03-17 2019-04-04    1125  \n",
       "105 2010-05-26 2019-04-04   35724  \n",
       "166 2007-10-25 2019-04-04    7155  \n",
       "175 2004-05-11 2019-04-04   36791  \n",
       "289 2007-03-20 2019-04-04    1538  \n",
       "290 2007-03-20 2019-04-04    8904  \n",
       "295 2007-03-20 2019-04-04   10783  \n",
       "325 2008-03-18 2019-04-04  157330  \n",
       "356 2004-05-11 2019-04-04  246870  \n",
       "479 2010-02-11 2019-04-04   35167  \n",
       "960 2007-06-20 2019-04-04   25317  "
      ]
     },
     "execution_count": 16,
     "metadata": {},
     "output_type": "execute_result"
    }
   ],
   "source": [
    "df4"
   ]
  },
  {
   "cell_type": "markdown",
   "metadata": {},
   "source": [
    "#### Creo un DF con le quotazioni close dei ticker selezionati"
   ]
  },
  {
   "cell_type": "code",
   "execution_count": 17,
   "metadata": {
    "ExecuteTime": {
     "end_time": "2019-05-10T09:15:18.794436Z",
     "start_time": "2019-05-10T09:15:17.727621Z"
    }
   },
   "outputs": [
    {
     "data": {
      "text/plain": [
       "['ceu',\n",
       " 'csspx',\n",
       " 'em15',\n",
       " 'emg',\n",
       " 'ibgl',\n",
       " 'ibgm',\n",
       " 'ibtm',\n",
       " 'imeu',\n",
       " 'iusa',\n",
       " 'smea',\n",
       " 'phau']"
      ]
     },
     "execution_count": 17,
     "metadata": {},
     "output_type": "execute_result"
    }
   ],
   "source": [
    "sources1 = df4.dataSource.tolist()\n",
    "\n",
    "ticker1 = df4.ticker.tolist()\n",
    "ticker1 = [x.lower().split('.')[0] for x in ticker1]\n",
    "ticker1"
   ]
  },
  {
   "cell_type": "code",
   "execution_count": 18,
   "metadata": {
    "ExecuteTime": {
     "end_time": "2019-05-10T09:15:24.532344Z",
     "start_time": "2019-05-10T09:15:19.477743Z"
    },
    "collapsed": true
   },
   "outputs": [],
   "source": [
    "dfLista = pd.DataFrame()\n",
    "for source in sources1:\n",
    "    filename = WORKDIR + source + EXT\n",
    "    df_t = pd.read_csv(filename, usecols=[1,2,3,4,5,6], index_col=0, parse_dates=True, dayfirst=True)\n",
    "    dfLista = dfLista.join(df_t.close,how='outer',rsuffix='_'+source)\n",
    "    \n",
    "dfLista.columns = ticker1"
   ]
  },
  {
   "cell_type": "code",
   "execution_count": 19,
   "metadata": {
    "ExecuteTime": {
     "end_time": "2019-05-10T09:15:25.562321Z",
     "start_time": "2019-05-10T09:15:24.537609Z"
    },
    "collapsed": true
   },
   "outputs": [],
   "source": [
    "df100 = dfLista.copy()"
   ]
  },
  {
   "cell_type": "markdown",
   "metadata": {},
   "source": [
    "#### Correzione SMEA"
   ]
  },
  {
   "cell_type": "code",
   "execution_count": 20,
   "metadata": {
    "ExecuteTime": {
     "end_time": "2019-05-10T09:15:28.128665Z",
     "start_time": "2019-05-10T09:15:27.006200Z"
    }
   },
   "outputs": [
    {
     "data": {
      "text/plain": [
       "Timestamp('2018-11-22 00:00:00')"
      ]
     },
     "execution_count": 20,
     "metadata": {},
     "output_type": "execute_result"
    }
   ],
   "source": [
    "df100.smea.idxmin()\n",
    "\n",
    "df100.smea.loc['2018-11-22']=df100.smea.loc['2018-11-21']"
   ]
  },
  {
   "cell_type": "markdown",
   "metadata": {},
   "source": [
    "### Pulizia dati (NaN)"
   ]
  },
  {
   "cell_type": "code",
   "execution_count": 22,
   "metadata": {
    "ExecuteTime": {
     "end_time": "2019-05-10T09:15:32.879612Z",
     "start_time": "2019-05-10T09:15:31.810288Z"
    },
    "scrolled": true
   },
   "outputs": [
    {
     "name": "stdout",
     "output_type": "stream",
     "text": [
      "First valid index for column ceu is at 2010-03-17 00:00:00\n",
      "First valid index for column csspx is at 2010-05-26 00:00:00\n",
      "First valid index for column em15 is at 2007-10-25 00:00:00\n",
      "First valid index for column emg is at 2004-05-11 00:00:00\n",
      "First valid index for column ibgl is at 2007-03-20 00:00:00\n",
      "First valid index for column ibgm is at 2007-03-20 00:00:00\n",
      "First valid index for column ibtm is at 2007-03-20 00:00:00\n",
      "First valid index for column imeu is at 2008-03-18 00:00:00\n",
      "First valid index for column iusa is at 2004-05-11 00:00:00\n",
      "First valid index for column smea is at 2010-02-11 00:00:00\n",
      "First valid index for column phau is at 2007-06-20 00:00:00\n"
     ]
    }
   ],
   "source": [
    "for col_name, data in df100.items(): \n",
    "    print(\"First valid index for column {} is at {}\".format(col_name, data.first_valid_index()))"
   ]
  },
  {
   "cell_type": "code",
   "execution_count": 24,
   "metadata": {
    "ExecuteTime": {
     "end_time": "2019-05-10T09:15:42.922795Z",
     "start_time": "2019-05-10T09:15:41.884550Z"
    },
    "collapsed": true
   },
   "outputs": [],
   "source": [
    "# prima data valida \n",
    "df101 = df100[df100.index >= '2010-05-26']\n",
    "\n",
    "# back-fill i NaN\n",
    "df102 = df101.fillna(method='bfill')\n"
   ]
  },
  {
   "cell_type": "code",
   "execution_count": 25,
   "metadata": {
    "ExecuteTime": {
     "end_time": "2019-05-10T09:15:46.151791Z",
     "start_time": "2019-05-10T09:15:44.035198Z"
    },
    "collapsed": true
   },
   "outputs": [],
   "source": [
    "# SALVO df con quotazioni titoli selezionati puliti\n",
    "\n",
    "df102.to_csv('quotes_clean_mach1.csv')\n",
    "df102.to_excel('quotes_clean_mach1.xlsx')"
   ]
  },
  {
   "cell_type": "markdown",
   "metadata": {},
   "source": [
    "### Sampling a 'week' (df200)"
   ]
  },
  {
   "cell_type": "code",
   "execution_count": 50,
   "metadata": {
    "ExecuteTime": {
     "end_time": "2019-05-10T09:30:18.480276Z",
     "start_time": "2019-05-10T09:30:17.414904Z"
    },
    "collapsed": true
   },
   "outputs": [],
   "source": [
    "df103 = df102.copy()\n",
    "df103['weekday'] = df103.index.weekday_name"
   ]
  },
  {
   "cell_type": "code",
   "execution_count": 51,
   "metadata": {
    "ExecuteTime": {
     "end_time": "2019-05-10T09:30:20.625807Z",
     "start_time": "2019-05-10T09:30:19.369785Z"
    },
    "collapsed": true
   },
   "outputs": [],
   "source": [
    "# l'offset serve per allineare la data ai venerdì in cui prende il campione\n",
    "df200 = df103.resample('W',loffset=pd.offsets.timedelta(days=-2)).last()\n",
    "\n",
    "# droppo la colonna weekday per normalizzare\n",
    "df200 = df200.drop(columns='weekday')\n",
    "\n",
    "# normalizzo e plotto\n",
    "\n",
    "norm_df200 = df200/df200.iloc[0]\n",
    "#norm_df200.plot()"
   ]
  },
  {
   "cell_type": "code",
   "execution_count": 52,
   "metadata": {
    "ExecuteTime": {
     "end_time": "2019-05-10T09:30:25.425215Z",
     "start_time": "2019-05-10T09:30:22.191651Z"
    }
   },
   "outputs": [
    {
     "data": {
      "text/plain": [
       "<matplotlib.axes._subplots.AxesSubplot at 0x151aefb6c18>"
      ]
     },
     "execution_count": 52,
     "metadata": {},
     "output_type": "execute_result"
    },
    {
     "data": {
      "image/png": "[encoded data removed]",
      "text/plain": [
       "<Figure size 900x700 with 1 Axes>"
      ]
     },
     "metadata": {},
     "output_type": "display_data"
    }
   ],
   "source": [
    "plt.style.use('default')\n",
    "#norm_df200.plot(kind='line', colormap='PiYG')\n",
    "#norm_df200.plot(kind='line', colormap='inferno')\n",
    "norm_df200.plot(kind='line', colormap='Paired', figsize=(9,7))"
   ]
  },
  {
   "cell_type": "markdown",
   "metadata": {},
   "source": [
    "### Returns"
   ]
  },
  {
   "cell_type": "code",
   "execution_count": 53,
   "metadata": {
    "ExecuteTime": {
     "end_time": "2019-05-10T09:30:32.047033Z",
     "start_time": "2019-05-10T09:30:30.899485Z"
    },
    "collapsed": true
   },
   "outputs": [],
   "source": [
    "returns = np.log(df200/df200.shift(1))\n",
    "returns.dropna(inplace=True)"
   ]
  },
  {
   "cell_type": "code",
   "execution_count": 54,
   "metadata": {
    "ExecuteTime": {
     "end_time": "2019-05-10T09:30:39.106826Z",
     "start_time": "2019-05-10T09:30:36.802227Z"
    }
   },
   "outputs": [
    {
     "name": "stdout",
     "output_type": "stream",
     "text": [
      "----------------------------------------------------------------------------------\n",
      "Assets Classes Annualized Statistics — full observation period\n"
     ]
    },
    {
     "data": {
      "text/html": [
       "<style  type=\"text/css\" >\n",
       "    #T_45de19be_7306_11e9_8e24_34f39ad37a3drow0_col0 {\n",
       "            width:  10em;\n",
       "             height:  80%;\n",
       "            background:  linear-gradient(90deg, transparent 50.0%, green 50.0%, green 79.4%, transparent 79.4%);\n",
       "        }    #T_45de19be_7306_11e9_8e24_34f39ad37a3drow0_col1 {\n",
       "            width:  10em;\n",
       "             height:  80%;\n",
       "            background:  linear-gradient(90deg, transparent 50.0%, green 50.0%, green 99.4%, transparent 99.4%);\n",
       "        }    #T_45de19be_7306_11e9_8e24_34f39ad37a3drow0_col2 {\n",
       "            width:  10em;\n",
       "             height:  80%;\n",
       "            background:  linear-gradient(90deg, transparent 50.0%, green 50.0%, green 78.2%, transparent 78.2%);\n",
       "        }    #T_45de19be_7306_11e9_8e24_34f39ad37a3drow1_col0 {\n",
       "            width:  10em;\n",
       "             height:  80%;\n",
       "            background:  linear-gradient(90deg, transparent 50.0%, green 50.0%, green 100.0%, transparent 100.0%);\n",
       "        }    #T_45de19be_7306_11e9_8e24_34f39ad37a3drow1_col1 {\n",
       "            width:  10em;\n",
       "             height:  80%;\n",
       "            background:  linear-gradient(90deg, transparent 50.0%, green 50.0%, green 97.4%, transparent 97.4%);\n",
       "        }    #T_45de19be_7306_11e9_8e24_34f39ad37a3drow1_col2 {\n",
       "            width:  10em;\n",
       "             height:  80%;\n",
       "            background:  linear-gradient(90deg, transparent 50.0%, green 50.0%, green 100.0%, transparent 100.0%);\n",
       "        }    #T_45de19be_7306_11e9_8e24_34f39ad37a3drow2_col0 {\n",
       "            width:  10em;\n",
       "             height:  80%;\n",
       "            background:  linear-gradient(90deg, transparent 50.0%, green 50.0%, green 75.5%, transparent 75.5%);\n",
       "        }    #T_45de19be_7306_11e9_8e24_34f39ad37a3drow2_col1 {\n",
       "            width:  10em;\n",
       "             height:  80%;\n",
       "            background:  linear-gradient(90deg, transparent 50.0%, green 50.0%, green 80.5%, transparent 80.5%);\n",
       "        }    #T_45de19be_7306_11e9_8e24_34f39ad37a3drow2_col2 {\n",
       "            width:  10em;\n",
       "             height:  80%;\n",
       "            background:  linear-gradient(90deg, transparent 50.0%, green 50.0%, green 89.6%, transparent 89.6%);\n",
       "        }    #T_45de19be_7306_11e9_8e24_34f39ad37a3drow3_col0 {\n",
       "            width:  10em;\n",
       "             height:  80%;\n",
       "            background:  linear-gradient(90deg, transparent 50.0%, green 50.0%, green 62.7%, transparent 62.7%);\n",
       "        }    #T_45de19be_7306_11e9_8e24_34f39ad37a3drow3_col1 {\n",
       "            width:  10em;\n",
       "             height:  80%;\n",
       "            background:  linear-gradient(90deg, transparent 50.0%, green 50.0%, green 63.1%, transparent 63.1%);\n",
       "        }    #T_45de19be_7306_11e9_8e24_34f39ad37a3drow3_col2 {\n",
       "            width:  10em;\n",
       "             height:  80%;\n",
       "            background:  linear-gradient(90deg, transparent 50.0%, green 50.0%, green 96.2%, transparent 96.2%);\n",
       "        }    #T_45de19be_7306_11e9_8e24_34f39ad37a3drow4_col0 {\n",
       "            width:  10em;\n",
       "             height:  80%;\n",
       "            background:  linear-gradient(90deg, transparent 50.0%, green 50.0%, green 66.3%, transparent 66.3%);\n",
       "        }    #T_45de19be_7306_11e9_8e24_34f39ad37a3drow4_col1 {\n",
       "            width:  10em;\n",
       "             height:  80%;\n",
       "            background:  linear-gradient(90deg, transparent 50.0%, green 50.0%, green 79.8%, transparent 79.8%);\n",
       "        }    #T_45de19be_7306_11e9_8e24_34f39ad37a3drow4_col2 {\n",
       "            width:  10em;\n",
       "             height:  80%;\n",
       "            background:  linear-gradient(90deg, transparent 50.0%, green 50.0%, green 75.9%, transparent 75.9%);\n",
       "        }    #T_45de19be_7306_11e9_8e24_34f39ad37a3drow5_col0 {\n",
       "            width:  10em;\n",
       "             height:  80%;\n",
       "            background:  linear-gradient(90deg, transparent 50.0%, green 50.0%, green 62.3%, transparent 62.3%);\n",
       "        }    #T_45de19be_7306_11e9_8e24_34f39ad37a3drow5_col1 {\n",
       "            width:  10em;\n",
       "             height:  80%;\n",
       "            background:  linear-gradient(90deg, transparent 50.0%, green 50.0%, green 65.3%, transparent 65.3%);\n",
       "        }    #T_45de19be_7306_11e9_8e24_34f39ad37a3drow5_col2 {\n",
       "            width:  10em;\n",
       "             height:  80%;\n",
       "            background:  linear-gradient(90deg, transparent 50.0%, green 50.0%, green 88.1%, transparent 88.1%);\n",
       "        }    #T_45de19be_7306_11e9_8e24_34f39ad37a3drow6_col0 {\n",
       "            width:  10em;\n",
       "             height:  80%;\n",
       "            background:  linear-gradient(90deg, transparent 50.0%, green 50.0%, green 59.4%, transparent 59.4%);\n",
       "        }    #T_45de19be_7306_11e9_8e24_34f39ad37a3drow6_col1 {\n",
       "            width:  10em;\n",
       "             height:  80%;\n",
       "            background:  linear-gradient(90deg, transparent 50.0%, green 50.0%, green 84.4%, transparent 84.4%);\n",
       "        }    #T_45de19be_7306_11e9_8e24_34f39ad37a3drow6_col2 {\n",
       "            width:  10em;\n",
       "             height:  80%;\n",
       "            background:  linear-gradient(90deg, transparent 50.0%, green 50.0%, green 62.9%, transparent 62.9%);\n",
       "        }    #T_45de19be_7306_11e9_8e24_34f39ad37a3drow7_col0 {\n",
       "            width:  10em;\n",
       "             height:  80%;\n",
       "            background:  linear-gradient(90deg, transparent 50.0%, green 50.0%, green 68.2%, transparent 68.2%);\n",
       "        }    #T_45de19be_7306_11e9_8e24_34f39ad37a3drow7_col1 {\n",
       "            width:  10em;\n",
       "             height:  80%;\n",
       "            background:  linear-gradient(90deg, transparent 50.0%, green 50.0%, green 99.6%, transparent 99.6%);\n",
       "        }    #T_45de19be_7306_11e9_8e24_34f39ad37a3drow7_col2 {\n",
       "            width:  10em;\n",
       "             height:  80%;\n",
       "            background:  linear-gradient(90deg, transparent 50.0%, green 50.0%, green 67.4%, transparent 67.4%);\n",
       "        }    #T_45de19be_7306_11e9_8e24_34f39ad37a3drow8_col0 {\n",
       "            width:  10em;\n",
       "             height:  80%;\n",
       "            background:  linear-gradient(90deg, transparent 50.0%, green 50.0%, green 94.1%, transparent 94.1%);\n",
       "        }    #T_45de19be_7306_11e9_8e24_34f39ad37a3drow8_col1 {\n",
       "            width:  10em;\n",
       "             height:  80%;\n",
       "            background:  linear-gradient(90deg, transparent 50.0%, green 50.0%, green 98.1%, transparent 98.1%);\n",
       "        }    #T_45de19be_7306_11e9_8e24_34f39ad37a3drow8_col2 {\n",
       "            width:  10em;\n",
       "             height:  80%;\n",
       "            background:  linear-gradient(90deg, transparent 50.0%, green 50.0%, green 93.4%, transparent 93.4%);\n",
       "        }    #T_45de19be_7306_11e9_8e24_34f39ad37a3drow9_col0 {\n",
       "            width:  10em;\n",
       "             height:  80%;\n",
       "            background:  linear-gradient(90deg, transparent 50.0%, green 50.0%, green 78.6%, transparent 78.6%);\n",
       "        }    #T_45de19be_7306_11e9_8e24_34f39ad37a3drow9_col1 {\n",
       "            width:  10em;\n",
       "             height:  80%;\n",
       "            background:  linear-gradient(90deg, transparent 50.0%, green 50.0%, green 100.0%, transparent 100.0%);\n",
       "        }    #T_45de19be_7306_11e9_8e24_34f39ad37a3drow9_col2 {\n",
       "            width:  10em;\n",
       "             height:  80%;\n",
       "            background:  linear-gradient(90deg, transparent 50.0%, green 50.0%, green 77.1%, transparent 77.1%);\n",
       "        }    #T_45de19be_7306_11e9_8e24_34f39ad37a3drow10_col0 {\n",
       "            width:  10em;\n",
       "             height:  80%;\n",
       "            background:  linear-gradient(90deg, transparent 50.0%, green 50.0%, green 55.3%, transparent 55.3%);\n",
       "        }    #T_45de19be_7306_11e9_8e24_34f39ad37a3drow10_col1 {\n",
       "            width:  10em;\n",
       "             height:  80%;\n",
       "            background:  linear-gradient(90deg, transparent 50.0%, green 50.0%, green 97.2%, transparent 97.2%);\n",
       "        }    #T_45de19be_7306_11e9_8e24_34f39ad37a3drow10_col2 {\n",
       "            width:  10em;\n",
       "             height:  80%;\n",
       "            background:  linear-gradient(90deg, transparent 50.0%, green 50.0%, green 55.3%, transparent 55.3%);\n",
       "        }</style><table id=\"T_45de19be_7306_11e9_8e24_34f39ad37a3d\" ><thead>    <tr>        <th class=\"blank level0\" ></th>        <th class=\"col_heading level0 col0\" >Annualized Returns(%)</th>        <th class=\"col_heading level0 col1\" >Annualized Volatility(%)</th>        <th class=\"col_heading level0 col2\" >Sharpe Ratio</th>    </tr></thead><tbody>\n",
       "                <tr>\n",
       "                        <th id=\"T_45de19be_7306_11e9_8e24_34f39ad37a3dlevel0_row0\" class=\"row_heading level0 row0\" >ceu</th>\n",
       "                        <td id=\"T_45de19be_7306_11e9_8e24_34f39ad37a3drow0_col0\" class=\"data row0 col0\" >7.97296</td>\n",
       "                        <td id=\"T_45de19be_7306_11e9_8e24_34f39ad37a3drow0_col1\" class=\"data row0 col1\" >15.0754</td>\n",
       "                        <td id=\"T_45de19be_7306_11e9_8e24_34f39ad37a3drow0_col2\" class=\"data row0 col2\" >0.528871</td>\n",
       "            </tr>\n",
       "            <tr>\n",
       "                        <th id=\"T_45de19be_7306_11e9_8e24_34f39ad37a3dlevel0_row1\" class=\"row_heading level0 row1\" >csspx</th>\n",
       "                        <td id=\"T_45de19be_7306_11e9_8e24_34f39ad37a3drow1_col0\" class=\"data row1 col0\" >13.5652</td>\n",
       "                        <td id=\"T_45de19be_7306_11e9_8e24_34f39ad37a3drow1_col1\" class=\"data row1 col1\" >14.4718</td>\n",
       "                        <td id=\"T_45de19be_7306_11e9_8e24_34f39ad37a3drow1_col2\" class=\"data row1 col2\" >0.937359</td>\n",
       "            </tr>\n",
       "            <tr>\n",
       "                        <th id=\"T_45de19be_7306_11e9_8e24_34f39ad37a3dlevel0_row2\" class=\"row_heading level0 row2\" >em15</th>\n",
       "                        <td id=\"T_45de19be_7306_11e9_8e24_34f39ad37a3drow2_col0\" class=\"data row2 col0\" >6.91398</td>\n",
       "                        <td id=\"T_45de19be_7306_11e9_8e24_34f39ad37a3drow2_col1\" class=\"data row2 col1\" >9.3092</td>\n",
       "                        <td id=\"T_45de19be_7306_11e9_8e24_34f39ad37a3drow2_col2\" class=\"data row2 col2\" >0.742704</td>\n",
       "            </tr>\n",
       "            <tr>\n",
       "                        <th id=\"T_45de19be_7306_11e9_8e24_34f39ad37a3dlevel0_row3\" class=\"row_heading level0 row3\" >emg</th>\n",
       "                        <td id=\"T_45de19be_7306_11e9_8e24_34f39ad37a3drow3_col0\" class=\"data row3 col0\" >3.45551</td>\n",
       "                        <td id=\"T_45de19be_7306_11e9_8e24_34f39ad37a3drow3_col1\" class=\"data row3 col1\" >3.9893</td>\n",
       "                        <td id=\"T_45de19be_7306_11e9_8e24_34f39ad37a3drow3_col2\" class=\"data row3 col2\" >0.866195</td>\n",
       "            </tr>\n",
       "            <tr>\n",
       "                        <th id=\"T_45de19be_7306_11e9_8e24_34f39ad37a3dlevel0_row4\" class=\"row_heading level0 row4\" >ibgl</th>\n",
       "                        <td id=\"T_45de19be_7306_11e9_8e24_34f39ad37a3drow4_col0\" class=\"data row4 col0\" >4.42309</td>\n",
       "                        <td id=\"T_45de19be_7306_11e9_8e24_34f39ad37a3drow4_col1\" class=\"data row4 col1\" >9.10413</td>\n",
       "                        <td id=\"T_45de19be_7306_11e9_8e24_34f39ad37a3drow4_col2\" class=\"data row4 col2\" >0.485833</td>\n",
       "            </tr>\n",
       "            <tr>\n",
       "                        <th id=\"T_45de19be_7306_11e9_8e24_34f39ad37a3dlevel0_row5\" class=\"row_heading level0 row5\" >ibgm</th>\n",
       "                        <td id=\"T_45de19be_7306_11e9_8e24_34f39ad37a3drow5_col0\" class=\"data row5 col0\" >3.34527</td>\n",
       "                        <td id=\"T_45de19be_7306_11e9_8e24_34f39ad37a3drow5_col1\" class=\"data row5 col1\" >4.68334</td>\n",
       "                        <td id=\"T_45de19be_7306_11e9_8e24_34f39ad37a3drow5_col2\" class=\"data row5 col2\" >0.714291</td>\n",
       "            </tr>\n",
       "            <tr>\n",
       "                        <th id=\"T_45de19be_7306_11e9_8e24_34f39ad37a3dlevel0_row6\" class=\"row_heading level0 row6\" >ibtm</th>\n",
       "                        <td id=\"T_45de19be_7306_11e9_8e24_34f39ad37a3drow6_col0\" class=\"data row6 col0\" >2.54402</td>\n",
       "                        <td id=\"T_45de19be_7306_11e9_8e24_34f39ad37a3drow6_col1\" class=\"data row6 col1\" >10.5114</td>\n",
       "                        <td id=\"T_45de19be_7306_11e9_8e24_34f39ad37a3drow6_col2\" class=\"data row6 col2\" >0.242026</td>\n",
       "            </tr>\n",
       "            <tr>\n",
       "                        <th id=\"T_45de19be_7306_11e9_8e24_34f39ad37a3dlevel0_row7\" class=\"row_heading level0 row7\" >imeu</th>\n",
       "                        <td id=\"T_45de19be_7306_11e9_8e24_34f39ad37a3drow7_col0\" class=\"data row7 col0\" >4.92916</td>\n",
       "                        <td id=\"T_45de19be_7306_11e9_8e24_34f39ad37a3drow7_col1\" class=\"data row7 col1\" >15.1246</td>\n",
       "                        <td id=\"T_45de19be_7306_11e9_8e24_34f39ad37a3drow7_col2\" class=\"data row7 col2\" >0.325904</td>\n",
       "            </tr>\n",
       "            <tr>\n",
       "                        <th id=\"T_45de19be_7306_11e9_8e24_34f39ad37a3dlevel0_row8\" class=\"row_heading level0 row8\" >iusa</th>\n",
       "                        <td id=\"T_45de19be_7306_11e9_8e24_34f39ad37a3drow8_col0\" class=\"data row8 col0\" >11.9572</td>\n",
       "                        <td id=\"T_45de19be_7306_11e9_8e24_34f39ad37a3drow8_col1\" class=\"data row8 col1\" >14.6949</td>\n",
       "                        <td id=\"T_45de19be_7306_11e9_8e24_34f39ad37a3drow8_col2\" class=\"data row8 col2\" >0.813701</td>\n",
       "            </tr>\n",
       "            <tr>\n",
       "                        <th id=\"T_45de19be_7306_11e9_8e24_34f39ad37a3dlevel0_row9\" class=\"row_heading level0 row9\" >smea</th>\n",
       "                        <td id=\"T_45de19be_7306_11e9_8e24_34f39ad37a3drow9_col0\" class=\"data row9 col0\" >7.76672</td>\n",
       "                        <td id=\"T_45de19be_7306_11e9_8e24_34f39ad37a3drow9_col1\" class=\"data row9 col1\" >15.2608</td>\n",
       "                        <td id=\"T_45de19be_7306_11e9_8e24_34f39ad37a3drow9_col2\" class=\"data row9 col2\" >0.508931</td>\n",
       "            </tr>\n",
       "            <tr>\n",
       "                        <th id=\"T_45de19be_7306_11e9_8e24_34f39ad37a3dlevel0_row10\" class=\"row_heading level0 row10\" >phau</th>\n",
       "                        <td id=\"T_45de19be_7306_11e9_8e24_34f39ad37a3drow10_col0\" class=\"data row10 col0\" >1.44166</td>\n",
       "                        <td id=\"T_45de19be_7306_11e9_8e24_34f39ad37a3drow10_col1\" class=\"data row10 col1\" >14.4071</td>\n",
       "                        <td id=\"T_45de19be_7306_11e9_8e24_34f39ad37a3drow10_col2\" class=\"data row10 col2\" >0.100066</td>\n",
       "            </tr>\n",
       "    </tbody></table>"
      ],
      "text/plain": [
       "<pandas.io.formats.style.Styler at 0x151afc310f0>"
      ]
     },
     "execution_count": 54,
     "metadata": {},
     "output_type": "execute_result"
    }
   ],
   "source": [
    "PERIODS = 52\n",
    "stats = pd.DataFrame()\n",
    "stats['Annualized Returns(%)'] = returns.mean() * PERIODS *100\n",
    "stats['Annualized Volatility(%)'] = returns.std() * np.sqrt(PERIODS)*100\n",
    "stats['Sharpe Ratio'] = stats['Annualized Returns(%)'] /stats['Annualized Volatility(%)']\n",
    "print(82*'-')\n",
    "print('Assets Classes Annualized Statistics — full observation period')\n",
    "stats.style.bar(color=['red','green'], align='zero')"
   ]
  },
  {
   "cell_type": "code",
   "execution_count": 55,
   "metadata": {
    "ExecuteTime": {
     "end_time": "2019-05-10T09:30:41.161769Z",
     "start_time": "2019-05-10T09:30:39.990166Z"
    },
    "scrolled": true
   },
   "outputs": [
    {
     "data": {
      "text/html": [
       "<div>\n",
       "<style scoped>\n",
       "    .dataframe tbody tr th:only-of-type {\n",
       "        vertical-align: middle;\n",
       "    }\n",
       "\n",
       "    .dataframe tbody tr th {\n",
       "        vertical-align: top;\n",
       "    }\n",
       "\n",
       "    .dataframe thead th {\n",
       "        text-align: right;\n",
       "    }\n",
       "</style>\n",
       "<table border=\"1\" class=\"dataframe\">\n",
       "  <thead>\n",
       "    <tr style=\"text-align: right;\">\n",
       "      <th></th>\n",
       "      <th>ceu</th>\n",
       "      <th>csspx</th>\n",
       "      <th>em15</th>\n",
       "      <th>emg</th>\n",
       "      <th>ibgl</th>\n",
       "      <th>ibgm</th>\n",
       "      <th>ibtm</th>\n",
       "      <th>imeu</th>\n",
       "      <th>iusa</th>\n",
       "      <th>smea</th>\n",
       "      <th>phau</th>\n",
       "    </tr>\n",
       "  </thead>\n",
       "  <tbody>\n",
       "    <tr>\n",
       "      <th>ceu</th>\n",
       "      <td>1.000000</td>\n",
       "      <td>0.749351</td>\n",
       "      <td>-0.042565</td>\n",
       "      <td>0.081094</td>\n",
       "      <td>-0.048725</td>\n",
       "      <td>-0.107565</td>\n",
       "      <td>-0.187910</td>\n",
       "      <td>0.950445</td>\n",
       "      <td>0.754046</td>\n",
       "      <td>0.928445</td>\n",
       "      <td>-0.042402</td>\n",
       "    </tr>\n",
       "    <tr>\n",
       "      <th>csspx</th>\n",
       "      <td>0.749351</td>\n",
       "      <td>1.000000</td>\n",
       "      <td>-0.038044</td>\n",
       "      <td>0.017374</td>\n",
       "      <td>-0.036761</td>\n",
       "      <td>-0.034124</td>\n",
       "      <td>0.164968</td>\n",
       "      <td>0.795790</td>\n",
       "      <td>0.994142</td>\n",
       "      <td>0.775686</td>\n",
       "      <td>0.055696</td>\n",
       "    </tr>\n",
       "    <tr>\n",
       "      <th>em15</th>\n",
       "      <td>-0.042565</td>\n",
       "      <td>-0.038044</td>\n",
       "      <td>1.000000</td>\n",
       "      <td>0.887915</td>\n",
       "      <td>0.944753</td>\n",
       "      <td>0.784444</td>\n",
       "      <td>0.371427</td>\n",
       "      <td>-0.045236</td>\n",
       "      <td>-0.039452</td>\n",
       "      <td>-0.051044</td>\n",
       "      <td>0.158376</td>\n",
       "    </tr>\n",
       "    <tr>\n",
       "      <th>emg</th>\n",
       "      <td>0.081094</td>\n",
       "      <td>0.017374</td>\n",
       "      <td>0.887915</td>\n",
       "      <td>1.000000</td>\n",
       "      <td>0.877595</td>\n",
       "      <td>0.786720</td>\n",
       "      <td>0.289836</td>\n",
       "      <td>0.070634</td>\n",
       "      <td>0.017809</td>\n",
       "      <td>0.074586</td>\n",
       "      <td>0.156645</td>\n",
       "    </tr>\n",
       "    <tr>\n",
       "      <th>ibgl</th>\n",
       "      <td>-0.048725</td>\n",
       "      <td>-0.036761</td>\n",
       "      <td>0.944753</td>\n",
       "      <td>0.877595</td>\n",
       "      <td>1.000000</td>\n",
       "      <td>0.839189</td>\n",
       "      <td>0.411213</td>\n",
       "      <td>-0.044561</td>\n",
       "      <td>-0.039823</td>\n",
       "      <td>-0.064618</td>\n",
       "      <td>0.157914</td>\n",
       "    </tr>\n",
       "    <tr>\n",
       "      <th>ibgm</th>\n",
       "      <td>-0.107565</td>\n",
       "      <td>-0.034124</td>\n",
       "      <td>0.784444</td>\n",
       "      <td>0.786720</td>\n",
       "      <td>0.839189</td>\n",
       "      <td>1.000000</td>\n",
       "      <td>0.558391</td>\n",
       "      <td>-0.097987</td>\n",
       "      <td>-0.040794</td>\n",
       "      <td>-0.108649</td>\n",
       "      <td>0.242127</td>\n",
       "    </tr>\n",
       "    <tr>\n",
       "      <th>ibtm</th>\n",
       "      <td>-0.187910</td>\n",
       "      <td>0.164968</td>\n",
       "      <td>0.371427</td>\n",
       "      <td>0.289836</td>\n",
       "      <td>0.411213</td>\n",
       "      <td>0.558391</td>\n",
       "      <td>1.000000</td>\n",
       "      <td>-0.166197</td>\n",
       "      <td>0.157062</td>\n",
       "      <td>-0.171793</td>\n",
       "      <td>0.350912</td>\n",
       "    </tr>\n",
       "    <tr>\n",
       "      <th>imeu</th>\n",
       "      <td>0.950445</td>\n",
       "      <td>0.795790</td>\n",
       "      <td>-0.045236</td>\n",
       "      <td>0.070634</td>\n",
       "      <td>-0.044561</td>\n",
       "      <td>-0.097987</td>\n",
       "      <td>-0.166197</td>\n",
       "      <td>1.000000</td>\n",
       "      <td>0.799958</td>\n",
       "      <td>0.960064</td>\n",
       "      <td>-0.021770</td>\n",
       "    </tr>\n",
       "    <tr>\n",
       "      <th>iusa</th>\n",
       "      <td>0.754046</td>\n",
       "      <td>0.994142</td>\n",
       "      <td>-0.039452</td>\n",
       "      <td>0.017809</td>\n",
       "      <td>-0.039823</td>\n",
       "      <td>-0.040794</td>\n",
       "      <td>0.157062</td>\n",
       "      <td>0.799958</td>\n",
       "      <td>1.000000</td>\n",
       "      <td>0.783636</td>\n",
       "      <td>0.062149</td>\n",
       "    </tr>\n",
       "    <tr>\n",
       "      <th>smea</th>\n",
       "      <td>0.928445</td>\n",
       "      <td>0.775686</td>\n",
       "      <td>-0.051044</td>\n",
       "      <td>0.074586</td>\n",
       "      <td>-0.064618</td>\n",
       "      <td>-0.108649</td>\n",
       "      <td>-0.171793</td>\n",
       "      <td>0.960064</td>\n",
       "      <td>0.783636</td>\n",
       "      <td>1.000000</td>\n",
       "      <td>-0.000993</td>\n",
       "    </tr>\n",
       "    <tr>\n",
       "      <th>phau</th>\n",
       "      <td>-0.042402</td>\n",
       "      <td>0.055696</td>\n",
       "      <td>0.158376</td>\n",
       "      <td>0.156645</td>\n",
       "      <td>0.157914</td>\n",
       "      <td>0.242127</td>\n",
       "      <td>0.350912</td>\n",
       "      <td>-0.021770</td>\n",
       "      <td>0.062149</td>\n",
       "      <td>-0.000993</td>\n",
       "      <td>1.000000</td>\n",
       "    </tr>\n",
       "  </tbody>\n",
       "</table>\n",
       "</div>"
      ],
      "text/plain": [
       "            ceu     csspx      em15       emg      ibgl      ibgm      ibtm  \\\n",
       "ceu    1.000000  0.749351 -0.042565  0.081094 -0.048725 -0.107565 -0.187910   \n",
       "csspx  0.749351  1.000000 -0.038044  0.017374 -0.036761 -0.034124  0.164968   \n",
       "em15  -0.042565 -0.038044  1.000000  0.887915  0.944753  0.784444  0.371427   \n",
       "emg    0.081094  0.017374  0.887915  1.000000  0.877595  0.786720  0.289836   \n",
       "ibgl  -0.048725 -0.036761  0.944753  0.877595  1.000000  0.839189  0.411213   \n",
       "ibgm  -0.107565 -0.034124  0.784444  0.786720  0.839189  1.000000  0.558391   \n",
       "ibtm  -0.187910  0.164968  0.371427  0.289836  0.411213  0.558391  1.000000   \n",
       "imeu   0.950445  0.795790 -0.045236  0.070634 -0.044561 -0.097987 -0.166197   \n",
       "iusa   0.754046  0.994142 -0.039452  0.017809 -0.039823 -0.040794  0.157062   \n",
       "smea   0.928445  0.775686 -0.051044  0.074586 -0.064618 -0.108649 -0.171793   \n",
       "phau  -0.042402  0.055696  0.158376  0.156645  0.157914  0.242127  0.350912   \n",
       "\n",
       "           imeu      iusa      smea      phau  \n",
       "ceu    0.950445  0.754046  0.928445 -0.042402  \n",
       "csspx  0.795790  0.994142  0.775686  0.055696  \n",
       "em15  -0.045236 -0.039452 -0.051044  0.158376  \n",
       "emg    0.070634  0.017809  0.074586  0.156645  \n",
       "ibgl  -0.044561 -0.039823 -0.064618  0.157914  \n",
       "ibgm  -0.097987 -0.040794 -0.108649  0.242127  \n",
       "ibtm  -0.166197  0.157062 -0.171793  0.350912  \n",
       "imeu   1.000000  0.799958  0.960064 -0.021770  \n",
       "iusa   0.799958  1.000000  0.783636  0.062149  \n",
       "smea   0.960064  0.783636  1.000000 -0.000993  \n",
       "phau  -0.021770  0.062149 -0.000993  1.000000  "
      ]
     },
     "execution_count": 55,
     "metadata": {},
     "output_type": "execute_result"
    }
   ],
   "source": [
    "returns.corr('pearson')"
   ]
  },
  {
   "cell_type": "code",
   "execution_count": 56,
   "metadata": {
    "ExecuteTime": {
     "end_time": "2019-05-10T09:30:46.711972Z",
     "start_time": "2019-05-10T09:30:45.137297Z"
    }
   },
   "outputs": [
    {
     "data": {
      "image/png": "[encoded data removed]",
      "text/plain": [
       "<Figure size 640x480 with 1 Axes>"
      ]
     },
     "metadata": {},
     "output_type": "display_data"
    }
   ],
   "source": [
    "sns.set()\n",
    "\n",
    "fig4 = plt.figure()\n",
    "#sns.distplot(returns['ibtm'])\n",
    "sns.distplot(returns['em15'])\n",
    "sns.distplot(returns['ibgl'])\n",
    "#plt.legend(('ibtm','em15','ibgm'),fontsize = 12)\n",
    "plt.legend(('em15','ibgl'),fontsize = 12)\n",
    "plt.show()\n"
   ]
  },
  {
   "cell_type": "markdown",
   "metadata": {},
   "source": [
    "## Portfolio allocation(s)"
   ]
  },
  {
   "cell_type": "markdown",
   "metadata": {},
   "source": [
    "#### Preparo la matrice delle allocations"
   ]
  },
  {
   "cell_type": "code",
   "execution_count": 57,
   "metadata": {
    "ExecuteTime": {
     "end_time": "2019-05-10T09:30:53.340034Z",
     "start_time": "2019-05-10T09:30:52.069655Z"
    }
   },
   "outputs": [
    {
     "data": {
      "text/html": [
       "<div>\n",
       "<style scoped>\n",
       "    .dataframe tbody tr th:only-of-type {\n",
       "        vertical-align: middle;\n",
       "    }\n",
       "\n",
       "    .dataframe tbody tr th {\n",
       "        vertical-align: top;\n",
       "    }\n",
       "\n",
       "    .dataframe thead th {\n",
       "        text-align: right;\n",
       "    }\n",
       "</style>\n",
       "<table border=\"1\" class=\"dataframe\">\n",
       "  <thead>\n",
       "    <tr style=\"text-align: right;\">\n",
       "      <th></th>\n",
       "      <th>ticker</th>\n",
       "      <th>area</th>\n",
       "      <th>one</th>\n",
       "      <th>two</th>\n",
       "    </tr>\n",
       "  </thead>\n",
       "  <tbody>\n",
       "    <tr>\n",
       "      <th>ceu</th>\n",
       "      <td>CEU.MI</td>\n",
       "      <td>AZIONARIO EUROPA - AREA</td>\n",
       "      <td>0</td>\n",
       "      <td>0</td>\n",
       "    </tr>\n",
       "    <tr>\n",
       "      <th>csspx</th>\n",
       "      <td>CSSPX.MI</td>\n",
       "      <td>AZIONARIO NORD AMERICA</td>\n",
       "      <td>0</td>\n",
       "      <td>0</td>\n",
       "    </tr>\n",
       "    <tr>\n",
       "      <th>em15</th>\n",
       "      <td>EM15.MI</td>\n",
       "      <td>TITOLI DI STATO - EURO</td>\n",
       "      <td>0</td>\n",
       "      <td>0</td>\n",
       "    </tr>\n",
       "    <tr>\n",
       "      <th>emg</th>\n",
       "      <td>EMG.MI</td>\n",
       "      <td>TITOLI DI STATO - EURO</td>\n",
       "      <td>0</td>\n",
       "      <td>0</td>\n",
       "    </tr>\n",
       "    <tr>\n",
       "      <th>ibgl</th>\n",
       "      <td>IBGL.MI</td>\n",
       "      <td>TITOLI DI STATO - EURO</td>\n",
       "      <td>0</td>\n",
       "      <td>0</td>\n",
       "    </tr>\n",
       "    <tr>\n",
       "      <th>ibgm</th>\n",
       "      <td>IBGM.MI</td>\n",
       "      <td>TITOLI DI STATO - EURO</td>\n",
       "      <td>0</td>\n",
       "      <td>0</td>\n",
       "    </tr>\n",
       "    <tr>\n",
       "      <th>ibtm</th>\n",
       "      <td>IBTM.MI</td>\n",
       "      <td>TITOLI DI STATO - NON EURO</td>\n",
       "      <td>0</td>\n",
       "      <td>0</td>\n",
       "    </tr>\n",
       "    <tr>\n",
       "      <th>imeu</th>\n",
       "      <td>IMEU.MI</td>\n",
       "      <td>AZIONARIO EUROPA - AREA</td>\n",
       "      <td>0</td>\n",
       "      <td>0</td>\n",
       "    </tr>\n",
       "    <tr>\n",
       "      <th>iusa</th>\n",
       "      <td>IUSA.MI</td>\n",
       "      <td>AZIONARIO NORD AMERICA</td>\n",
       "      <td>0</td>\n",
       "      <td>0</td>\n",
       "    </tr>\n",
       "    <tr>\n",
       "      <th>smea</th>\n",
       "      <td>SMEA.MI</td>\n",
       "      <td>AZIONARIO EUROPA - AREA</td>\n",
       "      <td>0</td>\n",
       "      <td>0</td>\n",
       "    </tr>\n",
       "    <tr>\n",
       "      <th>phau</th>\n",
       "      <td>PHAU.MI</td>\n",
       "      <td>METALLI PREZIOSI</td>\n",
       "      <td>0</td>\n",
       "      <td>0</td>\n",
       "    </tr>\n",
       "  </tbody>\n",
       "</table>\n",
       "</div>"
      ],
      "text/plain": [
       "         ticker                        area  one  two\n",
       "ceu      CEU.MI     AZIONARIO EUROPA - AREA    0    0\n",
       "csspx  CSSPX.MI      AZIONARIO NORD AMERICA    0    0\n",
       "em15    EM15.MI      TITOLI DI STATO - EURO    0    0\n",
       "emg      EMG.MI      TITOLI DI STATO - EURO    0    0\n",
       "ibgl    IBGL.MI      TITOLI DI STATO - EURO    0    0\n",
       "ibgm    IBGM.MI      TITOLI DI STATO - EURO    0    0\n",
       "ibtm    IBTM.MI  TITOLI DI STATO - NON EURO    0    0\n",
       "imeu    IMEU.MI     AZIONARIO EUROPA - AREA    0    0\n",
       "iusa    IUSA.MI      AZIONARIO NORD AMERICA    0    0\n",
       "smea    SMEA.MI     AZIONARIO EUROPA - AREA    0    0\n",
       "phau    PHAU.MI            METALLI PREZIOSI    0    0"
      ]
     },
     "execution_count": 57,
     "metadata": {},
     "output_type": "execute_result"
    }
   ],
   "source": [
    "allocation = pd.DataFrame(index=norm_df200.columns)\n",
    "allocation['ticker'] = allocation.index + '.MI'\n",
    "allocation.ticker = allocation.ticker.str.upper()\n",
    "\n",
    "df4ri = df4.set_index('ticker')\n",
    "def myfunc(row):\n",
    "    return df4ri.loc[row.ticker,'areaBenchmark']\n",
    "\n",
    "allocation['area'] = allocation.apply(myfunc, axis=1)\n",
    "\n",
    "allocation['one'] = 0\n",
    "allocation['two'] = 0\n",
    "\n",
    "allocation\n"
   ]
  },
  {
   "cell_type": "markdown",
   "metadata": {},
   "source": [
    "#### setup allocazioni"
   ]
  },
  {
   "cell_type": "code",
   "execution_count": 111,
   "metadata": {
    "ExecuteTime": {
     "end_time": "2019-05-13T11:37:04.756838Z",
     "start_time": "2019-05-13T11:37:03.303469Z"
    },
    "collapsed": true
   },
   "outputs": [],
   "source": [
    "# one\n",
    "allocation.loc['iusa','one'] = 0.2\n",
    "allocation.loc['smea','one'] = 0.2\n",
    "allocation.loc['phau','one'] = 0.1\n",
    "allocation.loc['em15','one'] = 0.2\n",
    "allocation.loc['ibtm','one'] = 0.3\n",
    "# two\n",
    "allocation.loc['iusa','two'] = 0.3\n",
    "allocation.loc['smea','two'] = 0.2\n",
    "allocation.loc['phau','two'] = 0.1\n",
    "allocation.loc['em15','two'] = 0.3\n",
    "allocation.loc['ibtm','two'] = 0.1"
   ]
  },
  {
   "cell_type": "code",
   "execution_count": 59,
   "metadata": {
    "ExecuteTime": {
     "end_time": "2019-05-10T09:31:00.696011Z",
     "start_time": "2019-05-10T09:30:59.590594Z"
    },
    "collapsed": true
   },
   "outputs": [],
   "source": [
    "#norm_df200.ceu.plot()\n",
    "#norm_df200.smea.plot()\n",
    "#norm_df200.imeu.plot()\n",
    "#plt.legend()\n",
    "\n",
    "#norm_df200.em15.plot()\n",
    "#norm_df200.ibgl.plot()\n",
    "#norm_df200.emg.plot()\n",
    "#plt.legend()"
   ]
  },
  {
   "cell_type": "code",
   "execution_count": 60,
   "metadata": {
    "ExecuteTime": {
     "end_time": "2019-05-10T09:31:01.857641Z",
     "start_time": "2019-05-10T09:31:00.701524Z"
    },
    "collapsed": true
   },
   "outputs": [],
   "source": [
    "lEtfs = allocation[allocation.one != 0].index.tolist()"
   ]
  },
  {
   "cell_type": "code",
   "execution_count": 61,
   "metadata": {
    "ExecuteTime": {
     "end_time": "2019-05-10T09:31:03.196131Z",
     "start_time": "2019-05-10T09:31:01.862602Z"
    }
   },
   "outputs": [
    {
     "data": {
      "text/html": [
       "<div>\n",
       "<style scoped>\n",
       "    .dataframe tbody tr th:only-of-type {\n",
       "        vertical-align: middle;\n",
       "    }\n",
       "\n",
       "    .dataframe tbody tr th {\n",
       "        vertical-align: top;\n",
       "    }\n",
       "\n",
       "    .dataframe thead th {\n",
       "        text-align: right;\n",
       "    }\n",
       "</style>\n",
       "<table border=\"1\" class=\"dataframe\">\n",
       "  <thead>\n",
       "    <tr style=\"text-align: right;\">\n",
       "      <th></th>\n",
       "      <th>ticker</th>\n",
       "      <th>area</th>\n",
       "      <th>one</th>\n",
       "      <th>two</th>\n",
       "    </tr>\n",
       "  </thead>\n",
       "  <tbody>\n",
       "    <tr>\n",
       "      <th>em15</th>\n",
       "      <td>EM15.MI</td>\n",
       "      <td>TITOLI DI STATO - EURO</td>\n",
       "      <td>0.2</td>\n",
       "      <td>0.3</td>\n",
       "    </tr>\n",
       "    <tr>\n",
       "      <th>ibtm</th>\n",
       "      <td>IBTM.MI</td>\n",
       "      <td>TITOLI DI STATO - NON EURO</td>\n",
       "      <td>0.3</td>\n",
       "      <td>0.1</td>\n",
       "    </tr>\n",
       "    <tr>\n",
       "      <th>iusa</th>\n",
       "      <td>IUSA.MI</td>\n",
       "      <td>AZIONARIO NORD AMERICA</td>\n",
       "      <td>0.2</td>\n",
       "      <td>0.3</td>\n",
       "    </tr>\n",
       "    <tr>\n",
       "      <th>smea</th>\n",
       "      <td>SMEA.MI</td>\n",
       "      <td>AZIONARIO EUROPA - AREA</td>\n",
       "      <td>0.2</td>\n",
       "      <td>0.2</td>\n",
       "    </tr>\n",
       "    <tr>\n",
       "      <th>phau</th>\n",
       "      <td>PHAU.MI</td>\n",
       "      <td>METALLI PREZIOSI</td>\n",
       "      <td>0.1</td>\n",
       "      <td>0.1</td>\n",
       "    </tr>\n",
       "  </tbody>\n",
       "</table>\n",
       "</div>"
      ],
      "text/plain": [
       "       ticker                        area  one  two\n",
       "em15  EM15.MI      TITOLI DI STATO - EURO  0.2  0.3\n",
       "ibtm  IBTM.MI  TITOLI DI STATO - NON EURO  0.3  0.1\n",
       "iusa  IUSA.MI      AZIONARIO NORD AMERICA  0.2  0.3\n",
       "smea  SMEA.MI     AZIONARIO EUROPA - AREA  0.2  0.2\n",
       "phau  PHAU.MI            METALLI PREZIOSI  0.1  0.1"
      ]
     },
     "execution_count": 61,
     "metadata": {},
     "output_type": "execute_result"
    }
   ],
   "source": [
    "allocation_restr = allocation[allocation.one != 0]\n",
    "allocation_restr"
   ]
  },
  {
   "cell_type": "markdown",
   "metadata": {},
   "source": [
    "### Calcolo rendimento di due portafogli \"miei\" - no rebalancing"
   ]
  },
  {
   "cell_type": "code",
   "execution_count": 62,
   "metadata": {
    "ExecuteTime": {
     "end_time": "2019-05-10T09:31:07.674636Z",
     "start_time": "2019-05-10T09:31:06.605813Z"
    },
    "collapsed": true
   },
   "outputs": [],
   "source": [
    "norm_df201 = norm_df200.copy()"
   ]
  },
  {
   "cell_type": "code",
   "execution_count": 63,
   "metadata": {
    "ExecuteTime": {
     "end_time": "2019-05-10T09:31:09.157054Z",
     "start_time": "2019-05-10T09:31:07.850100Z"
    },
    "collapsed": true
   },
   "outputs": [],
   "source": [
    "norm_df201['one'] = norm_df200.mul(allocation.one.values,axis=1).sum(axis=1)\n",
    "norm_df201['two'] = norm_df200.mul(allocation.two.values,axis=1).sum(axis=1)"
   ]
  },
  {
   "cell_type": "code",
   "execution_count": 64,
   "metadata": {
    "ExecuteTime": {
     "end_time": "2019-05-10T09:31:11.751409Z",
     "start_time": "2019-05-10T09:31:09.356081Z"
    },
    "scrolled": false
   },
   "outputs": [
    {
     "data": {
      "text/plain": [
       "<matplotlib.legend.Legend at 0x151af7b57b8>"
      ]
     },
     "execution_count": 64,
     "metadata": {},
     "output_type": "execute_result"
    },
    {
     "data": {
      "image/png": "[encoded data removed]",
      "text/plain": [
       "<Figure size 640x480 with 1 Axes>"
      ]
     },
     "metadata": {},
     "output_type": "display_data"
    }
   ],
   "source": [
    "norm_df201.one.plot()\n",
    "norm_df201.two.plot()\n",
    "norm_df201.csspx.plot()  # per confronto, plotto il sp500\n",
    "plt.legend()\n"
   ]
  },
  {
   "cell_type": "code",
   "execution_count": 65,
   "metadata": {
    "ExecuteTime": {
     "end_time": "2019-05-10T09:31:14.197871Z",
     "start_time": "2019-05-10T09:31:13.025274Z"
    }
   },
   "outputs": [
    {
     "name": "stdout",
     "output_type": "stream",
     "text": [
      "Key Stats: Portfolio one\n",
      "==================================================================================\n",
      "Annualized Returns: 6.235%\n",
      "Annualized Volatility: 7.417%\n",
      "Sharpe Ratio: 0.8407\n",
      "----------------------------------------------------------------------------------\n",
      "Key Stats: Portfolio two \n",
      "==================================================================================\n",
      "Annualized Returns: 7.613%\n",
      "Annualized Volatility: 8.039%\n",
      "Sharpe Ratio: 0.947\n",
      "----------------------------------------------------------------------------------\n"
     ]
    }
   ],
   "source": [
    "exp_ret_one = np.sum(returns.mean()* allocation.one)* PERIODS\n",
    "exp_std_one = np.sqrt(np.dot(allocation.one.T,np.dot(returns.cov()*PERIODS, allocation.one)))\n",
    "sharpe_one = exp_ret_one/exp_std_one\n",
    "\n",
    "exp_ret_two = np.sum(returns.mean()* allocation.two)* PERIODS\n",
    "exp_std_two = np.sqrt(np.dot(allocation.two.T,np.dot(returns.cov()*PERIODS, allocation.two)))\n",
    "sharpe_two = exp_ret_two/exp_std_two\n",
    "\n",
    "print('Key Stats: Portfolio one')\n",
    "print(82*'=')\n",
    "print('Annualized Returns: {:.3%}'.format(exp_ret_one))\n",
    "print('Annualized Volatility: {:.3%}'.format(exp_std_one))\n",
    "print('Sharpe Ratio: {:.4}'.format(sharpe_one))\n",
    "print(82*'-')\n",
    "print('Key Stats: Portfolio two ')\n",
    "print(82*'=')\n",
    "print('Annualized Returns: {:.3%}'.format(exp_ret_two))\n",
    "print('Annualized Volatility: {:.3%}'.format(exp_std_two))\n",
    "print('Sharpe Ratio: {:.4}'.format(sharpe_two))\n",
    "print(82*'-')"
   ]
  },
  {
   "cell_type": "code",
   "execution_count": 66,
   "metadata": {
    "ExecuteTime": {
     "end_time": "2019-05-10T09:31:19.426893Z",
     "start_time": "2019-05-10T09:31:17.613101Z"
    }
   },
   "outputs": [
    {
     "data": {
      "image/png": "[encoded data removed]",
      "text/plain": [
       "<Figure size 1400x1000 with 2 Axes>"
      ]
     },
     "metadata": {},
     "output_type": "display_data"
    }
   ],
   "source": [
    "binsnumber = 35\n",
    "fig7, ax = plt.subplots(figsize=(14,10))\n",
    "plt.subplots_adjust(hspace=.4,wspace=.4) # it adds space in between plots\n",
    "plt.subplot(121)\n",
    "ax = plt.gca()\n",
    "\n",
    "ax.hist(norm_df201['one'], bins=binsnumber, color='steelblue', density = True,\n",
    "       alpha = 0.5, histtype ='stepfilled',edgecolor ='red' )\n",
    "\n",
    "sigma, mu = norm_df201['one'].std(),norm_df201['one'].mean() # mean and standard deviation\n",
    "s = np.random.normal(mu, sigma, 1000)\n",
    "count, bins, ignored = plt.hist(s, binsnumber, density=True, alpha = 0.1)\n",
    "ax.plot(bins, 1/(sigma * np.sqrt(2 * np.pi)) * np.exp( - (bins - mu)**2 / (2 * sigma**2) ), linewidth=1.5, color='r')\n",
    "\n",
    "ax.annotate('Skewness: {}\\n\\nKurtosis: {}'.format(round(norm_df201['one'].skew(),2),round(norm_df201['one'].kurtosis(),2)),\n",
    "             xy=(10,20),xycoords = 'axes points',xytext =(20,360),fontsize=14)\n",
    "\n",
    "\n",
    "ax.set_xlabel('Values')\n",
    "ax.set_ylabel('Frequency')\n",
    "ax.set_title('Portfolio one')\n",
    "\n",
    "plt.subplot(122)\n",
    "ax1 = plt.gca()\n",
    "\n",
    "ax1.hist(norm_df201['two'], bins=binsnumber, color='steelblue', density = True,\n",
    "       alpha = 0.5, histtype ='stepfilled',edgecolor ='red' )\n",
    "\n",
    "sigma, mu = norm_df201['two'].std(),norm_df201['two'].mean() # mean and standard deviation\n",
    "s = np.random.normal(mu, sigma, 1000)\n",
    "count, bins, ignored = plt.hist(s, binsnumber, density=True, alpha = 0.1)\n",
    "ax1.plot(bins, 1/(sigma * np.sqrt(2 * np.pi)) * np.exp( - (bins - mu)**2 / (2 * sigma**2) ), linewidth=1.5, color='r')\n",
    "\n",
    "ax1.annotate('Skewness: {}\\n\\nKurtosis: {}'.format(round(norm_df201['two'].skew(),2),round(norm_df201['two'].kurtosis(),2)),\n",
    "             xy=(10,20),xycoords = 'axes points',xytext =(20,360),fontsize=14)\n",
    "\n",
    "\n",
    "ax1.set_xlabel('Values')\n",
    "ax1.set_ylabel('Frequency')\n",
    "ax1.set_title('Portfolio two')\n",
    "\n",
    "plt.show();"
   ]
  },
  {
   "cell_type": "markdown",
   "metadata": {},
   "source": [
    "## Montecarlo"
   ]
  },
  {
   "cell_type": "code",
   "execution_count": 67,
   "metadata": {
    "ExecuteTime": {
     "end_time": "2019-05-10T09:31:25.999398Z",
     "start_time": "2019-05-10T09:31:24.924084Z"
    }
   },
   "outputs": [
    {
     "data": {
      "text/html": [
       "<div>\n",
       "<style scoped>\n",
       "    .dataframe tbody tr th:only-of-type {\n",
       "        vertical-align: middle;\n",
       "    }\n",
       "\n",
       "    .dataframe tbody tr th {\n",
       "        vertical-align: top;\n",
       "    }\n",
       "\n",
       "    .dataframe thead th {\n",
       "        text-align: right;\n",
       "    }\n",
       "</style>\n",
       "<table border=\"1\" class=\"dataframe\">\n",
       "  <thead>\n",
       "    <tr style=\"text-align: right;\">\n",
       "      <th></th>\n",
       "      <th>ticker</th>\n",
       "      <th>area</th>\n",
       "      <th>one</th>\n",
       "      <th>two</th>\n",
       "    </tr>\n",
       "  </thead>\n",
       "  <tbody>\n",
       "    <tr>\n",
       "      <th>em15</th>\n",
       "      <td>EM15.MI</td>\n",
       "      <td>TITOLI DI STATO - EURO</td>\n",
       "      <td>0.2</td>\n",
       "      <td>0.3</td>\n",
       "    </tr>\n",
       "    <tr>\n",
       "      <th>ibtm</th>\n",
       "      <td>IBTM.MI</td>\n",
       "      <td>TITOLI DI STATO - NON EURO</td>\n",
       "      <td>0.3</td>\n",
       "      <td>0.1</td>\n",
       "    </tr>\n",
       "    <tr>\n",
       "      <th>iusa</th>\n",
       "      <td>IUSA.MI</td>\n",
       "      <td>AZIONARIO NORD AMERICA</td>\n",
       "      <td>0.2</td>\n",
       "      <td>0.3</td>\n",
       "    </tr>\n",
       "    <tr>\n",
       "      <th>smea</th>\n",
       "      <td>SMEA.MI</td>\n",
       "      <td>AZIONARIO EUROPA - AREA</td>\n",
       "      <td>0.2</td>\n",
       "      <td>0.2</td>\n",
       "    </tr>\n",
       "    <tr>\n",
       "      <th>phau</th>\n",
       "      <td>PHAU.MI</td>\n",
       "      <td>METALLI PREZIOSI</td>\n",
       "      <td>0.1</td>\n",
       "      <td>0.1</td>\n",
       "    </tr>\n",
       "  </tbody>\n",
       "</table>\n",
       "</div>"
      ],
      "text/plain": [
       "       ticker                        area  one  two\n",
       "em15  EM15.MI      TITOLI DI STATO - EURO  0.2  0.3\n",
       "ibtm  IBTM.MI  TITOLI DI STATO - NON EURO  0.3  0.1\n",
       "iusa  IUSA.MI      AZIONARIO NORD AMERICA  0.2  0.3\n",
       "smea  SMEA.MI     AZIONARIO EUROPA - AREA  0.2  0.2\n",
       "phau  PHAU.MI            METALLI PREZIOSI  0.1  0.1"
      ]
     },
     "execution_count": 67,
     "metadata": {},
     "output_type": "execute_result"
    }
   ],
   "source": [
    "allocation_restr"
   ]
  },
  {
   "cell_type": "code",
   "execution_count": 68,
   "metadata": {
    "ExecuteTime": {
     "end_time": "2019-05-10T09:31:27.802804Z",
     "start_time": "2019-05-10T09:31:26.416142Z"
    },
    "collapsed": true
   },
   "outputs": [],
   "source": [
    "myrets = np.array([exp_ret_one, exp_ret_two])\n",
    "myvols = np.array([exp_std_one, exp_std_two])"
   ]
  },
  {
   "cell_type": "code",
   "execution_count": 69,
   "metadata": {
    "ExecuteTime": {
     "end_time": "2019-05-10T09:31:55.753658Z",
     "start_time": "2019-05-10T09:31:28.330198Z"
    },
    "collapsed": true
   },
   "outputs": [],
   "source": [
    "lista = lEtfs.copy()\n",
    "lista.append('returns')\n",
    "lista.append('volatility')\n",
    "lista.append('sharpe')\n",
    "\n",
    "monte_df = pd.DataFrame(columns=lista)\n",
    "for p in range(2500):\n",
    "    weights = np.random.random(len(allocation_restr))\n",
    "    weights /= np.sum(weights)\n",
    "\n",
    "    ret = np.sum(returns[lEtfs].mean()*PERIODS*weights)\n",
    "    vol = np.sqrt(np.dot(weights.T, np.dot(returns[lEtfs].cov()*PERIODS, weights)))\n",
    "    #monte_df.loc[p] = pandas.Series({'a':1, 'b':5, 'c':2, 'd':3})\n",
    "    sharpe = ret / vol\n",
    "\n",
    "    ww = weights.tolist()\n",
    "    ww.append(ret)\n",
    "    ww.append(vol)\n",
    "    ww.append(sharpe)\n",
    "\n",
    "    monte_df.loc[p] = ww\n"
   ]
  },
  {
   "cell_type": "code",
   "execution_count": 70,
   "metadata": {
    "ExecuteTime": {
     "end_time": "2019-05-10T09:33:03.558268Z",
     "start_time": "2019-05-10T09:33:01.968569Z"
    }
   },
   "outputs": [
    {
     "data": {
      "image/png": "[encoded data removed]",
      "text/plain": [
       "<Figure size 800x600 with 2 Axes>"
      ]
     },
     "metadata": {},
     "output_type": "display_data"
    }
   ],
   "source": [
    "fig9 = plt.figure(figsize = (8,6))\n",
    "\n",
    "plt.scatter(monte_df.volatility, monte_df.returns, \n",
    "            c = monte_df.sharpe, \n",
    "            marker = 'o', cmap='coolwarm')\n",
    "plt.grid(True)\n",
    "plt.xlabel('expected volatility')\n",
    "plt.ylabel('expected return')\n",
    "plt.colorbar(label = 'Sharpe Ratio')\n",
    "plt.title('Monte Carlo Simulation Efficient Frontier')\n",
    "\n",
    "plt.scatter(myvols, myrets, c = myrets / myvols, marker = '+', cmap='coolwarm')\n",
    "\n",
    "plt.show();"
   ]
  },
  {
   "cell_type": "code",
   "execution_count": 71,
   "metadata": {
    "ExecuteTime": {
     "end_time": "2019-05-10T09:33:07.394594Z",
     "start_time": "2019-05-10T09:33:06.326268Z"
    },
    "scrolled": true
   },
   "outputs": [
    {
     "data": {
      "text/html": [
       "<div>\n",
       "<style scoped>\n",
       "    .dataframe tbody tr th:only-of-type {\n",
       "        vertical-align: middle;\n",
       "    }\n",
       "\n",
       "    .dataframe tbody tr th {\n",
       "        vertical-align: top;\n",
       "    }\n",
       "\n",
       "    .dataframe thead th {\n",
       "        text-align: right;\n",
       "    }\n",
       "</style>\n",
       "<table border=\"1\" class=\"dataframe\">\n",
       "  <thead>\n",
       "    <tr style=\"text-align: right;\">\n",
       "      <th></th>\n",
       "      <th>em15</th>\n",
       "      <th>ibtm</th>\n",
       "      <th>iusa</th>\n",
       "      <th>smea</th>\n",
       "      <th>phau</th>\n",
       "      <th>returns</th>\n",
       "      <th>volatility</th>\n",
       "      <th>sharpe</th>\n",
       "    </tr>\n",
       "  </thead>\n",
       "  <tbody>\n",
       "    <tr>\n",
       "      <th>0</th>\n",
       "      <td>0.563631</td>\n",
       "      <td>0.160876</td>\n",
       "      <td>0.221648</td>\n",
       "      <td>0.052155</td>\n",
       "      <td>0.001689</td>\n",
       "      <td>0.073640</td>\n",
       "      <td>0.072013</td>\n",
       "      <td>1.022592</td>\n",
       "    </tr>\n",
       "    <tr>\n",
       "      <th>1</th>\n",
       "      <td>0.346115</td>\n",
       "      <td>0.212033</td>\n",
       "      <td>0.188225</td>\n",
       "      <td>0.230856</td>\n",
       "      <td>0.022772</td>\n",
       "      <td>0.070089</td>\n",
       "      <td>0.073798</td>\n",
       "      <td>0.949748</td>\n",
       "    </tr>\n",
       "    <tr>\n",
       "      <th>2</th>\n",
       "      <td>0.104136</td>\n",
       "      <td>0.226917</td>\n",
       "      <td>0.060605</td>\n",
       "      <td>0.310939</td>\n",
       "      <td>0.297403</td>\n",
       "      <td>0.048657</td>\n",
       "      <td>0.078614</td>\n",
       "      <td>0.618932</td>\n",
       "    </tr>\n",
       "    <tr>\n",
       "      <th>3</th>\n",
       "      <td>0.146630</td>\n",
       "      <td>0.280474</td>\n",
       "      <td>0.316796</td>\n",
       "      <td>0.037699</td>\n",
       "      <td>0.218401</td>\n",
       "      <td>0.061230</td>\n",
       "      <td>0.079044</td>\n",
       "      <td>0.774627</td>\n",
       "    </tr>\n",
       "    <tr>\n",
       "      <th>4</th>\n",
       "      <td>0.205320</td>\n",
       "      <td>0.299801</td>\n",
       "      <td>0.110022</td>\n",
       "      <td>0.349137</td>\n",
       "      <td>0.035721</td>\n",
       "      <td>0.062610</td>\n",
       "      <td>0.076761</td>\n",
       "      <td>0.815644</td>\n",
       "    </tr>\n",
       "  </tbody>\n",
       "</table>\n",
       "</div>"
      ],
      "text/plain": [
       "       em15      ibtm      iusa      smea      phau   returns  volatility  \\\n",
       "0  0.563631  0.160876  0.221648  0.052155  0.001689  0.073640    0.072013   \n",
       "1  0.346115  0.212033  0.188225  0.230856  0.022772  0.070089    0.073798   \n",
       "2  0.104136  0.226917  0.060605  0.310939  0.297403  0.048657    0.078614   \n",
       "3  0.146630  0.280474  0.316796  0.037699  0.218401  0.061230    0.079044   \n",
       "4  0.205320  0.299801  0.110022  0.349137  0.035721  0.062610    0.076761   \n",
       "\n",
       "     sharpe  \n",
       "0  1.022592  \n",
       "1  0.949748  \n",
       "2  0.618932  \n",
       "3  0.774627  \n",
       "4  0.815644  "
      ]
     },
     "execution_count": 71,
     "metadata": {},
     "output_type": "execute_result"
    }
   ],
   "source": [
    "monte_df.head()"
   ]
  },
  {
   "cell_type": "code",
   "execution_count": 72,
   "metadata": {
    "ExecuteTime": {
     "end_time": "2019-05-10T09:33:10.844864Z",
     "start_time": "2019-05-10T09:33:09.792077Z"
    }
   },
   "outputs": [
    {
     "data": {
      "text/plain": [
       "em15          0.487765\n",
       "ibtm          0.068048\n",
       "iusa          0.418610\n",
       "smea          0.007197\n",
       "phau          0.018380\n",
       "returns       0.086333\n",
       "volatility    0.078956\n",
       "sharpe        1.093441\n",
       "Name: 918, dtype: float64"
      ]
     },
     "execution_count": 72,
     "metadata": {},
     "output_type": "execute_result"
    }
   ],
   "source": [
    "monte_df.iloc[monte_df.sharpe.idxmax()]"
   ]
  },
  {
   "cell_type": "code",
   "execution_count": 149,
   "metadata": {
    "ExecuteTime": {
     "end_time": "2019-05-09T23:23:34.952937Z",
     "start_time": "2019-05-09T23:23:34.868481Z"
    }
   },
   "outputs": [
    {
     "data": {
      "text/plain": [
       "em15          0.395800\n",
       "ibtm          0.257837\n",
       "iusa          0.006590\n",
       "smea          0.262404\n",
       "phau          0.077370\n",
       "returns       0.056208\n",
       "volatility    0.066693\n",
       "sharpe        0.842791\n",
       "Name: 1989, dtype: float64"
      ]
     },
     "execution_count": 149,
     "metadata": {},
     "output_type": "execute_result"
    }
   ],
   "source": [
    "monte_df.iloc[monte_df.volatility.idxmin()]"
   ]
  },
  {
   "cell_type": "markdown",
   "metadata": {
    "collapsed": true
   },
   "source": [
    "## Montecarlo 2 - calcolo efficient frontier"
   ]
  },
  {
   "cell_type": "code",
   "execution_count": 13,
   "metadata": {
    "ExecuteTime": {
     "end_time": "2019-05-25T16:10:08.967655Z",
     "start_time": "2019-05-25T16:10:08.826606Z"
    }
   },
   "outputs": [],
   "source": [
    "from montecarlo import *"
   ]
  },
  {
   "cell_type": "code",
   "execution_count": 7,
   "metadata": {
    "ExecuteTime": {
     "end_time": "2019-05-25T16:06:01.929104Z",
     "start_time": "2019-05-25T16:06:01.850049Z"
    }
   },
   "outputs": [],
   "source": [
    "assets_all = ['imeu','ceu','smea','iusa','csspx','phau','ibtm','ibgm', 'emg', 'em15', 'ibgl']\n",
    "assets = ['em15', 'ibtm', 'iusa', 'smea', 'phau']\n",
    "numAssets = len(assets)\n",
    "PERIODS = 252\n",
    "dur = 20\n",
    "riskFreeRate = 0.01"
   ]
  },
  {
   "cell_type": "code",
   "execution_count": 9,
   "metadata": {
    "ExecuteTime": {
     "end_time": "2019-05-25T16:06:14.537308Z",
     "start_time": "2019-05-25T16:06:14.442196Z"
    }
   },
   "outputs": [
    {
     "name": "stderr",
     "output_type": "stream",
     "text": [
      "/Users/simo/miniconda3/lib/python3.7/site-packages/ipykernel_launcher.py:4: RuntimeWarning: invalid value encountered in log\n",
      "  after removing the cwd from sys.path.\n"
     ]
    },
    {
     "data": {
      "text/plain": [
       "em15    0.000273\n",
       "ibtm    0.000095\n",
       "iusa    0.000471\n",
       "smea    0.000307\n",
       "phau    0.000049\n",
       "dtype: float64"
      ]
     },
     "execution_count": 9,
     "metadata": {},
     "output_type": "execute_result"
    }
   ],
   "source": [
    "data = df102.copy()  # daily quotes assets_all\n",
    "\n",
    "## LOG *DAILY* returns\n",
    "returns = np.log(data/data.shift(1))\n",
    "returns.dropna(inplace=True)\n",
    "\n",
    "meanDailyReturns = returns[assets].mean()\n",
    "covMatrix = returns[assets].cov()\n",
    "meanDailyReturns"
   ]
  },
  {
   "cell_type": "code",
   "execution_count": 10,
   "metadata": {
    "ExecuteTime": {
     "end_time": "2019-05-25T16:06:16.178487Z",
     "start_time": "2019-05-25T16:06:16.083375Z"
    }
   },
   "outputs": [
    {
     "data": {
      "text/plain": [
       "(0.0752584718526122, 0.07851621302124394)"
      ]
     },
     "execution_count": 10,
     "metadata": {},
     "output_type": "execute_result"
    }
   ],
   "source": [
    "\n",
    "## TEST su 2 portafogli disegnati da me\n",
    "\n",
    "# assets = ['em15', 'ibtm', 'iusa', 'smea', 'phau']\n",
    "weights = np.array([0.2,0.3,0.2,0.2,0.1])\n",
    "weights = np.array([0.3,0.1,0.3,0.2,0.1])\n",
    "\n",
    "calcPortfolioPerf(weights, meanDailyReturns, covMatrix, PERIODS)\n"
   ]
  },
  {
   "cell_type": "code",
   "execution_count": 11,
   "metadata": {
    "ExecuteTime": {
     "end_time": "2019-05-25T16:06:32.172614Z",
     "start_time": "2019-05-25T16:06:29.547075Z"
    }
   },
   "outputs": [],
   "source": [
    "#Run MC simulation of numPortfolios portfolios\n",
    "\n",
    "numPortfolios = 2500\n",
    "results = np.zeros((3,numPortfolios))\n",
    "\n",
    "#Calculate portfolios\n",
    "\n",
    "for i in range(numPortfolios):\n",
    "    #Draw numAssets random numbers and normalize them to be the portfolio weights\n",
    "\n",
    "    weights = np.random.random(numAssets)\n",
    "    weights /= np.sum(weights)\n",
    "\n",
    "    #Calculate expected return and volatility of portfolio\n",
    "\n",
    "    pret, pvar = calcPortfolioPerf(weights, meanDailyReturns, covMatrix, PERIODS)\n",
    "\n",
    "    #Convert results to annual basis, calculate Sharpe Ratio, and store them\n",
    "\n",
    "    results[0,i] = pret\n",
    "    results[1,i] = pvar\n",
    "    results[2,i] = (results[0,i] - riskFreeRate)/results[1,i]"
   ]
  },
  {
   "cell_type": "code",
   "execution_count": 14,
   "metadata": {
    "ExecuteTime": {
     "end_time": "2019-05-25T16:10:13.159703Z",
     "start_time": "2019-05-25T16:10:12.887062Z"
    }
   },
   "outputs": [],
   "source": [
    "maxPtfls = pd.DataFrame(columns=['ret','vola'])\n",
    "\n",
    "#Find portfolio with maximum Sharpe ratio\n",
    "maxSharpe = findMaxSharpeRatioPortfolio( meanDailyReturns, covMatrix,\n",
    "                                        riskFreeRate, PERIODS)\n",
    "rp, sdp = calcPortfolioPerf(maxSharpe['x'], meanDailyReturns, covMatrix, PERIODS)\n",
    "a0 = np.array([rp, sdp])\n",
    "maxPtfls.loc[0] = a0\n",
    "\n",
    "#Find portfolio with minimum variance\n",
    "minVar = findMinVariancePortfolio(meanDailyReturns, covMatrix, PERIODS)\n",
    "rp, sdp = calcPortfolioPerf(minVar['x'], meanDailyReturns, covMatrix, PERIODS)\n",
    "a1 = np.array([rp, sdp])\n",
    "maxPtfls.loc[1] = a1"
   ]
  },
  {
   "cell_type": "code",
   "execution_count": 15,
   "metadata": {
    "ExecuteTime": {
     "end_time": "2019-05-25T16:10:16.046206Z",
     "start_time": "2019-05-25T16:10:14.236241Z"
    }
   },
   "outputs": [],
   "source": [
    "#targetReturns = np.linspace(0.09, 0.16, 50)/(252./dur)\n",
    "targetReturns = np.linspace(0.02, 0.12, 20)\n",
    "efficientPortfolios = findEfficientFrontier(meanDailyReturns, covMatrix, targetReturns, PERIODS)"
   ]
  },
  {
   "cell_type": "code",
   "execution_count": 16,
   "metadata": {
    "ExecuteTime": {
     "end_time": "2019-05-25T16:10:17.781296Z",
     "start_time": "2019-05-25T16:10:17.707145Z"
    }
   },
   "outputs": [],
   "source": [
    "### PLOTTING\n",
    "\n",
    "dfResults = pd.DataFrame(results.T)\n",
    "dfResults.columns = ['ret','vola','sharpe']"
   ]
  },
  {
   "cell_type": "code",
   "execution_count": 17,
   "metadata": {
    "ExecuteTime": {
     "end_time": "2019-05-25T16:10:19.539466Z",
     "start_time": "2019-05-25T16:10:18.614840Z"
    },
    "scrolled": false
   },
   "outputs": [
    {
     "data": {
      "image/png": "[encoded data removed]",
      "text/plain": [
       "<Figure size 576x432 with 1 Axes>"
      ]
     },
     "metadata": {},
     "output_type": "display_data"
    }
   ],
   "source": [
    "fig10 = plt.figure(figsize = (8,6))\n",
    "\n",
    "\n",
    "plt.scatter(dfResults.vola, dfResults.ret, c = dfResults.sharpe, \n",
    "            marker = 'o', cmap='plasma')\n",
    "\n",
    "plt.scatter(maxPtfls.vola, maxPtfls.ret, c='blue', marker = '+')\n",
    "\n",
    "plt.plot([p['fun'] for p in efficientPortfolios], \n",
    "         targetReturns, marker='x')\n",
    "\n",
    "plt.show();\n"
   ]
  },
  {
   "cell_type": "code",
   "execution_count": 23,
   "metadata": {
    "ExecuteTime": {
     "end_time": "2019-05-21T06:40:40.068596Z",
     "start_time": "2019-05-21T06:40:39.037247Z"
    },
    "scrolled": false
   },
   "outputs": [
    {
     "data": {
      "image/png": "[encoded data removed]",
      "text/plain": [
       "<Figure size 576x432 with 1 Axes>"
      ]
     },
     "metadata": {},
     "output_type": "display_data"
    }
   ],
   "source": [
    "#plt.figure(figsize=(8,6))\n",
    "ind = np.arange(numAssets)\n",
    "width = 0.1\n",
    "fig, ax = plt.subplots(figsize=(8,6))\n",
    "rects1 = ax.bar(ind, maxSharpe['x'], width, color='r', alpha=0.75)\n",
    "rects2 = ax.bar(ind + width, minVar['x'], width, color='b', alpha=0.75)\n",
    "rects3 = ax.bar(ind + 2*width,np.array([0.2,0.3,0.2,0.2,0.1]), width, color='g', alpha=0.75)\n",
    "rects4 = ax.bar(ind + 3*width,np.array([0.3,0.1,0.3,0.2,0.1]), width, color='w', alpha=0.75)\n",
    "rects5 = ax.bar(ind + 4*width,np.array([0.6,0.0,0.39,0.0,0.01]), width, color='black', alpha=0.75)\n",
    "\n",
    "ax.set_ylabel('Weight of Asset in Portfolio')\n",
    "ax.set_ylim(0,0.6)\n",
    "ax.set_title('Comparison of Portfolio Compositions')\n",
    "ax.set_xticks(ind + width)\n",
    "ax.set_xticklabels(assets)\n",
    "plt.tight_layout()\n",
    "ax.legend((rects1[0], rects2[0],rects3[0],rects4[0],rects5[0]), \n",
    "          ('Max Sharpe Ratio', 'Minimum Volatility','one','two','three'))\n",
    "#plt.savefig('Portfolio Compositions', dpi=100)\n",
    "plt.show()"
   ]
  },
  {
   "cell_type": "code",
   "execution_count": 24,
   "metadata": {
    "ExecuteTime": {
     "end_time": "2019-05-21T06:40:41.940807Z",
     "start_time": "2019-05-21T06:40:41.128232Z"
    },
    "scrolled": true
   },
   "outputs": [
    {
     "data": {
      "text/plain": [
       "(array([5.94914313e-01, 0.00000000e+00, 4.05085687e-01, 2.38524478e-18,\n",
       "        2.00577402e-17]),\n",
       " array([3.83007531e-01, 2.88741944e-01, 1.77538106e-18, 2.29808545e-01,\n",
       "        9.84419797e-02]))"
      ]
     },
     "execution_count": 24,
     "metadata": {},
     "output_type": "execute_result"
    }
   ],
   "source": [
    "maxSharpe.x, minVar.x"
   ]
  },
  {
   "cell_type": "code",
   "execution_count": 25,
   "metadata": {
    "ExecuteTime": {
     "end_time": "2019-05-21T06:40:43.735754Z",
     "start_time": "2019-05-21T06:40:43.001309Z"
    }
   },
   "outputs": [
    {
     "data": {
      "text/plain": [
       "(0.08760526737914795, 0.0779583219455764)"
      ]
     },
     "execution_count": 25,
     "metadata": {},
     "output_type": "execute_result"
    }
   ],
   "source": [
    "# controprova\n",
    "# assets = ['em15', 'ibtm', 'iusa', 'smea', 'phau']\n",
    "weights = np.array([0.6,0.0,0.39,0.0,0.01])\n",
    "\n",
    "calcPortfolioPerf(weights, meanDailyReturns, covMatrix, PERIODS)\n",
    "\n"
   ]
  },
  {
   "cell_type": "code",
   "execution_count": 26,
   "metadata": {
    "ExecuteTime": {
     "end_time": "2019-05-21T06:40:45.759040Z",
     "start_time": "2019-05-21T06:40:44.778899Z"
    }
   },
   "outputs": [
    {
     "data": {
      "text/plain": [
       "(0.08892287237732538, 0.07905197435427133)"
      ]
     },
     "execution_count": 26,
     "metadata": {},
     "output_type": "execute_result"
    }
   ],
   "source": [
    "calcPortfolioPerf(maxSharpe.x, meanDailyReturns, covMatrix, PERIODS)"
   ]
  },
  {
   "cell_type": "code",
   "execution_count": 27,
   "metadata": {
    "ExecuteTime": {
     "end_time": "2019-05-21T06:40:47.015163Z",
     "start_time": "2019-05-21T06:40:46.223847Z"
    }
   },
   "outputs": [
    {
     "data": {
      "text/plain": [
       "(0.052170015365243, 0.06319572034324648)"
      ]
     },
     "execution_count": 27,
     "metadata": {},
     "output_type": "execute_result"
    }
   ],
   "source": [
    "calcPortfolioPerf(minVar.x, meanDailyReturns, covMatrix, PERIODS)"
   ]
  },
  {
   "cell_type": "code",
   "execution_count": 28,
   "metadata": {
    "ExecuteTime": {
     "end_time": "2019-05-21T06:40:48.963699Z",
     "start_time": "2019-05-21T06:40:48.119495Z"
    }
   },
   "outputs": [],
   "source": [
    "## plot storico portafogli\n",
    "# assets = ['em15', 'ibtm', 'iusa', 'smea', 'phau']\n",
    "mydata = data[assets]\n",
    "ndata = mydata/mydata.iloc[0]\n",
    "pndata = ndata.copy()\n",
    "\n",
    "weights = np.array([0.2,0.3,0.2,0.2,0.1])\n",
    "pndata['one'] = ndata.mul(weights,axis=1).sum(axis=1)\n",
    "\n",
    "weights = np.array([0.3,0.1,0.3,0.2,0.1])\n",
    "pndata['two'] = ndata.mul(weights,axis=1).sum(axis=1)\n",
    "\n",
    "weights = np.array([0.6,0.0,0.39,0.0,0.01])\n",
    "pndata['three'] = ndata.mul(weights,axis=1).sum(axis=1)\n",
    "\n",
    "weights = minVar['x']\n",
    "pndata['minvar'] = ndata.mul(weights,axis=1).sum(axis=1)\n",
    "\n",
    "weights = maxSharpe['x']\n",
    "pndata['maxSharpe'] = ndata.mul(weights,axis=1).sum(axis=1)\n"
   ]
  },
  {
   "cell_type": "code",
   "execution_count": 29,
   "metadata": {
    "ExecuteTime": {
     "end_time": "2019-05-21T06:40:51.293457Z",
     "start_time": "2019-05-21T06:40:50.238188Z"
    }
   },
   "outputs": [
    {
     "data": {
      "text/plain": [
       "<matplotlib.legend.Legend at 0x2553460db70>"
      ]
     },
     "execution_count": 29,
     "metadata": {},
     "output_type": "execute_result"
    },
    {
     "data": {
      "image/png": "[encoded data removed]",
      "text/plain": [
       "<Figure size 432x288 with 1 Axes>"
      ]
     },
     "metadata": {},
     "output_type": "display_data"
    }
   ],
   "source": [
    "pndata.iusa.plot()\n",
    "pndata.maxSharpe.plot()\n",
    "pndata.minvar.plot()\n",
    "plt.legend()"
   ]
  },
  {
   "cell_type": "code",
   "execution_count": null,
   "metadata": {},
   "outputs": [],
   "source": []
  },
  {
   "cell_type": "code",
   "execution_count": 30,
   "metadata": {
    "ExecuteTime": {
     "end_time": "2019-05-21T06:40:56.129638Z",
     "start_time": "2019-05-21T06:40:55.299070Z"
    }
   },
   "outputs": [
    {
     "data": {
      "text/html": [
       "<div>\n",
       "<style scoped>\n",
       "    .dataframe tbody tr th:only-of-type {\n",
       "        vertical-align: middle;\n",
       "    }\n",
       "\n",
       "    .dataframe tbody tr th {\n",
       "        vertical-align: top;\n",
       "    }\n",
       "\n",
       "    .dataframe thead th {\n",
       "        text-align: right;\n",
       "    }\n",
       "</style>\n",
       "<table border=\"1\" class=\"dataframe\">\n",
       "  <thead>\n",
       "    <tr style=\"text-align: right;\">\n",
       "      <th></th>\n",
       "      <th>ceu</th>\n",
       "      <th>csspx</th>\n",
       "      <th>em15</th>\n",
       "      <th>emg</th>\n",
       "      <th>ibgl</th>\n",
       "      <th>ibgm</th>\n",
       "      <th>ibtm</th>\n",
       "      <th>imeu</th>\n",
       "      <th>iusa</th>\n",
       "      <th>smea</th>\n",
       "      <th>phau</th>\n",
       "    </tr>\n",
       "    <tr>\n",
       "      <th>dateTime</th>\n",
       "      <th></th>\n",
       "      <th></th>\n",
       "      <th></th>\n",
       "      <th></th>\n",
       "      <th></th>\n",
       "      <th></th>\n",
       "      <th></th>\n",
       "      <th></th>\n",
       "      <th></th>\n",
       "      <th></th>\n",
       "      <th></th>\n",
       "    </tr>\n",
       "  </thead>\n",
       "  <tbody>\n",
       "    <tr>\n",
       "      <th>2010-05-26</th>\n",
       "      <td>110.85</td>\n",
       "      <td>75.49</td>\n",
       "      <td>124.35</td>\n",
       "      <td>134.45</td>\n",
       "      <td>162.99</td>\n",
       "      <td>161.72</td>\n",
       "      <td>141.00</td>\n",
       "      <td>15.255</td>\n",
       "      <td>8.8475</td>\n",
       "      <td>25.81</td>\n",
       "      <td>98.28</td>\n",
       "    </tr>\n",
       "    <tr>\n",
       "      <th>2010-05-27</th>\n",
       "      <td>110.85</td>\n",
       "      <td>75.52</td>\n",
       "      <td>124.58</td>\n",
       "      <td>133.98</td>\n",
       "      <td>161.57</td>\n",
       "      <td>161.30</td>\n",
       "      <td>139.60</td>\n",
       "      <td>15.575</td>\n",
       "      <td>8.8450</td>\n",
       "      <td>25.81</td>\n",
       "      <td>97.70</td>\n",
       "    </tr>\n",
       "    <tr>\n",
       "      <th>2010-05-28</th>\n",
       "      <td>110.85</td>\n",
       "      <td>75.35</td>\n",
       "      <td>124.28</td>\n",
       "      <td>134.13</td>\n",
       "      <td>162.20</td>\n",
       "      <td>161.05</td>\n",
       "      <td>139.23</td>\n",
       "      <td>15.705</td>\n",
       "      <td>8.8225</td>\n",
       "      <td>25.81</td>\n",
       "      <td>96.45</td>\n",
       "    </tr>\n",
       "    <tr>\n",
       "      <th>2010-05-31</th>\n",
       "      <td>110.85</td>\n",
       "      <td>75.84</td>\n",
       "      <td>124.02</td>\n",
       "      <td>134.63</td>\n",
       "      <td>162.49</td>\n",
       "      <td>161.53</td>\n",
       "      <td>139.77</td>\n",
       "      <td>15.745</td>\n",
       "      <td>8.8400</td>\n",
       "      <td>25.81</td>\n",
       "      <td>97.94</td>\n",
       "    </tr>\n",
       "    <tr>\n",
       "      <th>2010-06-01</th>\n",
       "      <td>110.85</td>\n",
       "      <td>75.49</td>\n",
       "      <td>123.95</td>\n",
       "      <td>134.53</td>\n",
       "      <td>162.13</td>\n",
       "      <td>161.87</td>\n",
       "      <td>140.00</td>\n",
       "      <td>15.560</td>\n",
       "      <td>8.8225</td>\n",
       "      <td>25.81</td>\n",
       "      <td>98.74</td>\n",
       "    </tr>\n",
       "  </tbody>\n",
       "</table>\n",
       "</div>"
      ],
      "text/plain": [
       "               ceu  csspx    em15     emg    ibgl    ibgm    ibtm    imeu  \\\n",
       "dateTime                                                                    \n",
       "2010-05-26  110.85  75.49  124.35  134.45  162.99  161.72  141.00  15.255   \n",
       "2010-05-27  110.85  75.52  124.58  133.98  161.57  161.30  139.60  15.575   \n",
       "2010-05-28  110.85  75.35  124.28  134.13  162.20  161.05  139.23  15.705   \n",
       "2010-05-31  110.85  75.84  124.02  134.63  162.49  161.53  139.77  15.745   \n",
       "2010-06-01  110.85  75.49  123.95  134.53  162.13  161.87  140.00  15.560   \n",
       "\n",
       "              iusa   smea   phau  \n",
       "dateTime                          \n",
       "2010-05-26  8.8475  25.81  98.28  \n",
       "2010-05-27  8.8450  25.81  97.70  \n",
       "2010-05-28  8.8225  25.81  96.45  \n",
       "2010-05-31  8.8400  25.81  97.94  \n",
       "2010-06-01  8.8225  25.81  98.74  "
      ]
     },
     "execution_count": 30,
     "metadata": {},
     "output_type": "execute_result"
    }
   ],
   "source": [
    "data.head()"
   ]
  },
  {
   "cell_type": "code",
   "execution_count": 31,
   "metadata": {
    "ExecuteTime": {
     "end_time": "2019-05-21T06:40:57.210249Z",
     "start_time": "2019-05-21T06:40:56.413259Z"
    }
   },
   "outputs": [
    {
     "data": {
      "text/html": [
       "<div>\n",
       "<style scoped>\n",
       "    .dataframe tbody tr th:only-of-type {\n",
       "        vertical-align: middle;\n",
       "    }\n",
       "\n",
       "    .dataframe tbody tr th {\n",
       "        vertical-align: top;\n",
       "    }\n",
       "\n",
       "    .dataframe thead th {\n",
       "        text-align: right;\n",
       "    }\n",
       "</style>\n",
       "<table border=\"1\" class=\"dataframe\">\n",
       "  <thead>\n",
       "    <tr style=\"text-align: right;\">\n",
       "      <th></th>\n",
       "      <th>em15</th>\n",
       "      <th>ibtm</th>\n",
       "      <th>iusa</th>\n",
       "      <th>smea</th>\n",
       "      <th>phau</th>\n",
       "      <th>one</th>\n",
       "      <th>two</th>\n",
       "      <th>three</th>\n",
       "      <th>minvar</th>\n",
       "      <th>maxSharpe</th>\n",
       "    </tr>\n",
       "    <tr>\n",
       "      <th>dateTime</th>\n",
       "      <th></th>\n",
       "      <th></th>\n",
       "      <th></th>\n",
       "      <th></th>\n",
       "      <th></th>\n",
       "      <th></th>\n",
       "      <th></th>\n",
       "      <th></th>\n",
       "      <th></th>\n",
       "      <th></th>\n",
       "    </tr>\n",
       "  </thead>\n",
       "  <tbody>\n",
       "    <tr>\n",
       "      <th>2010-05-26</th>\n",
       "      <td>1.000000</td>\n",
       "      <td>1.000000</td>\n",
       "      <td>1.000000</td>\n",
       "      <td>1.0</td>\n",
       "      <td>1.000000</td>\n",
       "      <td>1.000000</td>\n",
       "      <td>1.000000</td>\n",
       "      <td>1.000000</td>\n",
       "      <td>1.000000</td>\n",
       "      <td>1.000000</td>\n",
       "    </tr>\n",
       "    <tr>\n",
       "      <th>2010-05-27</th>\n",
       "      <td>1.001850</td>\n",
       "      <td>0.990071</td>\n",
       "      <td>0.999717</td>\n",
       "      <td>1.0</td>\n",
       "      <td>0.994098</td>\n",
       "      <td>0.996745</td>\n",
       "      <td>0.998887</td>\n",
       "      <td>1.000941</td>\n",
       "      <td>0.997261</td>\n",
       "      <td>1.000986</td>\n",
       "    </tr>\n",
       "    <tr>\n",
       "      <th>2010-05-28</th>\n",
       "      <td>0.999437</td>\n",
       "      <td>0.987447</td>\n",
       "      <td>0.997174</td>\n",
       "      <td>1.0</td>\n",
       "      <td>0.981380</td>\n",
       "      <td>0.993694</td>\n",
       "      <td>0.995866</td>\n",
       "      <td>0.998374</td>\n",
       "      <td>0.994327</td>\n",
       "      <td>0.998520</td>\n",
       "    </tr>\n",
       "    <tr>\n",
       "      <th>2010-05-31</th>\n",
       "      <td>0.997346</td>\n",
       "      <td>0.991277</td>\n",
       "      <td>0.999152</td>\n",
       "      <td>1.0</td>\n",
       "      <td>0.996540</td>\n",
       "      <td>0.996337</td>\n",
       "      <td>0.997731</td>\n",
       "      <td>0.998043</td>\n",
       "      <td>0.996124</td>\n",
       "      <td>0.998078</td>\n",
       "    </tr>\n",
       "    <tr>\n",
       "      <th>2010-06-01</th>\n",
       "      <td>0.996783</td>\n",
       "      <td>0.992908</td>\n",
       "      <td>0.997174</td>\n",
       "      <td>1.0</td>\n",
       "      <td>1.004681</td>\n",
       "      <td>0.997132</td>\n",
       "      <td>0.997946</td>\n",
       "      <td>0.997015</td>\n",
       "      <td>0.997181</td>\n",
       "      <td>0.996942</td>\n",
       "    </tr>\n",
       "  </tbody>\n",
       "</table>\n",
       "</div>"
      ],
      "text/plain": [
       "                em15      ibtm      iusa  smea      phau       one       two  \\\n",
       "dateTime                                                                       \n",
       "2010-05-26  1.000000  1.000000  1.000000   1.0  1.000000  1.000000  1.000000   \n",
       "2010-05-27  1.001850  0.990071  0.999717   1.0  0.994098  0.996745  0.998887   \n",
       "2010-05-28  0.999437  0.987447  0.997174   1.0  0.981380  0.993694  0.995866   \n",
       "2010-05-31  0.997346  0.991277  0.999152   1.0  0.996540  0.996337  0.997731   \n",
       "2010-06-01  0.996783  0.992908  0.997174   1.0  1.004681  0.997132  0.997946   \n",
       "\n",
       "               three    minvar  maxSharpe  \n",
       "dateTime                                   \n",
       "2010-05-26  1.000000  1.000000   1.000000  \n",
       "2010-05-27  1.000941  0.997261   1.000986  \n",
       "2010-05-28  0.998374  0.994327   0.998520  \n",
       "2010-05-31  0.998043  0.996124   0.998078  \n",
       "2010-06-01  0.997015  0.997181   0.996942  "
      ]
     },
     "execution_count": 31,
     "metadata": {},
     "output_type": "execute_result"
    }
   ],
   "source": [
    "pndata.head()"
   ]
  },
  {
   "cell_type": "code",
   "execution_count": 41,
   "metadata": {
    "ExecuteTime": {
     "end_time": "2019-05-21T06:59:28.685873Z",
     "start_time": "2019-05-21T06:59:27.433043Z"
    }
   },
   "outputs": [],
   "source": [
    "pndata.to_csv('norm_portfolio_data.csv')"
   ]
  },
  {
   "cell_type": "code",
   "execution_count": 32,
   "metadata": {
    "ExecuteTime": {
     "end_time": "2019-05-21T06:40:58.789401Z",
     "start_time": "2019-05-21T06:40:58.023669Z"
    }
   },
   "outputs": [
    {
     "data": {
      "text/html": [
       "<div>\n",
       "<style scoped>\n",
       "    .dataframe tbody tr th:only-of-type {\n",
       "        vertical-align: middle;\n",
       "    }\n",
       "\n",
       "    .dataframe tbody tr th {\n",
       "        vertical-align: top;\n",
       "    }\n",
       "\n",
       "    .dataframe thead th {\n",
       "        text-align: right;\n",
       "    }\n",
       "</style>\n",
       "<table border=\"1\" class=\"dataframe\">\n",
       "  <thead>\n",
       "    <tr style=\"text-align: right;\">\n",
       "      <th></th>\n",
       "      <th>ceu</th>\n",
       "      <th>csspx</th>\n",
       "      <th>em15</th>\n",
       "      <th>emg</th>\n",
       "      <th>ibgl</th>\n",
       "      <th>ibgm</th>\n",
       "      <th>ibtm</th>\n",
       "      <th>imeu</th>\n",
       "      <th>iusa</th>\n",
       "      <th>smea</th>\n",
       "      <th>phau</th>\n",
       "    </tr>\n",
       "    <tr>\n",
       "      <th>dateTime</th>\n",
       "      <th></th>\n",
       "      <th></th>\n",
       "      <th></th>\n",
       "      <th></th>\n",
       "      <th></th>\n",
       "      <th></th>\n",
       "      <th></th>\n",
       "      <th></th>\n",
       "      <th></th>\n",
       "      <th></th>\n",
       "      <th></th>\n",
       "    </tr>\n",
       "  </thead>\n",
       "  <tbody>\n",
       "    <tr>\n",
       "      <th>2010-05-27</th>\n",
       "      <td>0.00000</td>\n",
       "      <td>0.000397</td>\n",
       "      <td>0.001848</td>\n",
       "      <td>-0.003502</td>\n",
       "      <td>-0.008750</td>\n",
       "      <td>-0.002600</td>\n",
       "      <td>-0.009979</td>\n",
       "      <td>0.020760</td>\n",
       "      <td>-0.000283</td>\n",
       "      <td>0.000000</td>\n",
       "      <td>-0.005919</td>\n",
       "    </tr>\n",
       "    <tr>\n",
       "      <th>2010-05-28</th>\n",
       "      <td>0.00000</td>\n",
       "      <td>-0.002254</td>\n",
       "      <td>-0.002411</td>\n",
       "      <td>0.001119</td>\n",
       "      <td>0.003892</td>\n",
       "      <td>-0.001551</td>\n",
       "      <td>-0.002654</td>\n",
       "      <td>0.008312</td>\n",
       "      <td>-0.002547</td>\n",
       "      <td>0.000000</td>\n",
       "      <td>-0.012877</td>\n",
       "    </tr>\n",
       "    <tr>\n",
       "      <th>2010-05-31</th>\n",
       "      <td>0.00000</td>\n",
       "      <td>0.006482</td>\n",
       "      <td>-0.002094</td>\n",
       "      <td>0.003721</td>\n",
       "      <td>0.001786</td>\n",
       "      <td>0.002976</td>\n",
       "      <td>0.003871</td>\n",
       "      <td>0.002544</td>\n",
       "      <td>0.001982</td>\n",
       "      <td>0.000000</td>\n",
       "      <td>0.015330</td>\n",
       "    </tr>\n",
       "    <tr>\n",
       "      <th>2010-06-01</th>\n",
       "      <td>0.00000</td>\n",
       "      <td>-0.004626</td>\n",
       "      <td>-0.000565</td>\n",
       "      <td>-0.000743</td>\n",
       "      <td>-0.002218</td>\n",
       "      <td>0.002103</td>\n",
       "      <td>0.001644</td>\n",
       "      <td>-0.011819</td>\n",
       "      <td>-0.001982</td>\n",
       "      <td>0.000000</td>\n",
       "      <td>0.008135</td>\n",
       "    </tr>\n",
       "    <tr>\n",
       "      <th>2010-06-02</th>\n",
       "      <td>0.01921</td>\n",
       "      <td>-0.001989</td>\n",
       "      <td>-0.001292</td>\n",
       "      <td>-0.002456</td>\n",
       "      <td>-0.005753</td>\n",
       "      <td>-0.003900</td>\n",
       "      <td>0.007756</td>\n",
       "      <td>0.009912</td>\n",
       "      <td>-0.000850</td>\n",
       "      <td>0.024116</td>\n",
       "      <td>-0.000608</td>\n",
       "    </tr>\n",
       "  </tbody>\n",
       "</table>\n",
       "</div>"
      ],
      "text/plain": [
       "                ceu     csspx      em15       emg      ibgl      ibgm  \\\n",
       "dateTime                                                                \n",
       "2010-05-27  0.00000  0.000397  0.001848 -0.003502 -0.008750 -0.002600   \n",
       "2010-05-28  0.00000 -0.002254 -0.002411  0.001119  0.003892 -0.001551   \n",
       "2010-05-31  0.00000  0.006482 -0.002094  0.003721  0.001786  0.002976   \n",
       "2010-06-01  0.00000 -0.004626 -0.000565 -0.000743 -0.002218  0.002103   \n",
       "2010-06-02  0.01921 -0.001989 -0.001292 -0.002456 -0.005753 -0.003900   \n",
       "\n",
       "                ibtm      imeu      iusa      smea      phau  \n",
       "dateTime                                                      \n",
       "2010-05-27 -0.009979  0.020760 -0.000283  0.000000 -0.005919  \n",
       "2010-05-28 -0.002654  0.008312 -0.002547  0.000000 -0.012877  \n",
       "2010-05-31  0.003871  0.002544  0.001982  0.000000  0.015330  \n",
       "2010-06-01  0.001644 -0.011819 -0.001982  0.000000  0.008135  \n",
       "2010-06-02  0.007756  0.009912 -0.000850  0.024116 -0.000608  "
      ]
     },
     "execution_count": 32,
     "metadata": {},
     "output_type": "execute_result"
    }
   ],
   "source": [
    "returns.head()"
   ]
  },
  {
   "cell_type": "code",
   "execution_count": 33,
   "metadata": {
    "ExecuteTime": {
     "end_time": "2019-05-21T06:41:00.530012Z",
     "start_time": "2019-05-21T06:40:59.779578Z"
    }
   },
   "outputs": [],
   "source": [
    "portfolio_returns = np.log(pndata/pndata.shift(1))\n",
    "portfolio_returns.dropna(inplace=True)"
   ]
  },
  {
   "cell_type": "code",
   "execution_count": 34,
   "metadata": {
    "ExecuteTime": {
     "end_time": "2019-05-21T06:41:02.619366Z",
     "start_time": "2019-05-21T06:41:01.838043Z"
    }
   },
   "outputs": [
    {
     "data": {
      "text/html": [
       "<div>\n",
       "<style scoped>\n",
       "    .dataframe tbody tr th:only-of-type {\n",
       "        vertical-align: middle;\n",
       "    }\n",
       "\n",
       "    .dataframe tbody tr th {\n",
       "        vertical-align: top;\n",
       "    }\n",
       "\n",
       "    .dataframe thead th {\n",
       "        text-align: right;\n",
       "    }\n",
       "</style>\n",
       "<table border=\"1\" class=\"dataframe\">\n",
       "  <thead>\n",
       "    <tr style=\"text-align: right;\">\n",
       "      <th></th>\n",
       "      <th>em15</th>\n",
       "      <th>ibtm</th>\n",
       "      <th>iusa</th>\n",
       "      <th>smea</th>\n",
       "      <th>phau</th>\n",
       "      <th>one</th>\n",
       "      <th>two</th>\n",
       "      <th>three</th>\n",
       "      <th>minvar</th>\n",
       "      <th>maxSharpe</th>\n",
       "    </tr>\n",
       "    <tr>\n",
       "      <th>dateTime</th>\n",
       "      <th></th>\n",
       "      <th></th>\n",
       "      <th></th>\n",
       "      <th></th>\n",
       "      <th></th>\n",
       "      <th></th>\n",
       "      <th></th>\n",
       "      <th></th>\n",
       "      <th></th>\n",
       "      <th></th>\n",
       "    </tr>\n",
       "  </thead>\n",
       "  <tbody>\n",
       "    <tr>\n",
       "      <th>2010-05-27</th>\n",
       "      <td>0.001848</td>\n",
       "      <td>-0.009979</td>\n",
       "      <td>-0.000283</td>\n",
       "      <td>0.000000</td>\n",
       "      <td>-0.005919</td>\n",
       "      <td>-0.003261</td>\n",
       "      <td>-0.001114</td>\n",
       "      <td>0.000940</td>\n",
       "      <td>-0.002743</td>\n",
       "      <td>0.000985</td>\n",
       "    </tr>\n",
       "    <tr>\n",
       "      <th>2010-05-28</th>\n",
       "      <td>-0.002411</td>\n",
       "      <td>-0.002654</td>\n",
       "      <td>-0.002547</td>\n",
       "      <td>0.000000</td>\n",
       "      <td>-0.012877</td>\n",
       "      <td>-0.003065</td>\n",
       "      <td>-0.003029</td>\n",
       "      <td>-0.002567</td>\n",
       "      <td>-0.002946</td>\n",
       "      <td>-0.002466</td>\n",
       "    </tr>\n",
       "    <tr>\n",
       "      <th>2010-05-31</th>\n",
       "      <td>-0.002094</td>\n",
       "      <td>0.003871</td>\n",
       "      <td>0.001982</td>\n",
       "      <td>0.000000</td>\n",
       "      <td>0.015330</td>\n",
       "      <td>0.002656</td>\n",
       "      <td>0.001871</td>\n",
       "      <td>-0.000332</td>\n",
       "      <td>0.001806</td>\n",
       "      <td>-0.000443</td>\n",
       "    </tr>\n",
       "    <tr>\n",
       "      <th>2010-06-01</th>\n",
       "      <td>-0.000565</td>\n",
       "      <td>0.001644</td>\n",
       "      <td>-0.001982</td>\n",
       "      <td>0.000000</td>\n",
       "      <td>0.008135</td>\n",
       "      <td>0.000798</td>\n",
       "      <td>0.000215</td>\n",
       "      <td>-0.001030</td>\n",
       "      <td>0.001060</td>\n",
       "      <td>-0.001139</td>\n",
       "    </tr>\n",
       "    <tr>\n",
       "      <th>2010-06-02</th>\n",
       "      <td>-0.001292</td>\n",
       "      <td>0.007756</td>\n",
       "      <td>-0.000850</td>\n",
       "      <td>0.024116</td>\n",
       "      <td>-0.000608</td>\n",
       "      <td>0.006710</td>\n",
       "      <td>0.004951</td>\n",
       "      <td>-0.001113</td>\n",
       "      <td>0.007283</td>\n",
       "      <td>-0.001113</td>\n",
       "    </tr>\n",
       "  </tbody>\n",
       "</table>\n",
       "</div>"
      ],
      "text/plain": [
       "                em15      ibtm      iusa      smea      phau       one  \\\n",
       "dateTime                                                                 \n",
       "2010-05-27  0.001848 -0.009979 -0.000283  0.000000 -0.005919 -0.003261   \n",
       "2010-05-28 -0.002411 -0.002654 -0.002547  0.000000 -0.012877 -0.003065   \n",
       "2010-05-31 -0.002094  0.003871  0.001982  0.000000  0.015330  0.002656   \n",
       "2010-06-01 -0.000565  0.001644 -0.001982  0.000000  0.008135  0.000798   \n",
       "2010-06-02 -0.001292  0.007756 -0.000850  0.024116 -0.000608  0.006710   \n",
       "\n",
       "                 two     three    minvar  maxSharpe  \n",
       "dateTime                                             \n",
       "2010-05-27 -0.001114  0.000940 -0.002743   0.000985  \n",
       "2010-05-28 -0.003029 -0.002567 -0.002946  -0.002466  \n",
       "2010-05-31  0.001871 -0.000332  0.001806  -0.000443  \n",
       "2010-06-01  0.000215 -0.001030  0.001060  -0.001139  \n",
       "2010-06-02  0.004951 -0.001113  0.007283  -0.001113  "
      ]
     },
     "execution_count": 34,
     "metadata": {},
     "output_type": "execute_result"
    }
   ],
   "source": [
    "portfolio_returns.head()"
   ]
  },
  {
   "cell_type": "code",
   "execution_count": 164,
   "metadata": {
    "ExecuteTime": {
     "end_time": "2019-05-19T11:28:09.302768Z",
     "start_time": "2019-05-19T11:28:05.529185Z"
    }
   },
   "outputs": [
    {
     "data": {
      "image/png": "[encoded data removed]",
      "text/plain": [
       "<Figure size 432x288 with 1 Axes>"
      ]
     },
     "metadata": {},
     "output_type": "display_data"
    }
   ],
   "source": [
    "sns.set()\n",
    "\n",
    "fig4 = plt.figure()\n",
    "#sns.distplot(returns['ibtm'])\n",
    "sns.distplot(portfolio_returns.iusa)\n",
    "sns.distplot(portfolio_returns.maxSharpe)\n",
    "#sns.distplot(portfolio_returns.phau)\n",
    "#plt.legend(('ibtm','em15','ibgm'),fontsize = 12)\n",
    "#plt.legend(('em15','ibgl'),fontsize = 12)\n",
    "\n",
    "plt.show()\n"
   ]
  },
  {
   "cell_type": "markdown",
   "metadata": {},
   "source": [
    "#### Calcolo DD e MDD"
   ]
  },
  {
   "cell_type": "code",
   "execution_count": 126,
   "metadata": {
    "ExecuteTime": {
     "end_time": "2019-05-19T09:37:45.534218Z",
     "start_time": "2019-05-19T09:37:45.448985Z"
    }
   },
   "outputs": [],
   "source": [
    "roll_max = pndata.rolling(PERIODS, min_periods=1).max()\n",
    "dailydd = pndata/roll_max - 1.0\n",
    "max_dailydd = dailydd.rolling(PERIODS, min_periods=1).min()"
   ]
  },
  {
   "cell_type": "code",
   "execution_count": 135,
   "metadata": {
    "ExecuteTime": {
     "end_time": "2019-05-19T09:46:36.521528Z",
     "start_time": "2019-05-19T09:46:35.906728Z"
    }
   },
   "outputs": [
    {
     "data": {
      "text/plain": [
       "<matplotlib.axes._subplots.AxesSubplot at 0x127f9c5f8>"
      ]
     },
     "execution_count": 135,
     "metadata": {},
     "output_type": "execute_result"
    },
    {
     "data": {
      "image/png": "[encoded data removed]",
      "text/plain": [
       "<Figure size 720x576 with 1 Axes>"
      ]
     },
     "metadata": {},
     "output_type": "display_data"
    }
   ],
   "source": [
    "dailydd.iusa.plot(figsize=(10,8))\n",
    "max_dailydd.iusa.plot()"
   ]
  },
  {
   "cell_type": "code",
   "execution_count": 35,
   "metadata": {
    "ExecuteTime": {
     "end_time": "2019-05-21T06:41:13.885981Z",
     "start_time": "2019-05-21T06:41:13.111219Z"
    }
   },
   "outputs": [
    {
     "data": {
      "text/plain": [
       "em15         0.174907\n",
       "ibtm         0.210625\n",
       "iusa         0.206879\n",
       "smea         0.261869\n",
       "phau         0.371762\n",
       "one          0.135543\n",
       "two          0.149029\n",
       "three        0.142955\n",
       "minvar       0.124957\n",
       "maxSharpe    0.143394\n",
       "dtype: float64"
      ]
     },
     "execution_count": 35,
     "metadata": {},
     "output_type": "execute_result"
    }
   ],
   "source": [
    "def calculate_max_drawdown(ndata):\n",
    "    Roll_Max = ndata.cummax()\n",
    "    Daily_Drawdown = ndata/Roll_Max - 1.0\n",
    "    Max_Daily_Drawdown = Daily_Drawdown.cummin()\n",
    "    max_drawdown = Max_Daily_Drawdown.min() * -1.0\n",
    "    return max_drawdown\n",
    "\n",
    "calculate_max_drawdown(pndata)"
   ]
  },
  {
   "cell_type": "code",
   "execution_count": null,
   "metadata": {},
   "outputs": [],
   "source": []
  },
  {
   "cell_type": "code",
   "execution_count": null,
   "metadata": {},
   "outputs": [],
   "source": []
  },
  {
   "cell_type": "code",
   "execution_count": null,
   "metadata": {},
   "outputs": [],
   "source": []
  },
  {
   "cell_type": "code",
   "execution_count": null,
   "metadata": {},
   "outputs": [],
   "source": []
  },
  {
   "cell_type": "code",
   "execution_count": null,
   "metadata": {},
   "outputs": [],
   "source": []
  },
  {
   "cell_type": "code",
   "execution_count": null,
   "metadata": {},
   "outputs": [],
   "source": []
  },
  {
   "cell_type": "code",
   "execution_count": null,
   "metadata": {},
   "outputs": [],
   "source": []
  },
  {
   "cell_type": "code",
   "execution_count": null,
   "metadata": {},
   "outputs": [],
   "source": []
  },
  {
   "cell_type": "markdown",
   "metadata": {},
   "source": [
    "# TESTs"
   ]
  },
  {
   "cell_type": "code",
   "execution_count": null,
   "metadata": {
    "collapsed": true
   },
   "outputs": [],
   "source": [
    "datos_returns = np.log(datos/datos.shift(1))\n",
    "datos_returns.dropna(inplace=True)\n",
    "stats = pd.DataFrame()\n",
    "stats[‘Annualized Returns(%)’] =datos_returns.mean() * semana *100\n",
    "stats[‘Annualized Volatility(%)’] = datos_returns.std() * np.sqrt(semana)*100\n",
    "stats[‘Sharpe Ratio’] = stats[‘Annualized Returns(%)’] /stats[‘Annualized Volatility(%)’]\n",
    "print(82*’-’)\n",
    "print(‘Assets Classes Annualized Statistics — full observation period’)\n",
    "stats.style.bar(color=[‘red’,’green’], align=’zero’)"
   ]
  },
  {
   "cell_type": "code",
   "execution_count": null,
   "metadata": {
    "ExecuteTime": {
     "end_time": "2019-04-27T09:19:54.658179Z",
     "start_time": "2019-04-27T09:19:54.590805Z"
    },
    "collapsed": true
   },
   "outputs": [],
   "source": [
    "\n"
   ]
  },
  {
   "cell_type": "code",
   "execution_count": null,
   "metadata": {
    "ExecuteTime": {
     "end_time": "2019-05-03T19:18:15.915068Z",
     "start_time": "2019-05-03T19:18:14.970775Z"
    },
    "collapsed": true
   },
   "outputs": [],
   "source": [
    "f = plt.figure()\n",
    "plt.title('Title here!', color='black')\n",
    "dfLista.ceu.plot(kind='line', ax=f.gca())\n",
    "dfLista.imeu.plot(kind='line', ax=f.gca())\n",
    "plt.legend(loc='center left', bbox_to_anchor=(1.0, 0.5))\n",
    "plt.show()\n",
    "\n"
   ]
  },
  {
   "cell_type": "code",
   "execution_count": null,
   "metadata": {
    "ExecuteTime": {
     "end_time": "2019-04-27T09:20:05.830819Z",
     "start_time": "2019-04-27T09:19:59.577171Z"
    },
    "collapsed": true
   },
   "outputs": [],
   "source": [
    "z.loc[mask,'end_date'] = z[mask].apply(lambda x: correct_end_date(x['ticker'],x['isin']), axis=1)"
   ]
  },
  {
   "cell_type": "code",
   "execution_count": null,
   "metadata": {
    "ExecuteTime": {
     "end_time": "2019-04-27T09:20:26.300972Z",
     "start_time": "2019-04-27T09:20:26.198594Z"
    },
    "collapsed": true
   },
   "outputs": [],
   "source": [
    "z[mask]"
   ]
  },
  {
   "cell_type": "code",
   "execution_count": null,
   "metadata": {
    "ExecuteTime": {
     "end_time": "2019-04-27T08:07:37.630805Z",
     "start_time": "2019-04-27T08:07:37.499445Z"
    },
    "collapsed": true
   },
   "outputs": [],
   "source": [
    "def myfunc(ticker, isin):\n",
    "    return str(ticker)+str(isin)\n",
    "\n",
    "z.loc[mask,'end_date'] = z.apply(lambda x: myfunc(x['isin'],x['ticker']), axis=1)"
   ]
  },
  {
   "cell_type": "markdown",
   "metadata": {},
   "source": [
    "### Test lettura quotazioni ETF da ./csv/"
   ]
  },
  {
   "cell_type": "code",
   "execution_count": null,
   "metadata": {
    "ExecuteTime": {
     "end_time": "2019-04-21T09:52:11.658392Z",
     "start_time": "2019-04-21T09:52:11.452558Z"
    },
    "collapsed": true
   },
   "outputs": [],
   "source": [
    "tickers = ['A500.MI']"
   ]
  },
  {
   "cell_type": "code",
   "execution_count": null,
   "metadata": {
    "ExecuteTime": {
     "end_time": "2019-04-21T09:52:13.520528Z",
     "start_time": "2019-04-21T09:52:12.912593Z"
    },
    "collapsed": true
   },
   "outputs": [],
   "source": [
    "ticker_file = WORKDIR + tickers[0] + EXT\n",
    "\n",
    "#df = pd.read_csv(ticker_file, index_col=1, parse_dates=True)\n",
    "df = pd.read_csv(ticker_file, usecols=[1,2,3,4,5,6], index_col=0, parse_dates=True, dayfirst=True)"
   ]
  },
  {
   "cell_type": "code",
   "execution_count": null,
   "metadata": {
    "ExecuteTime": {
     "end_time": "2019-04-21T09:52:14.537214Z",
     "start_time": "2019-04-21T09:52:14.448824Z"
    },
    "collapsed": true,
    "scrolled": true
   },
   "outputs": [],
   "source": [
    "df.head()"
   ]
  },
  {
   "cell_type": "code",
   "execution_count": null,
   "metadata": {
    "ExecuteTime": {
     "end_time": "2019-04-08T21:18:17.830006Z",
     "start_time": "2019-04-08T21:18:17.755714Z"
    },
    "collapsed": true
   },
   "outputs": [],
   "source": [
    "end = df.index[df.shape[0]-1]\n",
    "start = df.index[0]\n",
    "\n",
    "end - start\n",
    "end.date()\n",
    "\n",
    "np.busday_count( start.date(), end.date() )"
   ]
  },
  {
   "cell_type": "markdown",
   "metadata": {},
   "source": [
    "### correzioni"
   ]
  },
  {
   "cell_type": "code",
   "execution_count": null,
   "metadata": {
    "ExecuteTime": {
     "end_time": "2019-04-21T15:50:13.216784Z",
     "start_time": "2019-04-21T15:50:13.139742Z"
    },
    "collapsed": true
   },
   "outputs": [],
   "source": [
    "tickers = ['EUE.MI']"
   ]
  },
  {
   "cell_type": "code",
   "execution_count": null,
   "metadata": {
    "ExecuteTime": {
     "end_time": "2019-04-21T16:36:02.314026Z",
     "start_time": "2019-04-21T16:36:01.135318Z"
    },
    "collapsed": true
   },
   "outputs": [],
   "source": [
    "ticker_file = WORKDIR + tickers[0] + EXT\n",
    "\n",
    "#df = pd.read_csv(ticker_file, index_col=1, parse_dates=True)\n",
    "df = pd.read_csv(ticker_file, usecols=[1,2,3,4,5,6], index_col=0, parse_dates=True, dayfirst=True)"
   ]
  },
  {
   "cell_type": "code",
   "execution_count": null,
   "metadata": {
    "ExecuteTime": {
     "end_time": "2019-04-21T16:36:26.288724Z",
     "start_time": "2019-04-21T16:36:26.219266Z"
    },
    "collapsed": true
   },
   "outputs": [],
   "source": [
    "df.loc['2018-11-21','high'] = 31.98\n",
    "df.loc['2018-11-21','low'] = 31.69\n",
    "df.loc['2018-11-21','close'] = 31.96\n",
    "\n"
   ]
  },
  {
   "cell_type": "code",
   "execution_count": null,
   "metadata": {
    "ExecuteTime": {
     "end_time": "2019-04-21T16:37:16.539091Z",
     "start_time": "2019-04-21T16:37:15.923507Z"
    },
    "collapsed": true
   },
   "outputs": [],
   "source": [
    "df.close.plot(figsize=(16, 10))"
   ]
  },
  {
   "cell_type": "markdown",
   "metadata": {},
   "source": [
    "### apply colonne multiple"
   ]
  },
  {
   "cell_type": "code",
   "execution_count": null,
   "metadata": {
    "ExecuteTime": {
     "end_time": "2019-04-21T09:04:07.354797Z",
     "start_time": "2019-04-21T09:04:07.088057Z"
    },
    "collapsed": true
   },
   "outputs": [],
   "source": [
    "df100 = dfEtfInfo"
   ]
  },
  {
   "cell_type": "code",
   "execution_count": null,
   "metadata": {
    "ExecuteTime": {
     "end_time": "2019-04-21T09:09:02.320020Z",
     "start_time": "2019-04-21T09:09:01.812732Z"
    },
    "collapsed": true
   },
   "outputs": [],
   "source": [
    "def myfunc(isin, ticker):\n",
    "    return str(isin)+str(ticker)\n",
    "\n",
    "df100['newcolumn'] = df100.apply(lambda x: myfunc(x['isin'],x['ticker']), axis=1)"
   ]
  },
  {
   "cell_type": "code",
   "execution_count": null,
   "metadata": {
    "ExecuteTime": {
     "end_time": "2019-04-21T09:09:07.443382Z",
     "start_time": "2019-04-21T09:09:07.347120Z"
    },
    "collapsed": true
   },
   "outputs": [],
   "source": [
    "df100.head()"
   ]
  },
  {
   "cell_type": "markdown",
   "metadata": {},
   "source": [
    "### leggi ticker.mi csv altrimenti isin.csv"
   ]
  },
  {
   "cell_type": "code",
   "execution_count": null,
   "metadata": {
    "ExecuteTime": {
     "end_time": "2019-04-21T09:23:49.866714Z",
     "start_time": "2019-04-21T09:23:49.710914Z"
    },
    "collapsed": true
   },
   "outputs": [],
   "source": [
    "def get_start_date(isin, ticker):\n",
    "    try:\n",
    "        ticker_file = WORKDIR + ticker + EXT\n",
    "        df = pd.read_csv(ticker_file, usecols=[1,2,3,4,5,6], index_col=0, parse_dates=True)\n",
    "        end = df.index[df.shape[0]-1]\n",
    "        start = df.index[0]\n",
    "        return start\n",
    "    except FileNotFoundError:\n",
    "        try:\n",
    "            ticker_file = WORKDIR + isin + EXT\n",
    "            df = pd.read_csv(ticker_file, usecols=[1,2,3,4,5,6], index_col=0, parse_dates=True)\n",
    "            end = df.index[df.shape[0]-1]\n",
    "            start = df.index[0]\n",
    "            return start\n",
    "        except FileNotFoundError:\n",
    "            return None\n",
    "\n",
    "def get_end_date(isin, ticker):\n",
    "    try:\n",
    "        ticker_file = WORKDIR + ticker + EXT\n",
    "        df = pd.read_csv(ticker_file, usecols=[1,2,3,4,5,6], index_col=0, parse_dates=True)\n",
    "        end = df.index[df.shape[0]-1]\n",
    "        start = df.index[0]\n",
    "        return end\n",
    "    except FileNotFoundError:\n",
    "        try:\n",
    "            ticker_file = WORKDIR + isin + EXT\n",
    "            df = pd.read_csv(ticker_file, usecols=[1,2,3,4,5,6], index_col=0, parse_dates=True)\n",
    "            end = df.index[df.shape[0]-1]\n",
    "            start = df.index[0]\n",
    "            return end\n",
    "        except FileNotFoundError:\n",
    "            return None"
   ]
  },
  {
   "cell_type": "code",
   "execution_count": null,
   "metadata": {
    "ExecuteTime": {
     "end_time": "2019-04-21T09:24:17.107149Z",
     "start_time": "2019-04-21T09:24:12.489087Z"
    },
    "collapsed": true
   },
   "outputs": [],
   "source": [
    "df100 = dfEtfInfo[dfEtfInfo.areaBenchmark == 'AZIONARIO NORD AMERICA']\n",
    "\n",
    "df101 = df3[df3.benchmark == 'S&P 500 TRN USD']\n",
    "\n",
    "df101['start_date'] = df101.apply(lambda x: get_start_date(x['isin'],x['ticker']), axis=1)\n",
    "df101['end_date'] = df101.apply(lambda x: get_end_date(x['isin'],x['ticker']), axis=1)"
   ]
  },
  {
   "cell_type": "code",
   "execution_count": null,
   "metadata": {
    "ExecuteTime": {
     "end_time": "2019-04-21T09:24:23.392469Z",
     "start_time": "2019-04-21T09:24:23.303013Z"
    },
    "collapsed": true
   },
   "outputs": [],
   "source": [
    "df101.head()"
   ]
  },
  {
   "cell_type": "code",
   "execution_count": null,
   "metadata": {
    "collapsed": true
   },
   "outputs": [],
   "source": []
  },
  {
   "cell_type": "markdown",
   "metadata": {},
   "source": [
    "### Lista le aree degli ETF"
   ]
  },
  {
   "cell_type": "code",
   "execution_count": null,
   "metadata": {
    "ExecuteTime": {
     "end_time": "2019-04-09T08:41:59.560239Z",
     "start_time": "2019-04-09T08:41:58.961151Z"
    },
    "collapsed": true
   },
   "outputs": [],
   "source": [
    "aree = pd.DataFrame(dfEtfInfo.areaBenchmark.unique(),columns=['areaBenchmark'])\n",
    "aree.sort_values(by='areaBenchmark',inplace=True)\n",
    "\n",
    "aree"
   ]
  },
  {
   "cell_type": "code",
   "execution_count": null,
   "metadata": {
    "ExecuteTime": {
     "end_time": "2019-04-09T08:54:15.413702Z",
     "start_time": "2019-04-09T08:54:14.865650Z"
    },
    "collapsed": true
   },
   "outputs": [],
   "source": [
    "df3 = dfEtfInfo[dfEtfInfo.areaBenchmark == 'AZIONARIO NORD AMERICA']"
   ]
  },
  {
   "cell_type": "code",
   "execution_count": null,
   "metadata": {
    "ExecuteTime": {
     "end_time": "2019-04-09T08:54:16.382835Z",
     "start_time": "2019-04-09T08:54:15.813413Z"
    },
    "collapsed": true,
    "scrolled": true
   },
   "outputs": [],
   "source": [
    "df3[df3.benchmark == 'S&P 500 TRN USD']"
   ]
  },
  {
   "cell_type": "code",
   "execution_count": null,
   "metadata": {
    "collapsed": true
   },
   "outputs": [],
   "source": [
    "df4 = df3[df3.benchmark == 'S&P 500 TRN USD']\n",
    "# df5 = df4.assign(startDate=df4.ticker.apply(get_start_date),endDate=df4.ticker.apply(get_end_date))"
   ]
  },
  {
   "cell_type": "code",
   "execution_count": null,
   "metadata": {
    "ExecuteTime": {
     "end_time": "2019-04-09T08:54:21.968818Z",
     "start_time": "2019-04-09T08:54:19.500804Z"
    },
    "collapsed": true,
    "scrolled": true
   },
   "outputs": [],
   "source": [
    "df4['startDate'] = df4.ticker.apply(get_start_date)\n",
    "df4['endDate'] = df4.ticker.apply(get_end_date)\n",
    "    \n",
    "    "
   ]
  },
  {
   "cell_type": "code",
   "execution_count": null,
   "metadata": {
    "collapsed": true
   },
   "outputs": [],
   "source": []
  },
  {
   "cell_type": "code",
   "execution_count": null,
   "metadata": {
    "ExecuteTime": {
     "end_time": "2019-04-28T15:36:27.068211Z",
     "start_time": "2019-04-28T15:36:26.547392Z"
    },
    "collapsed": true
   },
   "outputs": [],
   "source": [
    "def myfunc100(row):\n",
    "    return pd.Series(['PIP','PO'])\n",
    "\n",
    "\n",
    "dfEtfInfo[['test1', 'test2']] = dfEtfInfo.apply(myfunc100, axis=1)"
   ]
  },
  {
   "cell_type": "code",
   "execution_count": null,
   "metadata": {
    "collapsed": true
   },
   "outputs": [],
   "source": []
  },
  {
   "cell_type": "code",
   "execution_count": null,
   "metadata": {
    "collapsed": true
   },
   "outputs": [],
   "source": []
  },
  {
   "cell_type": "code",
   "execution_count": null,
   "metadata": {
    "collapsed": true
   },
   "outputs": [],
   "source": [
    "dfEtfInfo = pd.read_excel('infoprovider_etc.xlsx').iloc[6:,:]\n",
    "dfEtfInfo.columns = dfEtfInfo.iloc[0,:].tolist()\n",
    "dfEtfInfo = dfEtfInfo.iloc[1:,:]\n",
    "dfEtfInfo.set_index('N.',inplace=True)\n",
    "# df2['Strumento'].unique()\n",
    "# df2.drop(df2[df2['Strumento'] == 0].index, inplace=True) # pulisce\n",
    "dfEtfInfo = dfEtfInfo[dfEtfInfo['Strumento'] == 'ETF']\n",
    "dfEtfInfo = dfEtfInfo[['ISIN','Nome','Reuters RIC (Italy)','Indice Benchmark','TER','Area Benchmark','Emittente']]\n",
    "dfEtfInfo.columns = ['isin','nome','ticker','benchmark','ter','areaBenchmark','emittente']\n",
    "# df2.set_index('ticker', inplace=True)"
   ]
  },
  {
   "cell_type": "code",
   "execution_count": null,
   "metadata": {
    "ExecuteTime": {
     "end_time": "2019-04-28T20:15:20.333751Z",
     "start_time": "2019-04-28T20:15:20.071729Z"
    },
    "collapsed": true
   },
   "outputs": [],
   "source": [
    "dfEtcInfo"
   ]
  },
  {
   "cell_type": "code",
   "execution_count": null,
   "metadata": {
    "collapsed": true
   },
   "outputs": [],
   "source": []
  },
  {
   "cell_type": "code",
   "execution_count": null,
   "metadata": {
    "ExecuteTime": {
     "end_time": "2019-05-02T22:05:59.238247Z",
     "start_time": "2019-05-02T22:05:59.135790Z"
    },
    "collapsed": true
   },
   "outputs": [],
   "source": [
    "ceu = pd.read_csv('csv/CEU.MI.csv', usecols=[1,2,3,4,5,6], index_col=0, parse_dates=True, dayfirst=True)\n",
    "imeu = pd.read_csv('csv/IMEU.MI.csv', usecols=[1,2,3,4,5,6], index_col=0, parse_dates=True, dayfirst=True)\n",
    "tmp1 = ceu.join(imeu, how='outer', rsuffix='_1')[['close','close_1']]\n",
    "tmp1.columns=['ceu','imeu']\n",
    "tmp1\n"
   ]
  },
  {
   "cell_type": "code",
   "execution_count": null,
   "metadata": {
    "ExecuteTime": {
     "end_time": "2019-05-02T21:51:02.745733Z",
     "start_time": "2019-05-02T21:50:57.616035Z"
    },
    "collapsed": true
   },
   "outputs": [],
   "source": [
    "df5 = pd.DataFrame()\n",
    "\n",
    "for index,row in df4.iterrows():\n",
    "    ticker = row.ticker\n",
    "    source = row.dataSource\n",
    "    filename = WORKDIR + source + EXT\n",
    "    tmpdf = pd.read_csv(filename, usecols=[1,2,3,4,5,6], index_col=0, parse_dates=True, dayfirst=True)\n",
    "    df5[ticker] = tmpdf.close\n"
   ]
  }
 ],
 "metadata": {
  "kernelspec": {
   "display_name": "env",
   "language": "python",
   "name": "env"
  },
  "language_info": {
   "codemirror_mode": {
    "name": "ipython",
    "version": 3
   },
   "file_extension": ".py",
   "mimetype": "text/x-python",
   "name": "python",
   "nbconvert_exporter": "python",
   "pygments_lexer": "ipython3",
   "version": "3.7.3"
  }
 },
 "nbformat": 4,
 "nbformat_minor": 2
}
