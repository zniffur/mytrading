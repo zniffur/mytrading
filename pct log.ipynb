{
 "cells": [
  {
   "cell_type": "code",
   "execution_count": 15,
   "metadata": {
    "ExecuteTime": {
     "end_time": "2019-05-21T07:13:07.156257Z",
     "start_time": "2019-05-21T07:13:07.140634Z"
    }
   },
   "outputs": [],
   "source": [
    "import pandas as pd\n",
    "import numpy as np\n",
    "import matplotlib.pyplot as plt\n",
    "import math\n",
    "%matplotlib inline"
   ]
  },
  {
   "cell_type": "code",
   "execution_count": 23,
   "metadata": {
    "ExecuteTime": {
     "end_time": "2019-05-21T08:06:40.432963Z",
     "start_time": "2019-05-21T08:06:40.419431Z"
    }
   },
   "outputs": [],
   "source": [
    "assets_all = ['imeu','ceu','smea','iusa','csspx','phau','ibtm','ibgm', 'emg', 'em15', 'ibgl']\n",
    "assets = ['em15', 'ibtm', 'iusa', 'smea', 'phau']\n",
    "numAssets = len(assets)\n",
    "PERIODS = 252\n",
    "dur = 20\n",
    "riskFreeRate = 0.01"
   ]
  },
  {
   "cell_type": "code",
   "execution_count": 4,
   "metadata": {
    "ExecuteTime": {
     "end_time": "2019-05-21T07:05:24.531731Z",
     "start_time": "2019-05-21T07:05:24.422352Z"
    }
   },
   "outputs": [
    {
     "data": {
      "text/html": [
       "<div>\n",
       "<style scoped>\n",
       "    .dataframe tbody tr th:only-of-type {\n",
       "        vertical-align: middle;\n",
       "    }\n",
       "\n",
       "    .dataframe tbody tr th {\n",
       "        vertical-align: top;\n",
       "    }\n",
       "\n",
       "    .dataframe thead th {\n",
       "        text-align: right;\n",
       "    }\n",
       "</style>\n",
       "<table border=\"1\" class=\"dataframe\">\n",
       "  <thead>\n",
       "    <tr style=\"text-align: right;\">\n",
       "      <th></th>\n",
       "      <th>em15</th>\n",
       "      <th>ibtm</th>\n",
       "      <th>iusa</th>\n",
       "      <th>smea</th>\n",
       "      <th>phau</th>\n",
       "      <th>one</th>\n",
       "      <th>two</th>\n",
       "      <th>three</th>\n",
       "      <th>minvar</th>\n",
       "      <th>maxSharpe</th>\n",
       "    </tr>\n",
       "    <tr>\n",
       "      <th>dateTime</th>\n",
       "      <th></th>\n",
       "      <th></th>\n",
       "      <th></th>\n",
       "      <th></th>\n",
       "      <th></th>\n",
       "      <th></th>\n",
       "      <th></th>\n",
       "      <th></th>\n",
       "      <th></th>\n",
       "      <th></th>\n",
       "    </tr>\n",
       "  </thead>\n",
       "  <tbody>\n",
       "    <tr>\n",
       "      <th>2010-05-26</th>\n",
       "      <td>1.000000</td>\n",
       "      <td>1.000000</td>\n",
       "      <td>1.000000</td>\n",
       "      <td>1.0</td>\n",
       "      <td>1.000000</td>\n",
       "      <td>1.000000</td>\n",
       "      <td>1.000000</td>\n",
       "      <td>1.000000</td>\n",
       "      <td>1.000000</td>\n",
       "      <td>1.000000</td>\n",
       "    </tr>\n",
       "    <tr>\n",
       "      <th>2010-05-27</th>\n",
       "      <td>1.001850</td>\n",
       "      <td>0.990071</td>\n",
       "      <td>0.999717</td>\n",
       "      <td>1.0</td>\n",
       "      <td>0.994098</td>\n",
       "      <td>0.996745</td>\n",
       "      <td>0.998887</td>\n",
       "      <td>1.000941</td>\n",
       "      <td>0.997261</td>\n",
       "      <td>1.000986</td>\n",
       "    </tr>\n",
       "    <tr>\n",
       "      <th>2010-05-28</th>\n",
       "      <td>0.999437</td>\n",
       "      <td>0.987447</td>\n",
       "      <td>0.997174</td>\n",
       "      <td>1.0</td>\n",
       "      <td>0.981380</td>\n",
       "      <td>0.993694</td>\n",
       "      <td>0.995866</td>\n",
       "      <td>0.998374</td>\n",
       "      <td>0.994327</td>\n",
       "      <td>0.998520</td>\n",
       "    </tr>\n",
       "    <tr>\n",
       "      <th>2010-05-31</th>\n",
       "      <td>0.997346</td>\n",
       "      <td>0.991277</td>\n",
       "      <td>0.999152</td>\n",
       "      <td>1.0</td>\n",
       "      <td>0.996540</td>\n",
       "      <td>0.996337</td>\n",
       "      <td>0.997731</td>\n",
       "      <td>0.998043</td>\n",
       "      <td>0.996124</td>\n",
       "      <td>0.998078</td>\n",
       "    </tr>\n",
       "    <tr>\n",
       "      <th>2010-06-01</th>\n",
       "      <td>0.996783</td>\n",
       "      <td>0.992908</td>\n",
       "      <td>0.997174</td>\n",
       "      <td>1.0</td>\n",
       "      <td>1.004681</td>\n",
       "      <td>0.997132</td>\n",
       "      <td>0.997946</td>\n",
       "      <td>0.997015</td>\n",
       "      <td>0.997181</td>\n",
       "      <td>0.996942</td>\n",
       "    </tr>\n",
       "  </tbody>\n",
       "</table>\n",
       "</div>"
      ],
      "text/plain": [
       "                em15      ibtm      iusa  smea      phau       one       two  \\\n",
       "dateTime                                                                       \n",
       "2010-05-26  1.000000  1.000000  1.000000   1.0  1.000000  1.000000  1.000000   \n",
       "2010-05-27  1.001850  0.990071  0.999717   1.0  0.994098  0.996745  0.998887   \n",
       "2010-05-28  0.999437  0.987447  0.997174   1.0  0.981380  0.993694  0.995866   \n",
       "2010-05-31  0.997346  0.991277  0.999152   1.0  0.996540  0.996337  0.997731   \n",
       "2010-06-01  0.996783  0.992908  0.997174   1.0  1.004681  0.997132  0.997946   \n",
       "\n",
       "               three    minvar  maxSharpe  \n",
       "dateTime                                   \n",
       "2010-05-26  1.000000  1.000000   1.000000  \n",
       "2010-05-27  1.000941  0.997261   1.000986  \n",
       "2010-05-28  0.998374  0.994327   0.998520  \n",
       "2010-05-31  0.998043  0.996124   0.998078  \n",
       "2010-06-01  0.997015  0.997181   0.996942  "
      ]
     },
     "execution_count": 4,
     "metadata": {},
     "output_type": "execute_result"
    }
   ],
   "source": [
    "norm_data = pd.read_csv('norm_portfolio_data.csv')\n",
    "norm_data['dateTime'] = pd.to_datetime(norm_data['dateTime'])\n",
    "norm_data.set_index('dateTime', inplace=True)\n",
    "norm_data.head()"
   ]
  },
  {
   "cell_type": "markdown",
   "metadata": {},
   "source": [
    "## PCT returns"
   ]
  },
  {
   "cell_type": "code",
   "execution_count": 33,
   "metadata": {
    "ExecuteTime": {
     "end_time": "2019-05-21T08:33:40.897200Z",
     "start_time": "2019-05-21T08:33:40.811439Z"
    }
   },
   "outputs": [
    {
     "data": {
      "text/html": [
       "<div>\n",
       "<style scoped>\n",
       "    .dataframe tbody tr th:only-of-type {\n",
       "        vertical-align: middle;\n",
       "    }\n",
       "\n",
       "    .dataframe tbody tr th {\n",
       "        vertical-align: top;\n",
       "    }\n",
       "\n",
       "    .dataframe thead th {\n",
       "        text-align: right;\n",
       "    }\n",
       "</style>\n",
       "<table border=\"1\" class=\"dataframe\">\n",
       "  <thead>\n",
       "    <tr style=\"text-align: right;\">\n",
       "      <th></th>\n",
       "      <th>em15</th>\n",
       "      <th>ibtm</th>\n",
       "      <th>iusa</th>\n",
       "      <th>smea</th>\n",
       "      <th>phau</th>\n",
       "      <th>one</th>\n",
       "      <th>two</th>\n",
       "      <th>three</th>\n",
       "      <th>minvar</th>\n",
       "      <th>maxSharpe</th>\n",
       "    </tr>\n",
       "    <tr>\n",
       "      <th>dateTime</th>\n",
       "      <th></th>\n",
       "      <th></th>\n",
       "      <th></th>\n",
       "      <th></th>\n",
       "      <th></th>\n",
       "      <th></th>\n",
       "      <th></th>\n",
       "      <th></th>\n",
       "      <th></th>\n",
       "      <th></th>\n",
       "    </tr>\n",
       "  </thead>\n",
       "  <tbody>\n",
       "    <tr>\n",
       "      <th>2010-05-27</th>\n",
       "      <td>0.001850</td>\n",
       "      <td>-0.009929</td>\n",
       "      <td>-0.000283</td>\n",
       "      <td>0.000000</td>\n",
       "      <td>-0.005902</td>\n",
       "      <td>-0.003255</td>\n",
       "      <td>-0.001113</td>\n",
       "      <td>0.000941</td>\n",
       "      <td>-0.002739</td>\n",
       "      <td>0.000986</td>\n",
       "    </tr>\n",
       "    <tr>\n",
       "      <th>2010-05-28</th>\n",
       "      <td>-0.002408</td>\n",
       "      <td>-0.002650</td>\n",
       "      <td>-0.002544</td>\n",
       "      <td>0.000000</td>\n",
       "      <td>-0.012794</td>\n",
       "      <td>-0.003060</td>\n",
       "      <td>-0.003024</td>\n",
       "      <td>-0.002564</td>\n",
       "      <td>-0.002942</td>\n",
       "      <td>-0.002463</td>\n",
       "    </tr>\n",
       "    <tr>\n",
       "      <th>2010-05-31</th>\n",
       "      <td>-0.002092</td>\n",
       "      <td>0.003878</td>\n",
       "      <td>0.001984</td>\n",
       "      <td>0.000000</td>\n",
       "      <td>0.015448</td>\n",
       "      <td>0.002659</td>\n",
       "      <td>0.001873</td>\n",
       "      <td>-0.000332</td>\n",
       "      <td>0.001808</td>\n",
       "      <td>-0.000443</td>\n",
       "    </tr>\n",
       "    <tr>\n",
       "      <th>2010-06-01</th>\n",
       "      <td>-0.000564</td>\n",
       "      <td>0.001646</td>\n",
       "      <td>-0.001980</td>\n",
       "      <td>0.000000</td>\n",
       "      <td>0.008168</td>\n",
       "      <td>0.000798</td>\n",
       "      <td>0.000215</td>\n",
       "      <td>-0.001030</td>\n",
       "      <td>0.001061</td>\n",
       "      <td>-0.001138</td>\n",
       "    </tr>\n",
       "    <tr>\n",
       "      <th>2010-06-02</th>\n",
       "      <td>-0.001291</td>\n",
       "      <td>0.007786</td>\n",
       "      <td>-0.000850</td>\n",
       "      <td>0.024409</td>\n",
       "      <td>-0.000608</td>\n",
       "      <td>0.006732</td>\n",
       "      <td>0.004964</td>\n",
       "      <td>-0.001112</td>\n",
       "      <td>0.007309</td>\n",
       "      <td>-0.001112</td>\n",
       "    </tr>\n",
       "  </tbody>\n",
       "</table>\n",
       "</div>"
      ],
      "text/plain": [
       "                em15      ibtm      iusa      smea      phau       one  \\\n",
       "dateTime                                                                 \n",
       "2010-05-27  0.001850 -0.009929 -0.000283  0.000000 -0.005902 -0.003255   \n",
       "2010-05-28 -0.002408 -0.002650 -0.002544  0.000000 -0.012794 -0.003060   \n",
       "2010-05-31 -0.002092  0.003878  0.001984  0.000000  0.015448  0.002659   \n",
       "2010-06-01 -0.000564  0.001646 -0.001980  0.000000  0.008168  0.000798   \n",
       "2010-06-02 -0.001291  0.007786 -0.000850  0.024409 -0.000608  0.006732   \n",
       "\n",
       "                 two     three    minvar  maxSharpe  \n",
       "dateTime                                             \n",
       "2010-05-27 -0.001113  0.000941 -0.002739   0.000986  \n",
       "2010-05-28 -0.003024 -0.002564 -0.002942  -0.002463  \n",
       "2010-05-31  0.001873 -0.000332  0.001808  -0.000443  \n",
       "2010-06-01  0.000215 -0.001030  0.001061  -0.001138  \n",
       "2010-06-02  0.004964 -0.001112  0.007309  -0.001112  "
      ]
     },
     "execution_count": 33,
     "metadata": {},
     "output_type": "execute_result"
    }
   ],
   "source": [
    "pct_ret = norm_data.pct_change()\n",
    "pct_ret.dropna(inplace=True)\n",
    "pct_ret.head()"
   ]
  },
  {
   "cell_type": "code",
   "execution_count": 34,
   "metadata": {
    "ExecuteTime": {
     "end_time": "2019-05-21T08:33:42.262557Z",
     "start_time": "2019-05-21T08:33:42.240496Z"
    }
   },
   "outputs": [],
   "source": [
    "u = pct_ret.maxSharpe.mean()\n",
    "sigma = pct_ret.maxSharpe.std()"
   ]
  },
  {
   "cell_type": "code",
   "execution_count": 35,
   "metadata": {
    "ExecuteTime": {
     "end_time": "2019-05-21T08:33:44.167724Z",
     "start_time": "2019-05-21T08:33:44.137142Z"
    }
   },
   "outputs": [
    {
     "name": "stdout",
     "output_type": "stream",
     "text": [
      "0.09594583073801699 0.08190041284545442\n",
      "0.09599043764540749 0.08190041284545442\n"
     ]
    }
   ],
   "source": [
    "# annualized returns\n",
    "# MODO 1\n",
    "mu = (norm_data.maxSharpe.iloc[-1]/norm_data.maxSharpe.iloc[0]) ** (252/norm_data.shape[0]) - 1\n",
    "vol = sigma * math.sqrt(252)\n",
    "print(mu, vol)\n",
    "\n",
    "# MODO 2\n",
    "D = len(pct_ret.maxSharpe)\n",
    "mu = pct_ret.maxSharpe.add(1).prod() ** (252 / D) - 1\n",
    "vol = sigma * math.sqrt(252)\n",
    "print(mu, vol)"
   ]
  },
  {
   "cell_type": "code",
   "execution_count": 88,
   "metadata": {
    "ExecuteTime": {
     "end_time": "2019-05-21T15:35:05.983706Z",
     "start_time": "2019-05-21T15:35:01.700385Z"
    }
   },
   "outputs": [],
   "source": [
    "### MONTECARLO\n",
    "\n",
    "T = PERIODS\n",
    "NUM_YEARS = 10\n",
    "NUM_MC_RUNS = 1000\n",
    "mc_runs = pd.DataFrame()\n",
    "\n",
    "for i in range(NUM_MC_RUNS):\n",
    "    # create list of daily returns using random normal distribution\n",
    "    daily_returns=np.random.normal((mu/T),vol/math.sqrt(T), T * NUM_YEARS )\n",
    "\n",
    "    random_walk = [1.0]\n",
    "    for x in daily_returns:\n",
    "        random_walk.append(random_walk[-1] * (1+x))\n",
    "    \n",
    "    mc_runs[i] = random_walk"
   ]
  },
  {
   "cell_type": "code",
   "execution_count": 89,
   "metadata": {
    "ExecuteTime": {
     "end_time": "2019-05-21T15:35:08.311576Z",
     "start_time": "2019-05-21T15:35:06.919969Z"
    }
   },
   "outputs": [],
   "source": [
    "mc_runs_returns = mc_runs.pct_change()\n",
    "mc_runs_returns.dropna(inplace=True)\n",
    "\n",
    "D = len(mc_runs_returns)\n",
    "ann_mc_returns = mc_runs_returns.add(1).prod() ** (PERIODS / D) - 1\n",
    "vol_mc_returns = mc_runs_returns.std() * math.sqrt(PERIODS)\n",
    "\n",
    "sharpe_mc_runs = (ann_mc_returns - riskFreeRate) / vol_mc_returns"
   ]
  },
  {
   "cell_type": "code",
   "execution_count": 90,
   "metadata": {
    "ExecuteTime": {
     "end_time": "2019-05-21T15:35:09.560902Z",
     "start_time": "2019-05-21T15:35:09.043031Z"
    },
    "code_folding": [],
    "scrolled": false
   },
   "outputs": [
    {
     "data": {
      "text/plain": [
       "<matplotlib.colorbar.Colorbar at 0x2390c7078d0>"
      ]
     },
     "execution_count": 90,
     "metadata": {},
     "output_type": "execute_result"
    },
    {
     "data": {
      "image/png": "[encoded data removed]",
      "text/plain": [
       "<Figure size 432x288 with 2 Axes>"
      ]
     },
     "metadata": {
      "needs_background": "light"
     },
     "output_type": "display_data"
    }
   ],
   "source": [
    "plt.scatter(vol_mc_returns, ann_mc_returns, c = sharpe_mc_runs,marker = 'o')\n",
    "plt.colorbar(label = 'Sharpe Ratio')"
   ]
  },
  {
   "cell_type": "code",
   "execution_count": 95,
   "metadata": {
    "ExecuteTime": {
     "end_time": "2019-05-21T15:36:45.949499Z",
     "start_time": "2019-05-21T15:36:45.939976Z"
    }
   },
   "outputs": [],
   "source": [
    "# mc_runs.plot(legend=False, linewidth=1)"
   ]
  },
  {
   "cell_type": "code",
   "execution_count": 111,
   "metadata": {
    "ExecuteTime": {
     "end_time": "2019-05-21T16:12:07.766485Z",
     "start_time": "2019-05-21T16:12:07.610207Z"
    }
   },
   "outputs": [],
   "source": [
    "mc_stats = pd.DataFrame()\n",
    "for i in [0,500,1000,1500,2000,mc_runs.shape[0]-1]:\n",
    "    mc_stats[i] = mc_runs.iloc[i,:].describe([.1,.25,.5,.75,.9])"
   ]
  },
  {
   "cell_type": "code",
   "execution_count": 112,
   "metadata": {
    "ExecuteTime": {
     "end_time": "2019-05-21T16:12:08.658516Z",
     "start_time": "2019-05-21T16:12:08.579053Z"
    }
   },
   "outputs": [
    {
     "data": {
      "text/html": [
       "<div>\n",
       "<style scoped>\n",
       "    .dataframe tbody tr th:only-of-type {\n",
       "        vertical-align: middle;\n",
       "    }\n",
       "\n",
       "    .dataframe tbody tr th {\n",
       "        vertical-align: top;\n",
       "    }\n",
       "\n",
       "    .dataframe thead th {\n",
       "        text-align: right;\n",
       "    }\n",
       "</style>\n",
       "<table border=\"1\" class=\"dataframe\">\n",
       "  <thead>\n",
       "    <tr style=\"text-align: right;\">\n",
       "      <th></th>\n",
       "      <th>0</th>\n",
       "      <th>500</th>\n",
       "      <th>1000</th>\n",
       "      <th>1500</th>\n",
       "      <th>2000</th>\n",
       "      <th>2520</th>\n",
       "    </tr>\n",
       "  </thead>\n",
       "  <tbody>\n",
       "    <tr>\n",
       "      <th>count</th>\n",
       "      <td>1000.0</td>\n",
       "      <td>1000.000000</td>\n",
       "      <td>1000.000000</td>\n",
       "      <td>1000.000000</td>\n",
       "      <td>1000.000000</td>\n",
       "      <td>1000.000000</td>\n",
       "    </tr>\n",
       "    <tr>\n",
       "      <th>mean</th>\n",
       "      <td>1.0</td>\n",
       "      <td>1.207453</td>\n",
       "      <td>1.469599</td>\n",
       "      <td>1.780003</td>\n",
       "      <td>2.141126</td>\n",
       "      <td>2.620409</td>\n",
       "    </tr>\n",
       "    <tr>\n",
       "      <th>std</th>\n",
       "      <td>0.0</td>\n",
       "      <td>0.138825</td>\n",
       "      <td>0.240333</td>\n",
       "      <td>0.363283</td>\n",
       "      <td>0.505037</td>\n",
       "      <td>0.700147</td>\n",
       "    </tr>\n",
       "    <tr>\n",
       "      <th>min</th>\n",
       "      <td>1.0</td>\n",
       "      <td>0.879109</td>\n",
       "      <td>0.918237</td>\n",
       "      <td>0.908981</td>\n",
       "      <td>1.043331</td>\n",
       "      <td>1.125717</td>\n",
       "    </tr>\n",
       "    <tr>\n",
       "      <th>10%</th>\n",
       "      <td>1.0</td>\n",
       "      <td>1.039343</td>\n",
       "      <td>1.177965</td>\n",
       "      <td>1.342569</td>\n",
       "      <td>1.566352</td>\n",
       "      <td>1.844540</td>\n",
       "    </tr>\n",
       "    <tr>\n",
       "      <th>25%</th>\n",
       "      <td>1.0</td>\n",
       "      <td>1.109276</td>\n",
       "      <td>1.306353</td>\n",
       "      <td>1.533508</td>\n",
       "      <td>1.784824</td>\n",
       "      <td>2.132738</td>\n",
       "    </tr>\n",
       "    <tr>\n",
       "      <th>50%</th>\n",
       "      <td>1.0</td>\n",
       "      <td>1.198930</td>\n",
       "      <td>1.445414</td>\n",
       "      <td>1.746235</td>\n",
       "      <td>2.070765</td>\n",
       "      <td>2.518052</td>\n",
       "    </tr>\n",
       "    <tr>\n",
       "      <th>75%</th>\n",
       "      <td>1.0</td>\n",
       "      <td>1.287109</td>\n",
       "      <td>1.616889</td>\n",
       "      <td>1.979621</td>\n",
       "      <td>2.437080</td>\n",
       "      <td>3.006825</td>\n",
       "    </tr>\n",
       "    <tr>\n",
       "      <th>90%</th>\n",
       "      <td>1.0</td>\n",
       "      <td>1.385982</td>\n",
       "      <td>1.790698</td>\n",
       "      <td>2.265391</td>\n",
       "      <td>2.790258</td>\n",
       "      <td>3.526197</td>\n",
       "    </tr>\n",
       "    <tr>\n",
       "      <th>max</th>\n",
       "      <td>1.0</td>\n",
       "      <td>1.864355</td>\n",
       "      <td>2.508952</td>\n",
       "      <td>3.381399</td>\n",
       "      <td>4.264210</td>\n",
       "      <td>5.866881</td>\n",
       "    </tr>\n",
       "  </tbody>\n",
       "</table>\n",
       "</div>"
      ],
      "text/plain": [
       "         0            500          1000         1500         2000         2520\n",
       "count  1000.0  1000.000000  1000.000000  1000.000000  1000.000000  1000.000000\n",
       "mean      1.0     1.207453     1.469599     1.780003     2.141126     2.620409\n",
       "std       0.0     0.138825     0.240333     0.363283     0.505037     0.700147\n",
       "min       1.0     0.879109     0.918237     0.908981     1.043331     1.125717\n",
       "10%       1.0     1.039343     1.177965     1.342569     1.566352     1.844540\n",
       "25%       1.0     1.109276     1.306353     1.533508     1.784824     2.132738\n",
       "50%       1.0     1.198930     1.445414     1.746235     2.070765     2.518052\n",
       "75%       1.0     1.287109     1.616889     1.979621     2.437080     3.006825\n",
       "90%       1.0     1.385982     1.790698     2.265391     2.790258     3.526197\n",
       "max       1.0     1.864355     2.508952     3.381399     4.264210     5.866881"
      ]
     },
     "execution_count": 112,
     "metadata": {},
     "output_type": "execute_result"
    }
   ],
   "source": [
    "mc_stats"
   ]
  },
  {
   "cell_type": "code",
   "execution_count": 113,
   "metadata": {
    "ExecuteTime": {
     "end_time": "2019-05-21T16:12:31.865943Z",
     "start_time": "2019-05-21T16:12:31.615922Z"
    }
   },
   "outputs": [
    {
     "data": {
      "image/png": "[encoded data removed]",
      "text/plain": [
       "<Figure size 432x288 with 1 Axes>"
      ]
     },
     "metadata": {
      "needs_background": "light"
     },
     "output_type": "display_data"
    }
   ],
   "source": [
    "plt.plot([0,500,1000,1500,2000,2521],mc_stats.loc['10%'], marker='o')\n",
    "plt.plot([0,500,1000,1500,2000,2521],mc_stats.loc['90%'], marker='o')\n",
    "plt.plot([0,500,1000,1500,2000,2521],mc_stats.loc['50%'], marker='o')\n",
    "plt.plot([0,500,1000,1500,2000,2521],mc_stats.loc['25%'], marker='o')\n",
    "plt.plot([0,500,1000,1500,2000,2521],mc_stats.loc['75%'], marker='o')\n",
    "plt.plot([0,500,1000,1500,2000,2521],mc_stats.loc['min'], marker='o')\n",
    "plt.plot([0,500,1000,1500,2000,2521],mc_stats.loc['max'], marker='o')\n",
    "plt.show()"
   ]
  },
  {
   "cell_type": "code",
   "execution_count": 114,
   "metadata": {
    "ExecuteTime": {
     "end_time": "2019-05-21T16:13:23.943037Z",
     "start_time": "2019-05-21T16:13:23.677347Z"
    },
    "scrolled": true
   },
   "outputs": [
    {
     "data": {
      "image/png": "[encoded data removed]",
      "text/plain": [
       "<Figure size 432x288 with 1 Axes>"
      ]
     },
     "metadata": {
      "needs_background": "light"
     },
     "output_type": "display_data"
    }
   ],
   "source": [
    "# Statistiche solo sul risultato finale\n",
    "\n",
    "mc_end_results = mc_runs.iloc[2520]\n",
    "\n",
    "plt.hist(mc_end_results, bins=35)\n",
    "plt.axvline(mc_end_results.quantile(0.05), color='r', linestyle='dashed', linewidth=2)\n",
    "plt.axvline(mc_end_results.quantile(0.5), color='r', linestyle='dashed', linewidth=2)\n",
    "plt.axvline(mc_end_results.quantile(0.95), color='r', linestyle='dashed', linewidth=2)\n",
    "plt.show()\n"
   ]
  },
  {
   "cell_type": "code",
   "execution_count": null,
   "metadata": {},
   "outputs": [],
   "source": []
  },
  {
   "cell_type": "code",
   "execution_count": null,
   "metadata": {},
   "outputs": [],
   "source": []
  },
  {
   "cell_type": "code",
   "execution_count": null,
   "metadata": {},
   "outputs": [],
   "source": []
  },
  {
   "cell_type": "code",
   "execution_count": null,
   "metadata": {},
   "outputs": [],
   "source": []
  },
  {
   "cell_type": "code",
   "execution_count": null,
   "metadata": {},
   "outputs": [],
   "source": []
  },
  {
   "cell_type": "code",
   "execution_count": null,
   "metadata": {},
   "outputs": [],
   "source": []
  },
  {
   "cell_type": "markdown",
   "metadata": {},
   "source": [
    "## LOG returns"
   ]
  },
  {
   "cell_type": "code",
   "execution_count": 28,
   "metadata": {
    "ExecuteTime": {
     "end_time": "2019-05-21T08:19:23.343245Z",
     "start_time": "2019-05-21T08:19:23.259989Z"
    }
   },
   "outputs": [
    {
     "data": {
      "text/html": [
       "<div>\n",
       "<style scoped>\n",
       "    .dataframe tbody tr th:only-of-type {\n",
       "        vertical-align: middle;\n",
       "    }\n",
       "\n",
       "    .dataframe tbody tr th {\n",
       "        vertical-align: top;\n",
       "    }\n",
       "\n",
       "    .dataframe thead th {\n",
       "        text-align: right;\n",
       "    }\n",
       "</style>\n",
       "<table border=\"1\" class=\"dataframe\">\n",
       "  <thead>\n",
       "    <tr style=\"text-align: right;\">\n",
       "      <th></th>\n",
       "      <th>em15</th>\n",
       "      <th>ibtm</th>\n",
       "      <th>iusa</th>\n",
       "      <th>smea</th>\n",
       "      <th>phau</th>\n",
       "      <th>one</th>\n",
       "      <th>two</th>\n",
       "      <th>three</th>\n",
       "      <th>minvar</th>\n",
       "      <th>maxSharpe</th>\n",
       "    </tr>\n",
       "    <tr>\n",
       "      <th>dateTime</th>\n",
       "      <th></th>\n",
       "      <th></th>\n",
       "      <th></th>\n",
       "      <th></th>\n",
       "      <th></th>\n",
       "      <th></th>\n",
       "      <th></th>\n",
       "      <th></th>\n",
       "      <th></th>\n",
       "      <th></th>\n",
       "    </tr>\n",
       "  </thead>\n",
       "  <tbody>\n",
       "    <tr>\n",
       "      <th>2010-05-27</th>\n",
       "      <td>0.001848</td>\n",
       "      <td>-0.009979</td>\n",
       "      <td>-0.000283</td>\n",
       "      <td>0.000000</td>\n",
       "      <td>-0.005919</td>\n",
       "      <td>-0.003261</td>\n",
       "      <td>-0.001114</td>\n",
       "      <td>0.000940</td>\n",
       "      <td>-0.002743</td>\n",
       "      <td>0.000985</td>\n",
       "    </tr>\n",
       "    <tr>\n",
       "      <th>2010-05-28</th>\n",
       "      <td>-0.002411</td>\n",
       "      <td>-0.002654</td>\n",
       "      <td>-0.002547</td>\n",
       "      <td>0.000000</td>\n",
       "      <td>-0.012877</td>\n",
       "      <td>-0.003065</td>\n",
       "      <td>-0.003029</td>\n",
       "      <td>-0.002567</td>\n",
       "      <td>-0.002946</td>\n",
       "      <td>-0.002466</td>\n",
       "    </tr>\n",
       "    <tr>\n",
       "      <th>2010-05-31</th>\n",
       "      <td>-0.002094</td>\n",
       "      <td>0.003871</td>\n",
       "      <td>0.001982</td>\n",
       "      <td>0.000000</td>\n",
       "      <td>0.015330</td>\n",
       "      <td>0.002656</td>\n",
       "      <td>0.001871</td>\n",
       "      <td>-0.000332</td>\n",
       "      <td>0.001806</td>\n",
       "      <td>-0.000443</td>\n",
       "    </tr>\n",
       "    <tr>\n",
       "      <th>2010-06-01</th>\n",
       "      <td>-0.000565</td>\n",
       "      <td>0.001644</td>\n",
       "      <td>-0.001982</td>\n",
       "      <td>0.000000</td>\n",
       "      <td>0.008135</td>\n",
       "      <td>0.000798</td>\n",
       "      <td>0.000215</td>\n",
       "      <td>-0.001030</td>\n",
       "      <td>0.001060</td>\n",
       "      <td>-0.001139</td>\n",
       "    </tr>\n",
       "    <tr>\n",
       "      <th>2010-06-02</th>\n",
       "      <td>-0.001292</td>\n",
       "      <td>0.007756</td>\n",
       "      <td>-0.000850</td>\n",
       "      <td>0.024116</td>\n",
       "      <td>-0.000608</td>\n",
       "      <td>0.006710</td>\n",
       "      <td>0.004951</td>\n",
       "      <td>-0.001113</td>\n",
       "      <td>0.007283</td>\n",
       "      <td>-0.001113</td>\n",
       "    </tr>\n",
       "  </tbody>\n",
       "</table>\n",
       "</div>"
      ],
      "text/plain": [
       "                em15      ibtm      iusa      smea      phau       one  \\\n",
       "dateTime                                                                 \n",
       "2010-05-27  0.001848 -0.009979 -0.000283  0.000000 -0.005919 -0.003261   \n",
       "2010-05-28 -0.002411 -0.002654 -0.002547  0.000000 -0.012877 -0.003065   \n",
       "2010-05-31 -0.002094  0.003871  0.001982  0.000000  0.015330  0.002656   \n",
       "2010-06-01 -0.000565  0.001644 -0.001982  0.000000  0.008135  0.000798   \n",
       "2010-06-02 -0.001292  0.007756 -0.000850  0.024116 -0.000608  0.006710   \n",
       "\n",
       "                 two     three    minvar  maxSharpe  \n",
       "dateTime                                             \n",
       "2010-05-27 -0.001114  0.000940 -0.002743   0.000985  \n",
       "2010-05-28 -0.003029 -0.002567 -0.002946  -0.002466  \n",
       "2010-05-31  0.001871 -0.000332  0.001806  -0.000443  \n",
       "2010-06-01  0.000215 -0.001030  0.001060  -0.001139  \n",
       "2010-06-02  0.004951 -0.001113  0.007283  -0.001113  "
      ]
     },
     "execution_count": 28,
     "metadata": {},
     "output_type": "execute_result"
    }
   ],
   "source": [
    "log_ret = np.log(norm_data/norm_data.shift(1))\n",
    "log_ret.dropna(inplace=True)\n",
    "log_ret.head()"
   ]
  },
  {
   "cell_type": "code",
   "execution_count": 29,
   "metadata": {
    "ExecuteTime": {
     "end_time": "2019-05-21T08:21:31.959447Z",
     "start_time": "2019-05-21T08:21:31.935351Z"
    }
   },
   "outputs": [
    {
     "name": "stdout",
     "output_type": "stream",
     "text": [
      "0.09165846371167488\n",
      "0.081945800231785\n"
     ]
    }
   ],
   "source": [
    "mu = log_ret.maxSharpe.mean() * PERIODS\n",
    "vol = log_ret.maxSharpe.std() * math.sqrt(PERIODS)\n",
    "print(mu)\n",
    "print(vol)"
   ]
  },
  {
   "cell_type": "code",
   "execution_count": 30,
   "metadata": {
    "ExecuteTime": {
     "end_time": "2019-05-21T08:27:36.194746Z",
     "start_time": "2019-05-21T08:27:36.022791Z"
    }
   },
   "outputs": [],
   "source": [
    "### MONTECARLO\n",
    "\n",
    "T = PERIODS\n",
    "NUM_YEARS = 10\n",
    "NUM_MC_RUNS = 50\n",
    "mc_runs = pd.DataFrame()\n",
    "\n",
    "for i in range(NUM_MC_RUNS):\n",
    "    # create list of daily returns using random normal distribution\n",
    "    daily_returns=np.random.normal((mu/T),vol/math.sqrt(T), T * NUM_YEARS )\n",
    "\n",
    "    random_walk = [1.0]\n",
    "    for x in daily_returns:\n",
    "        random_walk.append(random_walk[-1] + x)\n",
    "    \n",
    "    mc_runs[i] = random_walk"
   ]
  },
  {
   "cell_type": "code",
   "execution_count": 31,
   "metadata": {
    "ExecuteTime": {
     "end_time": "2019-05-21T08:28:17.472710Z",
     "start_time": "2019-05-21T08:28:17.420071Z"
    }
   },
   "outputs": [],
   "source": [
    "mc_runs_returns = np.log(mc_runs/mc_runs.shift(1))\n",
    "mc_runs_returns.dropna(inplace=True)\n",
    "\n",
    "ann_mc_returns = mc_runs_returns.mean() * PERIODS\n",
    "vol_mc_returns = mc_runs_returns.std() * math.sqrt(PERIODS)\n",
    "\n",
    "sharpe_mc_runs = (ann_mc_returns - riskFreeRate) / vol_mc_returns"
   ]
  },
  {
   "cell_type": "code",
   "execution_count": 32,
   "metadata": {
    "ExecuteTime": {
     "end_time": "2019-05-21T08:28:40.661666Z",
     "start_time": "2019-05-21T08:28:40.160833Z"
    }
   },
   "outputs": [
    {
     "data": {
      "text/plain": [
       "<matplotlib.colorbar.Colorbar at 0x23906ea79b0>"
      ]
     },
     "execution_count": 32,
     "metadata": {},
     "output_type": "execute_result"
    },
    {
     "data": {
      "image/png": "[encoded data removed]",
      "text/plain": [
       "<Figure size 432x288 with 2 Axes>"
      ]
     },
     "metadata": {
      "needs_background": "light"
     },
     "output_type": "display_data"
    }
   ],
   "source": [
    "plt.scatter(vol_mc_returns, ann_mc_returns, c = sharpe_mc_runs,marker = 'o')\n",
    "plt.colorbar(label = 'Sharpe Ratio')"
   ]
  },
  {
   "cell_type": "code",
   "execution_count": null,
   "metadata": {},
   "outputs": [],
   "source": []
  }
 ],
 "metadata": {
  "kernelspec": {
   "display_name": "env",
   "language": "python",
   "name": "env"
  },
  "language_info": {
   "codemirror_mode": {
    "name": "ipython",
    "version": 3
   },
   "file_extension": ".py",
   "mimetype": "text/x-python",
   "name": "python",
   "nbconvert_exporter": "python",
   "pygments_lexer": "ipython3",
   "version": "3.7.1"
  }
 },
 "nbformat": 4,
 "nbformat_minor": 2
}
