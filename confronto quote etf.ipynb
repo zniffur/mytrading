{
 "cells": [
  {
   "cell_type": "code",
   "execution_count": 120,
   "metadata": {
    "ExecuteTime": {
     "end_time": "2019-06-02T19:49:01.674279Z",
     "start_time": "2019-06-02T19:49:01.575980Z"
    }
   },
   "outputs": [
    {
     "name": "stdout",
     "output_type": "stream",
     "text": [
      "The autoreload extension is already loaded. To reload it, use:\n",
      "  %reload_ext autoreload\n"
     ]
    }
   ],
   "source": [
    "%load_ext autoreload\n",
    "%autoreload 2"
   ]
  },
  {
   "cell_type": "code",
   "execution_count": 3,
   "metadata": {
    "ExecuteTime": {
     "end_time": "2019-06-02T09:09:51.564870Z",
     "start_time": "2019-06-02T09:09:51.546278Z"
    }
   },
   "outputs": [],
   "source": [
    "import pandas as pd\n",
    "import matplotlib.pyplot as plt\n",
    "import numpy as np\n",
    "%matplotlib inline\n",
    "\n",
    "WORKDIR = \"csv/\"\n",
    "EXT = '.csv'\n",
    "VOL_AVG_PERIOD = 20"
   ]
  },
  {
   "cell_type": "code",
   "execution_count": 30,
   "metadata": {
    "ExecuteTime": {
     "end_time": "2019-06-02T09:43:39.375048Z",
     "start_time": "2019-06-02T09:43:39.314899Z"
    }
   },
   "outputs": [],
   "source": [
    "df2 = pd.read_csv('etf_info_vol' + str(VOL_AVG_PERIOD)  + '_clean.csv')\n",
    "df2['endDate'] =  pd.to_datetime(df2['endDate'])\n",
    "df2['startDate'] =  pd.to_datetime(df2['startDate'])\n",
    "df2.drop(df2.columns[0] ,axis=1, inplace=True)"
   ]
  },
  {
   "cell_type": "code",
   "execution_count": 110,
   "metadata": {
    "ExecuteTime": {
     "end_time": "2019-06-02T19:17:48.896041Z",
     "start_time": "2019-06-02T19:17:48.853336Z"
    }
   },
   "outputs": [],
   "source": [
    "lista1 = ['imeu','ceu','smea']\n",
    "lista1 = ['inaa','iusa','csspx']\n",
    "lista1 = ['xgle', 'ibtm', 'ibgm', 'ibgl','em15']\n",
    "lista1 = ['iusa','imeu','ibtm','xgle','phau']"
   ]
  },
  {
   "cell_type": "code",
   "execution_count": 111,
   "metadata": {
    "ExecuteTime": {
     "end_time": "2019-06-02T19:18:33.732654Z",
     "start_time": "2019-06-02T19:18:29.442986Z"
    }
   },
   "outputs": [],
   "source": [
    "\n",
    "ticker10 = [x.upper()+'.MI' for x in lista1]\n",
    "df4 = df2[df2.ticker.isin(ticker10)]\n",
    "\n",
    "sources1 = df4.dataSource.tolist()\n",
    "\n",
    "ticker1 = df4.ticker.tolist()\n",
    "ticker1 = [x.lower().split('.')[0] for x in ticker1]\n",
    "\n",
    "df100 = pd.DataFrame()\n",
    "for source in sources1:\n",
    "    filename = WORKDIR + source + EXT\n",
    "    df_t = pd.read_csv(filename, usecols=[1,2,3,4,5,6], index_col=0, parse_dates=True, dayfirst=True)\n",
    "    df100 = df100.join(df_t.close,how='outer',rsuffix='_'+source)\n",
    "    \n",
    "df100.columns = ticker1\n"
   ]
  },
  {
   "cell_type": "code",
   "execution_count": 104,
   "metadata": {
    "ExecuteTime": {
     "end_time": "2019-06-02T18:59:28.670352Z",
     "start_time": "2019-06-02T18:59:28.656172Z"
    }
   },
   "outputs": [],
   "source": [
    "# correzione SMEA\n",
    "#x1 = df100.smea.idxmin()\n",
    "#df100.smea.loc[x1] = df100.smea.loc[x1 - pd.Timedelta(days=1)]"
   ]
  },
  {
   "cell_type": "code",
   "execution_count": 105,
   "metadata": {
    "ExecuteTime": {
     "end_time": "2019-06-02T18:59:28.930239Z",
     "start_time": "2019-06-02T18:59:28.675921Z"
    }
   },
   "outputs": [
    {
     "data": {
      "text/html": [
       "<div>\n",
       "<style scoped>\n",
       "    .dataframe tbody tr th:only-of-type {\n",
       "        vertical-align: middle;\n",
       "    }\n",
       "\n",
       "    .dataframe tbody tr th {\n",
       "        vertical-align: top;\n",
       "    }\n",
       "\n",
       "    .dataframe thead th {\n",
       "        text-align: right;\n",
       "    }\n",
       "</style>\n",
       "<table border=\"1\" class=\"dataframe\">\n",
       "  <thead>\n",
       "    <tr style=\"text-align: right;\">\n",
       "      <th></th>\n",
       "      <th>primaData</th>\n",
       "    </tr>\n",
       "  </thead>\n",
       "  <tbody>\n",
       "    <tr>\n",
       "      <th>ibtm</th>\n",
       "      <td>2007-03-20</td>\n",
       "    </tr>\n",
       "    <tr>\n",
       "      <th>ibgm</th>\n",
       "      <td>2007-03-20</td>\n",
       "    </tr>\n",
       "    <tr>\n",
       "      <th>ibgl</th>\n",
       "      <td>2007-03-20</td>\n",
       "    </tr>\n",
       "    <tr>\n",
       "      <th>xgle</th>\n",
       "      <td>2007-11-06</td>\n",
       "    </tr>\n",
       "    <tr>\n",
       "      <th>em15</th>\n",
       "      <td>2007-10-25</td>\n",
       "    </tr>\n",
       "  </tbody>\n",
       "</table>\n",
       "</div>"
      ],
      "text/plain": [
       "      primaData\n",
       "ibtm 2007-03-20\n",
       "ibgm 2007-03-20\n",
       "ibgl 2007-03-20\n",
       "xgle 2007-11-06\n",
       "em15 2007-10-25"
      ]
     },
     "execution_count": 105,
     "metadata": {},
     "output_type": "execute_result"
    }
   ],
   "source": [
    "datebuone = pd.DataFrame(columns=['primaData'])\n",
    "for col_name, data in df100.items(): \n",
    "    a = data.first_valid_index()\n",
    "    datebuone.loc[col_name] = a\n",
    "\n",
    "prima_data_buona = datebuone.primaData.max()\n",
    "datebuone"
   ]
  },
  {
   "cell_type": "code",
   "execution_count": 113,
   "metadata": {
    "ExecuteTime": {
     "end_time": "2019-06-02T19:21:55.479797Z",
     "start_time": "2019-06-02T19:21:55.449976Z"
    }
   },
   "outputs": [],
   "source": [
    "# prima data valida \n",
    "#df101 = df100[df100.index >= '2010-05-26']\n",
    "df101 = df100[df100.index >= prima_data_buona]\n",
    "\n",
    "# back-fill i NaN\n",
    "df102 = df101.fillna(method='bfill')\n",
    "\n",
    "df200 = df102.copy()\n"
   ]
  },
  {
   "cell_type": "code",
   "execution_count": 107,
   "metadata": {
    "ExecuteTime": {
     "end_time": "2019-06-02T18:59:38.757394Z",
     "start_time": "2019-06-02T18:59:38.709594Z"
    }
   },
   "outputs": [],
   "source": [
    "norm_df200 = df200/df200.iloc[0]"
   ]
  },
  {
   "cell_type": "code",
   "execution_count": 109,
   "metadata": {
    "ExecuteTime": {
     "end_time": "2019-06-02T19:08:07.760291Z",
     "start_time": "2019-06-02T19:08:07.228765Z"
    }
   },
   "outputs": [
    {
     "data": {
      "text/plain": [
       "<matplotlib.axes._subplots.AxesSubplot at 0x11b602e80>"
      ]
     },
     "execution_count": 109,
     "metadata": {},
     "output_type": "execute_result"
    },
    {
     "data": {
      "image/png": "[encoded data removed]",
      "text/plain": [
       "<Figure size 432x288 with 1 Axes>"
      ]
     },
     "metadata": {
      "needs_background": "light"
     },
     "output_type": "display_data"
    }
   ],
   "source": [
    "norm_df200.xgle.plot()\n",
    "norm_df200.em15.plot()"
   ]
  },
  {
   "cell_type": "code",
   "execution_count": 125,
   "metadata": {
    "ExecuteTime": {
     "end_time": "2019-06-02T19:51:12.598546Z",
     "start_time": "2019-06-02T19:51:03.738624Z"
    }
   },
   "outputs": [],
   "source": [
    "from portfolio import *\n",
    "\n",
    "lista1 = ['iusa','imeu','ibtm','xgle','phau']\n",
    "\n",
    "df = read_quotes(lista1)\n"
   ]
  },
  {
   "cell_type": "code",
   "execution_count": 128,
   "metadata": {
    "ExecuteTime": {
     "end_time": "2019-06-02T19:56:42.508204Z",
     "start_time": "2019-06-02T19:56:42.215955Z"
    }
   },
   "outputs": [],
   "source": [
    "df.to_csv('quote_mach2.csv')"
   ]
  },
  {
   "cell_type": "code",
   "execution_count": null,
   "metadata": {},
   "outputs": [],
   "source": []
  },
  {
   "cell_type": "code",
   "execution_count": null,
   "metadata": {},
   "outputs": [],
   "source": []
  },
  {
   "cell_type": "code",
   "execution_count": null,
   "metadata": {},
   "outputs": [],
   "source": []
  },
  {
   "cell_type": "code",
   "execution_count": null,
   "metadata": {},
   "outputs": [],
   "source": []
  },
  {
   "cell_type": "code",
   "execution_count": null,
   "metadata": {},
   "outputs": [],
   "source": []
  },
  {
   "cell_type": "code",
   "execution_count": null,
   "metadata": {},
   "outputs": [],
   "source": []
  }
 ],
 "metadata": {
  "kernelspec": {
   "display_name": "env",
   "language": "python",
   "name": "env"
  },
  "language_info": {
   "codemirror_mode": {
    "name": "ipython",
    "version": 3
   },
   "file_extension": ".py",
   "mimetype": "text/x-python",
   "name": "python",
   "nbconvert_exporter": "python",
   "pygments_lexer": "ipython3",
   "version": "3.7.1"
  }
 },
 "nbformat": 4,
 "nbformat_minor": 2
}
